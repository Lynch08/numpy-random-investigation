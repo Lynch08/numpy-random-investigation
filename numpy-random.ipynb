{
 "cells": [
  {
   "cell_type": "markdown",
   "id": "802b95a7-9275-4fe6-91fe-5979b531e466",
   "metadata": {},
   "source": [
    "# An investigation into the numpy.random package\n",
    "\n",
    "\n",
    "[NUMPY OFFICAL DOCUMENTATION](https://numpy.org/doc/stable/reference/random/generator.html)"
   ]
  },
  {
   "cell_type": "code",
   "execution_count": 1,
   "id": "ecf80495-3ee3-4221-af79-145cc43d01b5",
   "metadata": {},
   "outputs": [],
   "source": [
    "import numpy as np"
   ]
  },
  {
   "cell_type": "code",
   "execution_count": 2,
   "id": "55826406-0dc0-45a8-978c-e0e638924515",
   "metadata": {},
   "outputs": [],
   "source": [
    "rng = np.random.default_rng()"
   ]
  },
  {
   "cell_type": "code",
   "execution_count": 3,
   "id": "b406eaf2-f8d4-4624-aae1-0a1a52661f68",
   "metadata": {},
   "outputs": [
    {
     "data": {
      "text/plain": [
       "array([1, 1, 1, 0, 1, 0, 1, 0, 1, 1], dtype=int64)"
      ]
     },
     "execution_count": 3,
     "metadata": {},
     "output_type": "execute_result"
    }
   ],
   "source": [
    "rng.integers(2, size=10)"
   ]
  },
  {
   "cell_type": "code",
   "execution_count": 4,
   "id": "e2b48cd3-93d0-46b4-8b8e-b28a1f524cc6",
   "metadata": {},
   "outputs": [
    {
     "data": {
      "text/plain": [
       "array([0, 0, 0, 0, 0, 0, 0, 0, 0, 0], dtype=int64)"
      ]
     },
     "execution_count": 4,
     "metadata": {},
     "output_type": "execute_result"
    }
   ],
   "source": [
    "rng.integers(1, size=10)"
   ]
  },
  {
   "cell_type": "code",
   "execution_count": 27,
   "id": "092d73b8-3496-4e99-8319-6d9d4df93805",
   "metadata": {
    "scrolled": true,
    "tags": []
   },
   "outputs": [],
   "source": [
    "x = rng.integers(100, size = 10)"
   ]
  },
  {
   "cell_type": "code",
   "execution_count": 28,
   "id": "4e2b2df3-69a1-4787-ab97-5fce993ef633",
   "metadata": {},
   "outputs": [],
   "source": [
    "import matplotlib.pyplot as plt"
   ]
  },
  {
   "cell_type": "code",
   "execution_count": 29,
   "id": "75635240-5b3a-476d-9e28-ffb46922f359",
   "metadata": {},
   "outputs": [
    {
     "data": {
      "text/plain": [
       "(array([1., 1., 1., 0., 0., 0., 1., 2., 2., 2.]),\n",
       " array([13. , 21.4, 29.8, 38.2, 46.6, 55. , 63.4, 71.8, 80.2, 88.6, 97. ]),\n",
       " <BarContainer object of 10 artists>)"
      ]
     },
     "execution_count": 29,
     "metadata": {},
     "output_type": "execute_result"
    },
    {
     "data": {
      "image/png": "[encoded data removed]",
      "text/plain": [
       "<Figure size 432x288 with 1 Axes>"
      ]
     },
     "metadata": {
      "needs_background": "light"
     },
     "output_type": "display_data"
    }
   ],
   "source": [
    "plt.hist(x)"
   ]
  },
  {
   "cell_type": "code",
   "execution_count": 45,
   "id": "aafe3b84-13c6-44c8-84fe-77887b387565",
   "metadata": {
    "scrolled": true,
    "tags": []
   },
   "outputs": [
    {
     "data": {
      "text/plain": [
       "array([2.58569675e+02, 4.15419441e+02, 6.70853776e+02, 2.71874984e+02,\n",
       "       7.81460762e+01, 9.07509238e+02, 6.41963184e+02, 7.87754533e+01,\n",
       "       3.20527212e+02, 2.20627884e+02, 9.19389179e+02, 5.78182310e+02,\n",
       "       9.53084700e+02, 9.38625668e+02, 9.84367439e+02, 6.57089364e+02,\n",
       "       3.06228796e+02, 8.56209486e+02, 7.58367748e+02, 8.66297097e+02,\n",
       "       5.11880074e+02, 2.26502918e+02, 3.87670945e+02, 4.68421931e+02,\n",
       "       8.45913199e+02, 8.80493104e+02, 1.30741106e+02, 8.92763846e+02,\n",
       "       9.67568062e+02, 8.63418678e+02, 5.03413170e+02, 3.10927472e+02,\n",
       "       3.92003434e+02, 2.75361789e+02, 3.55333691e+02, 6.81154323e+01,\n",
       "       5.56865196e+02, 1.71706746e+02, 1.08916928e+02, 6.52132321e+02,\n",
       "       5.96025659e+02, 7.96492359e+02, 2.15259341e+02, 4.50992428e+01,\n",
       "       9.42179938e+02, 3.09400999e+02, 8.28690512e+02, 4.60503435e+02,\n",
       "       7.43174723e+02, 1.62336763e+02, 7.92342039e+02, 8.29639481e+02,\n",
       "       8.06139656e+01, 3.37812299e+00, 4.86203469e+02, 2.37449803e+01,\n",
       "       6.69414076e+02, 8.97910384e+02, 1.45561168e+02, 1.88651051e+02,\n",
       "       3.41698839e+02, 3.60714740e+02, 6.64396830e+02, 4.64290075e+02,\n",
       "       6.65532500e+02, 3.47541101e+02, 4.72259214e+02, 1.97724693e+02,\n",
       "       1.88617922e+02, 7.72384464e+02, 6.22086179e+02, 9.22208062e+02,\n",
       "       2.61883346e+02, 5.25090381e+02, 9.94687464e+02, 9.96848319e+02,\n",
       "       9.37462970e+02, 9.51638265e+02, 6.03444800e+02, 8.42817427e+02,\n",
       "       6.13878844e+01, 6.00827707e+02, 8.06209377e+02, 6.05479217e+02,\n",
       "       4.48939634e+02, 8.46438333e+02, 7.06804080e+02, 7.41839904e+02,\n",
       "       4.15885382e+02, 8.66370022e+02, 5.65763677e+02, 3.62383644e+02,\n",
       "       4.07383472e+02, 5.61846247e+02, 5.63301269e+02, 6.84661816e+02,\n",
       "       6.87707412e+02, 1.31216382e+02, 7.79107720e+02, 4.06260499e+02,\n",
       "       8.37648828e+02, 4.77451168e+02, 9.40927116e+02, 8.72639088e+02,\n",
       "       3.10254731e+01, 7.23223998e+01, 9.24202559e+02, 1.80897192e+01,\n",
       "       1.77757222e+02, 9.25297450e+01, 6.43871530e+02, 5.58117561e+02,\n",
       "       7.05809254e+02, 5.89268602e+01, 6.78130550e+02, 4.29051065e+02,\n",
       "       4.38183607e+02, 9.59204701e+02, 7.51088932e+02, 4.85512176e+02,\n",
       "       2.92860131e+02, 7.26886868e+02, 1.65441247e+02, 2.97526729e+01,\n",
       "       9.16616239e+02, 6.23728699e+02, 1.89695052e+02, 6.48102633e+02,\n",
       "       2.58645925e+01, 3.55499819e+02, 1.72123724e+02, 3.26166819e+02,\n",
       "       1.39843021e+02, 3.32259713e+02, 4.58412104e+02, 6.84216039e+01,\n",
       "       2.43958994e+01, 2.27646150e+02, 8.09283729e+02, 2.80292736e+02,\n",
       "       7.51384095e+02, 4.48970434e+02, 7.42403250e+02, 6.77330400e+02,\n",
       "       5.19020605e+02, 7.41126260e+02, 9.87869702e+02, 1.11917943e+02,\n",
       "       4.03571919e+01, 7.55624166e+02, 8.53253189e+02, 5.81724527e+02,\n",
       "       7.40334045e+02, 1.22897823e+02, 1.82271501e+02, 3.89709461e+02,\n",
       "       9.90491390e+02, 6.45471210e+02, 6.16207863e+02, 6.62801909e+02,\n",
       "       5.13573143e+02, 2.08670518e+02, 6.71169432e+02, 5.08646187e+01,\n",
       "       7.54323846e+01, 2.38508863e+02, 5.67426619e+02, 3.96300176e+02,\n",
       "       7.90143786e+02, 8.22038636e+02, 2.76184657e+02, 3.95166071e+02,\n",
       "       6.33039795e+02, 1.60624206e+01, 8.52688326e+02, 9.43680228e+02,\n",
       "       8.98023276e+01, 5.49742350e+02, 2.65606123e+02, 6.67921514e+02,\n",
       "       9.75857357e+02, 9.23218710e+02, 7.01823559e+02, 4.11143024e+02,\n",
       "       5.65346692e+02, 1.25727374e+02, 3.98186527e+02, 4.63787076e+02,\n",
       "       1.30862396e+02, 6.06471753e+02, 2.34665496e+02, 4.15412060e+02,\n",
       "       5.39580615e+02, 6.92049971e+02, 5.24770519e+02, 4.20581794e+02,\n",
       "       5.10580273e+02, 6.71361693e+01, 2.56194055e+02, 2.76862581e+02,\n",
       "       9.91381607e+02, 8.25787563e+02, 5.50758394e+02, 2.06319179e+02,\n",
       "       3.08499873e+02, 6.84923143e+02, 6.28409308e+02, 6.74264670e+02,\n",
       "       1.83475965e+02, 3.47084051e+02, 6.45870098e+02, 7.03046903e+02,\n",
       "       7.48074019e+02, 5.11073941e+02, 3.59011145e+02, 7.33226058e+02,\n",
       "       4.48796366e+02, 3.54705934e+02, 9.88289436e+02, 6.51533270e+01,\n",
       "       4.48619790e+02, 3.57952499e+02, 4.05271381e+01, 8.17865152e+02,\n",
       "       1.91014744e+02, 3.82986240e+02, 8.59682195e+02, 8.33766970e+02,\n",
       "       2.34828240e+02, 9.60271988e+02, 4.36920451e+02, 5.69273452e+02,\n",
       "       9.86538265e+02, 1.81196750e+02, 6.05019988e+02, 5.70363282e+02,\n",
       "       6.94475884e+02, 4.69944355e+02, 8.64238951e+02, 4.71891819e+02,\n",
       "       7.21656548e+02, 2.67010864e+02, 9.26831458e+02, 3.78659802e+02,\n",
       "       2.61624323e+02, 2.29698423e+02, 3.44551976e+02, 2.00634047e+02,\n",
       "       6.46399411e+02, 2.43459051e+02, 9.58276278e+02, 6.16694047e+01,\n",
       "       5.05594549e+02, 6.51837966e+02, 1.43243447e+01, 8.89617019e+02,\n",
       "       2.28320180e+02, 1.99917527e+02, 1.95351339e+02, 6.53451492e+02,\n",
       "       2.29348630e+02, 6.50872491e+02, 3.85966827e+02, 5.66424281e+01,\n",
       "       6.70723109e+02, 1.77668777e+01, 7.16042708e+02, 7.77872246e+00,\n",
       "       9.80403202e+02, 4.99834152e+02, 2.35115254e+02, 1.07489899e+02,\n",
       "       8.41871453e+02, 9.88069536e+01, 4.37379459e+02, 4.09529395e+02,\n",
       "       4.01014216e+02, 5.91531967e+02, 8.60782484e+02, 3.93899506e+02,\n",
       "       2.21597768e+02, 9.09676745e+02, 7.20728256e+02, 8.09352400e+02,\n",
       "       9.45958691e+02, 5.53142421e+02, 9.99430134e+02, 7.31623141e+01,\n",
       "       1.39463138e+02, 2.43822677e+02, 5.79690012e+02, 8.39713183e+02,\n",
       "       2.05990555e+02, 9.12424377e+02, 6.00122141e+02, 5.78354543e+02,\n",
       "       5.16087868e+02, 5.55980553e+02, 3.87741767e+02, 9.68509889e+02,\n",
       "       5.82633361e+02, 1.46369130e+02, 4.44511510e+02, 3.87792723e+02,\n",
       "       4.72043228e+02, 9.20652975e+02, 7.25750250e+02, 8.87647995e+02,\n",
       "       7.50439577e+02, 1.97267282e+02, 4.95842653e+02, 3.76191799e+02,\n",
       "       1.23161652e+02, 1.58645357e+02, 6.72234060e+02, 9.16568340e+02,\n",
       "       5.88563282e+02, 5.53242404e+02, 4.67498607e+02, 8.93292858e+02,\n",
       "       7.27200042e+02, 9.72383721e+02, 8.58574211e+02, 9.05094577e+02,\n",
       "       9.57075178e+02, 2.17784976e+02, 2.36003364e+02, 4.46384721e+02,\n",
       "       2.63798689e+02, 5.64003346e+02, 4.57016781e+02, 4.44850844e+02,\n",
       "       1.27586960e+02, 6.55907758e+02, 4.31311301e+02, 2.60955746e+02,\n",
       "       2.31688738e+02, 1.23273629e+02, 6.96212213e+02, 5.60700840e+02,\n",
       "       7.35155085e+02, 9.06650875e+02, 1.73954408e+02, 1.03240315e+02,\n",
       "       3.74918247e+02, 8.52387707e+02, 8.82902393e+02, 1.96371128e+02,\n",
       "       4.98850701e+02, 8.71333938e+02, 6.26396849e+02, 4.30045998e+02,\n",
       "       6.30111791e+02, 3.26073867e+02, 3.34409710e+02, 8.98395692e+02,\n",
       "       1.91655153e+02, 8.82453048e+02, 1.47556092e+02, 2.80418020e+02,\n",
       "       2.01450110e+02, 3.62955571e+02, 5.99952153e+02, 8.97690196e+01,\n",
       "       8.10478597e+02, 5.20687498e+01, 3.74227939e+02, 6.96833418e+02,\n",
       "       4.07938130e+02, 1.21808346e+02, 8.24895293e+02, 1.08435615e+02,\n",
       "       2.84103870e+02, 1.71291601e+02, 2.16533328e+02, 3.19753828e+02,\n",
       "       1.51512726e+02, 1.38180034e+02, 8.66533012e+02, 8.57739748e+02,\n",
       "       8.27366426e+02, 6.69496209e+02, 5.14993406e+02, 3.08075678e+02,\n",
       "       6.57973452e+02, 1.10307070e+02, 6.98195480e+02, 3.13187861e+02,\n",
       "       4.41582155e+02, 8.79036812e+02, 7.29770126e+02, 1.92317535e+02,\n",
       "       6.06899573e+02, 5.24564323e+02, 1.11381747e+02, 8.06890092e+02,\n",
       "       3.57933543e+02, 1.55994984e+01, 2.49318320e+02, 3.78365520e+01,\n",
       "       1.59064539e+02, 7.31461991e+02, 9.60373439e+02, 9.02428360e+02,\n",
       "       5.50107772e+02, 1.59871951e+02, 7.89175914e+02, 5.62024588e+02,\n",
       "       1.33614511e+02, 6.37105413e+02, 4.60079960e+02, 8.18337008e+02,\n",
       "       2.20367629e+02, 5.00462659e+02, 4.47308049e+02, 2.25442302e+02,\n",
       "       1.15709425e+02, 7.86780604e+02, 6.00877628e+02, 5.68281993e+01,\n",
       "       2.59042005e+02, 2.81371102e+02, 2.06323919e+02, 2.32473726e+02,\n",
       "       2.52948889e+02, 9.57117143e+02, 1.95439441e+02, 8.28350659e+02,\n",
       "       3.15006494e+02, 6.42294289e+02, 8.16417232e+02, 8.46725406e+02,\n",
       "       2.36520052e+02, 1.81820148e+01, 7.60709014e+02, 1.22897118e+02,\n",
       "       3.86867178e+02, 6.49695537e+01, 9.36138609e+02, 7.77101755e+02,\n",
       "       4.35414127e+02, 6.04522541e+02, 4.03192815e+01, 1.44319308e+02,\n",
       "       1.09759137e+02, 6.94316819e+02, 9.51226127e+02, 2.84017514e+02,\n",
       "       8.82445647e+02, 2.92691642e+02, 5.15496218e-01, 6.57987037e+02,\n",
       "       7.84429325e+02, 1.70437653e+02, 9.82676372e+02, 3.40821165e+02,\n",
       "       5.18566265e+02, 7.61225948e+02, 3.62242761e+01, 2.77449967e+02,\n",
       "       8.21653903e+02, 1.33103568e+02, 1.50691180e+02, 2.48555462e+02,\n",
       "       6.66213707e+02, 6.80416928e+02, 3.73567562e+02, 4.66455923e+02,\n",
       "       7.17928179e+01, 3.67621873e+02, 9.18901757e+02, 6.17305017e+02,\n",
       "       8.45283110e+02, 6.77042746e+02, 3.00944701e+02, 6.33110611e+02,\n",
       "       2.18891424e+02, 1.03683853e+01, 2.43967878e+01, 7.29972556e+02,\n",
       "       2.98465180e+02, 8.96200252e+02, 6.40338500e+02, 7.88805233e+02,\n",
       "       2.76487108e+02, 3.14882018e+02, 1.85963769e+02, 2.83123157e+02,\n",
       "       9.00106099e+02, 4.37541526e+02, 5.06814009e+02, 8.00130424e+02,\n",
       "       9.26853736e+02, 8.53819171e+02, 8.51336843e+02, 1.69935126e+02,\n",
       "       4.84099623e+02, 7.17197429e+02, 3.35511655e+02, 4.58340853e+02,\n",
       "       5.37829733e+02, 2.81602159e+02, 9.50856432e+02, 9.66465321e+02,\n",
       "       5.92347377e+02, 7.36192601e+01, 1.67264594e+02, 8.28449341e+02,\n",
       "       6.51157650e+02, 1.79840235e+02, 8.91742598e+02, 1.99706390e+02,\n",
       "       3.34314231e+02, 2.91224643e+02, 1.04005648e+01, 7.23487733e+02,\n",
       "       2.48919518e+02, 9.13036629e+02, 5.03918323e+02, 6.75785994e+01,\n",
       "       9.52731298e+02, 2.63900822e+02, 1.72989555e+02, 6.54273060e+02,\n",
       "       5.33970802e+02, 6.29875801e+02, 1.31869970e+01, 8.19552094e+02,\n",
       "       4.52489522e+02, 4.83126703e+01, 2.69423779e+02, 3.69151681e+02,\n",
       "       3.43856168e+02, 4.86114958e+02, 9.10408189e+02, 1.16206321e+02,\n",
       "       2.11710175e+02, 4.43543384e+02, 8.68391021e+02, 6.38516491e+02,\n",
       "       7.92825508e+02, 6.49444344e+01, 6.84330568e+02, 7.65027217e+02,\n",
       "       7.77109336e+02, 8.18102039e+02, 1.93940921e+01, 5.88590668e+01,\n",
       "       9.43280497e+02, 8.75425033e+02, 6.76080173e+02, 3.18881177e+02,\n",
       "       7.38720267e+02, 6.52448052e+02, 7.45955426e+02, 5.13519496e+02,\n",
       "       3.87515485e+02, 8.14730228e+02, 9.01404356e+02, 3.91772441e+02,\n",
       "       7.23969573e+02, 2.88224985e+02, 5.90694885e+02, 3.93239500e+02,\n",
       "       2.19890978e+02, 7.46293438e+02, 4.28461444e+02, 9.59011976e+02,\n",
       "       7.27040498e+02, 3.29412302e+02, 7.32187501e+02, 5.85668467e+02,\n",
       "       7.01706949e+02, 7.80836612e+02, 4.00796357e+02, 1.57860327e+02,\n",
       "       7.76567989e+02, 1.38959935e+02, 1.80335100e+02, 1.32781354e+02,\n",
       "       4.62128495e+02, 6.51494157e+02, 4.47249038e+02, 1.04958656e+02,\n",
       "       4.29603704e+02, 1.22924274e+02, 8.09571648e+02, 3.18639024e+02,\n",
       "       7.41173636e+02, 6.49758813e+02, 3.31874239e+02, 4.57606513e+01,\n",
       "       7.06203095e+02, 5.83987334e+02, 7.51494873e+02, 8.92800020e+02,\n",
       "       9.73184806e+02, 3.47968680e+02, 4.52353629e+02, 2.19620769e+02,\n",
       "       8.14641686e+02, 7.76125526e+02, 8.86476110e+02, 2.81225684e+02,\n",
       "       6.51149188e+02, 1.90033723e+02, 6.61618973e+02, 2.17677670e+02,\n",
       "       9.53578438e+02, 3.00134361e+02, 1.99872287e+02, 5.14958611e+02,\n",
       "       4.57202328e+02, 3.06422838e+02, 8.72911363e+02, 7.54907387e+02,\n",
       "       2.22583266e+02, 9.07725037e+02, 8.73764536e+01, 8.74231692e+02,\n",
       "       6.83881941e+02, 6.69806935e+02, 6.19844508e+02, 8.74750133e+02,\n",
       "       9.29134985e+01, 9.96819517e+01, 3.75820463e+02, 8.97037965e+02,\n",
       "       8.27383273e+02, 2.50672311e+02, 9.43114340e+02, 9.54235277e+02,\n",
       "       7.92130508e+01, 9.82844498e+02, 9.50621771e+02, 8.10457446e+02,\n",
       "       8.90761312e+02, 7.19262268e+02, 7.62249705e+02, 5.32435244e+01,\n",
       "       3.64872521e+02, 5.16564039e+01, 3.15508205e+02, 5.49632077e+02,\n",
       "       6.39231183e+02, 7.42360120e+02, 2.08203389e+02, 4.17696572e+02,\n",
       "       8.93088600e+02, 6.18207490e+01, 6.25206656e+02, 7.58229092e+02,\n",
       "       6.98587280e+01, 6.63041564e+02, 8.95743079e+01, 4.68194600e+02,\n",
       "       4.84741456e+02, 4.39691453e+02, 4.69937941e+02, 8.57430932e+02,\n",
       "       1.13802612e+02, 2.14219927e+02, 1.00214931e+02, 7.58884960e+02,\n",
       "       1.16098551e+02, 5.23660428e+02, 6.91880972e+02, 8.77400864e+02,\n",
       "       5.47367721e+02, 5.73935912e+02, 7.86967539e+00, 3.97350422e+02,\n",
       "       1.99729707e+02, 1.26644285e+02, 2.13132042e+02, 3.64738877e+02,\n",
       "       6.41040126e+02, 9.06106411e+02, 3.59298367e+02, 2.79069245e+02,\n",
       "       8.84974964e+02, 4.79126939e+02, 2.23672474e+02, 6.16694053e+02,\n",
       "       1.67047705e+02, 9.11002072e+02, 3.69309852e+02, 6.99251380e+01,\n",
       "       2.90218842e+02, 2.98507523e+01, 7.90487304e+02, 6.76611416e+02,\n",
       "       8.52541693e+02, 9.48095977e+02, 7.11878231e+01, 8.19554523e+02,\n",
       "       4.69218045e+02, 7.81327661e+02, 7.35351531e+02, 1.13231301e+02,\n",
       "       8.39631777e+02, 5.85287049e+02, 5.97727240e+02, 3.47798399e+01,\n",
       "       6.98385159e+02, 4.85355002e+02, 1.39880294e+02, 7.46996811e+02,\n",
       "       6.75254248e+02, 3.21228372e+02, 4.33667649e+01, 1.96184028e+02,\n",
       "       9.06532891e+00, 8.30633130e+02, 7.43937182e+02, 3.46262001e+02,\n",
       "       3.01211822e+02, 5.24783802e+02, 1.79428147e+02, 9.51739103e+02,\n",
       "       2.78752694e+02, 1.23048091e+01, 8.57747837e+02, 7.87725023e+02,\n",
       "       9.45928306e+02, 6.69614080e+02, 8.97225283e+01, 7.66891088e+02,\n",
       "       4.97200482e+01, 4.04255026e+02, 3.25445379e+01, 9.45787136e+02,\n",
       "       6.46782144e+02, 2.72239411e+02, 5.55285905e+02, 8.78531179e+02,\n",
       "       6.85276935e+02, 5.61584009e+01, 3.84909877e+02, 6.98738444e+02,\n",
       "       4.06722912e+02, 5.82557052e+02, 8.83748332e+02, 9.10040790e+02,\n",
       "       9.14158833e+02, 3.17645200e+02, 8.69911747e+02, 7.26111940e+02,\n",
       "       2.11626652e+02, 4.45319975e+02, 7.53131265e+02, 8.90664602e+02,\n",
       "       3.11160076e+02, 2.81863666e+02, 2.76544785e+02, 5.86060216e+02,\n",
       "       7.05710310e+02, 2.94268548e+02, 4.43304170e+02, 9.70706516e+02,\n",
       "       5.20838514e+02, 7.45446200e+02, 4.44835558e+02, 5.50826008e+02,\n",
       "       6.81741657e+02, 2.90820542e+02, 7.48877182e+02, 3.99647901e+02,\n",
       "       7.12688615e+02, 4.10162802e+02, 1.62616871e+02, 9.89903721e+02,\n",
       "       6.49926060e+02, 6.95675952e+02, 1.58486772e+02, 7.89545679e+02,\n",
       "       6.45881981e+02, 4.38451875e+02, 7.02058850e+01, 3.31041220e+02,\n",
       "       3.06386469e+02, 9.58062293e+02, 3.17550422e+02, 5.53388910e+02,\n",
       "       9.98935206e+02, 2.19958689e+02, 1.96630712e+01, 5.28040986e+02,\n",
       "       3.18858490e+02, 4.90933826e+02, 8.06786396e+02, 4.13702370e+02,\n",
       "       2.09323784e+02, 6.88279802e+02, 6.23592071e+02, 3.82614179e+02,\n",
       "       6.20773673e+02, 4.71030154e+02, 5.40554857e+02, 8.91781702e+02,\n",
       "       7.13119880e+02, 8.98236867e+02, 7.60430658e+02, 8.13909303e+02,\n",
       "       2.69267657e+02, 5.05537633e+02, 6.78057569e+02, 1.58133097e+02,\n",
       "       4.30817237e+02, 3.82897577e+02, 8.53664644e+02, 4.68914684e+02,\n",
       "       5.99341913e+01, 7.94743836e+02, 1.83532833e+02, 9.43849814e+02,\n",
       "       5.34046759e+02, 9.69895253e+02, 5.85446809e+02, 6.56568747e+02,\n",
       "       8.79586757e+02, 6.34961224e+02, 6.21858227e+02, 8.55929660e+02,\n",
       "       3.45184554e+02, 3.89324527e+02, 3.06283509e+02, 6.09347779e+02,\n",
       "       9.01011854e+02, 7.93815934e+00, 7.67813240e+02, 6.96355980e+02,\n",
       "       1.76073852e+02, 9.53498516e+02, 3.79457458e+02, 5.71892626e+02,\n",
       "       3.40906226e+02, 3.02639390e+02, 4.79325305e+02, 2.44716167e+02,\n",
       "       5.31540846e+02, 6.48208175e+01, 5.56615836e+02, 9.12203173e+02,\n",
       "       3.38362733e+02, 3.29493411e+02, 2.05024125e+02, 2.23150123e+02,\n",
       "       7.12836540e+02, 2.37442233e+02, 4.11774408e+02, 2.71743890e+02,\n",
       "       8.84428996e+02, 7.04310240e+02, 8.80458526e+02, 1.24662509e+02,\n",
       "       3.71176252e+02, 6.16471043e+02, 8.57856938e+02, 1.35659661e+02,\n",
       "       9.55988251e+02, 1.19810847e+02, 5.61116743e+02, 3.54188472e+02,\n",
       "       6.70486373e+02, 8.37348532e+02, 8.43293511e+02, 7.83738386e+02,\n",
       "       5.30605512e+02, 3.65209268e+02, 8.94398472e+02, 1.09909140e+02,\n",
       "       9.52278866e+02, 8.99845875e+02, 5.44008332e+02, 8.17014401e+02,\n",
       "       3.12101274e+02, 3.52032279e+02, 6.16686500e+02, 4.05809899e+01,\n",
       "       3.69374573e+02, 2.67470327e+02, 3.42775777e+02, 8.81199304e+02,\n",
       "       2.78255279e+02, 4.07004802e+02, 2.89783089e+02, 3.44144070e+02,\n",
       "       9.96196359e+02, 8.95750342e+02, 5.97102450e+02, 3.71628048e+02,\n",
       "       6.35137120e+02, 9.10616615e+02, 1.80667443e+02, 4.16245461e+02,\n",
       "       4.99004369e+02, 1.55108867e+02, 5.03160425e+02, 2.12719791e+02,\n",
       "       7.59770635e+02, 6.11312210e+02, 1.91393432e+02, 7.95193910e+02,\n",
       "       9.84213823e+02, 4.66156409e+02, 7.29004468e+02, 5.11083693e+02,\n",
       "       2.97553339e+02, 8.77621236e+02, 4.58544686e+02, 9.84706627e+02,\n",
       "       2.91737916e+02, 1.22645091e+02, 7.17971763e+02, 7.07082657e+02,\n",
       "       4.65117813e+02, 5.01533768e+02, 8.26261798e+02, 5.42094371e+02,\n",
       "       1.84268599e+02, 8.57813849e+02, 5.38727616e+02, 5.57534370e+02,\n",
       "       7.87521649e+02, 6.67038486e+02, 4.28747049e+00, 2.88978615e+02,\n",
       "       2.56558169e+02, 5.53052195e+02, 4.33889477e+02, 9.00901411e+02,\n",
       "       4.59209211e+02, 2.79679924e+02, 8.92402140e+02, 5.62512369e+02,\n",
       "       8.17586351e+02, 1.49401657e+02, 8.94671564e+02, 8.70231277e+02,\n",
       "       6.38847433e+02, 8.12180444e+02, 3.90832420e+02, 1.03672053e+02,\n",
       "       4.86268713e+02, 2.11382943e+02, 3.30002013e+02, 6.61397295e+02,\n",
       "       5.08250841e+02, 7.59781639e+01, 1.15127324e+02, 2.25390003e+02,\n",
       "       6.91287283e+02, 6.35424529e+01, 9.98824671e+01, 9.92972923e+01,\n",
       "       6.28571709e+02, 2.94033216e+02, 8.38065006e+01, 9.70476389e+02,\n",
       "       9.77588398e+02, 9.15818061e+02, 7.43468518e+02, 9.55219305e+02,\n",
       "       4.38219576e+02, 3.77811197e+02, 5.51125769e+01, 4.82449981e+01,\n",
       "       8.93737455e+02, 3.50364857e+02, 4.07410967e+02, 9.11418016e+02,\n",
       "       7.86136155e+02, 1.13980433e+02, 9.53730760e+02, 1.83681355e+02,\n",
       "       2.13470469e+02, 5.06482751e+02, 4.92282623e+02, 9.87072474e+02,\n",
       "       4.75897996e+02, 5.97238000e+02, 5.17749914e+02, 1.00223990e+02,\n",
       "       6.20997953e+02, 1.74970727e+02, 4.87644165e+00, 5.62252783e+02,\n",
       "       9.57596817e+02, 9.40098677e+02, 6.39222216e+02, 4.14006893e+02,\n",
       "       9.09953161e+02, 7.90396933e+02, 9.46429799e+02, 6.49106139e+01,\n",
       "       2.27447756e+02, 2.52684426e+02, 8.65292794e+02, 9.82183964e+01])"
      ]
     },
     "execution_count": 45,
     "metadata": {},
     "output_type": "execute_result"
    }
   ],
   "source": [
    "np.random.uniform(0,1000,1000)"
   ]
  },
  {
   "cell_type": "code",
   "execution_count": 48,
   "id": "5d38ba2b-6c5f-42fb-a940-9176511c3c73",
   "metadata": {},
   "outputs": [],
   "source": [
    "x = np.random.uniform(0,1000,10000)"
   ]
  },
  {
   "cell_type": "code",
   "execution_count": 49,
   "id": "be429ea0-c774-4c98-bfa0-e6f66e81f4a6",
   "metadata": {},
   "outputs": [
    {
     "data": {
      "text/plain": [
       "(array([ 967., 1034., 1016., 1016., 1038., 1002., 1027.,  969.,  935.,\n",
       "         996.]),\n",
       " array([1.55049522e-01, 1.00126763e+02, 2.00098476e+02, 3.00070190e+02,\n",
       "        4.00041903e+02, 5.00013617e+02, 5.99985330e+02, 6.99957043e+02,\n",
       "        7.99928757e+02, 8.99900470e+02, 9.99872184e+02]),\n",
       " <BarContainer object of 10 artists>)"
      ]
     },
     "execution_count": 49,
     "metadata": {},
     "output_type": "execute_result"
    },
    {
     "data": {
      "image/png": "[encoded data removed]",
      "text/plain": [
       "<Figure size 432x288 with 1 Axes>"
      ]
     },
     "metadata": {
      "needs_background": "light"
     },
     "output_type": "display_data"
    }
   ],
   "source": [
    "plt.hist(x)"
   ]
  },
  {
   "cell_type": "code",
   "execution_count": 56,
   "id": "b5d3bdef-3241-42f4-a6a1-cff358dce87e",
   "metadata": {
    "scrolled": true,
    "tags": []
   },
   "outputs": [],
   "source": [
    "x = np.random.normal(10, 100, 1000)"
   ]
  },
  {
   "cell_type": "code",
   "execution_count": 57,
   "id": "b1855746-e6bd-4df1-87ee-b8e2a7357fa6",
   "metadata": {},
   "outputs": [
    {
     "data": {
      "text/plain": [
       "(array([ 10.,  36.,  80., 168., 219., 209., 161.,  84.,  23.,  10.]),\n",
       " array([-283.43241957, -225.73686163, -168.0413037 , -110.34574577,\n",
       "         -52.65018783,    5.0453701 ,   62.74092804,  120.43648597,\n",
       "         178.1320439 ,  235.82760184,  293.52315977]),\n",
       " <BarContainer object of 10 artists>)"
      ]
     },
     "execution_count": 57,
     "metadata": {},
     "output_type": "execute_result"
    },
    {
     "data": {
      "image/png": "[encoded data removed]",
      "text/plain": [
       "<Figure size 432x288 with 1 Axes>"
      ]
     },
     "metadata": {
      "needs_background": "light"
     },
     "output_type": "display_data"
    }
   ],
   "source": [
    "plt.hist(x)"
   ]
  },
  {
   "cell_type": "code",
   "execution_count": null,
   "id": "8dd22e68-d7d8-4a13-8bb3-e88bd07c4d84",
   "metadata": {},
   "outputs": [],
   "source": []
  },
  {
   "cell_type": "code",
   "execution_count": null,
   "id": "83519eb6-87f5-4d2e-82bc-a40b03493185",
   "metadata": {},
   "outputs": [],
   "source": []
  }
 ],
 "metadata": {
  "kernelspec": {
   "display_name": "Python 3",
   "language": "python",
   "name": "python3"
  },
  "language_info": {
   "codemirror_mode": {
    "name": "ipython",
    "version": 3
   },
   "file_extension": ".py",
   "mimetype": "text/x-python",
   "name": "python",
   "nbconvert_exporter": "python",
   "pygments_lexer": "ipython3",
   "version": "3.8.8"
  }
 },
 "nbformat": 4,
 "nbformat_minor": 5
}
