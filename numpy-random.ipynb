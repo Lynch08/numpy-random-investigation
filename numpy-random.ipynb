{
 "cells": [
  {
   "cell_type": "markdown",
   "id": "802b95a7-9275-4fe6-91fe-5979b531e466",
   "metadata": {},
   "source": [
    "<br>\n",
    "\n",
    "# An investigation into the numpy.random package\n",
    "\n",
    "\n",
    "<ins>[NUMPY OFFICAL DOCUMENTATION](https://numpy.org/doc/stable/reference/random/generator.html)<ins>"
   ]
  },
  {
   "cell_type": "markdown",
   "id": "b2fe2d7d-190e-4e98-83c1-80ef5c5056b1",
   "metadata": {},
   "source": [
    "# <ins>WHAT IS NUMPY<ins>\n",
    "\n",
    "\"NumPy is the fundamental package for scientific computing in Python. It is a Python library that provides a multidimensional array object, various derived objects (such as masked arrays and matrices), and an assortment of routines for fast operations on arrays, including mathematical, logical, shape manipulation, sorting, selecting, I/O, discrete Fourier transforms, basic linear algebra, basic statistical operations, random simulation and much more.\"[[1]](https://numpy.org/doc/1.19/user/whatisnumpy.html)  \n",
    "That is the official explaination for Numpy from the offial documentation V1.19. This a bit wordy and frankly frightening when first read by a novice to programming who has not done a lot of mathamatics in the last decade. So I found it easier to first try to gleen some insight into the Numpy libary by simply googling 'What is Numpy?' and using a resource like W3Schools[[2]](https://www.w3schools.com/python/numpy/numpy_intro.asp) or Real Python[[3]](https://realpython.com/tutorials/numpy/) to give me a less imtimidating description (even if it is a little less robust) of numpy.\n",
    "\n",
    "##### <ins>Arrays<ins>\n",
    "However before I get into Numpy I would first like to define an array in python, as arrays are the foudation of how numpy is able to manipulate data.\n",
    "In simple terms an array is a list of the same data type in python. Once that was clear to me I found the Real Python introduction the best to begin to wrap my head around numpy, its functionality and uses. \"NumPy is a third-party Python library that provides support for large multidimensional arrays and matrices along with a collection of mathematical functions to operate on these elements.\"[[4]](https://realpython.com/tutorials/numpy/) In my own words, Numpy gives you tools to manipulate lists of data, with emphasis on mathematical functionality. \n",
    "\n",
    "##### <ins>Popular uses for Numpy<ins>\n",
    "The numpy.random package has a number typical applications. The most popular include:[[6]](https://github.com/andkoc001/fun-with-numpy-random/blob/master/exploring-random-numpy.ipynb)\n",
    "\n",
    " - random number generation\n",
    " - choice from a list\n",
    " - creation of dummy data (e.g. for demonstration of some other functionalities)\n",
    " - simulation of statistical distribution\n",
    " - hypothesis testing (assessment of how reasonable the observed data is, assuming a hypothesis is true)\n",
    " - shuffling existing data (permutation - random reordering of entries in an array)\n",
    " - simulation of uncertainty\n",
    " - simulation of noise.\n",
    " \n",
    " \n",
    " \n"
   ]
  },
  {
   "cell_type": "markdown",
   "id": "3ec3ecd8-25c1-4ee3-8b9d-5f0976eba035",
   "metadata": {},
   "source": [
    "### <ins>A Brife History of Numpy<ins>\n",
    "Although online much of the credit of the creation of Numpy goes to Travis Oliphant in 2006[[7]](https://en.wikipedia.org/wiki/Travis_Oliphant), much of the actual code was written by a group of graduate students who \"upended the already well-established ecosystem of research software—backed by millions in funding and many hundreds of highly qualified engineers\"[[8]](https://numpy.org/history/). It is now relied on by scientists, engineers, data analysts and many other professions around the world. "
   ]
  },
  {
   "cell_type": "markdown",
   "id": "f4772b76-25ec-46d2-87b1-c8d361c5ea16",
   "metadata": {},
   "source": [
    "### <ins>Installing numpy<ins>\n",
    "Numpy is a libary in the python package so if you have downloaded some version of python (I would reccomend anaconda) then simply import it in to your code using:\n",
    "\n",
    "```import numpy as np```\n",
    "\n",
    "np is the standard abbreviation for numpy in Python\n",
    "\n",
    "\n",
    "**Here is a link to the offical installation documentation: https://numpy.org/install/**"
   ]
  },
  {
   "cell_type": "markdown",
   "id": "2587be45-e181-412f-a752-43d38e7f5fcb",
   "metadata": {},
   "source": [
    "### <ins>Importing numpy.random library and version check<ins>"
   ]
  },
  {
   "cell_type": "markdown",
   "id": "ef64815a-6fd6-426f-bb47-bded5b77ac3d",
   "metadata": {},
   "source": [
    " Below are the libaries and sub-libaries I used during the production of this notebook.  \n",
    " Not all were used in the finished product as I somtimes found simpler ways to do what I was trying after further reading.  "
   ]
  },
  {
   "cell_type": "code",
   "execution_count": 1,
   "id": "ecf80495-3ee3-4221-af79-145cc43d01b5",
   "metadata": {},
   "outputs": [],
   "source": [
    "# NumPy package\n",
    "import numpy as np \n",
    "\n",
    "# For Random number Generation\n",
    "import numpy.random as r\n",
    "\n",
    "# To read in data\n",
    "import pandas as pd \n",
    "\n",
    "# Plotting engine\n",
    "import matplotlib.pyplot as plt \n",
    "\n",
    "# For distributions\n",
    "import scipy.stats as stats \n",
    "\n",
    "# For nice plots\n",
    "import seaborn as sns \n",
    "\n",
    "# For possion distribution\n",
    "from scipy.stats import poisson as pois \n"
   ]
  },
  {
   "cell_type": "code",
   "execution_count": 2,
   "id": "e54e6063-dcba-472a-a764-ef5657f096c5",
   "metadata": {},
   "outputs": [
    {
     "data": {
      "text/plain": [
       "'1.20.1'"
      ]
     },
     "execution_count": 2,
     "metadata": {},
     "output_type": "execute_result"
    }
   ],
   "source": [
    "# NumPy version check - in case the most up to date documentation has changed\n",
    "np.version.version "
   ]
  },
  {
   "cell_type": "markdown",
   "id": "c9a1315d-f7a7-4a8a-952b-33471af436cd",
   "metadata": {},
   "source": [
    "### <ins>Simple random data<ins>"
   ]
  },
  {
   "cell_type": "markdown",
   "id": "5e833183-338f-4794-9309-48edb9715c13",
   "metadata": {},
   "source": [
    "\n",
    "Simple Random Data is essentially used to generate random numbers. Within the Simple random data there are a number of different functions (or routines) that can be used to generate random numbers and each function returns results from different distributions, these include uniform distribution, standard normal distribution and continuous uniform distribution. The user can use the function which best serves them.[[9]](https://github.com/johndunne2019/numpy.random/blob/master/numpy-random.ipynb)\n",
    "\n",
    " Simple random data is a collection of methods used for two categories of application:  \n",
    "1) generating of a pseudo random number from a range\n",
    "2) random selection of an object from a list\n",
    "\n",
    "In the first category, there are several methods, producing different outputs. For instance, the np.random.random() generates float numbers from half-open range [0,1), whereas np.random.randint() generates integer numbers from a range.\n",
    "\n",
    "The second category, offers the functionality of randomly picking of objects from an existing list.\n",
    "\n",
    "##### <ins>Random Sampling is really pseudo random!!!!<ins>\n",
    "It is important to mention here that the routines return numbers that are not truly \"random\". The numbers are generated using the system's current time down to the millisecond, and could be repeated if the routine is called under the same conditions. So the numbers that are generated are referred as to pseudo random. This makes these \"random\" number generators unsuitable for cryptogrophy and encryption as they would be a security risk.[[10]](https://realpython.com/python-random/)[[11]](https://docs.python.org/3/library/random.html)\n",
    "\n",
    "\n",
    "Below is a full list of the functions within Simple Random Data taken from: https://numpy.org/doc/stable/reference/random/legacy.html\n",
    "\n",
    " - **rand**(d0, d1, …, dn) - Random values in a given shape.\n",
    " - **randn**(d0, d1, …, dn) - Return a sample (or samples) from the “standard normal” distribution.\n",
    " - **randint**(low[, high, size, dtype]) - Return random integers from low (inclusive) to high (exclusive).\n",
    " - **random_integers**(low[, high, size]) - Random integers of type np.int_ between low and high, inclusive.\n",
    " - **random_sample**([size]) - Return random floats in the half-open interval [0.0, 1.0).\n",
    " - **choice**(a[, size, replace, p]) - Generates a random sample from a given 1-D array\n",
    " - **bytes**(length) - Return random bytes.\n",
    " \n",
    " I have used some of them below to give an example of how they work."
   ]
  },
  {
   "cell_type": "markdown",
   "id": "f7769292-8cda-47a5-838f-2c94f03da367",
   "metadata": {},
   "source": [
    "# <ins>Numpy Random Tutorial<ins>\n",
    "\n",
    "**NB** - Remember I have imported the random module as 'r'\n",
    "\n",
    "I found this brife video helpful to give a practical understanding of Simple Random Data generation: [Youtube Video](https://www.youtube.com/watch?v=Eu-GfO9Lj_E)    \n",
    "\n",
    "Here are some of the subroutines available when generating Simple Random data."
   ]
  },
  {
   "cell_type": "markdown",
   "id": "8457a7e9-0c23-4139-a3c1-ae9d949a4f1f",
   "metadata": {},
   "source": [
    "<br>\n",
    "\n",
    "##### <ins>numpy.random.rand<ins>\n",
    "\n",
    "Explaination: Random values in a given shape. This method returns random float number(s) from uniform distribution on [0,1), i.e. from 0 (inclusive) to 1 (exclusive) \n",
    "\n",
    "\n",
    "Offical Documentation: https://numpy.org/doc/stable/reference/random/generated/numpy.random.rand.html"
   ]
  },
  {
   "cell_type": "code",
   "execution_count": 3,
   "id": "680c1c72-cc31-43be-a078-78df586404da",
   "metadata": {},
   "outputs": [
    {
     "data": {
      "text/plain": [
       "array([[[0.59693245, 0.5719463 , 0.04852388],\n",
       "        [0.74562092, 0.7834878 , 0.00918071],\n",
       "        [0.28364261, 0.33558953, 0.74230544],\n",
       "        [0.72131666, 0.50631582, 0.8689878 ],\n",
       "        [0.33934604, 0.15685397, 0.54128664],\n",
       "        [0.80030931, 0.04468864, 0.31689122],\n",
       "        [0.09731621, 0.37896867, 0.88242633],\n",
       "        [0.00911487, 0.81885292, 0.20470485],\n",
       "        [0.31451885, 0.9887551 , 0.70575967],\n",
       "        [0.49876238, 0.19636409, 0.93599987]],\n",
       "\n",
       "       [[0.06628638, 0.8995746 , 0.28720496],\n",
       "        [0.75672092, 0.32742002, 0.48386736],\n",
       "        [0.58030498, 0.66589394, 0.25272591],\n",
       "        [0.76715078, 0.20852794, 0.64788566],\n",
       "        [0.52984207, 0.8931809 , 0.43103334],\n",
       "        [0.97291599, 0.09744503, 0.46704668],\n",
       "        [0.07900584, 0.96411231, 0.6041163 ],\n",
       "        [0.15667318, 0.86087872, 0.35548352],\n",
       "        [0.28882132, 0.39565724, 0.43957777],\n",
       "        [0.47774261, 0.33320165, 0.22687654]]])"
      ]
     },
     "execution_count": 3,
     "metadata": {},
     "output_type": "execute_result"
    }
   ],
   "source": [
    "# Generating Random Data - floating numbers between 0 and 1\n",
    "# 1 full array containing 2 other arrays, each with 10 arrays containing 3 elements in each of those arrays \n",
    "r.rand(2,10, 3)\n"
   ]
  },
  {
   "cell_type": "markdown",
   "id": "0fbdbfaf-785a-46c6-8251-266c797f8d51",
   "metadata": {},
   "source": [
    "Something interesting I did notice was if you multiply the 3 values passed from the argument - that will return the number of elements you have requested.  \n",
    "```r.rand(2,10,3)``` (2 x 10 x 3 = 60) - I tried this multiple ways and always seemed to get the same number of random values returned, but the shape of my data was different.  \n",
    "It was a good way for me to understand how to \"shape\" the data in a certain way if required.\n"
   ]
  },
  {
   "cell_type": "markdown",
   "id": "40374612-37d4-4e2e-89e1-16b6a6636d62",
   "metadata": {},
   "source": [
    "**Visualisation of rand using pyplot (uniform distribution)**"
   ]
  },
  {
   "cell_type": "code",
   "execution_count": 4,
   "id": "e2cf4077-f8e8-41b1-9e0b-7bb358de37fc",
   "metadata": {},
   "outputs": [
    {
     "name": "stdout",
     "output_type": "stream",
     "text": [
      "These are the numbers gernerated by the rand function: [[1.47622927e-02 7.38751605e-01 1.88376908e-04 8.88279897e-01\n",
      "  2.64011255e-01 3.02057521e-01 8.35413511e-01 3.34924222e-01\n",
      "  2.69382305e-02 4.18958040e-01 7.87814170e-02 1.38143787e-01\n",
      "  2.35834592e-01 6.92086426e-01 2.74064638e-01 1.29570312e-01\n",
      "  8.23637504e-01 5.92369193e-01 1.45564052e-01 3.39491523e-01\n",
      "  2.01349028e-01 8.11204138e-01 1.27303404e-01 5.92631015e-01\n",
      "  1.51991475e-01 2.01735247e-01 9.66222528e-01 3.76545520e-01\n",
      "  9.24677890e-01 4.45189979e-01 6.93270122e-01 1.92151286e-01\n",
      "  8.31732011e-01 4.21291980e-01 8.37239939e-01 3.42696171e-01\n",
      "  7.97969418e-02 6.22684707e-01 8.61840117e-01 4.12808877e-01]\n",
      " [2.78663310e-01 5.98125375e-01 6.68308926e-01 5.56687449e-01\n",
      "  1.05577852e-02 3.97427423e-01 2.80153830e-01 6.34641086e-02\n",
      "  6.01418947e-01 5.23843894e-01 9.08562534e-01 3.34929290e-02\n",
      "  8.48172604e-01 1.39895340e-01 3.26737294e-01 1.78582882e-01\n",
      "  3.45830695e-01 8.51907022e-01 9.64246725e-02 4.69140415e-01\n",
      "  5.11220456e-01 1.97555167e-02 6.46789611e-01 7.01210158e-01\n",
      "  7.29436608e-01 5.64768534e-01 2.54404550e-01 6.63402345e-02\n",
      "  4.00396505e-01 3.68326919e-01 1.90045666e-01 1.28573240e-01\n",
      "  6.15804085e-01 6.60786785e-01 6.76671480e-01 6.47943383e-01\n",
      "  3.10753805e-01 6.27105068e-01 6.05093383e-02 4.06093671e-01]]\n"
     ]
    },
    {
     "data": {
      "image/png": "[encoded data removed]",
      "text/plain": [
       "<Figure size 432x288 with 1 Axes>"
      ]
     },
     "metadata": {
      "needs_background": "light"
     },
     "output_type": "display_data"
    }
   ],
   "source": [
    "# Create a variable\n",
    "rand = r.rand(2,40)\n",
    "print('These are the numbers gernerated by the rand function:',rand)\n",
    "\n",
    "# Generate histogram using variable\n",
    "plt.hist(rand)\n",
    "\n",
    "# Title of plot\n",
    "plt.title('Visualisation of rand using pyplot (uniform distribution) ')\n",
    "\n",
    "# Show plot\n",
    "plt.show()"
   ]
  },
  {
   "cell_type": "markdown",
   "id": "0f345a8c-5dea-43fe-b00f-6881d2f6f5c7",
   "metadata": {},
   "source": [
    "<br>\n",
    "\n",
    "##### <ins>numpy.random.randn<ins>\n",
    "\n",
    "Explaination: Return a sample (or samples) from the “standard normal” distribution.\n",
    "\n",
    "\"If positive int_like arguments are provided, randn generates an array of shape (d0, d1, ..., dn), filled with random floats sampled from a univariate “normal” (Gaussian) distribution of mean 0 and variance 1. A single float randomly sampled from the distribution is returned if no argument is provided.\"\n",
    "\n",
    "Offical Documentation: https://numpy.org/doc/stable/reference/random/generated/numpy.random.randn.html"
   ]
  },
  {
   "cell_type": "code",
   "execution_count": 5,
   "id": "87779eb1-a780-43d8-8d4e-69d823d61f67",
   "metadata": {},
   "outputs": [
    {
     "name": "stdout",
     "output_type": "stream",
     "text": [
      "The first argument decides how many columns of data to be generated:\n",
      "[-0.21944964  0.84288828]\n",
      "The second argument decides how many rows of data to be generated:\n",
      "[[ 1.01446263 -0.27144347]\n",
      " [-0.05355256  0.38495625]]\n",
      "The third argument decides how many arrays will be created:\n",
      "[[[ 0.27216582 -0.62069509]\n",
      "  [-0.22880412  0.0097348 ]\n",
      "  [ 1.12317394  0.19503387]\n",
      "  [ 0.41232788 -0.59083066]]\n",
      "\n",
      " [[-0.40388787 -1.11481265]\n",
      "  [-1.4851389  -1.25199997]\n",
      "  [ 0.80281012 -0.05784267]\n",
      "  [-1.77639043  0.41725902]]]\n"
     ]
    }
   ],
   "source": [
    "# randn is used to generate an array with 2 rows of data\n",
    "randn = np.random.randn(2)\n",
    "print(\"The first argument decides how many columns of data to be generated:\")\n",
    "print(randn)\n",
    "\n",
    "# randn generated an array with 2 rows and 2 columns\n",
    "randn2 = np.random.randn(2, 2)\n",
    "print(\"The second argument decides how many rows of data to be generated:\")\n",
    "print(randn2)\n",
    "\n",
    "# 3rd argument grnerates a the number of arrays that should be created from the first two arguments\n",
    "randn3 = np.random.randn(2, 4, 2)\n",
    "print(\"The third argument decides how many arrays will be created:\")\n",
    "print(randn3)"
   ]
  },
  {
   "cell_type": "markdown",
   "id": "ef249dc6-db5e-4b33-84d3-b7a04b52e17a",
   "metadata": {},
   "source": [
    "<br>\n",
    "\n",
    "**Visualisation of randn using pyplot (normal distribution)**"
   ]
  },
  {
   "cell_type": "code",
   "execution_count": 20,
   "id": "2f07d974-2034-4c06-958c-e25992533124",
   "metadata": {},
   "outputs": [
    {
     "data": {
      "image/png": "[encoded data removed]",
      "text/plain": [
       "<Figure size 432x288 with 1 Axes>"
      ]
     },
     "metadata": {
      "needs_background": "light"
     },
     "output_type": "display_data"
    }
   ],
   "source": [
    "randn_values = r.randn(500)\n",
    "# I have generated an array with 500 values using randn\n",
    "plt.hist(randn_values)\n",
    "plt.title('Visualisation of randn using pyplot (normal distribution) ')\n",
    "plt.show()\n",
    "# I have used matplotlib.pyplot to create a histogram of the array generated by randn\n",
    "# There is a cluster of values around 0 (normal distribution)\n",
    "# We can see now visually randn has returned random values with mean 0 and standard deviation of 1 "
   ]
  },
  {
   "cell_type": "markdown",
   "id": "de66e193-5bd1-44ce-9fbc-324aca185cdc",
   "metadata": {},
   "source": [
    "There is a function that I found [here](https://www.machinelearningplus.com/plots/matplotlib-tutorial-complete-guide-python-plot-examples/) called 'go' in the pyplot libary that sometimes gives a different \"view\" of the data - even though it is the same data as above (if you have run the notebook in sequence) in \"randn_values\".  \n",
    "We can see the concentration of values between -3 and 3 with most values remaining around the mean of 0.  \n",
    "Some may find this easier to understand - I personally like the histogram."
   ]
  },
  {
   "cell_type": "code",
   "execution_count": 22,
   "id": "b60d5bd0-c568-47a3-8872-fe9c377d6425",
   "metadata": {},
   "outputs": [
    {
     "data": {
      "text/plain": [
       "[<matplotlib.lines.Line2D at 0x234ede91e80>]"
      ]
     },
     "execution_count": 22,
     "metadata": {},
     "output_type": "execute_result"
    },
    {
     "data": {
      "image/png": "[encoded data removed]",
      "text/plain": [
       "<Figure size 432x288 with 1 Axes>"
      ]
     },
     "metadata": {
      "needs_background": "light"
     },
     "output_type": "display_data"
    }
   ],
   "source": [
    "# generate scatter plot using \"randn_values\" and GO function from pyplot\n",
    "plt.plot(randn_values, 'go')"
   ]
  },
  {
   "cell_type": "markdown",
   "id": "9a3bf848-f8e6-4811-b030-7536cb82a5d2",
   "metadata": {},
   "source": [
    "<br>\n",
    "\n",
    "##### <ins>numpy.random.randint<ins>\n",
    "\n",
    "Explaination: Return random integers from low (inclusive) to high (exclusive).\n",
    "\n",
    "Return random integers from the “discrete uniform” distribution of the specified dtype in the “half-open” interval [low, high). If high is None (the default), then results are from [0, low).  The size parameter tells NumPy how many observations are to be generated, and can be organised in a multi-dimensional array.\n",
    "\n",
    "Offical Documentation: https://numpy.org/doc/stable/reference/random/generated/numpy.random.randint.html"
   ]
  },
  {
   "cell_type": "code",
   "execution_count": 28,
   "id": "c9d05f46-1a57-4caf-92f7-d06ba78daeb6",
   "metadata": {},
   "outputs": [
    {
     "data": {
      "text/plain": [
       "8"
      ]
     },
     "execution_count": 28,
     "metadata": {},
     "output_type": "execute_result"
    }
   ],
   "source": [
    "# Return an integer from 0 (inclusive) to 10 (exclusive)\n",
    "r.randint(10)"
   ]
  },
  {
   "cell_type": "code",
   "execution_count": 29,
   "id": "6825b6ea-c967-477c-acda-a0658e84f46a",
   "metadata": {},
   "outputs": [
    {
     "data": {
      "text/plain": [
       "57"
      ]
     },
     "execution_count": 29,
     "metadata": {},
     "output_type": "execute_result"
    }
   ],
   "source": [
    "# Return an integer from 10 (inclusive) to 100 (exclusive)\n",
    "r.randint(10, 100)"
   ]
  },
  {
   "cell_type": "code",
   "execution_count": 30,
   "id": "24aa15ca-8843-4e4a-8fe2-4d3a7a4b44e8",
   "metadata": {},
   "outputs": [
    {
     "data": {
      "text/plain": [
       "array([[34, 14, 31, 46, 10, 55, 92, 90, 80, 33],\n",
       "       [39, 69, 67, 52, 86, 71, 30, 89, 71, 57],\n",
       "       [93, 72, 38, 21, 27, 42, 41, 12, 33, 30],\n",
       "       [45, 75, 45, 11, 62, 93, 57, 81, 54, 68],\n",
       "       [90, 59, 24, 99, 66, 21, 11, 27, 18, 35]])"
      ]
     },
     "execution_count": 30,
     "metadata": {},
     "output_type": "execute_result"
    }
   ],
   "source": [
    "# Return an integer from 10 (inclusive) to 100 (exclusive)\n",
    "# with 1 big array with all 50 numbers or 5 \"rows\" of arrays of 10 numbers each\n",
    "r.randint(10, 100, size = (5,10))"
   ]
  },
  {
   "cell_type": "markdown",
   "id": "c56b1b80-ae5a-468e-abfc-8d4fbc280545",
   "metadata": {},
   "source": [
    "<br>\n",
    "\n",
    "##### <ins>numpy.random.Generator.choice<ins>\n",
    "\n",
    "Explaination: Generates a random sample from a given array\n",
    "\n",
    "The random.choice method returns objects, which does not necessarily have to be numbers, from an existing list or array. It is possible for the objects to be selected more than once.\n",
    "\n",
    "Offical Documentation:https://numpy.org/doc/stable/reference/random/generated/numpy.random.Generator.choice.html#numpy.random.Generator.choice"
   ]
  },
  {
   "cell_type": "code",
   "execution_count": 24,
   "id": "859837cc-75a4-4c1a-b5b6-88a4ed2299a6",
   "metadata": {},
   "outputs": [
    {
     "data": {
      "text/plain": [
       "array([['MAZDA'],\n",
       "       ['FORD'],\n",
       "       ['FORD'],\n",
       "       ['FORD']], dtype='<U5')"
      ]
     },
     "execution_count": 24,
     "metadata": {},
     "output_type": "execute_result"
    }
   ],
   "source": [
    "\n",
    "# Create an array\n",
    "list = ['MAZDA', 'FORD', 'VOLKSWAGEN', 'FERRARI', 'TESLA']\n",
    "\n",
    "# random selection of objects from the list and indices 0 or 1, arranged into 4x1 array; some results may not appear or may appear more than once\n",
    "np.random.choice(list[:2], size=[4,1]) "
   ]
  },
  {
   "cell_type": "markdown",
   "id": "8b77ce09-3f01-4add-9401-dd1fdff0cb3d",
   "metadata": {},
   "source": [
    "##### Assigning Probability\n",
    "It is also possible to assign a probability for each option.  \n",
    "**NB: Sum of p has to come to 1**"
   ]
  },
  {
   "cell_type": "code",
   "execution_count": 25,
   "id": "15130f07-7414-49f6-adf2-dad3c01fc2cc",
   "metadata": {},
   "outputs": [
    {
     "data": {
      "text/plain": [
       "array(['FERRARI', 'MAZDA', 'FORD', 'FERRARI', 'MAZDA', 'FORD', 'FERRARI',\n",
       "       'FERRARI', 'FERRARI', 'FERRARI', 'FERRARI', 'FERRARI', 'FERRARI',\n",
       "       'MAZDA', 'FERRARI', 'FERRARI', 'FERRARI', 'FERRARI', 'FERRARI',\n",
       "       'TESLA'], dtype='<U10')"
      ]
     },
     "execution_count": 25,
     "metadata": {},
     "output_type": "execute_result"
    }
   ],
   "source": [
    "\n",
    "# In this case FERRARI has a far higher probability of being returned - especially as the size argument increases \n",
    "np.random.choice(list, p=[0.1, 0.1, 0.1, 0.6, 0.1], size=20)\n",
    "\n",
    "# If you cant tell I would like a Ferrari"
   ]
  },
  {
   "cell_type": "markdown",
   "id": "e5e51448-d582-4795-b7d1-12e71cfa932d",
   "metadata": {},
   "source": [
    "<br>\n",
    "\n",
    "##### <ins>numpy.random.RandomState.bytes<ins>\n",
    "    \n",
    "Explaination: Return random bytes - it takes only one argument which is the number of bytes the user wants returned.\n",
    "\n",
    "\"Bytes literals are always prefixed with 'b' or 'B'; they produce an instance of the bytes type instead of the str type. They may only contain ASCII characters; bytes with a numeric value of 128 or greater must be expressed with escapes.\" https://docs.python.org/3/reference/lexical_analysis.html#string-and-bytes-literals\n",
    "This method may be used for a password generator (although it is still a pseudo random value).    \n",
    "\n",
    "To be honest the random.bytes is a little hard to wrap your head around as most of the articles and videos focus on cryptograpy and from my reading it seems that it should only be used in testing and not in for real life encrypton - there are other libaries that seem to come much more highly reccomended for this.  \n",
    "    \n",
    "For Example:os.urandom() method is used to generate a string of size random bytes suitable for cryptographic use or we can say this method generates a string containing random characters. https://www.geeksforgeeks.org/python-os-urandom-method/\n",
    "    \n",
    "Offical Documentation: https://numpy.org/doc/stable/reference/random/generated/numpy.random.RandomState.bytes.html#numpy.random.RandomState.bytes"
   ]
  },
  {
   "cell_type": "code",
   "execution_count": 26,
   "id": "dc323526-7dd9-4a4f-acc5-53e3aa0730da",
   "metadata": {},
   "outputs": [
    {
     "data": {
      "text/plain": [
       "b'\\xb3\\x8a?\\x7f\\xfeO\\xda\\x176&'"
      ]
     },
     "execution_count": 26,
     "metadata": {},
     "output_type": "execute_result"
    }
   ],
   "source": [
    "# The parameter passed to the method is the length of the returned string. For example:\n",
    "# generate a random 10-long string of byte literals\n",
    "np.random.bytes(10) "
   ]
  },
  {
   "cell_type": "markdown",
   "id": "2db2ee7e-5a6d-44d5-b714-d9cbf01aa113",
   "metadata": {
    "tags": []
   },
   "source": [
    "<br>\n",
    "\n",
    "##### <ins>numpy.random.Generator.integers - and a simple plot<ins>\n",
    "    \n",
    "This is really a replacement for randint - although randint still works as you saw above.  \n",
    "This is to show a slighly differnent way to generate simple data and plot it.\n",
    "    \n",
    "Explaination: Return random integers from low (inclusive) to high (exclusive), or if endpoint=True, low (inclusive) to high (inclusive). Replaces RandomState.randint (with endpoint=False) and RandomState.random_integers (with endpoint=True)"
   ]
  },
  {
   "cell_type": "code",
   "execution_count": 13,
   "id": "55826406-0dc0-45a8-978c-e0e638924515",
   "metadata": {},
   "outputs": [],
   "source": [
    "# Create variable rng 'random number generator'\n",
    "rng = np.random.default_rng()"
   ]
  },
  {
   "cell_type": "code",
   "execution_count": 14,
   "id": "b406eaf2-f8d4-4624-aae1-0a1a52661f68",
   "metadata": {},
   "outputs": [
    {
     "data": {
      "text/plain": [
       "array([0, 0, 2, 2, 0, 1, 0, 0, 2, 1], dtype=int64)"
      ]
     },
     "execution_count": 14,
     "metadata": {},
     "output_type": "execute_result"
    }
   ],
   "source": [
    "# return 10 random integers between 0 (intclusive) and 3 (exclusive)\n",
    "rng.integers(3, size=10)"
   ]
  },
  {
   "cell_type": "code",
   "execution_count": 15,
   "id": "092d73b8-3496-4e99-8319-6d9d4df93805",
   "metadata": {
    "scrolled": true,
    "tags": []
   },
   "outputs": [],
   "source": [
    "# Creating simple data to plot\n",
    "x = rng.integers(100, size = 10)"
   ]
  },
  {
   "cell_type": "code",
   "execution_count": 16,
   "id": "75635240-5b3a-476d-9e28-ffb46922f359",
   "metadata": {},
   "outputs": [
    {
     "data": {
      "text/plain": [
       "(array([1., 2., 1., 0., 0., 1., 0., 1., 1., 3.]),\n",
       " array([13. , 18.5, 24. , 29.5, 35. , 40.5, 46. , 51.5, 57. , 62.5, 68. ]),\n",
       " <BarContainer object of 10 artists>)"
      ]
     },
     "execution_count": 16,
     "metadata": {},
     "output_type": "execute_result"
    },
    {
     "data": {
      "image/png": "[encoded data removed]",
      "text/plain": [
       "<Figure size 432x288 with 1 Axes>"
      ]
     },
     "metadata": {
      "needs_background": "light"
     },
     "output_type": "display_data"
    }
   ],
   "source": [
    "# plot simple histogram\n",
    "plt.hist(x)"
   ]
  },
  {
   "cell_type": "markdown",
   "id": "874535d1-5263-4322-afbb-b664726815c8",
   "metadata": {},
   "source": [
    "### <ins>Permutations<ins>\n",
    "\n",
    "\n",
    "A permutation refers to an arrangement of elements. e.g. [3, 2, 1] is a permutation of [1, 2, 3] and vice-versa.\n",
    "\n",
    "The NumPy Random module provides two methods for this: shuffle() and permutation().[[12]](https://www.w3schools.com/python/numpy/numpy_random_permutation.asp)"
   ]
  },
  {
   "cell_type": "markdown",
   "id": "8523eaa3-f52f-4166-a758-b910d40abd1a",
   "metadata": {},
   "source": [
    "<br>\n",
    "\n",
    "##### <ins>Function random.shuffle<ins>\n",
    "\n",
    "Explaination:np.random.shuffle method randomly reorders the items of the entire set in place, that is original order is overwritten with the new sequence\n",
    "\n",
    "\n",
    "Offical Documentation:https://numpy.org/doc/stable/reference/random/generated/numpy.random.RandomState.shuffle.html#numpy.random.RandomState.shuffle"
   ]
  },
  {
   "cell_type": "code",
   "execution_count": 27,
   "id": "9be01f26-1c68-4bd4-885b-e052f3869f01",
   "metadata": {},
   "outputs": [
    {
     "name": "stdout",
     "output_type": "stream",
     "text": [
      "Original Order: [1, 2, 3, 4, 5]\n",
      "Shuffled: [1, 4, 2, 5, 3]\n"
     ]
    }
   ],
   "source": [
    "list_1 = [1,2,3,4,5]\n",
    "\n",
    "# in original order\n",
    "print('Original Order:',list_1)\n",
    "\n",
    "# in new order, overwriting the original\n",
    "np.random.shuffle(list_1)\n",
    "print('Shuffled:',list_1) "
   ]
  },
  {
   "cell_type": "markdown",
   "id": "7e596194-b2b0-4d59-985a-e628b878202d",
   "metadata": {},
   "source": [
    "\n",
    "**<ins>Using shuffle with a multi dimensional array:<ins>**\n",
    "\n",
    "When worrking with multi dimensional arrays shuffle only changes the order of the arrays, it does not change the order of the contents of the arrays."
   ]
  },
  {
   "cell_type": "code",
   "execution_count": 49,
   "id": "dca4b607-7f32-45d0-b040-787df848e0cf",
   "metadata": {},
   "outputs": [
    {
     "data": {
      "text/plain": [
       "array([[[ 0.88813541,  0.79665273,  0.74604704],\n",
       "        [ 0.61112773, -0.42199576,  0.19208445],\n",
       "        [-1.31032244, -2.18789305, -0.97099459],\n",
       "        [ 1.6474829 , -0.58370128,  1.07370947]],\n",
       "\n",
       "       [[-0.34446004, -0.92335057,  0.72678535],\n",
       "        [ 0.98173216, -0.75948068, -0.31409147],\n",
       "        [ 2.0408062 , -0.45676857, -0.01849879],\n",
       "        [ 0.04346557,  0.659337  ,  0.1901199 ]]])"
      ]
     },
     "execution_count": 49,
     "metadata": {},
     "output_type": "execute_result"
    }
   ],
   "source": [
    "# numpy.random.randn used to generate 5 arrays containing 4 rows and 3 columns of data each\n",
    "shuf = np.random.randn(2, 4, 3)\n",
    "\n",
    "# the arrays generated are displayed below\n",
    "shuf\n"
   ]
  },
  {
   "cell_type": "code",
   "execution_count": 50,
   "id": "3bf13869-fd8b-4d18-aee2-5779a95d55b7",
   "metadata": {},
   "outputs": [
    {
     "data": {
      "text/plain": [
       "array([[[-0.34446004, -0.92335057,  0.72678535],\n",
       "        [ 0.98173216, -0.75948068, -0.31409147],\n",
       "        [ 2.0408062 , -0.45676857, -0.01849879],\n",
       "        [ 0.04346557,  0.659337  ,  0.1901199 ]],\n",
       "\n",
       "       [[ 0.88813541,  0.79665273,  0.74604704],\n",
       "        [ 0.61112773, -0.42199576,  0.19208445],\n",
       "        [-1.31032244, -2.18789305, -0.97099459],\n",
       "        [ 1.6474829 , -0.58370128,  1.07370947]]])"
      ]
     },
     "execution_count": 50,
     "metadata": {},
     "output_type": "execute_result"
    }
   ],
   "source": [
    "# numpy.random.shuffle used to change the order of the arrays\n",
    "np.random.shuffle(shuf)\n",
    "\n",
    "# Notice how the contents of the arrays remain in the same order\n",
    "shuf\n"
   ]
  },
  {
   "cell_type": "markdown",
   "id": "82033993-97c9-4457-97c4-542233afe522",
   "metadata": {},
   "source": [
    "<br>\n",
    "\n",
    "#### <ins>Function random.permutation<ins>\n",
    "\n",
    "Explaination:Randomly permute a sequence, or return a permuted range.\n",
    "    \n",
    "np.random.permutation method returns a new array (copy of the original) of the objects from a list, randomly ordered. The output will contain all the objects from the original array, and will appear precisely in the same quantities as in the orignal set.\n",
    "    \n",
    "Offical Documentation: https://numpy.org/doc/stable/reference/random/generated/numpy.random.RandomState.permutation.html#numpy.random.RandomState.permutation"
   ]
  },
  {
   "cell_type": "code",
   "execution_count": 38,
   "id": "d12df734-6ed9-47da-8dba-7564b2a026a1",
   "metadata": {},
   "outputs": [
    {
     "data": {
      "text/plain": [
       "array([1, 2, 5, 3, 4])"
      ]
     },
     "execution_count": 38,
     "metadata": {},
     "output_type": "execute_result"
    }
   ],
   "source": [
    "list_1 = [1,2,3,4,5] # list of objects\n",
    "np.random.permutation(list_1) # the original list remains intact"
   ]
  },
  {
   "cell_type": "markdown",
   "id": "f4195b98-8289-46ce-80b1-f8363f952711",
   "metadata": {},
   "source": [
    "\n",
    "It is worth noting that np.random.permutation is built up on np.random.shuffle subroutine, which is used in the former source code. Extra functionality is provided on condition an array is parsed. Other wise, when an integer is parsed, it behaves as ordinary shuffle function."
   ]
  },
  {
   "cell_type": "markdown",
   "id": "fca5f0fd-9ac7-403e-b81a-8a3cbd9e1bfc",
   "metadata": {},
   "source": [
    "<br>\n",
    "\n",
    "# <ins>Distributions<ins>"
   ]
  },
  {
   "cell_type": "markdown",
   "id": "4610b176-6f05-4435-96ec-46169534b8c2",
   "metadata": {},
   "source": [
    "For this part of the notebook I am going to look at 5 different distributions in the numpy package.\n",
    "\n",
    " - Uniform Distribution\n",
    " - Binomial Distribution\n",
    " - Poisson Distribution\n",
    " - Exponential Distribution"
   ]
  },
  {
   "cell_type": "code",
   "execution_count": 19,
   "id": "71138878-6260-4b95-b582-fd0956beedf0",
   "metadata": {
    "scrolled": true,
    "tags": []
   },
   "outputs": [
    {
     "data": {
      "text/plain": [
       "array([0.35458859, 0.9332022 , 4.75398263, 1.88631517, 2.66739234,\n",
       "       0.34849482, 2.01176242, 4.13914006, 1.94917962, 3.67862046])"
      ]
     },
     "execution_count": 19,
     "metadata": {},
     "output_type": "execute_result"
    }
   ],
   "source": [
    "# Generate 10 random numbers berween 0 and 5 in uniform distribution \n",
    "np.random.uniform(0,5,10)"
   ]
  },
  {
   "cell_type": "code",
   "execution_count": 20,
   "id": "085c70a9-bf29-4ff1-a858-ee026568f41e",
   "metadata": {},
   "outputs": [],
   "source": [
    "# Generate 1000 random numbers berween 0 and 1000 in uniform distribution\n",
    "# And put into variable x\n",
    "x = np.random.uniform(0,1000,10000)"
   ]
  },
  {
   "cell_type": "code",
   "execution_count": 21,
   "id": "d924d8b3-8080-4797-96e6-041c22a44ad8",
   "metadata": {},
   "outputs": [
    {
     "data": {
      "text/plain": [
       "(array([ 988.,  964.,  965.,  993.,  968., 1002.,  991., 1018., 1114.,\n",
       "         997.]),\n",
       " array([1.86520167e-02, 1.00006354e+02, 1.99994055e+02, 2.99981757e+02,\n",
       "        3.99969459e+02, 4.99957160e+02, 5.99944862e+02, 6.99932563e+02,\n",
       "        7.99920265e+02, 8.99907967e+02, 9.99895668e+02]),\n",
       " <BarContainer object of 10 artists>)"
      ]
     },
     "execution_count": 21,
     "metadata": {},
     "output_type": "execute_result"
    },
    {
     "data": {
      "image/png": "[encoded data removed]",
      "text/plain": [
       "<Figure size 432x288 with 1 Axes>"
      ]
     },
     "metadata": {
      "needs_background": "light"
     },
     "output_type": "display_data"
    }
   ],
   "source": [
    "# Now plot x\n",
    "plt.hist(x)"
   ]
  },
  {
   "cell_type": "code",
   "execution_count": 22,
   "id": "bfeb811f-48a9-40bb-9b47-cb8b8378ac11",
   "metadata": {
    "scrolled": true,
    "tags": []
   },
   "outputs": [],
   "source": [
    "# Generate 1000 random numbers berween 10 and 1000 in uniform distribution\n",
    "x = np.random.normal(10, 100, 1000)"
   ]
  },
  {
   "cell_type": "code",
   "execution_count": 23,
   "id": "60214629-6962-4414-8753-58730dbe2347",
   "metadata": {},
   "outputs": [
    {
     "data": {
      "text/plain": [
       "(array([ 10.,  36.,  95., 195., 284., 211., 117.,  40.,  10.,   2.]),\n",
       " array([-299.38768301, -232.61014908, -165.83261515,  -99.05508122,\n",
       "         -32.27754729,   34.49998664,  101.27752058,  168.05505451,\n",
       "         234.83258844,  301.61012237,  368.3876563 ]),\n",
       " <BarContainer object of 10 artists>)"
      ]
     },
     "execution_count": 23,
     "metadata": {},
     "output_type": "execute_result"
    },
    {
     "data": {
      "image/png": "[encoded data removed]",
      "text/plain": [
       "<Figure size 432x288 with 1 Axes>"
      ]
     },
     "metadata": {
      "needs_background": "light"
     },
     "output_type": "display_data"
    }
   ],
   "source": [
    "plt.hist(x)"
   ]
  },
  {
   "cell_type": "markdown",
   "id": "eb2d3b1c-3e66-49e7-bf8c-c60ff0656df9",
   "metadata": {},
   "source": [
    "### Uniform Distributions\n",
    "\n",
    "[Offical Documentation](https://numpy.org/doc/stable/reference/random/generated/numpy.random.Generator.uniform.html#numpy.random.Generator.uniform)\n",
    "\n",
    "When looking through the differnt types of distrubutions I began to frighten myself again so I began with what looked like the easiest distribution to explain - The Uniform Distribution.\n",
    "\n",
    "Uniform distribution is a probability distribution where each value within a certin range is equally likly to occur and values outside the range never occur[[8]](https://www.youtube.com/watch?v=uial-2girHQ)\n",
    "\n",
    "Samples are uniformly distributed over the half-open interval [low, high) (includes low, but excludes high). In other words, any value within the given interval is equally likely to be drawn by uniform.[[9]](https://numpy.org/doc/stable/reference/random/generated/numpy.random.Generator.uniform.html#numpy.random.Generator.uniform)"
   ]
  },
  {
   "cell_type": "code",
   "execution_count": 24,
   "id": "7c084d7f-a817-481e-bb88-607e088e4990",
   "metadata": {},
   "outputs": [],
   "source": [
    "#Remove hashtag from line below and run cell for help from python on uniform distributions\n",
    "# help(np.random.uniform)"
   ]
  },
  {
   "cell_type": "code",
   "execution_count": 25,
   "id": "caad7a8a-e765-45ad-af3c-80054b0a60ee",
   "metadata": {},
   "outputs": [
    {
     "name": "stdout",
     "output_type": "stream",
     "text": [
      "[[[3.1617028  4.61721415]\n",
      "  [3.87306722 6.04061694]\n",
      "  [5.23071738 9.44933824]]\n",
      "\n",
      " [[3.03475258 5.9490162 ]\n",
      "  [5.84736318 7.89940427]\n",
      "  [2.44406436 7.61322099]]\n",
      "\n",
      " [[3.63903499 6.66353639]\n",
      "  [3.33534165 7.91340356]\n",
      "  [1.77678322 3.43102696]]\n",
      "\n",
      " [[3.16683729 6.09289463]\n",
      "  [4.99955024 9.57841363]\n",
      "  [3.21869414 3.41392545]]\n",
      "\n",
      " [[1.07088872 8.86916559]\n",
      "  [8.51268317 5.16385515]\n",
      "  [4.43320223 5.00552748]]]\n"
     ]
    }
   ],
   "source": [
    "# Generating Random Uniform Data - floating numbers between 1 and 10\n",
    "x = np.random.uniform(1,10,size = (5,3,2))\n",
    "print(x)"
   ]
  },
  {
   "cell_type": "markdown",
   "id": "c25172cd-eb69-484d-9ff6-7f77a7159594",
   "metadata": {},
   "source": [
    "You can use this to generate datasets of all sizes with random numbers and these can then be broken down into smaller arrays, depending on how you have reqested the uniform function to display the data - you can play with the figures after size to see what I mean here\n",
    "```\n",
    "x = np.random.uniform(1,10,size = (5,3,2))\n",
    "print(x)\n",
    "```\n",
    "For example the above will generate 1 multi-dimensional large array with all the data (Floating numbers beteween 1-10, 5 smaller arrays each containing 3 arrays with 2 values in each. This is very easily manipulated and someone could quickly generate a sample numerial data set using real world parameters and run test cases on that data - this can be used in a varity of ways from statistical sampling, medical testing, computer simulation and even gambling. "
   ]
  },
  {
   "cell_type": "markdown",
   "id": "f2bbfc0e-d3bb-4e8c-a2f0-cce974df580e",
   "metadata": {},
   "source": [
    "Visualising the data also fairly easy - if every number is equally likly to be generated, then the distrbuition should be flat - as seen below."
   ]
  },
  {
   "cell_type": "code",
   "execution_count": 26,
   "id": "821f6482-7e44-4060-a6f5-d67c51fd3bfe",
   "metadata": {},
   "outputs": [
    {
     "data": {
      "image/png": "[encoded data removed]",
      "text/plain": [
       "<Figure size 432x288 with 1 Axes>"
      ]
     },
     "metadata": {
      "needs_background": "light"
     },
     "output_type": "display_data"
    }
   ],
   "source": [
    "# Visualising Random Data (100000 numbers between 1 and 10)\n",
    "\n",
    "# A kernel density estimate (KDE) plot is a method for visualizing the distribution\n",
    "#of observations in a dataset, analagous to a histogram. KDE represents the data using \n",
    "#a continuous probability density curve in one or more dimensions.\n",
    "#https://seaborn.pydata.org/generated/seaborn.kdeplot.html\n",
    "sns.kdeplot(r.uniform(1,10, size=100000))\n",
    "plt.show()"
   ]
  },
  {
   "cell_type": "markdown",
   "id": "f9216ac1-2673-45dc-94c4-84f6922dc092",
   "metadata": {},
   "source": [
    "As you can see from the plot above the distribution of the generated numbers is pretty evenly spread out over the parameters I have passed it, similar quantity of 1s 2s 3s and so on. However be careful - the less numbers you have and the wider the distribution values the more uneven the \"Uniform\" data may become. The bigger number of values you look for the more even the plot will become."
   ]
  },
  {
   "cell_type": "code",
   "execution_count": 27,
   "id": "07d21d4a-927c-47d1-8775-0aaefa69fdea",
   "metadata": {},
   "outputs": [
    {
     "data": {
      "image/png": "[encoded data removed]",
      "text/plain": [
       "<Figure size 432x288 with 1 Axes>"
      ]
     },
     "metadata": {
      "needs_background": "light"
     },
     "output_type": "display_data"
    }
   ],
   "source": [
    "sns.kdeplot(r.uniform(1,100000, size=10))\n",
    "plt.show()"
   ]
  },
  {
   "cell_type": "markdown",
   "id": "d245b401-abfe-4be1-b9b6-0c02815662f1",
   "metadata": {},
   "source": [
    "The Code above is not a good example of uniform distribution as the varience is too wide (between 1 and 100000) and only looking for 10 values - if all are as likely to come up as another this means that you may come back with distintly different looking plots every time you run it!! So better to spot check the data structure behind the plot before deciding to use the uniform distribution for your number generation needs."
   ]
  },
  {
   "cell_type": "markdown",
   "id": "7d846b9a-d4e7-47f0-9585-d2881aae6fd5",
   "metadata": {},
   "source": [
    "### BINOMIAL DISTRBUTION \n",
    " Binomial distribution is the outcome of binary scenarios, for example the toss of a coin. It is a probability distribution that summarises the likelihood that a variable will take one of two independent values under a given set of parameters.The distribution is obtained by performing a number of Bernoulli trials. [[6]](https://www.geeksforgeeks.org/python-binomial-distribution/). It can be thought of as the pobability of a success or failure outcome in an experiment or survey that is repeated multiple times. \n",
    " There are a number of criteria that need to be met for the Binomial distribution to work\n",
    " - There must be only 2 possible outcomes.(Success or Failure)\n",
    " - Each outcome has a fixed probability of occurring. A success has the probability of p, and a failure has the probability of 1 – p.\n",
    " - Each trial is completely independent of all others and probability of success is exactly the same in each event.\n",
    " \n",
    " The binomial random variable represents the number of successes(r) in n successive independent trials of a Bernoulli experiment[[7]](https://www.geeksforgeeks.org/python-binomial-distribution/)\n",
    " \n",
    " The binomial distribution formula is:\n",
    " \n",
    "![](probability-distributions0x.png)  \n",
    "  \n",
    " x = total number of \"successess\"  \n",
    " P = probability of a success in an individual trial  \n",
    " n = number of trials\n",
    " \n",
    " size  = The shape of the returned array\n",
    " \n",
    "   \n",
    "\n",
    " \n",
    " \n",
    "\n",
    "\n",
    " "
   ]
  },
  {
   "cell_type": "markdown",
   "id": "05f10ce4-2420-4271-88d7-050e4ad4afd7",
   "metadata": {},
   "source": [
    "<br>\n",
    "\n",
    "**What is a Binomial Distribution? Real Life Examples:**\n",
    "\n",
    "\"Many instances of binomial distributions can be found in real life. For example, if a new drug is introduced to cure a disease, it either cures the disease (it’s successful) or it doesn’t cure the disease (it’s a failure). If you purchase a lottery ticket, you’re either going to win money, or you aren’t. Basically, anything you can think of that can only be a success or a failure can be represented by a binomial distribution.\"\n",
    "\n",
    "Quote taken from: https://www.statisticshowto.datasciencecentral.com/probability-and-statistics/binomial-theorem/binomial-distribution-formula/\n",
    " \n",
    " Binomial Distribution can also be defined as Discrete Distribution - for example a coin toss is discrete as the results can only be heads or tails - however if you were taking the speed of cars on a motorway it could be differnt every time - 80kmph, 82kmph, 85kmph, 78kmph ..... and so on."
   ]
  },
  {
   "cell_type": "code",
   "execution_count": 51,
   "id": "fbd18b6e-f3c2-4965-a853-1b3cb194f32c",
   "metadata": {},
   "outputs": [
    {
     "name": "stdout",
     "output_type": "stream",
     "text": [
      "[7 4 4 8 4 7 5 8 6 6]\n"
     ]
    }
   ],
   "source": [
    "# This can represent tossing a coin\n",
    "# number of trials 10\n",
    "# probability is .5\n",
    "#shape of array 10\n",
    "\n",
    "x = r.binomial(n=10, p=0.5, size = 10)\n",
    "print(x)"
   ]
  },
  {
   "cell_type": "markdown",
   "id": "11334086-dc8a-43db-bf95-21920f442faf",
   "metadata": {},
   "source": [
    "##### Visualisation of Binomial Distribution"
   ]
  },
  {
   "cell_type": "code",
   "execution_count": 29,
   "id": "c674ae6c-fabf-4a60-8aee-344619498439",
   "metadata": {},
   "outputs": [
    {
     "data": {
      "text/plain": [
       "<seaborn.axisgrid.FacetGrid at 0x234ee086d00>"
      ]
     },
     "execution_count": 29,
     "metadata": {},
     "output_type": "execute_result"
    },
    {
     "data": {
      "image/png": "[encoded data removed]",
      "text/plain": [
       "<Figure size 360x360 with 1 Axes>"
      ]
     },
     "metadata": {
      "needs_background": "light"
     },
     "output_type": "display_data"
    }
   ],
   "source": [
    "# Probability is 50%\n",
    "sns.displot(r.binomial(n=10, p=0.5, size = 1000), kde=True)\n"
   ]
  },
  {
   "cell_type": "code",
   "execution_count": 30,
   "id": "23846cfb-2972-4d2f-a5f1-e47540fb0dfc",
   "metadata": {},
   "outputs": [
    {
     "data": {
      "text/plain": [
       "<seaborn.axisgrid.FacetGrid at 0x1f143c568b0>"
      ]
     },
     "execution_count": 30,
     "metadata": {},
     "output_type": "execute_result"
    },
    {
     "data": {
      "image/png": "[encoded data removed]",
      "text/plain": [
       "<Figure size 360x360 with 1 Axes>"
      ]
     },
     "metadata": {
      "needs_background": "light"
     },
     "output_type": "display_data"
    }
   ],
   "source": [
    "# Probability is 10%\n",
    "sns.displot(r.binomial(n=10, p=0.1, size = 1000), kde=True)"
   ]
  },
  {
   "cell_type": "code",
   "execution_count": 31,
   "id": "beebddd7-4919-42a5-9b91-b3aec3d20c2b",
   "metadata": {},
   "outputs": [
    {
     "data": {
      "text/plain": [
       "<seaborn.axisgrid.FacetGrid at 0x1f143abaf10>"
      ]
     },
     "execution_count": 31,
     "metadata": {},
     "output_type": "execute_result"
    },
    {
     "data": {
      "image/png": "[encoded data removed]",
      "text/plain": [
       "<Figure size 360x360 with 1 Axes>"
      ]
     },
     "metadata": {
      "needs_background": "light"
     },
     "output_type": "display_data"
    }
   ],
   "source": [
    "# Probability is 90%\n",
    "sns.displot(r.binomial(n=10, p=0.9, size = 1000),kde=True)"
   ]
  },
  {
   "cell_type": "markdown",
   "id": "36b9e5ca-1745-46f5-b194-8359908e28ba",
   "metadata": {},
   "source": [
    "##### Binomal vs normal  \n",
    "The difference between normal and binomial distribution is that normal is contineous where as binomial is discrete. However if there are enough data points the plots can be very similar depending on location and scale."
   ]
  },
  {
   "cell_type": "code",
   "execution_count": 32,
   "id": "f866a2f6-8199-400d-b7dc-6df6247fdffa",
   "metadata": {},
   "outputs": [
    {
     "data": {
      "text/plain": [
       "<matplotlib.legend.Legend at 0x1f143e18c40>"
      ]
     },
     "execution_count": 32,
     "metadata": {},
     "output_type": "execute_result"
    },
    {
     "data": {
      "image/png": "[encoded data removed]",
      "text/plain": [
       "<Figure size 432x288 with 1 Axes>"
      ]
     },
     "metadata": {
      "needs_background": "light"
     },
     "output_type": "display_data"
    }
   ],
   "source": [
    "#Normal distribution\n",
    "sns.kdeplot(r.normal(loc = 50, scale = 5, size = 10000), label = 'Normal')\n",
    "#Binomial distribution\n",
    "sns.kdeplot(r.binomial(n = 100, p = 0.5, size = 10000), label = 'Binomial')\n",
    "plt.legend()"
   ]
  },
  {
   "cell_type": "markdown",
   "id": "31ac644e-02e9-4e0b-bf58-3da1e053fcf2",
   "metadata": {},
   "source": [
    "<br>\n",
    "\n",
    "# The Poisson Distribution "
   ]
  },
  {
   "cell_type": "markdown",
   "id": "dacc224a-1761-465c-bdc4-a5284a929543",
   "metadata": {},
   "source": [
    "https://www.youtube.com/watch?v=cPOChr_kuQs\n",
    "\n",
    "The Poission Distribution is a discrete distribution - similar to the binomial distribution, which is one in which the data can only take on certain values, for example integers.  \n",
    "It describes the number of events occuring in a fixed time interval or \"region of oppertunity\".  \n",
    "Simple example is how many customers did a shop have in a given hour.  \n",
    "An interesting thing about the the Poisson Distribution is it requires only one paramaeter - The expected number of events during the time interval - lambda.   \n",
    "\n",
    "\n",
    "\n",
    "**LAMBDA SYMBOL**  \n",
    "![](lambda.PNG) \n",
    "\n",
    "The Possion Distribution is bounded by 0 to Infinity\n",
    "\n",
    "### Assumptions of the Poisson Distribution\n",
    "\n",
    " - The Rate at which events occur is constant. (ie. The pobability of an event occuring in a certain time interval should be exactly the same for every other time interval of that same length.)\n",
    " - The occurence of one event should not affect the occurence of a subsequent event (ie. Each trial is completely independent of all others and probability of success is exactly the same in each event.)  \n",
    "\n",
    "These assumptions are difficult to hold in reality. As even if we use simple example I gave above of customers in a shop in a given hour, the paramateters around one hour will not match the next. Maybe the shop gets busier a lunch time, or it is buiser on Fridays because there is an event close by that increases customer footfall, or you sell a product that is seasonal so you are buiser at certain times of the year - the possible influences are endless!! "
   ]
  },
  {
   "cell_type": "markdown",
   "id": "257b70b4-54e1-4d71-a963-d0d8ad4f4b1a",
   "metadata": {},
   "source": [
    "### Probability Mass Function (PMF)\n",
    "This is the probability of getting each of the discrete outcome.  \n",
    "\n",
    "![](PMF.PNG)  \n",
    "\n",
    "This is how this would look if:  \n",
    "lambda = 3 (expected number of events)**(NB - There is no requirement for lambda to be a whole number)**  \n",
    "What is the probability of 5 events  \n",
    "\n",
    "![](PMFE.PNG) "
   ]
  },
  {
   "cell_type": "markdown",
   "id": "e698a96e-29c7-466a-8e6a-8657ebe8bde6",
   "metadata": {},
   "source": [
    "##### Poisson distribution in Numpy\n",
    "\n",
    "\n",
    "https://www.youtube.com/watch?v=dGhDzCJryGA"
   ]
  },
  {
   "cell_type": "code",
   "execution_count": 33,
   "id": "f1fd0f2c-6f75-48ab-8a52-5c4f0ae533a5",
   "metadata": {},
   "outputs": [
    {
     "data": {
      "text/plain": [
       "array([4, 3, 5])"
      ]
     },
     "execution_count": 33,
     "metadata": {},
     "output_type": "execute_result"
    }
   ],
   "source": [
    "# Call the poisson random distribution with lambda is 5 with 3 draws\n",
    "np.random.poisson(5,3)"
   ]
  },
  {
   "cell_type": "code",
   "execution_count": 53,
   "id": "ce70fcc2-aa51-4ce4-90ce-932dcec6f97b",
   "metadata": {},
   "outputs": [
    {
     "data": {
      "text/plain": [
       "0.9984379678129672"
      ]
     },
     "execution_count": 53,
     "metadata": {},
     "output_type": "execute_result"
    }
   ],
   "source": [
    "# using the unbiased varience (ddof)\n",
    "# If the averge number of events in a given time period is 1\n",
    "# if you draw that a million times you will get very close to 1\n",
    "np.var(np.random.poisson(1,1000000),ddof = 1)"
   ]
  },
  {
   "cell_type": "markdown",
   "id": "752213bf-77ee-4a40-9847-e61447e6387b",
   "metadata": {},
   "source": [
    "##### Visualisation of Poisson distribution"
   ]
  },
  {
   "cell_type": "markdown",
   "id": "8a364e80-e1e3-4e7b-9b01-0d8ac1ccc62c",
   "metadata": {},
   "source": [
    "See example below where if you draw a million samples where lambda is 1 the overwhelming majority of events will be between 0 and 2 and will steeply drop off the further right you go on the x axis."
   ]
  },
  {
   "cell_type": "code",
   "execution_count": 35,
   "id": "fa0bcbba-2d10-4a7b-a3a8-fbfaf55b72e1",
   "metadata": {},
   "outputs": [
    {
     "data": {
      "text/plain": [
       "(array([3.68434e+05, 3.67028e+05, 1.83803e+05, 6.17620e+04, 0.00000e+00,\n",
       "        1.52420e+04, 3.12300e+03, 5.21000e+02, 7.70000e+01, 1.00000e+01]),\n",
       " array([0. , 0.8, 1.6, 2.4, 3.2, 4. , 4.8, 5.6, 6.4, 7.2, 8. ]),\n",
       " <BarContainer object of 10 artists>)"
      ]
     },
     "execution_count": 35,
     "metadata": {},
     "output_type": "execute_result"
    },
    {
     "data": {
      "image/png": "[encoded data removed]",
      "text/plain": [
       "<Figure size 432x288 with 1 Axes>"
      ]
     },
     "metadata": {
      "needs_background": "light"
     },
     "output_type": "display_data"
    }
   ],
   "source": [
    "plt.hist(np.random.poisson(1,1000000))"
   ]
  },
  {
   "cell_type": "markdown",
   "id": "88663a32-cb4f-4645-9ec8-a146aac3aa55",
   "metadata": {},
   "source": [
    "##### Normal Distribution vs Poisson Distribution\n",
    "\n",
    "Normal distribution is continous whereas poisson is discrete.  \n",
    "But we can see that similar to binomial for a large enough poisson distribution it will become similar to normal distribution with certain std dev and mean.[[9]](https://www.w3schools.com/python/numpy/numpy_random_poisson.asp)"
   ]
  },
  {
   "cell_type": "code",
   "execution_count": 36,
   "id": "7a43bf03-20bd-4aa4-b8cc-8c85bd1c6bb5",
   "metadata": {},
   "outputs": [
    {
     "data": {
      "image/png": "[encoded data removed]",
      "text/plain": [
       "<Figure size 432x288 with 1 Axes>"
      ]
     },
     "metadata": {
      "needs_background": "light"
     },
     "output_type": "display_data"
    }
   ],
   "source": [
    "# Normal distribution\n",
    "sns.kdeplot(r.normal(loc=50, scale=7, size=1000), label='normal')\n",
    "# Poisson distribution\n",
    "sns.kdeplot(r.poisson(lam=50, size=1000), label='poisson')\n",
    "plt.legend()\n",
    "plt.show()"
   ]
  },
  {
   "cell_type": "markdown",
   "id": "3fea454c-0ad5-468d-af74-4bb8847e6ca0",
   "metadata": {},
   "source": [
    "##### Poisson Distribution vs Binomial Distribution\n",
    "\n",
    "\n",
    "The difference is very subtle, it is that, binomial distribution is for discrete trials, whereas poisson distribution is for continuous trials.\n",
    "\n",
    "But for very large n and near-zero p binomial distribution is near identical to poisson distribution such that n * p is nearly equal to lam.[[10]](https://www.w3schools.com/python/numpy/numpy_random_poisson.asp)"
   ]
  },
  {
   "cell_type": "code",
   "execution_count": 37,
   "id": "66dbc4ca-5698-4775-8a08-4ed58a7e9171",
   "metadata": {},
   "outputs": [
    {
     "data": {
      "image/png": "[encoded data removed]",
      "text/plain": [
       "<Figure size 432x288 with 1 Axes>"
      ]
     },
     "metadata": {
      "needs_background": "light"
     },
     "output_type": "display_data"
    }
   ],
   "source": [
    "sns.kdeplot(r.binomial(n=1000, p=0.01, size=1000), label='binomial')\n",
    "sns.kdeplot(r.poisson(lam=10, size=1000), label='poisson')\n",
    "plt.legend()\n",
    "plt.show()"
   ]
  },
  {
   "cell_type": "markdown",
   "id": "0fdbee0d-1a70-48cc-ab57-1322cbe81964",
   "metadata": {},
   "source": [
    "<br>\n",
    "\n",
    "### **Exponential distribution**  \n",
    "numpy.random.exponential function draws results from exponential distribution.\n",
    "\n",
    "This is one of the \"nicer\" distributions I chose as the name is self explanetory and it is one of the easier distributions to be able to visualise in your minds eye.\n",
    "\n",
    "This type of distribution is typically used to describe situations where an object with a constant probability can change its state from one to another in a given unit of time. In other words, if independent events are to occur per unit of time, the exponential distribution describes the time intervals between successive events. There is many application of the distriution in the real situations, for example, the amount of time (beginning now) until an meteor hits the earth has an exponential distribution - and is a little morbid. \n",
    "\n",
    "The NumPy function takes two parameters, the first one being the scale, which relates to the time period, and the other one - size, which is a number of experiments (by default, size = 10).\n",
    "\n",
    "Exponential distribution is a special case of gamma distribution, and is related to Poisson distribution (which is used to describe low-probability events).  \n",
    "\n",
    "Offical Documentation: https://numpy.org/doc/stable/reference/random/generated/numpy.random.RandomState.exponential.html#numpy.random.RandomState.exponential\n",
    "\n",
    "\n",
    "Below is an example of the distribution and the visual representation."
   ]
  },
  {
   "cell_type": "code",
   "execution_count": 67,
   "id": "b912d4b5-cd90-40d6-b34c-aaadb2c28b09",
   "metadata": {},
   "outputs": [
    {
     "data": {
      "text/plain": [
       "<function matplotlib.pyplot.show(close=None, block=None)>"
      ]
     },
     "execution_count": 67,
     "metadata": {},
     "output_type": "execute_result"
    },
    {
     "data": {
      "image/png": "[encoded data removed]",
      "text/plain": [
       "<Figure size 864x432 with 1 Axes>"
      ]
     },
     "metadata": {
      "needs_background": "light"
     },
     "output_type": "display_data"
    }
   ],
   "source": [
    "# Size of the plot (width, height)\n",
    "plt.figure(figsize=(12,6))\n",
    "\n",
    "# The first parameter (scale) relates to time period, the second one (size) - to number of experiments (2 sets of 1000 experiments)\n",
    "expon = np.random.exponential(1, [1000,2]) \n",
    "\n",
    "# The values in bins are grouped by sets of experiment, each in represented by different colour\n",
    "plt.hist(expon, bins=50, alpha=0.9, rwidth=0.8) \n",
    "\n",
    "#Show Plot\n",
    "plt.show"
   ]
  },
  {
   "cell_type": "markdown",
   "id": "feffa2b0-1122-4565-b12c-76e087e601d3",
   "metadata": {},
   "source": [
    "\n",
    "Similarly to normal distribution above, in the below plot, the same histogram is overlayed with the normal probability density function (pdf), for comparison. Again, for the histogram to fit, it must be re-scaled so that the y-axis correspondes to the probability of occurance rather than counter of occurances."
   ]
  },
  {
   "cell_type": "code",
   "execution_count": 62,
   "id": "05c3d66d-599d-403e-b8f6-6840c34d6d89",
   "metadata": {},
   "outputs": [
    {
     "data": {
      "image/png": "[encoded data removed]",
      "text/plain": [
       "<Figure size 864x432 with 1 Axes>"
      ]
     },
     "metadata": {
      "needs_background": "light"
     },
     "output_type": "display_data"
    }
   ],
   "source": [
    "# adapted from https://stackoverflow.com/a/47324702\n",
    "\n",
    "# exponential funtion\n",
    "def dist_func(x, a):\n",
    "    return(a*np.exp(-a*x))\n",
    "\n",
    "fig = plt.figure(figsize=(12, 6)) # size of the plot (width, height)\n",
    "ax = fig.add_subplot(1, 1, 1 )\n",
    "\n",
    "# histogram takes data from the value generated in the above Notebook cell\n",
    "ax.hist(expon, bins=40, alpha=0.5, rwidth=0.6, density=True) # the same format as above\n",
    "\n",
    "# ideal exponential pdf curve, for comparison\n",
    "max_e = np.max(expon) # the largest of the generated values\n",
    "ax.plot(np.linspace(0, max_e, 100), dist_func(np.linspace(0, max_e, 100), 1), 'k', alpha=0.9) # \n",
    "plt.show()"
   ]
  },
  {
   "cell_type": "markdown",
   "id": "801d09e0-408a-40d9-af50-48220e525667",
   "metadata": {},
   "source": [
    "<br>\n",
    "\n",
    "\n",
    "### **Hypergeometric Distribution**\n",
    "\n",
    "The hypergeometric distribution is a discrete probability distribution. It is used when you want to determine the probability of obtaining a certain number of successes without replacement from a specific sample size. This is similar to the binomial distribution, but this time you are not given the probability of a single success. Some example situations to apply this distribution are:\n",
    "\n",
    "\n",
    " - The probability of getting 3 spades in a 5 card hand in poker.\n",
    " - The probability of drawing 60% males for the first year class from a mixed-gender group randomly selected in a school admissions lottery.\n",
    " \n",
    " https://towardsdatascience.com/hypergeometric-distribution-explained-with-python-2c80bc613bf4\n",
    " \n",
    " \n",
    "Parameters (information) required for hypergeometric computations:\n",
    "\n",
    "To compute the probability mass function (aka a single instance) of a hypergeometric distribution, we need:\n",
    " - The total number of items we are drawing from (called N).\n",
    " -  The total number of desired items in N (called A).\n",
    " - The number of draws from N we will make (called n).\n",
    " - The number of desired items in our draw of n items (called x).  \n",
    " \n",
    "**NB** There are different letters used for these variables depending on the tutorial.\n",
    " \n",
    " \n",
    " \n",
    " **Probability Mass Function (PMF) for hypergeometric distribution**  \n",
    " ![](hypergeodis.png)"
   ]
  },
  {
   "cell_type": "code",
   "execution_count": null,
   "id": "159e44a7-35ea-41f7-bbd6-f43e7ed17eb5",
   "metadata": {},
   "outputs": [],
   "source": []
  }
 ],
 "metadata": {
  "kernelspec": {
   "display_name": "Python 3",
   "language": "python",
   "name": "python3"
  },
  "language_info": {
   "codemirror_mode": {
    "name": "ipython",
    "version": 3
   },
   "file_extension": ".py",
   "mimetype": "text/x-python",
   "name": "python",
   "nbconvert_exporter": "python",
   "pygments_lexer": "ipython3",
   "version": "3.8.8"
  }
 },
 "nbformat": 4,
 "nbformat_minor": 5
}
