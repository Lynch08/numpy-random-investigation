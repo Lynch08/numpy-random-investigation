{
 "cells": [
  {
   "cell_type": "markdown",
   "id": "802b95a7-9275-4fe6-91fe-5979b531e466",
   "metadata": {},
   "source": [
    "# An investigation into the numpy.random package\n",
    "\n",
    "\n",
    "[NUMPY OFFICAL DOCUMENTATION](https://numpy.org/doc/stable/reference/random/generator.html)"
   ]
  },
  {
   "cell_type": "markdown",
   "id": "b2fe2d7d-190e-4e98-83c1-80ef5c5056b1",
   "metadata": {},
   "source": [
    "# WHAT IS NUMPY\n",
    "\n",
    "\"NumPy is the fundamental package for scientific computing in Python. It is a Python library that provides a multidimensional array object, various derived objects (such as masked arrays and matrices), and an assortment of routines for fast operations on arrays, including mathematical, logical, shape manipulation, sorting, selecting, I/O, discrete Fourier transforms, basic linear algebra, basic statistical operations, random simulation and much more.\"[[1]](https://numpy.org/doc/1.19/user/whatisnumpy.html)  \n",
    "That is the official explaination for Numpy from the offial documentation V1.19. This a bit wordy and frankly frightening when first read by a novice to programming who has not done a lot of mathamatics in the last decade. So I found it easier to first try to gleen some insight into the Numpy libary by simply googling 'What is Numpy?' and using a resource like W3Schools[[2]](https://www.w3schools.com/python/numpy/numpy_intro.asp) or Real Python[[3]](https://realpython.com/tutorials/numpy/) to give me a less imtimidating description (even if it is a little less robust) of numpy.\n",
    "\n",
    "##### Arrays\n",
    "However before I get into Numpy I would first like to define an array in python, as arrays are the foudation of how numpy is able to manipulate data.\n",
    "In simple terms an array is a list of the same data type in python. Once that simple declaration is clear I found the Real Python introduction the best to begin to wrap my head around numpy, its functionality and uses. \"NumPy is a third-party Python library that provides support for large multidimensional arrays and matrices along with a collection of mathematical functions to operate on these elements.\"[[4]](https://realpython.com/tutorials/numpy/) In my own words, Numpy gives you tools to manipulate lists of data, with emphasis on mathematical functionality. \n",
    "\n",
    "##### Popular uses for Numpy\n",
    "The numpy.random package has a number typical applications. The most popular include:\n",
    "\n",
    " - random number generation\n",
    " - choice from a list\n",
    " - creation of dummy data (e.g. for demonstration of some other functionalities)\n",
    " - simulation of statistical distribution\n",
    " - hypothesis testing (assessment of how reasonable the observed data is, assuming a hypothesis is true)\n",
    " - shuffling existing data (permutation - random reordering of entries in an array)\n",
    " - simulation of uncertainty\n",
    " - simulation of noise."
   ]
  },
  {
   "cell_type": "markdown",
   "id": "3ec3ecd8-25c1-4ee3-8b9d-5f0976eba035",
   "metadata": {},
   "source": [
    "### A Brife History of Numpy\n",
    "Although online much of the credit of the creation of Numpy goes to Travis Oliphant in 2006[[5]](https://en.wikipedia.org/wiki/Travis_Oliphant), much of the actual code was written by a group of graduate students who \"upended the already well-established ecosystem of research software—backed by millions in funding and many hundreds of highly qualified engineers\"[[5]](https://numpy.org/history/). It is now relied on by scientists, engineers, data analysts and many other professions around the world. "
   ]
  },
  {
   "cell_type": "markdown",
   "id": "f4772b76-25ec-46d2-87b1-c8d361c5ea16",
   "metadata": {},
   "source": [
    "### Installing numpy\n",
    "Numpy is a libary in the python package so if you have downloaded some version of python (I would reccomend anaconda) then simply import it in to your code using:\n",
    "\n",
    "```import numpy as np```\n",
    "\n",
    "np is the standard abbreviation for numpy in Python"
   ]
  },
  {
   "cell_type": "markdown",
   "id": "2587be45-e181-412f-a752-43d38e7f5fcb",
   "metadata": {},
   "source": [
    "### Importing numpy.random library and version check"
   ]
  },
  {
   "cell_type": "code",
   "execution_count": null,
   "id": "ca7253c7-0920-4043-aa4d-2827fbf9ccdb",
   "metadata": {},
   "outputs": [],
   "source": [
    " "
   ]
  },
  {
   "cell_type": "code",
   "execution_count": 1,
   "id": "ecf80495-3ee3-4221-af79-145cc43d01b5",
   "metadata": {},
   "outputs": [],
   "source": [
    "import numpy as np # NumPy package\n",
    "import pandas as pd\n",
    "import matplotlib.pyplot as plt # plotting engine\n",
    "import scipy.stats as stats\n",
    "import seaborn as sns\n",
    "from scipy.stats import poisson as pois\n",
    "import numpy.random as r"
   ]
  },
  {
   "cell_type": "code",
   "execution_count": 2,
   "id": "e54e6063-dcba-472a-a764-ef5657f096c5",
   "metadata": {},
   "outputs": [
    {
     "data": {
      "text/plain": [
       "'1.20.1'"
      ]
     },
     "execution_count": 2,
     "metadata": {},
     "output_type": "execute_result"
    }
   ],
   "source": [
    "np.version.version # NumPy version check"
   ]
  },
  {
   "cell_type": "markdown",
   "id": "c9a1315d-f7a7-4a8a-952b-33471af436cd",
   "metadata": {},
   "source": [
    "### Simple random data"
   ]
  },
  {
   "cell_type": "markdown",
   "id": "5e833183-338f-4794-9309-48edb9715c13",
   "metadata": {},
   "source": [
    "Simple Random Data is essentially used to generate random numbers. Within the Simple random data there are a number of different functions (or routines) that can be used to generate random numbers and each function returns results from different distributions, these include uniform distribution, standard normal distribution and continuous uniform distribution. The user can use the function which best serves them.[[7]](https://github.com/johndunne2019/numpy.random/blob/master/numpy-random.ipynb)\n",
    "\n",
    "Simple random data is a collection of methods used for two categories of application:\n",
    "1) generating of a pseudo random number from a range\n",
    "2) random selection of an object from a list\n",
    "\n",
    "In the first category, there are several methods, producing different outputs. For instance, the np.random.random() generates float numbers from half-open range [0,1), whereas np.random.randint() generates integer numbers from a range.\n",
    "\n",
    "The second category, offers the functionality of random picking of objects from an existing list.\n",
    "\n",
    "##### Random Sampling is really pseudo random!!!!\n",
    "It is important to mention here that the routine returns numbers that are not truly \"random\". The numbers are generated using the system's current time down to the millisecond, and could be repeated if the routine is called under the same conditions. So the numbers that are generated are referred as to pseudo random. This makes these \"random\" number generators unsuitable for cryptogrophy and encryption as they would be a security risk.\n",
    "\n",
    "\n",
    "Below is a full list of the functions within Simple Random Data taken from: https://numpy.org/doc/1.16/reference/routines.random.html\n",
    "\n",
    " - rand(d0, d1, …, dn) Random values in a given shape.\n",
    " - randn(d0, d1, …, dn) Return a sample (or samples) from the “standard normal” distribution.\n",
    " - randint(low[, high, size, dtype]) Return random integers from low (inclusive) to high (exclusive).\n",
    " - random_integers(low[, high, size]) Random integers of type np.int between low and high, inclusive.\n",
    " - random_sample([size]) Return random floats in the half-open interval (0.0, 1.0).\n",
    " - random([size]) Return random floats in the half-open interval (0.0, 1.0).\n",
    " - ranf([size]) Return random floats in the half-open interval (0.0, 1.0).\n",
    " - sample([size]) Return random floats in the half-open interval (0.0, 1.0).\n",
    " - choice(a[, size, replace, p]) Generates a random sample from a given 1-D array\n",
    " - bytes(length) Return random bytes.\n",
    " \n",
    " I have used some of them below to give an example of how they work."
   ]
  },
  {
   "cell_type": "code",
   "execution_count": null,
   "id": "a84d6b2e-83af-4236-abb5-9d0adb1a5ca1",
   "metadata": {},
   "outputs": [],
   "source": []
  },
  {
   "cell_type": "code",
   "execution_count": null,
   "id": "f46a56b7-d755-453d-a070-cd4456b9c5c9",
   "metadata": {},
   "outputs": [],
   "source": []
  },
  {
   "cell_type": "markdown",
   "id": "f7769292-8cda-47a5-838f-2c94f03da367",
   "metadata": {},
   "source": [
    "# Numpy Random Tutorial\n",
    "\n",
    "Note - random has been imported as 'r'  \n",
    "[Youtube Video](https://www.youtube.com/watch?v=Eu-GfO9Lj_E)"
   ]
  },
  {
   "cell_type": "code",
   "execution_count": 50,
   "id": "680c1c72-cc31-43be-a078-78df586404da",
   "metadata": {},
   "outputs": [
    {
     "data": {
      "text/plain": [
       "array([[[0.27499304, 0.46135504, 0.20845938],\n",
       "        [0.39966696, 0.36224439, 0.32008665],\n",
       "        [0.84877444, 0.08264241, 0.96255764],\n",
       "        [0.21684027, 0.96333973, 0.50563198],\n",
       "        [0.07326056, 0.51638552, 0.28627513],\n",
       "        [0.09884844, 0.1294303 , 0.02139195],\n",
       "        [0.19513643, 0.36332543, 0.9548101 ],\n",
       "        [0.11535207, 0.7155878 , 0.77796224],\n",
       "        [0.32754904, 0.74662279, 0.94875462],\n",
       "        [0.22651012, 0.06011622, 0.49154422]],\n",
       "\n",
       "       [[0.08081141, 0.15300075, 0.55638391],\n",
       "        [0.9033534 , 0.35304454, 0.92123471],\n",
       "        [0.64978325, 0.0414631 , 0.74649172],\n",
       "        [0.04576903, 0.19093012, 0.85964717],\n",
       "        [0.67880375, 0.96424576, 0.33416534],\n",
       "        [0.15132238, 0.30215299, 0.5765467 ],\n",
       "        [0.16780923, 0.03568257, 0.74554123],\n",
       "        [0.91152972, 0.55179365, 0.46679471],\n",
       "        [0.65949094, 0.6572274 , 0.57457969],\n",
       "        [0.10127602, 0.93436613, 0.21828822]]])"
      ]
     },
     "execution_count": 50,
     "metadata": {},
     "output_type": "execute_result"
    }
   ],
   "source": [
    "# Generating Random Data - floating numbers between 0 and 1\n",
    "# 1,2 or 20 arrays of data with 10 \"rows\" and 3 \"columns\"\n",
    "r.rand(2,10,3)"
   ]
  },
  {
   "cell_type": "code",
   "execution_count": 4,
   "id": "87779eb1-a780-43d8-8d4e-69d823d61f67",
   "metadata": {},
   "outputs": [
    {
     "data": {
      "text/plain": [
       "array([[ 0.8175637 ,  0.73376423],\n",
       "       [-0.00553054, -2.03576284]])"
      ]
     },
     "execution_count": 4,
     "metadata": {},
     "output_type": "execute_result"
    }
   ],
   "source": [
    "r.randn(2,2)"
   ]
  },
  {
   "cell_type": "code",
   "execution_count": 5,
   "id": "c9d05f46-1a57-4caf-92f7-d06ba78daeb6",
   "metadata": {},
   "outputs": [
    {
     "data": {
      "text/plain": [
       "2"
      ]
     },
     "execution_count": 5,
     "metadata": {},
     "output_type": "execute_result"
    }
   ],
   "source": [
    "r.randint(10)"
   ]
  },
  {
   "cell_type": "code",
   "execution_count": 6,
   "id": "6825b6ea-c967-477c-acda-a0658e84f46a",
   "metadata": {},
   "outputs": [
    {
     "data": {
      "text/plain": [
       "28"
      ]
     },
     "execution_count": 6,
     "metadata": {},
     "output_type": "execute_result"
    }
   ],
   "source": [
    "r.randint(10, 100)"
   ]
  },
  {
   "cell_type": "code",
   "execution_count": 7,
   "id": "24aa15ca-8843-4e4a-8fe2-4d3a7a4b44e8",
   "metadata": {},
   "outputs": [
    {
     "data": {
      "text/plain": [
       "array([[13, 71, 57, 75, 39, 70, 58, 23, 44, 17],\n",
       "       [87, 80, 61, 18, 88, 58, 67, 65, 80, 75],\n",
       "       [90, 58, 99, 21, 20, 64, 15, 29, 88, 63],\n",
       "       [22, 77, 83, 34, 78, 78, 28, 80, 52, 75],\n",
       "       [16, 41, 20, 31, 92, 10, 27, 15, 42, 80],\n",
       "       [95, 56, 14, 62, 72, 32, 66, 45, 54, 69],\n",
       "       [18, 66, 91, 12, 66, 28, 68, 44, 58, 47],\n",
       "       [86, 48, 44, 39, 56, 62, 41, 12, 30, 43],\n",
       "       [94, 39, 13, 37, 56, 32, 66, 69, 12, 58],\n",
       "       [14, 83, 97, 69, 23, 77, 53, 43, 30, 15]])"
      ]
     },
     "execution_count": 7,
     "metadata": {},
     "output_type": "execute_result"
    }
   ],
   "source": [
    "r.randint(10, 100, size = (10,10))"
   ]
  },
  {
   "cell_type": "code",
   "execution_count": 8,
   "id": "8cd68e31-5aeb-42b8-bd41-4e47240f1d83",
   "metadata": {},
   "outputs": [],
   "source": [
    "a = np.array([1,2,3,4,5,6,7,8,9])"
   ]
  },
  {
   "cell_type": "code",
   "execution_count": 9,
   "id": "859837cc-75a4-4c1a-b5b6-88a4ed2299a6",
   "metadata": {},
   "outputs": [
    {
     "data": {
      "text/plain": [
       "array([8, 7, 7, 3, 3])"
      ]
     },
     "execution_count": 9,
     "metadata": {},
     "output_type": "execute_result"
    }
   ],
   "source": [
    "r.choice(a,5)"
   ]
  },
  {
   "cell_type": "code",
   "execution_count": 10,
   "id": "15130f07-7414-49f6-adf2-dad3c01fc2cc",
   "metadata": {},
   "outputs": [
    {
     "data": {
      "text/plain": [
       "array([1, 5, 9, 2, 4])"
      ]
     },
     "execution_count": 10,
     "metadata": {},
     "output_type": "execute_result"
    }
   ],
   "source": [
    "r.choice(a,5, replace = False)"
   ]
  },
  {
   "cell_type": "code",
   "execution_count": 11,
   "id": "6f56c79c-e410-4e8a-a8bc-983c7d73b968",
   "metadata": {},
   "outputs": [
    {
     "data": {
      "text/plain": [
       "0.622466100229362"
      ]
     },
     "execution_count": 11,
     "metadata": {},
     "output_type": "execute_result"
    }
   ],
   "source": [
    "# get a random float number from *uniform distributtion* on [0,1), i.e. from 0 (inclusive) to 1 (exclusive)\n",
    "np.random.random()"
   ]
  },
  {
   "cell_type": "code",
   "execution_count": 12,
   "id": "5f81b4ee-a787-41c2-b196-3ec40f824c84",
   "metadata": {},
   "outputs": [
    {
     "name": "stdout",
     "output_type": "stream",
     "text": [
      "1 : 0.8231298580559001\n",
      "2 : 0.6674463015003435\n",
      "3 : 0.2277625346305462\n",
      "4 : 0.0696774720378508\n",
      "5 : 0.20835483598036442\n",
      "6 : 0.07805237852857072\n",
      "7 : 0.5855144162428134\n",
      "8 : 0.8941119960597744\n",
      "9 : 0.23988489705428473\n",
      "10 : 0.1037929104261367\n",
      "\n",
      "Mean: 0.38977276005165845\n"
     ]
    }
   ],
   "source": [
    "# get 10 random numbers (between 0 and 1) and print out avarage (mean) of them\n",
    "sum = 0\n",
    "for i in range(10):\n",
    "    x = np.random.random()\n",
    "    sum = sum + x\n",
    "    print(i+1,\":\",x)\n",
    "print(\"\\nMean:\",sum/10)"
   ]
  },
  {
   "cell_type": "code",
   "execution_count": 13,
   "id": "55826406-0dc0-45a8-978c-e0e638924515",
   "metadata": {},
   "outputs": [],
   "source": [
    "# Create variable rng 'random number generator'\n",
    "rng = np.random.default_rng()"
   ]
  },
  {
   "cell_type": "code",
   "execution_count": 14,
   "id": "b406eaf2-f8d4-4624-aae1-0a1a52661f68",
   "metadata": {},
   "outputs": [
    {
     "data": {
      "text/plain": [
       "array([0, 1, 1, 2, 2, 2, 0, 1, 2, 2], dtype=int64)"
      ]
     },
     "execution_count": 14,
     "metadata": {},
     "output_type": "execute_result"
    }
   ],
   "source": [
    "# return 10 random integers between 0 (intclusive) and 3 (exclusive)\n",
    "rng.integers(3, size=10)"
   ]
  },
  {
   "cell_type": "code",
   "execution_count": 15,
   "id": "092d73b8-3496-4e99-8319-6d9d4df93805",
   "metadata": {
    "scrolled": true,
    "tags": []
   },
   "outputs": [],
   "source": [
    "# Creating simple data to plot\n",
    "x = rng.integers(100, size = 10)"
   ]
  },
  {
   "cell_type": "code",
   "execution_count": 16,
   "id": "75635240-5b3a-476d-9e28-ffb46922f359",
   "metadata": {},
   "outputs": [
    {
     "data": {
      "text/plain": [
       "(array([2., 0., 1., 1., 0., 2., 0., 2., 0., 2.]),\n",
       " array([ 9., 18., 27., 36., 45., 54., 63., 72., 81., 90., 99.]),\n",
       " <BarContainer object of 10 artists>)"
      ]
     },
     "execution_count": 16,
     "metadata": {},
     "output_type": "execute_result"
    },
    {
     "data": {
      "image/png": "[encoded data removed]",
      "text/plain": [
       "<Figure size 432x288 with 1 Axes>"
      ]
     },
     "metadata": {
      "needs_background": "light"
     },
     "output_type": "display_data"
    }
   ],
   "source": [
    "# plot simple histogram\n",
    "plt.hist(x)"
   ]
  },
  {
   "cell_type": "code",
   "execution_count": null,
   "id": "8dd22e68-d7d8-4a13-8bb3-e88bd07c4d84",
   "metadata": {},
   "outputs": [],
   "source": []
  },
  {
   "cell_type": "markdown",
   "id": "874535d1-5263-4322-afbb-b664726815c8",
   "metadata": {},
   "source": [
    "### Permutations\n",
    "\n",
    "\n",
    "This group of methods in NumPy and allow to randomly reorder the objects in the set or in sub-set (range). It consists of two subroutines: shuffle and permutation."
   ]
  },
  {
   "cell_type": "markdown",
   "id": "8523eaa3-f52f-4166-a758-b910d40abd1a",
   "metadata": {},
   "source": [
    "##### Function random.shuffle\n",
    "np.random.shuffle method randomly reorders the items of the entire set in place, that is original order is overwritten with the new sequence"
   ]
  },
  {
   "cell_type": "code",
   "execution_count": 51,
   "id": "9be01f26-1c68-4bd4-885b-e052f3869f01",
   "metadata": {},
   "outputs": [
    {
     "name": "stdout",
     "output_type": "stream",
     "text": [
      "[1, 2, 3, 4, 5]\n"
     ]
    },
    {
     "data": {
      "text/plain": [
       "[2, 5, 3, 4, 1]"
      ]
     },
     "execution_count": 51,
     "metadata": {},
     "output_type": "execute_result"
    }
   ],
   "source": [
    "list = [1,2,3,4,5]\n",
    "print(list) # in original order\n",
    "np.random.shuffle(list)\n",
    "list # in new order, overwriting the original"
   ]
  },
  {
   "cell_type": "markdown",
   "id": "82033993-97c9-4457-97c4-542233afe522",
   "metadata": {},
   "source": [
    "#### Function random.permutation\n",
    "\n",
    "np.random.permutation method returns a new array (copy of the original) of the objects from a list, randomly ordered. The output will contain all the objects from the original array, and will appear precisely in the same quantities as in the orignal set."
   ]
  },
  {
   "cell_type": "code",
   "execution_count": 52,
   "id": "d12df734-6ed9-47da-8dba-7564b2a026a1",
   "metadata": {},
   "outputs": [
    {
     "data": {
      "text/plain": [
       "array([2, 3, 4, 5, 1])"
      ]
     },
     "execution_count": 52,
     "metadata": {},
     "output_type": "execute_result"
    }
   ],
   "source": [
    "list_2 = [1,2,3,4,5] # list of objects\n",
    "np.random.permutation(list_2) # the original list remains intact"
   ]
  },
  {
   "cell_type": "markdown",
   "id": "f4195b98-8289-46ce-80b1-f8363f952711",
   "metadata": {},
   "source": [
    "\n",
    "It is worth noting that np.random.permutation is built up on np.random.shuffle subroutine, which is used in the former source code. Extra functionality is provided on condition an array is parsed. Other wise, when an integer is parsed, it behaves as ordinary shuffle function."
   ]
  },
  {
   "cell_type": "markdown",
   "id": "fca5f0fd-9ac7-403e-b81a-8a3cbd9e1bfc",
   "metadata": {},
   "source": [
    "# Distributions"
   ]
  },
  {
   "cell_type": "code",
   "execution_count": 17,
   "id": "71138878-6260-4b95-b582-fd0956beedf0",
   "metadata": {
    "scrolled": true,
    "tags": []
   },
   "outputs": [
    {
     "data": {
      "text/plain": [
       "array([0.94616954, 2.25946088, 4.98437102, 3.91238252, 0.21406327,\n",
       "       2.60200655, 1.74796602, 2.96272364, 1.99954658, 3.10947758])"
      ]
     },
     "execution_count": 17,
     "metadata": {},
     "output_type": "execute_result"
    }
   ],
   "source": [
    "# Generate 10 random numbers berween 0 and 5 in uniform distribution \n",
    "np.random.uniform(0,5,10)"
   ]
  },
  {
   "cell_type": "code",
   "execution_count": 18,
   "id": "085c70a9-bf29-4ff1-a858-ee026568f41e",
   "metadata": {},
   "outputs": [],
   "source": [
    "# Generate 1000 random numbers berween 0 and 1000 in uniform distribution\n",
    "# And put into variable x\n",
    "x = np.random.uniform(0,1000,10000)"
   ]
  },
  {
   "cell_type": "code",
   "execution_count": 19,
   "id": "d924d8b3-8080-4797-96e6-041c22a44ad8",
   "metadata": {},
   "outputs": [
    {
     "data": {
      "text/plain": [
       "(array([ 996., 1009., 1038.,  980.,  999., 1032.,  980.,  973.,  997.,\n",
       "         996.]),\n",
       " array([2.34875625e-01, 1.00198328e+02, 2.00161780e+02, 3.00125232e+02,\n",
       "        4.00088684e+02, 5.00052136e+02, 6.00015588e+02, 6.99979041e+02,\n",
       "        7.99942493e+02, 8.99905945e+02, 9.99869397e+02]),\n",
       " <BarContainer object of 10 artists>)"
      ]
     },
     "execution_count": 19,
     "metadata": {},
     "output_type": "execute_result"
    },
    {
     "data": {
      "image/png": "[encoded data removed]",
      "text/plain": [
       "<Figure size 432x288 with 1 Axes>"
      ]
     },
     "metadata": {
      "needs_background": "light"
     },
     "output_type": "display_data"
    }
   ],
   "source": [
    "# Now plot x\n",
    "plt.hist(x)"
   ]
  },
  {
   "cell_type": "code",
   "execution_count": 20,
   "id": "bfeb811f-48a9-40bb-9b47-cb8b8378ac11",
   "metadata": {
    "scrolled": true,
    "tags": []
   },
   "outputs": [],
   "source": [
    "# Generate 1000 random numbers berween 10 and 1000 in uniform distribution\n",
    "x = np.random.normal(10, 100, 1000)"
   ]
  },
  {
   "cell_type": "code",
   "execution_count": 21,
   "id": "60214629-6962-4414-8753-58730dbe2347",
   "metadata": {},
   "outputs": [
    {
     "data": {
      "text/plain": [
       "(array([ 11.,  43., 117., 199., 259., 177., 136.,  47.,   7.,   4.]),\n",
       " array([-284.1141497 , -219.37614189, -154.63813408,  -89.90012627,\n",
       "         -25.16211846,   39.57588935,  104.31389715,  169.05190496,\n",
       "         233.78991277,  298.52792058,  363.26592839]),\n",
       " <BarContainer object of 10 artists>)"
      ]
     },
     "execution_count": 21,
     "metadata": {},
     "output_type": "execute_result"
    },
    {
     "data": {
      "image/png": "[encoded data removed]",
      "text/plain": [
       "<Figure size 432x288 with 1 Axes>"
      ]
     },
     "metadata": {
      "needs_background": "light"
     },
     "output_type": "display_data"
    }
   ],
   "source": [
    "plt.hist(x)"
   ]
  },
  {
   "cell_type": "markdown",
   "id": "eb2d3b1c-3e66-49e7-bf8c-c60ff0656df9",
   "metadata": {},
   "source": [
    "### Uniform Distributions\n",
    "\n",
    "[Offical Documentation](https://numpy.org/doc/stable/reference/random/generated/numpy.random.Generator.uniform.html#numpy.random.Generator.uniform)\n",
    "\n",
    "When looking through the differnt types of distrubutions I began to frighten myself again so I began with what looked like the easiest distribution to explain - The Uniform Distribution.\n",
    "\n",
    "Uniform distribution is a probability distribution where each value within a certin range is equally likly to occur and values outside the range never occur[[8]](https://www.youtube.com/watch?v=uial-2girHQ)\n",
    "\n",
    "Samples are uniformly distributed over the half-open interval [low, high) (includes low, but excludes high). In other words, any value within the given interval is equally likely to be drawn by uniform.[[9]](https://numpy.org/doc/stable/reference/random/generated/numpy.random.Generator.uniform.html#numpy.random.Generator.uniform)"
   ]
  },
  {
   "cell_type": "code",
   "execution_count": 22,
   "id": "7c084d7f-a817-481e-bb88-607e088e4990",
   "metadata": {},
   "outputs": [],
   "source": [
    "#Remove hashtag from line below and run cell for help from python on uniform distributions\n",
    "# help(np.random.uniform)"
   ]
  },
  {
   "cell_type": "code",
   "execution_count": 23,
   "id": "caad7a8a-e765-45ad-af3c-80054b0a60ee",
   "metadata": {},
   "outputs": [
    {
     "name": "stdout",
     "output_type": "stream",
     "text": [
      "[[[8.04995544 8.20744778]\n",
      "  [2.3501695  5.32244447]\n",
      "  [1.23514834 7.93909223]]\n",
      "\n",
      " [[1.62870944 5.13601729]\n",
      "  [8.5185298  8.22114789]\n",
      "  [2.53186186 5.65181934]]\n",
      "\n",
      " [[1.70009525 3.30632811]\n",
      "  [4.48759389 2.30054853]\n",
      "  [9.17859557 4.67662428]]\n",
      "\n",
      " [[3.70295742 9.10833878]\n",
      "  [5.42927519 1.99495537]\n",
      "  [6.06956717 2.47766612]]\n",
      "\n",
      " [[5.39863161 6.25854609]\n",
      "  [2.92415118 5.96950347]\n",
      "  [9.14806428 8.34891476]]]\n"
     ]
    }
   ],
   "source": [
    "# Generating Random Uniform Data - floating numbers between 1 and 10\n",
    "# 1,2 or 3 arrays of data with 3 \"rows\" and 5 \"columns\"\n",
    "x = np.random.uniform(1,10,size = (5,3,2))\n",
    "print(x)"
   ]
  },
  {
   "cell_type": "markdown",
   "id": "c25172cd-eb69-484d-9ff6-7f77a7159594",
   "metadata": {},
   "source": [
    "You can use this to generate datasets of all sizes with random numbers and these can then be broken down into smaller arrays, depending on how you have reqested the uniform function to display the data - you can play with the figures after size to see what I mean here\n",
    "```\n",
    "x = np.random.uniform(1,10,size = (5,3,2))\n",
    "print(x)\n",
    "```\n",
    "For example the above will generate 1 multi-dimensional large array with all the data (Floating numbers beteween 1-10, 5 smaller arrays each containing 3 arrays with 2 values in each. This is very easily manipulated and someone could quickly generate a sample numerial data set using real world parameters and run test cases on that data - this can be used in a varity of ways from statistical sampling, medical testing, computer simulation and even gambling. "
   ]
  },
  {
   "cell_type": "markdown",
   "id": "f2bbfc0e-d3bb-4e8c-a2f0-cce974df580e",
   "metadata": {},
   "source": [
    "Visualising the data also fairly easy - if every number is equally likly to be generated, then the distrbuition should be flat - as seen below."
   ]
  },
  {
   "cell_type": "code",
   "execution_count": 24,
   "id": "821f6482-7e44-4060-a6f5-d67c51fd3bfe",
   "metadata": {},
   "outputs": [
    {
     "data": {
      "image/png": "[encoded data removed]",
      "text/plain": [
       "<Figure size 432x288 with 1 Axes>"
      ]
     },
     "metadata": {
      "needs_background": "light"
     },
     "output_type": "display_data"
    }
   ],
   "source": [
    "# Visualising Random Data (100000 numbers between 1 and 10)\n",
    "\n",
    "# A kernel density estimate (KDE) plot is a method for visualizing the distribution\n",
    "#of observations in a dataset, analagous to a histogram. KDE represents the data using \n",
    "#a continuous probability density curve in one or more dimensions.\n",
    "#https://seaborn.pydata.org/generated/seaborn.kdeplot.html\n",
    "sns.kdeplot(r.uniform(1,10, size=100000))\n",
    "plt.show()"
   ]
  },
  {
   "cell_type": "markdown",
   "id": "cf9bd264-9b27-4cfb-b3dc-baf9eb1e8223",
   "metadata": {},
   "source": []
  },
  {
   "cell_type": "markdown",
   "id": "f9216ac1-2673-45dc-94c4-84f6922dc092",
   "metadata": {},
   "source": [
    "As you can see from the plot above the distribution of the generated numbers is pretty evenly spread out over the parameters I have passed it, similar quantity of 1s 2s 3s and so on. However be careful - the less numbers you have and the wider the distribution values the more uneven the \"Uniform\" data may become. The bigger number of values you look for the more even the plot will become."
   ]
  },
  {
   "cell_type": "code",
   "execution_count": 25,
   "id": "07d21d4a-927c-47d1-8775-0aaefa69fdea",
   "metadata": {},
   "outputs": [
    {
     "data": {
      "image/png": "[encoded data removed]",
      "text/plain": [
       "<Figure size 432x288 with 1 Axes>"
      ]
     },
     "metadata": {
      "needs_background": "light"
     },
     "output_type": "display_data"
    }
   ],
   "source": [
    "sns.kdeplot(r.uniform(1,100000, size=10))\n",
    "plt.show()"
   ]
  },
  {
   "cell_type": "markdown",
   "id": "d245b401-abfe-4be1-b9b6-0c02815662f1",
   "metadata": {},
   "source": [
    "The Code above is not a good example of uniform distribution as the varience is too wide (between 1 and 100000) and only looking for 10 values - if all are as likely to come up as another this means that you may come back with distintly different looking plots every time you run it!! So better to spot check the data structure behind the plot before deciding to use uniform for your number generation needs."
   ]
  },
  {
   "cell_type": "code",
   "execution_count": null,
   "id": "c33f5fdf-a9fa-4037-bb19-a160224d21d9",
   "metadata": {},
   "outputs": [],
   "source": []
  },
  {
   "cell_type": "markdown",
   "id": "7d846b9a-d4e7-47f0-9585-d2881aae6fd5",
   "metadata": {},
   "source": [
    "### BINOMIAL DISTRBUTION \n",
    " Binomial distribution is the outcome of binary scenarios, for example the toss of a coin. It is a probability distribution that summarises the likelihood that a variable will take one of two independent values under a given set of parameters.The distribution is obtained by performing a number of Bernoulli trials. [[6]](https://www.geeksforgeeks.org/python-binomial-distribution/). It can be thought of as the pobability of a success or failure outcome in an experiment or survey that is repeated multiple times. \n",
    " There are a number of criteria that need to be met for the Binomial distribution to work\n",
    " - There must be only 2 possible outcomes.(Success or Failure)\n",
    " - Each outcome has a fixed probability of occurring. A success has the probability of p, and a failure has the probability of 1 – p.\n",
    " - Each trial is completely independent of all others and probability of success is exactly the same in each event.\n",
    " \n",
    " The binomial random variable represents the number of successes(r) in n successive independent trials of a Bernoulli experiment[[7]](https://www.geeksforgeeks.org/python-binomial-distribution/)\n",
    " \n",
    " The binomial distribution formula is:\n",
    " \n",
    "![](probability-distributions0x.png)  \n",
    "  \n",
    " x = total number of \"successess\"  \n",
    " P = probability of a success in an individual trial  \n",
    " n = number of trials\n",
    " \n",
    " size  = The shape of the returned array\n",
    " \n",
    " Binomial Distribution can also be defined as Discrete Distribution - for example a coin toss is discrete as the results can only be heads or tails - however if you were taking the speed of cars on a motorway it would be differnt every time - 80kmph, 82kmph, 85kmph, 90kmph ..... and so on.\n",
    "\n",
    " "
   ]
  },
  {
   "cell_type": "code",
   "execution_count": null,
   "id": "c0b82e3b-31c8-44f4-957d-9f80a5005b12",
   "metadata": {},
   "outputs": [],
   "source": []
  },
  {
   "cell_type": "code",
   "execution_count": 36,
   "id": "fbd18b6e-f3c2-4965-a853-1b3cb194f32c",
   "metadata": {},
   "outputs": [
    {
     "name": "stdout",
     "output_type": "stream",
     "text": [
      "[4 6 6 4 5 5 4 7 3 6]\n"
     ]
    }
   ],
   "source": [
    "# number of trials 10\n",
    "# probability is .5\n",
    "#shape of array 10\n",
    "# This can represent tossing a coin\n",
    "\n",
    "x = r.binomial(n=10, p=0.5, size = 10)\n",
    "print(x)"
   ]
  },
  {
   "cell_type": "markdown",
   "id": "11334086-dc8a-43db-bf95-21920f442faf",
   "metadata": {},
   "source": [
    "##### Visualisation of Binomial Distribution"
   ]
  },
  {
   "cell_type": "code",
   "execution_count": 37,
   "id": "c674ae6c-fabf-4a60-8aee-344619498439",
   "metadata": {},
   "outputs": [
    {
     "data": {
      "text/plain": [
       "<seaborn.axisgrid.FacetGrid at 0x21430e04970>"
      ]
     },
     "execution_count": 37,
     "metadata": {},
     "output_type": "execute_result"
    },
    {
     "data": {
      "image/png": "[encoded data removed]",
      "text/plain": [
       "<Figure size 360x360 with 1 Axes>"
      ]
     },
     "metadata": {
      "needs_background": "light"
     },
     "output_type": "display_data"
    }
   ],
   "source": [
    "# Probability is 50%\n",
    "sns.displot(r.binomial(n=10, p=0.5, size = 1000), kde=True)"
   ]
  },
  {
   "cell_type": "code",
   "execution_count": 38,
   "id": "23846cfb-2972-4d2f-a5f1-e47540fb0dfc",
   "metadata": {},
   "outputs": [
    {
     "data": {
      "text/plain": [
       "<seaborn.axisgrid.FacetGrid at 0x21430a86040>"
      ]
     },
     "execution_count": 38,
     "metadata": {},
     "output_type": "execute_result"
    },
    {
     "data": {
      "image/png": "[encoded data removed]",
      "text/plain": [
       "<Figure size 360x360 with 1 Axes>"
      ]
     },
     "metadata": {
      "needs_background": "light"
     },
     "output_type": "display_data"
    }
   ],
   "source": [
    "# Probability is 10%\n",
    "sns.displot(r.binomial(n=10, p=0.1, size = 1000), kde=True)"
   ]
  },
  {
   "cell_type": "code",
   "execution_count": 39,
   "id": "beebddd7-4919-42a5-9b91-b3aec3d20c2b",
   "metadata": {},
   "outputs": [
    {
     "data": {
      "text/plain": [
       "<seaborn.axisgrid.FacetGrid at 0x21430e65fd0>"
      ]
     },
     "execution_count": 39,
     "metadata": {},
     "output_type": "execute_result"
    },
    {
     "data": {
      "image/png": "[encoded data removed]",
      "text/plain": [
       "<Figure size 360x360 with 1 Axes>"
      ]
     },
     "metadata": {
      "needs_background": "light"
     },
     "output_type": "display_data"
    }
   ],
   "source": [
    "# Probability is 90%\n",
    "sns.displot(r.binomial(n=10, p=0.9, size = 1000),kde=True)"
   ]
  },
  {
   "cell_type": "markdown",
   "id": "36b9e5ca-1745-46f5-b194-8359908e28ba",
   "metadata": {},
   "source": [
    "##### Binomal vs normal  \n",
    "The difference between normal and binomial distribution is that normal is contineous where as binomial is discrete. However if there are enough data points the plots can be very similar depending on location and scale."
   ]
  },
  {
   "cell_type": "code",
   "execution_count": 40,
   "id": "f866a2f6-8199-400d-b7dc-6df6247fdffa",
   "metadata": {},
   "outputs": [
    {
     "data": {
      "text/plain": [
       "<matplotlib.legend.Legend at 0x21430ff5a30>"
      ]
     },
     "execution_count": 40,
     "metadata": {},
     "output_type": "execute_result"
    },
    {
     "data": {
      "image/png": "[encoded data removed]",
      "text/plain": [
       "<Figure size 432x288 with 1 Axes>"
      ]
     },
     "metadata": {
      "needs_background": "light"
     },
     "output_type": "display_data"
    }
   ],
   "source": [
    "#Normal distribution\n",
    "sns.kdeplot(r.normal(loc = 50, scale = 5, size = 10000), label = 'Normal')\n",
    "#Binomial distribution\n",
    "sns.kdeplot(r.binomial(n = 100, p = 0.5, size = 10000), label = 'Binomial')\n",
    "plt.legend()"
   ]
  },
  {
   "cell_type": "code",
   "execution_count": null,
   "id": "32a414e8-308b-4af5-9f25-8fc606b8e6d1",
   "metadata": {},
   "outputs": [],
   "source": []
  },
  {
   "cell_type": "code",
   "execution_count": null,
   "id": "27abfc40-34be-4212-a595-b71cc3afc4ba",
   "metadata": {},
   "outputs": [],
   "source": []
  },
  {
   "cell_type": "markdown",
   "id": "31ac644e-02e9-4e0b-bf58-3da1e053fcf2",
   "metadata": {},
   "source": [
    "# The Poisson Distribution "
   ]
  },
  {
   "cell_type": "markdown",
   "id": "dacc224a-1761-465c-bdc4-a5284a929543",
   "metadata": {},
   "source": [
    "https://www.youtube.com/watch?v=cPOChr_kuQs\n",
    "\n",
    "The Poission Distribution is a discrete distribution - similar to the binomial distribution, which is one in which the data can only take on certain values, for example integers.  \n",
    "It describes the number of events occuring in a fixed time interval or \"region of oppertunity\".  \n",
    "Simple example is how many customers did a shop have in a given hour.  \n",
    "An interesting thing about the the Poisson Distribution is it requires only one paramaeter - The expected number of events during the time interval - lambda. \n",
    "\n",
    "![](lambda.PNG)\n",
    "\n",
    "The Possion Distribution is bounded by 0 to Infinity\n",
    "\n",
    "### Assumptions of the Poisson Distribution\n",
    "\n",
    " - The Rate at which events occur is constant. (ie. The pobability of an event occuring in a certain time interval should be exactly the same for every other time interval of that same length.)\n",
    " - The occurence of one event should not affect the occurence of a subsequent event (ie. Each trial is completely independent of all others and probability of success is exactly the same in each event.)  \n",
    "\n",
    "These assumptions are difficult to hold in reality. As even if we use simple example I gave above of customers in a shop in a given hour, the paramateters around one hour will not match the next. Maybe the shop gets busier a lunch time, or it is buiser on Fridays because there is an event close by that increaseses customer footfall, or you sell a product that is seasonal so you are buiser at certain times of the year - the possible influences are endless!! "
   ]
  },
  {
   "cell_type": "markdown",
   "id": "257b70b4-54e1-4d71-a963-d0d8ad4f4b1a",
   "metadata": {},
   "source": [
    "### Probability Mass Function (PMF)\n",
    "This is the probability of getting each of the discrete outcome.  \n",
    "\n",
    "![](PMF.PNG)  \n",
    "\n",
    "This is how this would look if:  \n",
    "lambda = 3 (expected number of events)(NB - There is no requirement for lambda to be a whole number)  \n",
    "What is the probability of 5 events  \n",
    "\n",
    "![](PMFE.PNG) "
   ]
  },
  {
   "cell_type": "markdown",
   "id": "e698a96e-29c7-466a-8e6a-8657ebe8bde6",
   "metadata": {},
   "source": [
    "### Poisson distribution in Numpy\n",
    "\n",
    "\n",
    "https://www.youtube.com/watch?v=dGhDzCJryGA"
   ]
  },
  {
   "cell_type": "code",
   "execution_count": 41,
   "id": "f1fd0f2c-6f75-48ab-8a52-5c4f0ae533a5",
   "metadata": {},
   "outputs": [
    {
     "data": {
      "text/plain": [
       "array([7, 4, 3])"
      ]
     },
     "execution_count": 41,
     "metadata": {},
     "output_type": "execute_result"
    }
   ],
   "source": [
    "# Call the poisson random distribution with lambda is 5 with 3 draws\n",
    "np.random.poisson(5,3)"
   ]
  },
  {
   "cell_type": "code",
   "execution_count": 42,
   "id": "ce70fcc2-aa51-4ce4-90ce-932dcec6f97b",
   "metadata": {},
   "outputs": [
    {
     "data": {
      "text/plain": [
       "0.9991009878649884"
      ]
     },
     "execution_count": 42,
     "metadata": {},
     "output_type": "execute_result"
    }
   ],
   "source": [
    "# using the unbiased varience\n",
    "# If the averge number of events in a given time period is 1\n",
    "# if you draw that a million times you will get very close to 1\n",
    "np.var(np.random.poisson(1,1000000),ddof = 1)"
   ]
  },
  {
   "cell_type": "markdown",
   "id": "752213bf-77ee-4a40-9847-e61447e6387b",
   "metadata": {},
   "source": [
    "### Visualisation of Poisson distribution"
   ]
  },
  {
   "cell_type": "markdown",
   "id": "8a364e80-e1e3-4e7b-9b01-0d8ac1ccc62c",
   "metadata": {},
   "source": [
    "See example below where if you draw a million samples where lambda is 1 the overwhelming majority of events will be between 0 and 2 and will steeply drop off the further right you go on the x axis."
   ]
  },
  {
   "cell_type": "code",
   "execution_count": 43,
   "id": "fa0bcbba-2d10-4a7b-a3a8-fbfaf55b72e1",
   "metadata": {},
   "outputs": [
    {
     "data": {
      "text/plain": [
       "(array([3.67630e+05, 3.67995e+05, 1.83845e+05, 6.15770e+04, 1.52440e+04,\n",
       "        3.09500e+03, 5.30000e+02, 7.40000e+01, 9.00000e+00, 1.00000e+00]),\n",
       " array([0. , 0.9, 1.8, 2.7, 3.6, 4.5, 5.4, 6.3, 7.2, 8.1, 9. ]),\n",
       " <BarContainer object of 10 artists>)"
      ]
     },
     "execution_count": 43,
     "metadata": {},
     "output_type": "execute_result"
    },
    {
     "data": {
      "image/png": "[encoded data removed]",
      "text/plain": [
       "<Figure size 432x288 with 1 Axes>"
      ]
     },
     "metadata": {
      "needs_background": "light"
     },
     "output_type": "display_data"
    }
   ],
   "source": [
    "plt.hist(np.random.poisson(1,1000000))"
   ]
  },
  {
   "cell_type": "markdown",
   "id": "88663a32-cb4f-4645-9ec8-a146aac3aa55",
   "metadata": {},
   "source": [
    "### Normal Distribution vs Poisson Distribution\n",
    "\n",
    "Normal distribution is continous whereas poisson is discrete.  \n",
    "But we can see that similar to binomial for a large enough poisson distribution it will become similar to normal distribution with certain std dev and mean.[[9]](https://www.w3schools.com/python/numpy/numpy_random_poisson.asp)"
   ]
  },
  {
   "cell_type": "code",
   "execution_count": 44,
   "id": "7a43bf03-20bd-4aa4-b8cc-8c85bd1c6bb5",
   "metadata": {},
   "outputs": [
    {
     "data": {
      "image/png": "[encoded data removed]",
      "text/plain": [
       "<Figure size 432x288 with 1 Axes>"
      ]
     },
     "metadata": {
      "needs_background": "light"
     },
     "output_type": "display_data"
    }
   ],
   "source": [
    "# Normal distribution\n",
    "sns.kdeplot(r.normal(loc=50, scale=7, size=1000), label='normal')\n",
    "# Poisson distribution\n",
    "sns.kdeplot(r.poisson(lam=50, size=1000), label='poisson')\n",
    "plt.legend()\n",
    "plt.show()"
   ]
  },
  {
   "cell_type": "markdown",
   "id": "3fea454c-0ad5-468d-af74-4bb8847e6ca0",
   "metadata": {},
   "source": [
    "### Poisson Distribution vs Binomial Distribution\n",
    "\n",
    "\n",
    "The difference is very subtle it is that, binomial distribution is for discrete trials, whereas poisson distribution is for continuous trials.\n",
    "\n",
    "But for very large n and near-zero p binomial distribution is near identical to poisson distribution such that n * p is nearly equal to lam.[[10]](https://www.w3schools.com/python/numpy/numpy_random_poisson.asp)"
   ]
  },
  {
   "cell_type": "code",
   "execution_count": 45,
   "id": "66dbc4ca-5698-4775-8a08-4ed58a7e9171",
   "metadata": {},
   "outputs": [
    {
     "data": {
      "image/png": "[encoded data removed]",
      "text/plain": [
       "<Figure size 432x288 with 1 Axes>"
      ]
     },
     "metadata": {
      "needs_background": "light"
     },
     "output_type": "display_data"
    }
   ],
   "source": [
    "sns.kdeplot(r.binomial(n=1000, p=0.01, size=1000), label='binomial')\n",
    "sns.kdeplot(r.poisson(lam=10, size=1000), label='poisson')\n",
    "plt.legend()\n",
    "plt.show()"
   ]
  },
  {
   "cell_type": "code",
   "execution_count": null,
   "id": "a8d9ad40-0c30-43e7-aa7d-0055efb9cdcb",
   "metadata": {},
   "outputs": [],
   "source": []
  },
  {
   "cell_type": "code",
   "execution_count": null,
   "id": "b912d4b5-cd90-40d6-b34c-aaadb2c28b09",
   "metadata": {},
   "outputs": [],
   "source": []
  },
  {
   "cell_type": "code",
   "execution_count": null,
   "id": "28c27d10-a87c-4352-86df-b6cad8e29bc9",
   "metadata": {},
   "outputs": [],
   "source": []
  },
  {
   "cell_type": "code",
   "execution_count": null,
   "id": "05c3d66d-599d-403e-b8f6-6840c34d6d89",
   "metadata": {},
   "outputs": [],
   "source": []
  },
  {
   "cell_type": "code",
   "execution_count": null,
   "id": "86fc600d-fe4e-459f-b2cb-f650e1a493c4",
   "metadata": {},
   "outputs": [],
   "source": []
  },
  {
   "cell_type": "code",
   "execution_count": null,
   "id": "159e44a7-35ea-41f7-bbd6-f43e7ed17eb5",
   "metadata": {},
   "outputs": [],
   "source": []
  }
 ],
 "metadata": {
  "kernelspec": {
   "display_name": "Python 3",
   "language": "python",
   "name": "python3"
  },
  "language_info": {
   "codemirror_mode": {
    "name": "ipython",
    "version": 3
   },
   "file_extension": ".py",
   "mimetype": "text/x-python",
   "name": "python",
   "nbconvert_exporter": "python",
   "pygments_lexer": "ipython3",
   "version": "3.8.8"
  }
 },
 "nbformat": 4,
 "nbformat_minor": 5
}
