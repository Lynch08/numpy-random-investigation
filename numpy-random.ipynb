{
 "cells": [
  {
   "cell_type": "markdown",
   "id": "802b95a7-9275-4fe6-91fe-5979b531e466",
   "metadata": {},
   "source": [
    "# An investigation into the numpy.random package\n",
    "\n",
    "\n",
    "[NUMPY OFFICAL DOCUMENTATION](https://numpy.org/doc/stable/reference/random/generator.html)"
   ]
  },
  {
   "cell_type": "markdown",
   "id": "b2fe2d7d-190e-4e98-83c1-80ef5c5056b1",
   "metadata": {},
   "source": [
    "# WHAT IS NUMPY\n",
    "\n",
    "\"NumPy is the fundamental package for scientific computing in Python. It is a Python library that provides a multidimensional array object, various derived objects (such as masked arrays and matrices), and an assortment of routines for fast operations on arrays, including mathematical, logical, shape manipulation, sorting, selecting, I/O, discrete Fourier transforms, basic linear algebra, basic statistical operations, random simulation and much more.\"[[1]](https://numpy.org/doc/1.19/user/whatisnumpy.html)  \n",
    "That is the official explaination for Numpy from the offial documentation V1.19. This a bit wordy and frankly frightening when first read by a novice to programming who has not done a lot of maths in the last decade. So I found it easier to first try to gleen some insight into the Numpy libary by simply googling 'What is Numpy?' and using a resource like W3Schools[[2]](https://www.w3schools.com/python/numpy/numpy_intro.asp) or Real Python[[3]](https://realpython.com/tutorials/numpy/) to give me a less imtimidating description (even if it is a little less robust) of numpy.\n",
    "However before I get into Numpy I would first like to define an array in python, as arrays are the foudation of how numpy is able to manipulate data.\n",
    "In simple terms an array is a list of the same data type in python. Once that simple declaration is clear I found the Real Python introduction the best to begin to wrap my head around numpy, its functionality and uses. \"NumPy is a third-party Python library that provides support for large multidimensional arrays and matrices along with a collection of mathematical functions to operate on these elements.\"[[4]](https://realpython.com/tutorials/numpy/) In my own words, Numpy gives you tools to manipulate lists of data, with emphasis on mathematical functionality. "
   ]
  },
  {
   "cell_type": "markdown",
   "id": "3ec3ecd8-25c1-4ee3-8b9d-5f0976eba035",
   "metadata": {},
   "source": [
    "### A Brife History of Numpy\n",
    "Although online much of the credit of the creation of Numpy goes to Travis Oliphant in 2006[[5]](https://en.wikipedia.org/wiki/Travis_Oliphant), much of the actual code was written by a group of graduate students who \"upended the already well-established ecosystem of research software—backed by millions in funding and many hundreds of highly qualified engineers\"[[5]](https://numpy.org/history/). It is now relied on by scientists, engineers, data analysts and many other professions around the world. "
   ]
  },
  {
   "cell_type": "markdown",
   "id": "f4772b76-25ec-46d2-87b1-c8d361c5ea16",
   "metadata": {},
   "source": [
    "### Installing numpy\n",
    "Numpy is a libary in the python package so if you have downloaded some version of python (I would reccomend anaconda) then simply import it in to your code using:\n",
    "\n",
    "```import numpy as np```\n",
    "\n",
    "np is the standard abbreviation for numpy in Python"
   ]
  },
  {
   "cell_type": "code",
   "execution_count": null,
   "id": "ec94999b-e767-489a-a05a-5d2dcecc969b",
   "metadata": {},
   "outputs": [],
   "source": []
  },
  {
   "cell_type": "code",
   "execution_count": null,
   "id": "5de32f1a-347e-464f-b1c8-4ff0632385ce",
   "metadata": {},
   "outputs": [],
   "source": []
  },
  {
   "cell_type": "code",
   "execution_count": null,
   "id": "3758ecf8-2c57-483c-afaf-ccd4f044f9a6",
   "metadata": {},
   "outputs": [],
   "source": []
  },
  {
   "cell_type": "code",
   "execution_count": null,
   "id": "c8784443-cf7a-4695-b6a9-1fc80921039f",
   "metadata": {},
   "outputs": [],
   "source": []
  },
  {
   "cell_type": "code",
   "execution_count": 58,
   "id": "ecf80495-3ee3-4221-af79-145cc43d01b5",
   "metadata": {},
   "outputs": [],
   "source": [
    "import numpy as np\n",
    "import pandas as pd\n",
    "import matplotlib.pyplot as plt\n",
    "import scipy.stats as stats\n",
    "import seaborn as sns"
   ]
  },
  {
   "cell_type": "code",
   "execution_count": 59,
   "id": "ee684d05-1bbf-4e3e-a695-0e181de1db80",
   "metadata": {},
   "outputs": [],
   "source": [
    "import numpy.random as r"
   ]
  },
  {
   "cell_type": "code",
   "execution_count": 60,
   "id": "55826406-0dc0-45a8-978c-e0e638924515",
   "metadata": {},
   "outputs": [],
   "source": [
    "rng = np.random.default_rng()"
   ]
  },
  {
   "cell_type": "code",
   "execution_count": 61,
   "id": "b406eaf2-f8d4-4624-aae1-0a1a52661f68",
   "metadata": {},
   "outputs": [
    {
     "data": {
      "text/plain": [
       "array([1, 1, 1, 1, 1, 0, 0, 1, 0, 0], dtype=int64)"
      ]
     },
     "execution_count": 61,
     "metadata": {},
     "output_type": "execute_result"
    }
   ],
   "source": [
    "rng.integers(2, size=10)"
   ]
  },
  {
   "cell_type": "code",
   "execution_count": 62,
   "id": "e2b48cd3-93d0-46b4-8b8e-b28a1f524cc6",
   "metadata": {},
   "outputs": [
    {
     "data": {
      "text/plain": [
       "array([0, 0, 0, 0, 0, 0, 0, 0, 0, 0], dtype=int64)"
      ]
     },
     "execution_count": 62,
     "metadata": {},
     "output_type": "execute_result"
    }
   ],
   "source": [
    "rng.integers(1, size=10)"
   ]
  },
  {
   "cell_type": "code",
   "execution_count": 63,
   "id": "092d73b8-3496-4e99-8319-6d9d4df93805",
   "metadata": {
    "scrolled": true,
    "tags": []
   },
   "outputs": [],
   "source": [
    "x = rng.integers(100, size = 10)"
   ]
  },
  {
   "cell_type": "code",
   "execution_count": 64,
   "id": "4e2b2df3-69a1-4787-ab97-5fce993ef633",
   "metadata": {},
   "outputs": [],
   "source": [
    "import matplotlib.pyplot as plt"
   ]
  },
  {
   "cell_type": "code",
   "execution_count": 65,
   "id": "75635240-5b3a-476d-9e28-ffb46922f359",
   "metadata": {},
   "outputs": [
    {
     "data": {
      "text/plain": [
       "(array([2., 1., 3., 1., 0., 0., 1., 0., 1., 1.]),\n",
       " array([ 4. , 11.3, 18.6, 25.9, 33.2, 40.5, 47.8, 55.1, 62.4, 69.7, 77. ]),\n",
       " <BarContainer object of 10 artists>)"
      ]
     },
     "execution_count": 65,
     "metadata": {},
     "output_type": "execute_result"
    },
    {
     "data": {
      "image/png": "[encoded data removed]",
      "text/plain": [
       "<Figure size 432x288 with 1 Axes>"
      ]
     },
     "metadata": {
      "needs_background": "light"
     },
     "output_type": "display_data"
    }
   ],
   "source": [
    "plt.hist(x)"
   ]
  },
  {
   "cell_type": "code",
   "execution_count": 66,
   "id": "aafe3b84-13c6-44c8-84fe-77887b387565",
   "metadata": {
    "scrolled": true,
    "tags": []
   },
   "outputs": [
    {
     "data": {
      "text/plain": [
       "array([6.49608886e+02, 8.62574014e+02, 3.54689723e+02, 3.55505472e+02,\n",
       "       7.61971267e+01, 1.59612537e+02, 1.39794875e+02, 7.11006564e+01,\n",
       "       7.68365431e+01, 8.79915386e+02, 1.81167123e+02, 7.38830079e+02,\n",
       "       7.83674266e+02, 4.96269518e+02, 3.69663085e+02, 9.93292243e+02,\n",
       "       2.00533447e+01, 7.88386090e+01, 9.75393496e+01, 9.29959542e+02,\n",
       "       4.10489423e+02, 5.96801142e+02, 8.96703635e+02, 3.78470382e+02,\n",
       "       2.36003527e+02, 6.25058545e+02, 5.15492502e+02, 5.87931260e+02,\n",
       "       8.83048117e+02, 2.75249193e+02, 6.66240954e+02, 7.49801101e+02,\n",
       "       7.76279188e+02, 8.69433441e+02, 9.40894448e+02, 9.45664926e+02,\n",
       "       2.26851764e+02, 2.39235376e+02, 5.43198330e+02, 2.85892581e+02,\n",
       "       1.44584571e+02, 2.44811050e+02, 9.80785511e+02, 9.78761080e+02,\n",
       "       1.32943146e+02, 3.64142658e+02, 4.29346702e+02, 6.08189912e+02,\n",
       "       9.04977544e+02, 7.97178112e+02, 8.33713884e+02, 5.22555306e+02,\n",
       "       5.01679642e+02, 1.89165423e+02, 9.91562259e+02, 6.65388146e+02,\n",
       "       9.03751610e+02, 3.62813671e+02, 3.53400640e+02, 1.67194358e+02,\n",
       "       1.63177105e+02, 6.10089245e+01, 9.10737616e+02, 3.27320145e+02,\n",
       "       6.29465163e+02, 3.67803561e+01, 3.65344774e+02, 5.12416758e+02,\n",
       "       4.83054588e+02, 3.20666228e+02, 1.99419888e+02, 9.52922667e+02,\n",
       "       8.91924070e+02, 5.31835046e+02, 8.66989237e+02, 7.33173545e+02,\n",
       "       3.57844074e+02, 3.24190799e+02, 8.79382512e+02, 4.87014235e+02,\n",
       "       8.52576987e+02, 9.98141301e+02, 2.16119234e+02, 4.98678498e+02,\n",
       "       2.71861701e+02, 8.83502665e+02, 1.86965895e+02, 3.69149808e+01,\n",
       "       8.53750931e+02, 5.59067525e+02, 5.61761026e+02, 6.96738598e+02,\n",
       "       3.36731512e+02, 5.73321390e+02, 5.80456573e+02, 3.27002215e+02,\n",
       "       1.55513151e+02, 5.10463102e+02, 2.04601916e+02, 4.97713915e+02,\n",
       "       9.07448004e+02, 2.20460549e+02, 6.36486397e+02, 8.95359305e+02,\n",
       "       8.31311264e+02, 8.62979916e+02, 8.41219376e+02, 6.08200758e+02,\n",
       "       3.81153081e+02, 9.41192795e+02, 5.02723555e+02, 6.10245134e+02,\n",
       "       7.84004385e+02, 7.89411381e+02, 1.06407158e+02, 9.15839263e+02,\n",
       "       5.03013191e+02, 4.26578585e+02, 8.08470234e+02, 6.52174209e+02,\n",
       "       8.19663228e+02, 2.78862711e+02, 3.75358159e+02, 4.32137724e+02,\n",
       "       1.02495651e+02, 7.12086439e+02, 3.02278344e+02, 7.35806299e+02,\n",
       "       8.09325850e+02, 8.81889604e+02, 8.19983649e+02, 9.23954163e+02,\n",
       "       8.02605555e+02, 4.00215438e+02, 5.80573729e+01, 7.75149592e+02,\n",
       "       4.42206507e+01, 3.95156092e+02, 5.96052251e+02, 4.88377446e+01,\n",
       "       5.27762145e+02, 8.23159048e+02, 6.14104356e+02, 1.58691566e+02,\n",
       "       5.25431560e+02, 6.96690623e+02, 1.93021573e+02, 1.76165114e+02,\n",
       "       2.71650928e+02, 4.50713695e+02, 1.71183748e+02, 2.88090600e+02,\n",
       "       9.36840851e+01, 8.95973001e+02, 7.74385721e+02, 2.40037701e+02,\n",
       "       9.78110381e+01, 2.56187390e+02, 9.19913048e+02, 9.02983584e+01,\n",
       "       7.84919115e+02, 6.97038946e+02, 7.81807557e+02, 7.36235560e+02,\n",
       "       5.20165350e+02, 8.06214933e+01, 5.56143013e+02, 2.77230525e+02,\n",
       "       5.69305855e+02, 2.72726537e+01, 2.57636485e+01, 6.03912165e+02,\n",
       "       1.62932420e+02, 3.77872202e+02, 5.06756959e+02, 1.68156603e+02,\n",
       "       6.54023622e+01, 3.11564369e+01, 9.25025640e+02, 5.62049389e+02,\n",
       "       3.11764702e+02, 7.22245061e+02, 5.99470430e+02, 5.97811353e+02,\n",
       "       5.90752913e+02, 4.62143120e+02, 9.31592531e+02, 1.96430759e+02,\n",
       "       3.11067949e+02, 3.97241876e+02, 3.71036858e+02, 4.28681067e+01,\n",
       "       8.94679419e+02, 6.15153931e+02, 5.76113739e+02, 9.09225777e+02,\n",
       "       1.82512479e+02, 4.75064205e+02, 2.66397705e+02, 7.32010270e+01,\n",
       "       7.68869279e+02, 7.04950660e+02, 2.57350373e+02, 7.37423750e+02,\n",
       "       4.26029956e+02, 6.72776775e+02, 8.55817398e+01, 2.68621633e+02,\n",
       "       6.38956008e+02, 1.22094119e+02, 4.00308479e+02, 6.94133770e+02,\n",
       "       7.89288949e+02, 4.56245082e+02, 4.42219647e+02, 6.79636367e+02,\n",
       "       3.72220759e+02, 5.14829490e+02, 5.27843108e+00, 8.48430312e+02,\n",
       "       2.23018738e+02, 7.05841736e+01, 5.52811370e+01, 2.52847910e+02,\n",
       "       4.02016448e+02, 3.34836817e+02, 3.22200122e+02, 9.68243228e+02,\n",
       "       6.09056566e+02, 2.70580079e+02, 1.87391715e+02, 9.88531927e+02,\n",
       "       2.96319948e+01, 1.65814683e+02, 1.89633277e+02, 7.40534428e+02,\n",
       "       8.84231176e+02, 8.99976636e+02, 6.37086069e+01, 7.06696331e+02,\n",
       "       2.72883689e+02, 2.61351742e+02, 9.50611854e+02, 8.27586659e+02,\n",
       "       7.62780181e+02, 3.05113973e+02, 6.36852314e+02, 6.05797988e+02,\n",
       "       2.86402081e+02, 3.73651711e+02, 9.45366222e+02, 3.53001856e+02,\n",
       "       2.13430308e+02, 9.84897181e+02, 8.20349388e+02, 7.32388717e+02,\n",
       "       8.91692084e+02, 7.76926881e+02, 7.49288314e+02, 9.48553016e+02,\n",
       "       2.92707914e+02, 4.25140019e+02, 6.31319732e+02, 9.72633760e+02,\n",
       "       8.92381040e+02, 7.47521417e+02, 1.78203768e+02, 1.81089096e+02,\n",
       "       5.25673726e+02, 5.55863722e+02, 9.88106557e+02, 5.49299965e+02,\n",
       "       2.37492982e+02, 3.63841644e+02, 4.74602968e+02, 9.07380347e+02,\n",
       "       5.40530616e+02, 6.90355814e+02, 3.33622206e+02, 6.65276213e+02,\n",
       "       8.72769412e+02, 4.17120448e+01, 7.57843060e+02, 1.78903335e+02,\n",
       "       3.25937249e+02, 2.91027728e+02, 4.73868603e+02, 1.53553497e+02,\n",
       "       2.73431793e+02, 8.33145026e+02, 8.07551659e+02, 5.13963309e+02,\n",
       "       7.98743484e+02, 7.70037617e+02, 3.61383240e+02, 8.94844042e+02,\n",
       "       1.89875064e+01, 1.50001847e+02, 5.79601984e+02, 8.72363037e+02,\n",
       "       6.37011525e+02, 8.51665464e+02, 8.81686036e+02, 5.68119267e+02,\n",
       "       7.52198619e+02, 5.47344955e+02, 4.63885546e+02, 7.40710901e+02,\n",
       "       2.44972430e+01, 5.98258171e+02, 3.32330121e+02, 6.51053451e+02,\n",
       "       2.76942709e+01, 4.77619998e+02, 7.66153087e+02, 2.27820259e+02,\n",
       "       1.38286044e+02, 7.19210488e+02, 6.08311902e+02, 5.61991805e+02,\n",
       "       6.88593817e+02, 4.87466546e+02, 7.05302255e+02, 7.95473426e+02,\n",
       "       6.03883682e+02, 3.74077148e+02, 4.95267795e+02, 4.17253168e+02,\n",
       "       4.99039295e+02, 7.17427431e+02, 7.42916090e+02, 4.74670784e+02,\n",
       "       1.13340785e+02, 4.30135624e+02, 7.45980701e+02, 5.21483670e+02,\n",
       "       1.55379731e+02, 3.97578566e+01, 3.21624723e+02, 8.32720125e+02,\n",
       "       9.06974694e+02, 1.36803029e+02, 1.03834361e+02, 2.11155616e+02,\n",
       "       9.50609826e+02, 1.71506546e+02, 5.79736630e+02, 9.41506736e+01,\n",
       "       9.50143812e+02, 8.85123711e+02, 5.51945018e+02, 6.74166072e+01,\n",
       "       8.30945900e+02, 2.83382835e+02, 2.92867136e+02, 1.62968354e+02,\n",
       "       3.51873938e+02, 1.65195467e+02, 1.58896352e+02, 3.91701762e+02,\n",
       "       9.73778790e+01, 1.09971503e+02, 4.05066153e+02, 1.19832722e+02,\n",
       "       5.49511727e+02, 7.51924509e+02, 3.53724893e+02, 4.49432841e+02,\n",
       "       7.51289510e+02, 8.48497737e+02, 5.04328520e+02, 9.35352414e+02,\n",
       "       2.58142616e+02, 9.89574668e+02, 2.02373520e+02, 9.08467504e+02,\n",
       "       2.06032444e+02, 3.33025995e+02, 7.55005528e+02, 2.09951816e+02,\n",
       "       3.12822077e+02, 8.03199834e+02, 5.48110173e+02, 4.38647707e+02,\n",
       "       2.62742137e+02, 8.15576417e+02, 2.80882399e+02, 8.71692809e+02,\n",
       "       1.19513690e+02, 1.04818100e+02, 4.37298653e+01, 8.16626870e+02,\n",
       "       6.36918788e+02, 1.88017064e+01, 3.58093314e+02, 7.51817852e+02,\n",
       "       2.46774483e+02, 2.27183787e+02, 3.86094532e+01, 1.56606806e+02,\n",
       "       5.42684015e+02, 2.82900495e+02, 3.96574493e+02, 1.47049505e+02,\n",
       "       4.33462119e+02, 1.33221014e+02, 3.72399908e+02, 7.03183356e+02,\n",
       "       1.05559638e+02, 3.82825854e+02, 6.77283745e+02, 7.50909215e+01,\n",
       "       7.91485083e+02, 3.62681453e+02, 7.78550689e+02, 2.88792938e+02,\n",
       "       8.56855186e+02, 4.13682089e+02, 6.83986498e+02, 2.92331487e+02,\n",
       "       5.69160400e+02, 3.09243179e+02, 2.65515718e+02, 3.76792976e+02,\n",
       "       3.58190116e+02, 3.66165750e+02, 1.86826648e+02, 8.57785621e+02,\n",
       "       3.32516364e+01, 2.17515698e+01, 5.15832858e+01, 9.01525277e+02,\n",
       "       1.74498037e+02, 6.77361897e+01, 2.03851436e+02, 9.30774820e+02,\n",
       "       5.62739898e+02, 7.82309917e+02, 1.19676294e+02, 1.84819841e+02,\n",
       "       5.96002601e+02, 1.46155574e+02, 7.89067260e+02, 3.34040385e+02,\n",
       "       1.96310186e+02, 1.83355861e+02, 7.13659479e+02, 1.49239850e+01,\n",
       "       2.32671144e+02, 3.28335042e+02, 8.74088951e+01, 6.01930783e+02,\n",
       "       8.52931373e+02, 8.24552083e+01, 4.40783412e+02, 7.57087186e+02,\n",
       "       5.09908885e+02, 6.03688101e+01, 6.83180368e+02, 1.41094959e+02,\n",
       "       4.30133527e+02, 9.00440041e+02, 2.43485680e+02, 9.19491231e+02,\n",
       "       7.04922524e+02, 7.77975901e+02, 4.76265679e+02, 9.85424624e+02,\n",
       "       3.99420488e+02, 7.04375111e+02, 8.22178871e+02, 3.04429553e+02,\n",
       "       6.00627468e+02, 6.64215690e+02, 9.38039171e+02, 3.60526906e+02,\n",
       "       9.79530346e+02, 2.20777979e+02, 7.72626700e+02, 1.49331667e+02,\n",
       "       1.34427411e+02, 9.95917103e+02, 7.49110505e+02, 3.44143361e+02,\n",
       "       5.27527795e+02, 9.03383946e+02, 5.09703054e+02, 5.77395974e+02,\n",
       "       5.05299659e+02, 7.96652697e+02, 8.56784074e+02, 3.56157769e+02,\n",
       "       8.09594442e+02, 1.40545644e+02, 8.92494199e+02, 3.37239071e+02,\n",
       "       9.07859024e+01, 7.88391360e+02, 7.38236069e+02, 9.26257304e+02,\n",
       "       1.08972366e+02, 5.34164902e+02, 1.67813784e+02, 9.54572386e+02,\n",
       "       8.17813567e+02, 7.09775757e+02, 1.38160382e+02, 5.91101709e+02,\n",
       "       2.77415728e+02, 8.62831980e+02, 7.59640861e+02, 5.49967951e+02,\n",
       "       7.94904680e+02, 5.33773799e+02, 6.31448366e+02, 9.29419352e+02,\n",
       "       6.78760966e+01, 9.08082515e+02, 7.30510555e+02, 9.97466750e+02,\n",
       "       2.57136969e+02, 4.71865248e+02, 1.75695930e+02, 8.69681164e+02,\n",
       "       6.12504953e+02, 3.31207348e+02, 7.52598063e+02, 8.92361086e+02,\n",
       "       6.95075063e+01, 4.51153359e+02, 5.85464191e+01, 1.92306600e+02,\n",
       "       5.07379031e+02, 3.90636333e+02, 5.70053641e+02, 2.12618114e+02,\n",
       "       5.45709109e+02, 4.46869814e+02, 1.43094237e+01, 2.79155177e+02,\n",
       "       2.53572918e+02, 5.87737985e+02, 9.31732615e+02, 1.71607985e+02,\n",
       "       6.30897408e+02, 2.37562089e+02, 8.30967153e+02, 9.38230356e+02,\n",
       "       2.75074017e+02, 3.10566195e+02, 7.11966507e+02, 8.87678749e+02,\n",
       "       1.19696439e+02, 7.75095325e+02, 7.78150359e+02, 2.31022165e+02,\n",
       "       5.54605272e+02, 1.27896315e+02, 3.36364975e+02, 4.76582261e+02,\n",
       "       7.77172126e+02, 7.17222932e+02, 8.71076011e+02, 7.29647062e+02,\n",
       "       9.76248597e+02, 3.63846561e+02, 8.11207463e+02, 1.72849205e+02,\n",
       "       6.48279205e+02, 3.87711086e+02, 5.45980435e+02, 9.23788092e+02,\n",
       "       2.03061408e+02, 1.91856436e+02, 3.38089102e+02, 4.55575378e+02,\n",
       "       8.80042245e+02, 7.55141008e+02, 2.92568188e+02, 5.97209792e+02,\n",
       "       3.04057266e+02, 6.85231395e+02, 4.23413573e+02, 9.07707080e+02,\n",
       "       2.85906045e+02, 3.50870699e+02, 5.81140265e+02, 2.56380736e+02,\n",
       "       2.45327789e+02, 3.24061606e+02, 2.99349677e+02, 8.39333609e+02,\n",
       "       9.28220488e+02, 4.50265827e+02, 8.91053515e+02, 1.76598771e+02,\n",
       "       5.98659341e+02, 9.07060953e+02, 5.91601027e+02, 5.92124661e+02,\n",
       "       8.60809165e+02, 7.74629006e+02, 5.66196852e+02, 7.95394196e+02,\n",
       "       9.45566481e+02, 2.29270693e+02, 2.66752166e+02, 4.84386520e+02,\n",
       "       4.77760441e+02, 4.53060889e+02, 8.74846739e+02, 3.47605420e+02,\n",
       "       5.63995525e+02, 6.97031714e+02, 7.25915479e+02, 9.89810536e+02,\n",
       "       8.45483848e+02, 7.06436979e+02, 4.76494345e+02, 5.08426747e+02,\n",
       "       1.87564701e+02, 9.86377373e+02, 5.13078527e+02, 6.43746687e+02,\n",
       "       9.80543335e+02, 1.32273279e+02, 8.04024857e+02, 1.04187186e+02,\n",
       "       4.84679371e+02, 2.29587751e+02, 4.41588946e+02, 5.77358317e+02,\n",
       "       2.14859270e+02, 1.99980922e+02, 8.64901257e+02, 8.18150575e+01,\n",
       "       7.34926922e+02, 9.88319297e+02, 9.36768990e+02, 1.84408671e+02,\n",
       "       2.18998114e+02, 1.58668063e+02, 1.48154743e+01, 3.11600403e+02,\n",
       "       1.04652161e+02, 1.19160271e+02, 5.05790997e+02, 2.82488867e+02,\n",
       "       3.68907575e+01, 8.76945129e+02, 4.76653325e+02, 4.91715418e+02,\n",
       "       2.73043766e+02, 4.62724959e+02, 2.85805842e+02, 8.58343455e+01,\n",
       "       3.15739545e+02, 2.51381004e+02, 5.13574271e+02, 1.59992244e+02,\n",
       "       8.55860611e+02, 4.73428126e+02, 6.55740640e+02, 1.24546675e+02,\n",
       "       8.60229848e+02, 3.77940605e+02, 4.38763202e+02, 7.04518518e+02,\n",
       "       8.98063753e+02, 3.22983906e+02, 7.09687693e+02, 1.65616032e+02,\n",
       "       9.39593465e+02, 9.69919334e+02, 6.29820979e+02, 5.55117447e+02,\n",
       "       4.80023300e+02, 6.52623170e+02, 4.31093612e+01, 2.84749277e+02,\n",
       "       8.69841693e+02, 8.40225760e+02, 9.69591288e+02, 3.86637878e+02,\n",
       "       6.04917582e+02, 9.10086162e+02, 8.39327893e+02, 6.13424912e+02,\n",
       "       3.17582214e+02, 2.98698886e+02, 8.81705188e+02, 6.52550743e+02,\n",
       "       8.37182571e+01, 1.69273631e+02, 4.06606315e+02, 5.72126363e+02,\n",
       "       8.89578270e+02, 8.83707325e+01, 8.30158226e+02, 5.41200517e+02,\n",
       "       5.10236480e+02, 3.19777093e+02, 8.49856023e+02, 8.25070817e+02,\n",
       "       8.19443413e+02, 3.77720334e+02, 7.63217127e+02, 9.82864718e+02,\n",
       "       1.19851442e+02, 7.12037225e+02, 1.11294194e+02, 2.90820881e+02,\n",
       "       7.52505306e+01, 5.78610233e+02, 9.77823409e+02, 2.68058035e+02,\n",
       "       2.00867976e+02, 1.11316236e+02, 7.61620617e+02, 9.16285676e+02,\n",
       "       5.72049991e+02, 9.63428745e+02, 2.69657480e+02, 5.06087557e+02,\n",
       "       5.51445539e+02, 6.82801917e+01, 2.24824313e+02, 7.80534570e+02,\n",
       "       4.22663951e+02, 6.50549959e+02, 9.83414764e+01, 7.60771582e+02,\n",
       "       8.74913330e+02, 8.41668933e+02, 8.10027489e+00, 5.18226393e+02,\n",
       "       2.57687145e+02, 1.98717676e+02, 9.92594774e+02, 8.91305214e+02,\n",
       "       3.12466943e+02, 7.79974123e+02, 4.34848610e+02, 9.39555003e+02,\n",
       "       6.17934049e+02, 9.66003169e+02, 2.69362915e+02, 5.43042471e+02,\n",
       "       3.47587323e+02, 7.54239660e+01, 5.41871715e+02, 8.35822303e+02,\n",
       "       8.70286519e+02, 1.56806609e+01, 9.29525432e+01, 7.34153045e+02,\n",
       "       2.51066433e+02, 4.55133120e+02, 3.23997559e+02, 3.32166725e+02,\n",
       "       1.99975780e+02, 7.71678215e+02, 6.88605255e+02, 2.83465680e+02,\n",
       "       2.25065721e+02, 4.62953601e+02, 6.35625889e+01, 6.32296951e+01,\n",
       "       6.75059253e+02, 9.28053195e+01, 8.39515190e+02, 7.53133336e+02,\n",
       "       2.32069581e+02, 7.92282087e+02, 6.30886642e+02, 8.17532435e+02,\n",
       "       1.07236340e+02, 8.15920893e+02, 3.00770778e+02, 7.08299024e+02,\n",
       "       8.11915128e+02, 1.14027679e+02, 2.51879776e+02, 3.51516280e+02,\n",
       "       4.05292560e+02, 8.35900771e+02, 1.88171355e+02, 1.36158560e+02,\n",
       "       1.53800282e+02, 8.56313639e+02, 7.38962115e+02, 3.81237915e+02,\n",
       "       9.45211680e+02, 9.97696666e+02, 8.38592782e+02, 6.75558017e+02,\n",
       "       6.80240435e+02, 6.09061444e+02, 9.61871106e+02, 9.72674557e+02,\n",
       "       2.60104305e+02, 4.26437835e+02, 8.20436184e+01, 2.50577992e+02,\n",
       "       9.86765074e+02, 7.27168214e+02, 2.70912614e+02, 4.81989159e+01,\n",
       "       6.83876884e+02, 7.68146779e+02, 8.05708886e+02, 4.08587206e+02,\n",
       "       3.67840177e+02, 7.76601160e+02, 4.80426063e+02, 8.75230269e+02,\n",
       "       6.24702350e+02, 4.85095231e+02, 7.57535537e+02, 9.05571247e+02,\n",
       "       4.88422206e+02, 8.16846894e+02, 6.15182952e+02, 5.83451902e+02,\n",
       "       1.29848019e+02, 7.65576821e+02, 7.38541265e+02, 2.75726363e+02,\n",
       "       1.85216961e+02, 5.98365237e+02, 1.51566152e+02, 3.88776982e+02,\n",
       "       5.76744030e+02, 2.21793592e+02, 3.65167061e+01, 3.68654674e+02,\n",
       "       5.94084019e+02, 4.10821278e+02, 3.61788767e+01, 3.61268294e+02,\n",
       "       5.44555679e+02, 1.58043472e+02, 1.95261489e+02, 1.10435134e+02,\n",
       "       5.38696193e+02, 9.20792942e+02, 7.00690717e+02, 6.88432821e+02,\n",
       "       1.07371906e+01, 4.43661310e+02, 5.88268180e+02, 9.16697532e+02,\n",
       "       3.64456653e+02, 9.95283718e+02, 3.05656449e+02, 2.19201139e+02,\n",
       "       9.54339217e+02, 2.38006596e+02, 8.35752944e+02, 5.48862525e+02,\n",
       "       6.82601238e+02, 2.50268689e+02, 9.84744811e+02, 1.90176410e+00,\n",
       "       2.33415785e+02, 8.07370454e+02, 1.39795093e+02, 5.00175623e+02,\n",
       "       3.72898696e+02, 2.44790903e+02, 4.40757669e+02, 7.91568509e+02,\n",
       "       6.42457121e+02, 2.05601088e+02, 6.51036630e+02, 8.22208564e+02,\n",
       "       9.71045107e+02, 9.30200200e+02, 8.90323779e+02, 3.62416761e+02,\n",
       "       4.28829678e+02, 5.12236279e+02, 5.50595115e+02, 6.06552310e+02,\n",
       "       4.69077455e+02, 6.27617913e+02, 9.16123072e+02, 5.37878350e+01,\n",
       "       7.90729746e+02, 1.93113243e+02, 2.55443571e+02, 5.19694199e+02,\n",
       "       8.02446030e+01, 6.22975005e+02, 7.90977049e-01, 5.04017048e+01,\n",
       "       2.60985553e+02, 1.49187050e+02, 5.25088980e+02, 4.78760972e+02,\n",
       "       5.78780517e+02, 4.34318719e+02, 5.08156478e+02, 4.93833542e+02,\n",
       "       6.29015356e+01, 7.25447782e+00, 1.36336408e+02, 3.71627619e+02,\n",
       "       7.21229512e+02, 3.21583417e+02, 6.04858846e+02, 5.89812691e+01,\n",
       "       7.98301217e+01, 5.92643849e+02, 1.59222048e+02, 6.18524958e+02,\n",
       "       8.98536489e+02, 3.06734520e+02, 8.59331591e+01, 5.85013339e+02,\n",
       "       7.83715377e+02, 7.77058081e+02, 9.05533130e+02, 7.41522333e+02,\n",
       "       9.49069554e+02, 8.10228740e+02, 5.94773795e+02, 7.61051838e+01,\n",
       "       4.89896447e+02, 6.40509695e+02, 3.36928564e+02, 3.60602210e+02,\n",
       "       6.92820650e+02, 6.92112736e+02, 5.20368227e+02, 2.40251670e+02,\n",
       "       2.03413440e+02, 5.64007585e+02, 2.31058290e+02, 2.80721948e+02,\n",
       "       2.47969664e+02, 1.38386444e+02, 3.41138742e+02, 4.47042932e+02,\n",
       "       2.76676900e+02, 2.48463658e+02, 5.63208583e+02, 3.43993647e+02,\n",
       "       6.04403304e+02, 9.06049676e+02, 6.24262252e+02, 1.59503025e+02,\n",
       "       1.14686041e+02, 6.13732620e+02, 7.11499220e+02, 5.08940483e+02,\n",
       "       4.73382600e+02, 4.21322633e+02, 5.33162126e+02, 7.11280114e+02,\n",
       "       9.64174703e+02, 7.90279478e+02, 9.31406741e+02, 6.28966605e+02,\n",
       "       6.43775638e+02, 4.19287678e+02, 1.21249661e+02, 6.83799549e+02,\n",
       "       6.73932460e+02, 6.86503960e+02, 6.89619792e+02, 3.73132943e+02,\n",
       "       5.36662500e+02, 7.54772902e+01, 1.81811456e+02, 9.48794004e+02,\n",
       "       6.80063827e+02, 2.26843328e+02, 6.51492139e+02, 4.68726061e+02,\n",
       "       8.11619266e+02, 1.98611908e+02, 1.45327022e+02, 4.23100754e+02,\n",
       "       7.50601105e+02, 2.32819263e+02, 4.20759422e+02, 2.02555270e+02,\n",
       "       3.63045682e+02, 2.74938721e+02, 3.98288389e+02, 5.73764179e+02,\n",
       "       6.01968673e+02, 4.55586198e+02, 8.24069255e+02, 9.56341628e+01,\n",
       "       8.56159213e+02, 7.68998469e+02, 1.85584457e+02, 5.93386939e+02])"
      ]
     },
     "execution_count": 66,
     "metadata": {},
     "output_type": "execute_result"
    }
   ],
   "source": [
    "np.random.uniform(0,1000,1000)"
   ]
  },
  {
   "cell_type": "code",
   "execution_count": 67,
   "id": "5d38ba2b-6c5f-42fb-a940-9176511c3c73",
   "metadata": {},
   "outputs": [],
   "source": [
    "x = np.random.uniform(0,1000,10000)"
   ]
  },
  {
   "cell_type": "code",
   "execution_count": 68,
   "id": "be429ea0-c774-4c98-bfa0-e6f66e81f4a6",
   "metadata": {},
   "outputs": [
    {
     "data": {
      "text/plain": [
       "(array([1019.,  971.,  978., 1033.,  953., 1002., 1025., 1075.,  975.,\n",
       "         969.]),\n",
       " array([3.53183554e-02, 1.00029966e+02, 2.00024614e+02, 3.00019262e+02,\n",
       "        4.00013909e+02, 5.00008557e+02, 6.00003205e+02, 6.99997852e+02,\n",
       "        7.99992500e+02, 8.99987148e+02, 9.99981796e+02]),\n",
       " <BarContainer object of 10 artists>)"
      ]
     },
     "execution_count": 68,
     "metadata": {},
     "output_type": "execute_result"
    },
    {
     "data": {
      "image/png": "[encoded data removed]",
      "text/plain": [
       "<Figure size 432x288 with 1 Axes>"
      ]
     },
     "metadata": {
      "needs_background": "light"
     },
     "output_type": "display_data"
    }
   ],
   "source": [
    "plt.hist(x)"
   ]
  },
  {
   "cell_type": "code",
   "execution_count": 69,
   "id": "b5d3bdef-3241-42f4-a6a1-cff358dce87e",
   "metadata": {
    "scrolled": true,
    "tags": []
   },
   "outputs": [],
   "source": [
    "x = np.random.normal(10, 100, 1000)"
   ]
  },
  {
   "cell_type": "code",
   "execution_count": 70,
   "id": "b1855746-e6bd-4df1-87ee-b8e2a7357fa6",
   "metadata": {},
   "outputs": [
    {
     "data": {
      "text/plain": [
       "(array([  1.,  14.,  45., 146., 223., 223., 186., 116.,  31.,  15.]),\n",
       " array([-319.70865616, -257.72450443, -195.7403527 , -133.75620096,\n",
       "         -71.77204923,   -9.7878975 ,   52.19625423,  114.18040596,\n",
       "         176.16455769,  238.14870942,  300.13286115]),\n",
       " <BarContainer object of 10 artists>)"
      ]
     },
     "execution_count": 70,
     "metadata": {},
     "output_type": "execute_result"
    },
    {
     "data": {
      "image/png": "[encoded data removed]",
      "text/plain": [
       "<Figure size 432x288 with 1 Axes>"
      ]
     },
     "metadata": {
      "needs_background": "light"
     },
     "output_type": "display_data"
    }
   ],
   "source": [
    "plt.hist(x)"
   ]
  },
  {
   "cell_type": "code",
   "execution_count": null,
   "id": "8dd22e68-d7d8-4a13-8bb3-e88bd07c4d84",
   "metadata": {},
   "outputs": [],
   "source": []
  },
  {
   "cell_type": "markdown",
   "id": "268adbb8-b2e1-4ef4-9fd3-2794717ed800",
   "metadata": {},
   "source": [
    "# Numpy Random Tutorial\n",
    "\n",
    "[Youtube Video](https://www.youtube.com/watch?v=Eu-GfO9Lj_E)"
   ]
  },
  {
   "cell_type": "code",
   "execution_count": 71,
   "id": "08d968d7-5cad-4e97-b597-975d97dbddf6",
   "metadata": {},
   "outputs": [
    {
     "data": {
      "text/plain": [
       "array([0.57352237])"
      ]
     },
     "execution_count": 71,
     "metadata": {},
     "output_type": "execute_result"
    }
   ],
   "source": [
    "r.rand(1)"
   ]
  },
  {
   "cell_type": "code",
   "execution_count": 72,
   "id": "82230db5-98f7-49b3-af3f-765ef07e281e",
   "metadata": {},
   "outputs": [
    {
     "data": {
      "text/plain": [
       "array([[-0.08651826,  0.38363084],\n",
       "       [-1.9578781 ,  1.14292933]])"
      ]
     },
     "execution_count": 72,
     "metadata": {},
     "output_type": "execute_result"
    }
   ],
   "source": [
    "r.randn(2,2)"
   ]
  },
  {
   "cell_type": "code",
   "execution_count": 73,
   "id": "fb75cac9-bef8-4183-911e-313e9547624d",
   "metadata": {},
   "outputs": [
    {
     "data": {
      "text/plain": [
       "5"
      ]
     },
     "execution_count": 73,
     "metadata": {},
     "output_type": "execute_result"
    }
   ],
   "source": [
    "r.randint(10)"
   ]
  },
  {
   "cell_type": "code",
   "execution_count": 74,
   "id": "b321ae60-cd5e-428e-a97b-1ee8fc49c3ca",
   "metadata": {},
   "outputs": [
    {
     "data": {
      "text/plain": [
       "92"
      ]
     },
     "execution_count": 74,
     "metadata": {},
     "output_type": "execute_result"
    }
   ],
   "source": [
    "r.randint(10, 100)"
   ]
  },
  {
   "cell_type": "code",
   "execution_count": 75,
   "id": "3669a4bd-9128-47c9-994c-3fce1c2bc96d",
   "metadata": {},
   "outputs": [
    {
     "data": {
      "text/plain": [
       "array([[36, 75, 11, 24, 13, 95, 52, 31, 60, 11],\n",
       "       [13, 71, 30, 83, 92, 99, 89, 96, 55, 49],\n",
       "       [86, 59, 15, 79, 12, 46, 29, 57, 47, 33],\n",
       "       [55, 33, 91, 80, 88, 86, 60, 47, 94, 68],\n",
       "       [93, 64, 71, 15, 37, 24, 58, 92, 59, 15],\n",
       "       [74, 41, 14, 24, 24, 57, 65, 75, 71, 23],\n",
       "       [55, 81, 45, 54, 57, 21, 63, 47, 76, 28],\n",
       "       [30, 37, 69, 37, 48, 63, 75, 65, 67, 94],\n",
       "       [99, 62, 82, 61, 31, 41, 29, 20, 10, 20],\n",
       "       [21, 13, 20, 79, 97, 62, 10, 22, 86, 32]])"
      ]
     },
     "execution_count": 75,
     "metadata": {},
     "output_type": "execute_result"
    }
   ],
   "source": [
    "r.randint(10, 100, size = (10,10))"
   ]
  },
  {
   "cell_type": "code",
   "execution_count": 76,
   "id": "f549613c-a0ad-4ba6-bfb9-08cd3bd8d760",
   "metadata": {},
   "outputs": [],
   "source": [
    "a = np.array([1,2,3,4,5,6,7,8,9])"
   ]
  },
  {
   "cell_type": "code",
   "execution_count": 77,
   "id": "eeedeedf-d8b7-491b-94a1-2e749268c46f",
   "metadata": {},
   "outputs": [
    {
     "data": {
      "text/plain": [
       "array([5, 1, 6, 8, 2])"
      ]
     },
     "execution_count": 77,
     "metadata": {},
     "output_type": "execute_result"
    }
   ],
   "source": [
    "r.choice(a,5)"
   ]
  },
  {
   "cell_type": "code",
   "execution_count": 78,
   "id": "c19f1b0e-2559-4395-8071-69cb7d30ce80",
   "metadata": {},
   "outputs": [
    {
     "data": {
      "text/plain": [
       "array([2, 3, 9, 7, 8])"
      ]
     },
     "execution_count": 78,
     "metadata": {},
     "output_type": "execute_result"
    }
   ],
   "source": [
    "r.choice(a,5, replace = False)"
   ]
  },
  {
   "cell_type": "markdown",
   "id": "fca5f0fd-9ac7-403e-b81a-8a3cbd9e1bfc",
   "metadata": {},
   "source": [
    "# Distributions"
   ]
  },
  {
   "cell_type": "markdown",
   "id": "eb2d3b1c-3e66-49e7-bf8c-c60ff0656df9",
   "metadata": {},
   "source": [
    "### Uniform Distributions\n",
    "\n",
    "[Offical Documentation](https://numpy.org/doc/stable/reference/random/generated/numpy.random.Generator.uniform.html#numpy.random.Generator.uniform)\n",
    "\n",
    "When looking through the differnt types of distrubutions I began to frighten myself again so I began with what looked like the easiest distribution to explain - The Uniform Distribution.\n",
    "\n",
    "Uniform distribution is a probability distribution where each value within a certin range is equally likly to occur and values outside the range never occur[[8]](https://www.youtube.com/watch?v=uial-2girHQ)\n",
    "\n",
    "Samples are uniformly distributed over the half-open interval [low, high) (includes low, but excludes high). In other words, any value within the given interval is equally likely to be drawn by uniform.[[9]](https://numpy.org/doc/stable/reference/random/generated/numpy.random.Generator.uniform.html#numpy.random.Generator.uniform)"
   ]
  },
  {
   "cell_type": "code",
   "execution_count": 79,
   "id": "7c084d7f-a817-481e-bb88-607e088e4990",
   "metadata": {},
   "outputs": [],
   "source": [
    "#Remove hashtag from line below and run cell for help from python\n",
    "# help(np.random.uniform)"
   ]
  },
  {
   "cell_type": "code",
   "execution_count": 80,
   "id": "caad7a8a-e765-45ad-af3c-80054b0a60ee",
   "metadata": {},
   "outputs": [
    {
     "name": "stdout",
     "output_type": "stream",
     "text": [
      "[[[2.13985559 6.47981684]\n",
      "  [7.22267647 9.22731289]\n",
      "  [6.95380263 4.44938856]]\n",
      "\n",
      " [[8.75811541 9.68258514]\n",
      "  [4.00196789 7.9769045 ]\n",
      "  [7.09631773 2.25006551]]\n",
      "\n",
      " [[4.5729063  4.45257956]\n",
      "  [7.65180384 3.59417396]\n",
      "  [3.48058696 4.80840285]]\n",
      "\n",
      " [[7.02816452 7.05658846]\n",
      "  [2.28180487 3.02750659]\n",
      "  [4.44594686 3.60198249]]\n",
      "\n",
      " [[9.58980964 6.11246481]\n",
      "  [6.34508403 1.07969213]\n",
      "  [2.70499123 5.91417035]]]\n"
     ]
    }
   ],
   "source": [
    "# Generating Random Uniform Data - floating numbers between 1 and 10\n",
    "# 1,2 or 3 arrays of data with 3 \"rows\" and 5 \"columns\"\n",
    "x = np.random.uniform(1,10,size = (5,3,2))\n",
    "print(x)"
   ]
  },
  {
   "cell_type": "markdown",
   "id": "c25172cd-eb69-484d-9ff6-7f77a7159594",
   "metadata": {},
   "source": [
    "You can use this to generate datasets of all sizes with random numbers and these can then be broken down into smaller arrays, depending on how you have reqested the uniform function to display the data - you can play with the figures after size to see what I mean here\n",
    "```\n",
    "x = np.random.uniform(1,10,size = (5,3,2))\n",
    "print(x)\n",
    "```\n",
    "For example the above will generate 1 multi-dimensional large array with all the data (Floating numbers beteween 1-10, 5 smaller arrays each containing 3 arrays with 2 values in each. This is very easily manipulated and someone could quickly generate a sample numerial data set using real world parameters and run test cases on that data - this can be used in a varity of ways from statistical sampling, medical testing, computer simulation and even gambling. "
   ]
  },
  {
   "cell_type": "markdown",
   "id": "f2bbfc0e-d3bb-4e8c-a2f0-cce974df580e",
   "metadata": {},
   "source": [
    "Visualising the data also fairly easy - if every number is equally likly to be generated, then the distrbuition should be flat - as seen below."
   ]
  },
  {
   "cell_type": "code",
   "execution_count": 84,
   "id": "821f6482-7e44-4060-a6f5-d67c51fd3bfe",
   "metadata": {},
   "outputs": [
    {
     "data": {
      "image/png": "[encoded data removed]",
      "text/plain": [
       "<Figure size 432x288 with 1 Axes>"
      ]
     },
     "metadata": {
      "needs_background": "light"
     },
     "output_type": "display_data"
    }
   ],
   "source": [
    "# Visualising Random Data (100000 numbers between 1 and 10)\n",
    "\n",
    "# A kernel density estimate (KDE) plot is a method for visualizing the distribution\n",
    "#of observations in a dataset, analagous to a histogram. KDE represents the data using \n",
    "#a continuous probability density curve in one or more dimensions.\n",
    "#https://seaborn.pydata.org/generated/seaborn.kdeplot.html\n",
    "sns.kdeplot(r.uniform(1,10, size=100000))\n",
    "plt.show()"
   ]
  },
  {
   "cell_type": "markdown",
   "id": "cf9bd264-9b27-4cfb-b3dc-baf9eb1e8223",
   "metadata": {},
   "source": []
  },
  {
   "cell_type": "markdown",
   "id": "f9216ac1-2673-45dc-94c4-84f6922dc092",
   "metadata": {},
   "source": [
    "As you can see from the plot above the distribution of the generated numbers is pretty evenly spread out over the parameters I have passed it, similar quantity of 1s 2s 3s and so on. However be careful - the less numbers you have and the wider the distribution values the more uneven the \"Uniform\" data may become. The bigger number of values you look for the more even the plot will become."
   ]
  },
  {
   "cell_type": "code",
   "execution_count": 82,
   "id": "07d21d4a-927c-47d1-8775-0aaefa69fdea",
   "metadata": {},
   "outputs": [
    {
     "data": {
      "image/png": "[encoded data removed]",
      "text/plain": [
       "<Figure size 432x288 with 1 Axes>"
      ]
     },
     "metadata": {
      "needs_background": "light"
     },
     "output_type": "display_data"
    }
   ],
   "source": [
    "sns.kdeplot(r.uniform(1,100000, size=10))\n",
    "plt.show()"
   ]
  },
  {
   "cell_type": "markdown",
   "id": "d245b401-abfe-4be1-b9b6-0c02815662f1",
   "metadata": {},
   "source": [
    "The Code above is not a good example of uniform distribution as the varience is too wide (between 1 and 100000) and only looking for 10 values - if all are as likely to come up as another this means that you may come back with distintly different looking plots every time you run it!! So better to spot check the data structure behind the plot before deciding to use uniform for all your number generation needs."
   ]
  },
  {
   "cell_type": "code",
   "execution_count": null,
   "id": "9615de95-1863-4693-b804-d7ec20d3886e",
   "metadata": {},
   "outputs": [],
   "source": []
  },
  {
   "cell_type": "code",
   "execution_count": null,
   "id": "7dc59ff3-2dd9-498c-9e31-7d073cae01ea",
   "metadata": {},
   "outputs": [],
   "source": []
  },
  {
   "cell_type": "code",
   "execution_count": null,
   "id": "45184bd6-eccd-4619-a071-12acc75b975e",
   "metadata": {},
   "outputs": [],
   "source": []
  },
  {
   "cell_type": "code",
   "execution_count": null,
   "id": "03dfb685-1227-4042-bf2f-7f32584611fc",
   "metadata": {},
   "outputs": [],
   "source": []
  },
  {
   "cell_type": "code",
   "execution_count": null,
   "id": "d82013f7-1d46-49fc-83bc-cea9fad030e0",
   "metadata": {},
   "outputs": [],
   "source": []
  },
  {
   "cell_type": "code",
   "execution_count": null,
   "id": "3bcad16b-05b5-480d-9866-0e1e1f2d7265",
   "metadata": {},
   "outputs": [],
   "source": []
  },
  {
   "cell_type": "code",
   "execution_count": null,
   "id": "330fc9d1-dacd-4731-b804-575cae7c6eb5",
   "metadata": {},
   "outputs": [],
   "source": []
  },
  {
   "cell_type": "code",
   "execution_count": null,
   "id": "949bc585-29ab-453a-8545-756fefbd4e38",
   "metadata": {},
   "outputs": [],
   "source": []
  },
  {
   "cell_type": "code",
   "execution_count": null,
   "id": "730527f3-cd6f-43fb-af22-1192a09d5096",
   "metadata": {},
   "outputs": [],
   "source": []
  },
  {
   "cell_type": "code",
   "execution_count": null,
   "id": "c33f5fdf-a9fa-4037-bb19-a160224d21d9",
   "metadata": {},
   "outputs": [],
   "source": []
  },
  {
   "cell_type": "code",
   "execution_count": null,
   "id": "79e65c92-54cb-42b2-86ce-8650ea8f5d57",
   "metadata": {},
   "outputs": [],
   "source": []
  },
  {
   "cell_type": "code",
   "execution_count": null,
   "id": "4583d994-8f17-43e1-85b5-63e7bc81588c",
   "metadata": {},
   "outputs": [],
   "source": []
  },
  {
   "cell_type": "code",
   "execution_count": null,
   "id": "328a8d54-47f5-4783-93a9-139675d44ca4",
   "metadata": {},
   "outputs": [],
   "source": []
  },
  {
   "cell_type": "code",
   "execution_count": null,
   "id": "480856bb-7383-4384-ac17-5409ffd9a40f",
   "metadata": {},
   "outputs": [],
   "source": [
    "### BINOMIAL DISTRBUTION \n",
    " Binomial distribution is a probability distribution that summarises the likelihood that a variable will take one of two independent values under a given set of parameters.The distribution is obtained by performing a number of Bernoulli trials. [[6]](https://www.geeksforgeeks.org/python-binomial-distribution/)\n",
    " There are a number of criteria that need to be met for the Binomial distribution to work\n",
    " - There must be only 2 possible outcomes.\n",
    " - Each outcome has a fixed probability of occurring. A success has the probability of p, and a failure has the probability of 1 – p.\n",
    " - Each trial is completely independent of all others\n",
    " \n",
    " The binomial random variable represents the number of successes(r) in n successive independent trials of a Bernoulli experiment[[7]](https://www.geeksforgeeks.org/python-binomial-distribution/)"
   ]
  },
  {
   "cell_type": "code",
   "execution_count": 7,
   "id": "aea0593d-39ed-422b-ba28-31177d1d04bd",
   "metadata": {},
   "outputs": [],
   "source": [
    "rng = np.random.default_rng()\n",
    "n, p = 10, .5  # number of trials, probability of each trial\n",
    "s = rng.binomial(n, p, 1000)"
   ]
  },
  {
   "cell_type": "code",
   "execution_count": 6,
   "id": "0c85f430-07e5-4796-9bb8-1156dd8cbcd3",
   "metadata": {},
   "outputs": [
    {
     "name": "stdout",
     "output_type": "stream",
     "text": [
      "[ 4  8  4  7  5  5  5  7  7  6  4  3  2  4  6  4  6  6  7  6  5  5  4  7\n",
      "  3  6  3  6  5  5  5  6  7  6  4  6  7  5  1  5  5  5  7  6  2  6  7  4\n",
      "  6  4  6  5  6  3  4  6  5  4  3  4  5  6  5  3  6  5  6  2  3  6  4  4\n",
      "  5  4  4  5  7  3  7  6  4  7  8  5  4  4  5  3  5  3  6  6  6  7  5  4\n",
      "  5  6  7  4  5  6  3  7  5  6  3  5  8  6  7  4  4  5  5  4  7  5  3  8\n",
      "  5  7  5  5  4  4  7  7  4  4  6  5  5  3  7  5  6  4  7  5  4  7  5  5\n",
      "  3  4  6  5  5  5  6  8  7  4  7  7  5  5  5  4  8  7  3  2  3  5  6  4\n",
      "  4  4  4  5  6  5  6  7  4  6  5  5  2  6  5  6  7  4  5  5  5  5  4  6\n",
      "  6  4  5  7  6  7  3  6  5  6  8  6  5  3  5  5  3  3  5  4  7  6  2  2\n",
      "  5  5  7  2  4  8  3  4  4  6  4  5  8  4  3  7  4  8  7  3  5  3  3  8\n",
      "  6  4  3  4  4  6  6  7  4  3  6  8  5  2  4  4  7  6  4  6  2  5  7  6\n",
      "  1  5  7  4  5  4  5  4  8  6  7  5  8  6  4  2  4  4  3  7  2  4  6  3\n",
      "  7  1  6  4  5  6  6  5  5  6  6  6  6  3  6  5  6  4  5  5  8  7  5  7\n",
      "  5  3  7  6  3  6  6  7  7  8  4  5  5  7  6  5  3  2  5  6  7  5  3  6\n",
      "  2  7  3  3  4  3  5  3  5  3  4  6  7  5  5  7  7  7  5  4  5  5  8  6\n",
      "  4  7  4  6  6  8  7  7  4  4  4  6  6  4  4  7  5  6  6  7  6  6  5  4\n",
      "  7  7  3  3  5  5  3  6  5  2  5  4  6  7  5  6  5  5  7  5  4  3  4  6\n",
      "  8  5  6  5  4  5  4  8  6  7  3  3  5  8  1  4  4  5  4  5  4  4  4  4\n",
      "  8  5  5  7  7  5  5  2  4  4  2  5  3  4  3  5  5  5  1  5  4  6  3  6\n",
      "  6  5  5  5  6  3  8  5  7  3  3  7  7  6  4  6  4  4  2  6  7  5  7  4\n",
      "  5  6  7  4 10  3  5  4  6  4  7  5  3  6  7  4  7  5  4  6  5  3  5  7\n",
      "  5  6  2  2  8  4  4  5  6  3  6  6  4  4  6  6  6  5  8  8  5  4  4  6\n",
      "  4  2  5  6  5  2  4  3  3  3  4  7  8  4  6  6  3  3  5  6  5  5  6  4\n",
      "  2  5  3  4  7  5  7  5  6  5  4  2  4  5  4  4  7  6  7  8  5  4  4  3\n",
      "  2  3  5  5  3  4  7  7  8  3  4  5  5  5  4  4  5  5  3  5  2  5  6  3\n",
      "  6  7  3  4  6  7  4  5  4  5  4  8  3  8  7  5  5  4  2  6  5  8  6  6\n",
      "  4  7  2  6  2  6  2  4  6  5  4  5  4  2  9  4  6  4  6  5  4  6  6  6\n",
      "  4  3  6  6  3  5  4  4  5  5  3  6  6  4  4  7  5  6  6  6  5  4  4  6\n",
      "  5  5  1  8  4  8  6  7  8  6  6  5  5  7  5  5  2  6  5  3  5  8  6  5\n",
      "  4  3  5  5  4  8  6  7  5  1  4  6  4  5  4  4  4  4  3  5  7  2  8  5\n",
      "  5  5  5  7  7  7  5  6  5  6  3  6  6  5  5  8  4  5  5  6  2  4  4  7\n",
      "  6  5  5  2  7  8  3  6  6  6  6  3  3  6  5  4  6  1  4  3  3  3  4  8\n",
      "  5  6  6  4  6  6  3  5  5  7  5  2  5  5  5  7  5  4  6  5  5  1  8  6\n",
      "  7  6  4  4  4  6  9  5  6  7  5  3  7  4  6  7  4  5  6  6  6  5  4  6\n",
      "  8  4  6  5  6  6  4  5  6  5  6  5  2  5  3  4  5  6  8  6  5  5  4  4\n",
      "  4  4  7  3  5  3  6  4  4  5  7  8  4  5  6  7  6  6  3  3  4  3  6  5\n",
      "  5  5  3  5  4  5  7  3  3  4  7  3  7  5  6  3  5  7  4  5  3  4  6  5\n",
      "  3  5  7  3  8  7  4  7  6  8  3  3  5  5  6  5  6  5  6  6  3  4  6  6\n",
      "  3  7  4  7  8  5  3  3  4  4  8  6  5  5  4  6  5  7  5  4  3  3  5  6\n",
      "  5  6  5  6  4  6  5  6  6  3  6  3  5  5  9  5  3  6  8  5  7  5  4  4\n",
      "  7  5  6  7  5  6  5  8  6  5  5  4  6  6  5  3  6  3  2  3  5  5  6  6\n",
      "  6  8  5  8  4  8  7  6  7  7  6  4  4  5  6  3]\n"
     ]
    }
   ],
   "source": [
    "print(s)"
   ]
  },
  {
   "cell_type": "code",
   "execution_count": null,
   "id": "a8d9ad40-0c30-43e7-aa7d-0055efb9cdcb",
   "metadata": {},
   "outputs": [],
   "source": []
  }
 ],
 "metadata": {
  "kernelspec": {
   "display_name": "Python 3",
   "language": "python",
   "name": "python3"
  },
  "language_info": {
   "codemirror_mode": {
    "name": "ipython",
    "version": 3
   },
   "file_extension": ".py",
   "mimetype": "text/x-python",
   "name": "python",
   "nbconvert_exporter": "python",
   "pygments_lexer": "ipython3",
   "version": "3.8.8"
  }
 },
 "nbformat": 4,
 "nbformat_minor": 5
}
