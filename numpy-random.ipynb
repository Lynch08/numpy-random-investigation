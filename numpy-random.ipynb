{
 "cells": [
  {
   "cell_type": "markdown",
   "id": "802b95a7-9275-4fe6-91fe-5979b531e466",
   "metadata": {},
   "source": [
    "<br>\n",
    "\n",
    "# An investigation into the numpy.random package\n",
    "\n",
    "\n",
    "<ins>[NUMPY OFFICAL DOCUMENTATION](https://numpy.org/doc/stable/reference/random/generator.html)<ins>"
   ]
  },
  {
   "cell_type": "markdown",
   "id": "b2fe2d7d-190e-4e98-83c1-80ef5c5056b1",
   "metadata": {},
   "source": [
    "# <ins>WHAT IS NUMPY<ins>\n",
    "\n",
    "\"NumPy is the fundamental package for scientific computing in Python. It is a Python library that provides a multidimensional array object, various derived objects (such as masked arrays and matrices), and an assortment of routines for fast operations on arrays, including mathematical, logical, shape manipulation, sorting, selecting, I/O, discrete Fourier transforms, basic linear algebra, basic statistical operations, random simulation and much more.\"[[1]](https://numpy.org/doc/1.19/user/whatisnumpy.html)  \n",
    "That is the official explaination for Numpy from the offial documentation V1.19. This a bit wordy and frankly frightening when first read by a novice to programming who has not done a lot of mathamatics in the last decade. So I found it easier to first try to gleen some insight into the Numpy libary by simply googling 'What is Numpy?' and using a resource like W3Schools[[2]](https://www.w3schools.com/python/numpy/numpy_intro.asp) or Real Python[[3]](https://realpython.com/tutorials/numpy/) to give me a less imtimidating description (even if it is a little less robust) of numpy.\n",
    "\n",
    "##### <ins>Arrays<ins>\n",
    "However before I get into Numpy I would first like to define an array in python, as arrays are the foudation of how numpy is able to manipulate data.\n",
    "In simple terms an array is a list of the same data type in python. Once that was clear to me I found the Real Python introduction the best to begin to wrap my head around numpy, its functionality and uses. \"NumPy is a third-party Python library that provides support for large multidimensional arrays and matrices along with a collection of mathematical functions to operate on these elements.\"[[4]](https://realpython.com/tutorials/numpy/) In my own words, Numpy gives you tools to manipulate lists of data, with emphasis on mathematical functionality. \n",
    "\n",
    "##### <ins>Popular uses for Numpy<ins>\n",
    "The numpy.random package has a number typical applications. The most popular include:[[6]](https://github.com/andkoc001/fun-with-numpy-random/blob/master/exploring-random-numpy.ipynb)\n",
    "\n",
    " - random number generation\n",
    " - choice from a list\n",
    " - creation of dummy data (e.g. for demonstration of some other functionalities)\n",
    " - simulation of statistical distribution\n",
    " - hypothesis testing (assessment of how reasonable the observed data is, assuming a hypothesis is true)\n",
    " - shuffling existing data (permutation - random reordering of entries in an array)\n",
    " - simulation of uncertainty\n",
    " - simulation of noise.\n",
    " \n",
    " \n",
    " \n"
   ]
  },
  {
   "cell_type": "markdown",
   "id": "3ec3ecd8-25c1-4ee3-8b9d-5f0976eba035",
   "metadata": {},
   "source": [
    "### <ins>A Brife History of Numpy<ins>\n",
    "Although online much of the credit of the creation of Numpy goes to Travis Oliphant in 2006[[7]](https://en.wikipedia.org/wiki/Travis_Oliphant), much of the actual code was written by a group of graduate students who \"upended the already well-established ecosystem of research software—backed by millions in funding and many hundreds of highly qualified engineers\"[[8]](https://numpy.org/history/). It is now relied on by scientists, engineers, data analysts and many other professions around the world. "
   ]
  },
  {
   "cell_type": "markdown",
   "id": "f4772b76-25ec-46d2-87b1-c8d361c5ea16",
   "metadata": {},
   "source": [
    "### <ins>Installing numpy<ins>\n",
    "Numpy is a libary in the python package so if you have downloaded some version of python (I would reccomend anaconda) then simply import it in to your code using:\n",
    "\n",
    "```import numpy as np```\n",
    "\n",
    "np is the standard abbreviation for numpy in Python\n",
    "\n",
    "\n",
    "**Here is a link to the offical installation documentation: https://numpy.org/install/**"
   ]
  },
  {
   "cell_type": "markdown",
   "id": "2587be45-e181-412f-a752-43d38e7f5fcb",
   "metadata": {},
   "source": [
    "### <ins>Importing numpy.random library and version check<ins>"
   ]
  },
  {
   "cell_type": "markdown",
   "id": "ef64815a-6fd6-426f-bb47-bded5b77ac3d",
   "metadata": {},
   "source": [
    " Below are the libaries and sub-libaries I used during the production of this notebook.  \n",
    " Not all were used in the finished product as I somtimes found simpler ways to do what I was trying after further reading.  "
   ]
  },
  {
   "cell_type": "code",
   "execution_count": 1,
   "id": "ecf80495-3ee3-4221-af79-145cc43d01b5",
   "metadata": {},
   "outputs": [],
   "source": [
    "# NumPy package\n",
    "import numpy as np \n",
    "\n",
    "# For Random number Generation\n",
    "import numpy.random as r\n",
    "\n",
    "# To read in data\n",
    "import pandas as pd \n",
    "\n",
    "# Plotting engine\n",
    "import matplotlib.pyplot as plt \n",
    "\n",
    "# For distributions\n",
    "import scipy.stats as stats \n",
    "\n",
    "# For nice plots\n",
    "import seaborn as sns \n",
    "\n",
    "# For possion distribution\n",
    "from scipy.stats import poisson as pois \n",
    "\n",
    "# For hypergeometric distribution\n",
    "from scipy.stats import hypergeom\n"
   ]
  },
  {
   "cell_type": "code",
   "execution_count": 2,
   "id": "e54e6063-dcba-472a-a764-ef5657f096c5",
   "metadata": {},
   "outputs": [
    {
     "data": {
      "text/plain": [
       "'1.20.1'"
      ]
     },
     "execution_count": 2,
     "metadata": {},
     "output_type": "execute_result"
    }
   ],
   "source": [
    "# NumPy version check - in case the most up to date documentation has changed\n",
    "np.version.version "
   ]
  },
  {
   "cell_type": "markdown",
   "id": "c9a1315d-f7a7-4a8a-952b-33471af436cd",
   "metadata": {},
   "source": [
    "### <ins>Simple random data<ins>"
   ]
  },
  {
   "cell_type": "markdown",
   "id": "5e833183-338f-4794-9309-48edb9715c13",
   "metadata": {},
   "source": [
    "\n",
    "Simple Random Data is essentially used to generate random numbers. Within the Simple random data there are a number of different functions (or routines) that can be used to generate random numbers and each function returns results from different distributions, these include uniform distribution, standard normal distribution and continuous uniform distribution. The user can use the function which best serves them.[[9]](https://github.com/johndunne2019/numpy.random/blob/master/numpy-random.ipynb)\n",
    "\n",
    " Simple random data is a collection of methods used for two categories of application:  \n",
    "1) generating of a pseudo random number from a range\n",
    "2) random selection of an object from a list\n",
    "\n",
    "In the first category, there are several methods, producing different outputs. For instance, the np.random.random() generates float numbers from half-open range [0,1), whereas np.random.randint() generates integer numbers from a range.\n",
    "\n",
    "The second category, offers the functionality of randomly picking of objects from an existing list.\n",
    "\n",
    "##### <ins>Random Sampling is really pseudo random!!!!<ins>\n",
    "It is important to mention here before we begin generating values that the routines return numbers that are not truly \"random\". The numbers are generated using the system's current time down to the millisecond, and could be repeated if the routine is called under the same conditions. So the numbers that are generated are referred as to pseudo random. This makes these \"random\" number generators unsuitable for cryptogrophy and encryption as they would be a security risk.[[10]](https://realpython.com/python-random/)[[11]](https://docs.python.org/3/library/random.html) This will be discussed more in the SEED section further down the notebook.\n",
    "\n",
    "\n",
    "Below is a full list of the functions within Simple Random Data taken from: https://numpy.org/doc/stable/reference/random/legacy.html\n",
    "\n",
    " - **rand**(d0, d1, …, dn) - Random values in a given shape.\n",
    " - **randn**(d0, d1, …, dn) - Return a sample (or samples) from the “standard normal” distribution.\n",
    " - **randint**(low[, high, size, dtype]) - Return random integers from low (inclusive) to high (exclusive).\n",
    " - **random_integers**(low[, high, size]) - Random integers of type np.int_ between low and high, inclusive.\n",
    " - **random_sample**([size]) - Return random floats in the half-open interval [0.0, 1.0).\n",
    " - **choice**(a[, size, replace, p]) - Generates a random sample from a given 1-D array\n",
    " - **bytes**(length) - Return random bytes.\n",
    " \n",
    " I have used some of them below to give an example of how they work."
   ]
  },
  {
   "cell_type": "markdown",
   "id": "f7769292-8cda-47a5-838f-2c94f03da367",
   "metadata": {},
   "source": [
    "# <ins>Numpy Random Tutorial<ins>\n",
    "\n",
    "**NB** - Remember I have imported the random module as 'r'\n",
    "\n",
    "I found this brife video helpful to give a practical understanding of Simple Random Data generation: [Youtube Video](https://www.youtube.com/watch?v=Eu-GfO9Lj_E)    \n",
    "\n",
    "Here are some of the subroutines available when generating Simple Random data."
   ]
  },
  {
   "cell_type": "markdown",
   "id": "8457a7e9-0c23-4139-a3c1-ae9d949a4f1f",
   "metadata": {},
   "source": [
    "<br>\n",
    "\n",
    "##### <ins>numpy.random.rand<ins>\n",
    "\n",
    "Explaination: Random values in a given shape. This method returns random float number(s) from uniform distribution on [0,1), i.e. from 0 (inclusive) to 1 (exclusive) \n",
    "\n",
    "\n",
    "Offical Documentation: https://numpy.org/doc/stable/reference/random/generated/numpy.random.rand.html"
   ]
  },
  {
   "cell_type": "code",
   "execution_count": 3,
   "id": "680c1c72-cc31-43be-a078-78df586404da",
   "metadata": {},
   "outputs": [
    {
     "data": {
      "text/plain": [
       "array([[[0.47291163, 0.02901428, 0.90006628],\n",
       "        [0.59130007, 0.8075323 , 0.23994691],\n",
       "        [0.52961874, 0.15682149, 0.85176064],\n",
       "        [0.39426382, 0.8928121 , 0.15981486],\n",
       "        [0.06436018, 0.94361534, 0.11383232],\n",
       "        [0.72285581, 0.41865891, 0.32690357],\n",
       "        [0.91315982, 0.16985613, 0.73246217],\n",
       "        [0.308998  , 0.45987605, 0.29474218],\n",
       "        [0.19479877, 0.16077102, 0.28111148],\n",
       "        [0.0416459 , 0.20146691, 0.29794562]],\n",
       "\n",
       "       [[0.84215293, 0.60159014, 0.16838961],\n",
       "        [0.63939767, 0.49804921, 0.83290263],\n",
       "        [0.45678205, 0.38401553, 0.26047555],\n",
       "        [0.04465727, 0.19359623, 0.72178677],\n",
       "        [0.04807862, 0.22737078, 0.96475314],\n",
       "        [0.89414638, 0.55196294, 0.86148943],\n",
       "        [0.99633289, 0.72598177, 0.90354131],\n",
       "        [0.64011013, 0.08637128, 0.74625254],\n",
       "        [0.78147423, 0.30325868, 0.49892934],\n",
       "        [0.14635741, 0.65285028, 0.45088746]]])"
      ]
     },
     "execution_count": 3,
     "metadata": {},
     "output_type": "execute_result"
    }
   ],
   "source": [
    "# Generating Random Data - floating numbers between 0 and 1\n",
    "# 1 full array containing 2 other arrays, each with 10 arrays containing 3 elements in each of those arrays \n",
    "r.rand(2,10, 3)\n"
   ]
  },
  {
   "cell_type": "markdown",
   "id": "0fbdbfaf-785a-46c6-8251-266c797f8d51",
   "metadata": {},
   "source": [
    "Something interesting I did notice was if you multiply the 3 values passed from the argument - that will return the number of elements you have requested.  \n",
    "```r.rand(2,10,3)``` (2 x 10 x 3 = 60) - I tried this multiple ways and always seemed to get the same number of random values returned, but the shape of my data was different.  \n",
    "It was a good way for me to understand how to \"shape\" the data in a certain way if required.\n"
   ]
  },
  {
   "cell_type": "markdown",
   "id": "40374612-37d4-4e2e-89e1-16b6a6636d62",
   "metadata": {},
   "source": [
    "**Visualisation of rand using pyplot (uniform distribution)**"
   ]
  },
  {
   "cell_type": "code",
   "execution_count": 4,
   "id": "e2cf4077-f8e8-41b1-9e0b-7bb358de37fc",
   "metadata": {},
   "outputs": [
    {
     "name": "stdout",
     "output_type": "stream",
     "text": [
      "These are the numbers gernerated by the rand function: [[0.99281085 0.88783224 0.99340348 0.31652734 0.81075723 0.22717472\n",
      "  0.74071108 0.03977767 0.70890549 0.55836661 0.60021172 0.06734273\n",
      "  0.72917846 0.27001901 0.71567516 0.99322957 0.89794675 0.52322758\n",
      "  0.38050453 0.28910899 0.52271492 0.51397171 0.64464953 0.34223987\n",
      "  0.67489955 0.21884095 0.6190505  0.92293768 0.43999465 0.62510989\n",
      "  0.55795612 0.72732043 0.80214987 0.75058733 0.41645524 0.99146199\n",
      "  0.83938922 0.72334994 0.78558419 0.3332977 ]\n",
      " [0.09446398 0.41340437 0.1419993  0.31983373 0.57405994 0.05969985\n",
      "  0.04581073 0.43351872 0.30569779 0.42794841 0.74495218 0.77814096\n",
      "  0.73213236 0.19761268 0.92946078 0.92209844 0.22264322 0.11903723\n",
      "  0.6616129  0.79502886 0.54233741 0.01234306 0.64279841 0.74585302\n",
      "  0.31436372 0.47930837 0.4802329  0.19264407 0.78260589 0.78030299\n",
      "  0.23800664 0.10078274 0.28353609 0.6333146  0.76438372 0.01628891\n",
      "  0.95941579 0.23160234 0.29302998 0.38315078]]\n"
     ]
    },
    {
     "data": {
      "image/png": "[encoded data removed]",
      "text/plain": [
       "<Figure size 432x288 with 1 Axes>"
      ]
     },
     "metadata": {
      "needs_background": "light"
     },
     "output_type": "display_data"
    }
   ],
   "source": [
    "# Create a variable\n",
    "rand = r.rand(2,40)\n",
    "print('These are the numbers gernerated by the rand function:',rand)\n",
    "\n",
    "# Generate histogram using variable\n",
    "plt.hist(rand)\n",
    "\n",
    "# Title of plot\n",
    "plt.title('Visualisation of rand using pyplot (uniform distribution) ')\n",
    "\n",
    "# Show plot\n",
    "plt.show()"
   ]
  },
  {
   "cell_type": "markdown",
   "id": "0f345a8c-5dea-43fe-b00f-6881d2f6f5c7",
   "metadata": {},
   "source": [
    "<br>\n",
    "\n",
    "##### <ins>numpy.random.randn<ins>\n",
    "\n",
    "Explaination: Return a sample (or samples) from the “standard normal” distribution.\n",
    "\n",
    "\"If positive int_like arguments are provided, randn generates an array of shape (d0, d1, ..., dn), filled with random floats sampled from a univariate “normal” (Gaussian) distribution of mean 0 and variance 1. A single float randomly sampled from the distribution is returned if no argument is provided.\"\n",
    "\n",
    "Offical Documentation: https://numpy.org/doc/stable/reference/random/generated/numpy.random.randn.html"
   ]
  },
  {
   "cell_type": "code",
   "execution_count": 5,
   "id": "87779eb1-a780-43d8-8d4e-69d823d61f67",
   "metadata": {},
   "outputs": [
    {
     "name": "stdout",
     "output_type": "stream",
     "text": [
      "The first argument decides how many columns of data to be generated:\n",
      "[ 1.07442992 -1.69885521]\n",
      "The second argument decides how many rows of data to be generated:\n",
      "[[-0.53358414  1.97711303]\n",
      " [ 1.35840369  0.2111032 ]]\n",
      "The third argument decides how many arrays will be created:\n",
      "[[[-0.07108225 -0.34278568]\n",
      "  [-1.73297043 -2.07082597]\n",
      "  [-0.35871305  1.59785562]\n",
      "  [ 0.74627359 -0.75200755]]\n",
      "\n",
      " [[-1.39374085 -1.13722095]\n",
      "  [-0.2898084   0.01091887]\n",
      "  [ 0.78171376  0.47939347]\n",
      "  [-0.62523797 -1.50656315]]]\n"
     ]
    }
   ],
   "source": [
    "# randn is used to generate an array with 2 rows of data\n",
    "randn_list = np.random.randn(2)\n",
    "print(\"The first argument decides how many columns of data to be generated:\")\n",
    "print(randn_list)\n",
    "\n",
    "# randn generated an array with 2 rows and 2 columns\n",
    "randn_list2 = np.random.randn(2, 2)\n",
    "print(\"The second argument decides how many rows of data to be generated:\")\n",
    "print(randn_list2)\n",
    "\n",
    "# 3rd argument grnerates a the number of arrays that should be created from the first two arguments\n",
    "randn_list3 = np.random.randn(2, 4, 2)\n",
    "print(\"The third argument decides how many arrays will be created:\")\n",
    "print(randn_list3)"
   ]
  },
  {
   "cell_type": "markdown",
   "id": "ef249dc6-db5e-4b33-84d3-b7a04b52e17a",
   "metadata": {},
   "source": [
    "<br>\n",
    "\n",
    "**Visualisation of randn using pyplot (normal distribution)**"
   ]
  },
  {
   "cell_type": "code",
   "execution_count": 6,
   "id": "2f07d974-2034-4c06-958c-e25992533124",
   "metadata": {},
   "outputs": [
    {
     "data": {
      "image/png": "[encoded data removed]",
      "text/plain": [
       "<Figure size 432x288 with 1 Axes>"
      ]
     },
     "metadata": {
      "needs_background": "light"
     },
     "output_type": "display_data"
    }
   ],
   "source": [
    "randn_values = r.randn(500)\n",
    "# I have generated an array with 500 values using randn\n",
    "plt.hist(randn_values)\n",
    "plt.title('Visualisation of randn using pyplot (normal distribution) ')\n",
    "plt.show()\n",
    "# I have used matplotlib.pyplot to create a histogram of the array generated by randn\n",
    "# There is a cluster of values around 0 (normal distribution)\n",
    "# We can see now visually randn has returned random values with mean 0 and standard deviation of 1 "
   ]
  },
  {
   "cell_type": "markdown",
   "id": "de66e193-5bd1-44ce-9fbc-324aca185cdc",
   "metadata": {},
   "source": [
    "Below there is a function that I found [here](https://www.machinelearningplus.com/plots/matplotlib-tutorial-complete-guide-python-plot-examples/) called 'go' in the pyplot libary that sometimes gives a different \"view\" of the data - even though it is the same data as above (if you have run the notebook in sequence) in \"randn_values\".  \n",
    "We can see the concentration of values between -3 and 3 with most values remaining around the mean of 0.  \n",
    "Some may find this easier to understand - I personally like the histogram."
   ]
  },
  {
   "cell_type": "code",
   "execution_count": 7,
   "id": "b60d5bd0-c568-47a3-8872-fe9c377d6425",
   "metadata": {},
   "outputs": [
    {
     "data": {
      "text/plain": [
       "[<matplotlib.lines.Line2D at 0x21a053cde50>]"
      ]
     },
     "execution_count": 7,
     "metadata": {},
     "output_type": "execute_result"
    },
    {
     "data": {
      "image/png": "[encoded data removed]",
      "text/plain": [
       "<Figure size 432x288 with 1 Axes>"
      ]
     },
     "metadata": {
      "needs_background": "light"
     },
     "output_type": "display_data"
    }
   ],
   "source": [
    "# generate scatter plot using \"randn_values\" and GO function from pyplot\n",
    "plt.plot(randn_values, 'go')"
   ]
  },
  {
   "cell_type": "markdown",
   "id": "9a3bf848-f8e6-4811-b030-7536cb82a5d2",
   "metadata": {},
   "source": [
    "<br>\n",
    "\n",
    "##### <ins>numpy.random.randint<ins>\n",
    "\n",
    "Explaination: Return random integers from low (inclusive) to high (exclusive).\n",
    "\n",
    "Return random integers from the “discrete uniform” distribution of the specified dtype in the “half-open” interval [low, high). If high is None (the default), then results are from [0, low).  The size parameter tells NumPy how many observations are to be generated, and can be organised in a multi-dimensional array.\n",
    "\n",
    "Offical Documentation: https://numpy.org/doc/stable/reference/random/generated/numpy.random.randint.html"
   ]
  },
  {
   "cell_type": "code",
   "execution_count": 8,
   "id": "c9d05f46-1a57-4caf-92f7-d06ba78daeb6",
   "metadata": {},
   "outputs": [
    {
     "data": {
      "text/plain": [
       "7"
      ]
     },
     "execution_count": 8,
     "metadata": {},
     "output_type": "execute_result"
    }
   ],
   "source": [
    "# Return an integer from 0 (inclusive) to 10 (exclusive)\n",
    "r.randint(10)"
   ]
  },
  {
   "cell_type": "code",
   "execution_count": 9,
   "id": "6825b6ea-c967-477c-acda-a0658e84f46a",
   "metadata": {},
   "outputs": [
    {
     "data": {
      "text/plain": [
       "70"
      ]
     },
     "execution_count": 9,
     "metadata": {},
     "output_type": "execute_result"
    }
   ],
   "source": [
    "# Return an integer from 10 (inclusive) to 100 (exclusive)\n",
    "r.randint(10, 100)"
   ]
  },
  {
   "cell_type": "code",
   "execution_count": 10,
   "id": "24aa15ca-8843-4e4a-8fe2-4d3a7a4b44e8",
   "metadata": {},
   "outputs": [
    {
     "data": {
      "text/plain": [
       "array([[74, 57, 10, 49, 64, 98, 79, 58, 44, 74],\n",
       "       [99, 46, 97, 19, 13, 67, 14, 52, 42, 76],\n",
       "       [61, 76, 40, 56, 97, 54, 30, 65, 47, 64],\n",
       "       [45, 44, 94, 69, 55, 40, 24, 24, 55, 52],\n",
       "       [67, 36, 46, 84, 19, 61, 20, 39, 73, 49]])"
      ]
     },
     "execution_count": 10,
     "metadata": {},
     "output_type": "execute_result"
    }
   ],
   "source": [
    "# Return an integer from 10 (inclusive) to 100 (exclusive)\n",
    "# with 1 big array with all 50 numbers or 5 \"rows\" of arrays of 10 numbers each\n",
    "r.randint(10, 100, size = (5,10))"
   ]
  },
  {
   "cell_type": "markdown",
   "id": "c56b1b80-ae5a-468e-abfc-8d4fbc280545",
   "metadata": {},
   "source": [
    "<br>\n",
    "\n",
    "##### <ins>numpy.random.Generator.choice<ins>\n",
    "\n",
    "Explaination: Generates a random sample from a given array\n",
    "\n",
    "The random.choice method returns objects, which does not necessarily have to be numbers, from an existing list or array. It is possible for the objects to be selected more than once.\n",
    "\n",
    "Offical Documentation:https://numpy.org/doc/stable/reference/random/generated/numpy.random.Generator.choice.html#numpy.random.Generator.choice"
   ]
  },
  {
   "cell_type": "code",
   "execution_count": 11,
   "id": "859837cc-75a4-4c1a-b5b6-88a4ed2299a6",
   "metadata": {},
   "outputs": [
    {
     "data": {
      "text/plain": [
       "array([['MAZDA'],\n",
       "       ['FORD'],\n",
       "       ['FORD'],\n",
       "       ['FORD']], dtype='<U5')"
      ]
     },
     "execution_count": 11,
     "metadata": {},
     "output_type": "execute_result"
    }
   ],
   "source": [
    "\n",
    "# Create an array\n",
    "list = ['MAZDA', 'FORD', 'VOLKSWAGEN', 'FERRARI', 'TESLA']\n",
    "\n",
    "# random selection of objects from the list and indices 0 or 1, arranged into 4x1 array; some results may not appear or may appear more than once\n",
    "np.random.choice(list[:2], size=[4,1]) "
   ]
  },
  {
   "cell_type": "markdown",
   "id": "8b77ce09-3f01-4add-9401-dd1fdff0cb3d",
   "metadata": {},
   "source": [
    "##### Assigning Probability\n",
    "It is also possible to assign a probability for each option.  \n",
    "**NB: Sum of p has to come to 1**"
   ]
  },
  {
   "cell_type": "code",
   "execution_count": 12,
   "id": "15130f07-7414-49f6-adf2-dad3c01fc2cc",
   "metadata": {},
   "outputs": [
    {
     "data": {
      "text/plain": [
       "array(['FERRARI', 'FERRARI', 'FERRARI', 'FERRARI', 'MAZDA', 'FERRARI',\n",
       "       'FERRARI', 'FERRARI', 'FERRARI', 'MAZDA', 'FERRARI', 'FERRARI',\n",
       "       'FERRARI', 'FERRARI', 'FERRARI', 'TESLA', 'MAZDA', 'FERRARI',\n",
       "       'FERRARI', 'VOLKSWAGEN'], dtype='<U10')"
      ]
     },
     "execution_count": 12,
     "metadata": {},
     "output_type": "execute_result"
    }
   ],
   "source": [
    "\n",
    "# In this case FERRARI has a far higher probability of being returned - especially as the size argument increases \n",
    "np.random.choice(list, p=[0.1, 0.1, 0.1, 0.6, 0.1], size=20)\n",
    "\n",
    "# If you cant tell I would like a Ferrari"
   ]
  },
  {
   "cell_type": "markdown",
   "id": "e5e51448-d582-4795-b7d1-12e71cfa932d",
   "metadata": {},
   "source": [
    "<br>\n",
    "\n",
    "##### <ins>numpy.random.RandomState.bytes<ins>\n",
    "    \n",
    "Explaination: Return random bytes - it takes only one argument which is the number of bytes the user wants returned.\n",
    "\n",
    "\"Bytes literals are always prefixed with 'b' or 'B'; they produce an instance of the bytes type instead of the str type. They may only contain ASCII characters; bytes with a numeric value of 128 or greater must be expressed with escapes.\" https://docs.python.org/3/reference/lexical_analysis.html#string-and-bytes-literals\n",
    "This method may be used for a password generator (although it is still a pseudo random value).    \n",
    "\n",
    "To be honest the random.bytes is a little hard to wrap your head around as most of the articles and videos focus on cryptograpy and from my reading it seems that it should only be used in testing and not in for real world encryption - there are other libaries that seem to come much more highly reccomended for this.  \n",
    "    \n",
    "For Example:os.urandom() method is used to generate a string of size random bytes suitable for cryptographic use or we can say this method generates a string containing random characters. https://www.geeksforgeeks.org/python-os-urandom-method/\n",
    "    \n",
    "Offical Documentation: https://numpy.org/doc/stable/reference/random/generated/numpy.random.RandomState.bytes.html#numpy.random.RandomState.bytes"
   ]
  },
  {
   "cell_type": "code",
   "execution_count": 13,
   "id": "dc323526-7dd9-4a4f-acc5-53e3aa0730da",
   "metadata": {},
   "outputs": [
    {
     "data": {
      "text/plain": [
       "b'\\x86\\x98\\x14^\\xef\\x88\\x91\\xad\\x1b\\t'"
      ]
     },
     "execution_count": 13,
     "metadata": {},
     "output_type": "execute_result"
    }
   ],
   "source": [
    "# The parameter passed to the method is the length of the returned string. For example:\n",
    "# generate a random 10-long string of byte literals\n",
    "np.random.bytes(10) "
   ]
  },
  {
   "cell_type": "markdown",
   "id": "2db2ee7e-5a6d-44d5-b714-d9cbf01aa113",
   "metadata": {
    "tags": []
   },
   "source": [
    "<br>\n",
    "\n",
    "##### <ins>numpy.random.Generator.integers - and a simple plot<ins>\n",
    "    \n",
    "This is really a replacement for randint - although randint still works as you saw above.  \n",
    "This is to show a slighly differnent way to generate simple data and plot it.\n",
    "    \n",
    "Explaination: Return random integers from low (inclusive) to high (exclusive), or if endpoint=True, low (inclusive) to high (inclusive). Replaces RandomState.randint (with endpoint=False) and RandomState.random_integers (with endpoint=True)"
   ]
  },
  {
   "cell_type": "code",
   "execution_count": 14,
   "id": "55826406-0dc0-45a8-978c-e0e638924515",
   "metadata": {},
   "outputs": [],
   "source": [
    "# Create variable rng 'random number generator'\n",
    "rng = np.random.default_rng()"
   ]
  },
  {
   "cell_type": "code",
   "execution_count": 15,
   "id": "b406eaf2-f8d4-4624-aae1-0a1a52661f68",
   "metadata": {},
   "outputs": [
    {
     "data": {
      "text/plain": [
       "array([1, 1, 0, 2, 2, 1, 2, 2, 0, 0], dtype=int64)"
      ]
     },
     "execution_count": 15,
     "metadata": {},
     "output_type": "execute_result"
    }
   ],
   "source": [
    "# return 10 random integers between 0 (intclusive) and 3 (exclusive)\n",
    "rng.integers(3, size=10)"
   ]
  },
  {
   "cell_type": "code",
   "execution_count": 16,
   "id": "092d73b8-3496-4e99-8319-6d9d4df93805",
   "metadata": {
    "scrolled": true,
    "tags": []
   },
   "outputs": [],
   "source": [
    "# Creating simple data to plot\n",
    "x = rng.integers(100, size = 10)"
   ]
  },
  {
   "cell_type": "code",
   "execution_count": 17,
   "id": "75635240-5b3a-476d-9e28-ffb46922f359",
   "metadata": {},
   "outputs": [
    {
     "data": {
      "text/plain": [
       "(array([2., 2., 0., 0., 2., 0., 1., 0., 1., 2.]),\n",
       " array([ 1. , 10.6, 20.2, 29.8, 39.4, 49. , 58.6, 68.2, 77.8, 87.4, 97. ]),\n",
       " <BarContainer object of 10 artists>)"
      ]
     },
     "execution_count": 17,
     "metadata": {},
     "output_type": "execute_result"
    },
    {
     "data": {
      "image/png": "[encoded data removed]",
      "text/plain": [
       "<Figure size 432x288 with 1 Axes>"
      ]
     },
     "metadata": {
      "needs_background": "light"
     },
     "output_type": "display_data"
    }
   ],
   "source": [
    "# plot simple histogram\n",
    "plt.hist(x)"
   ]
  },
  {
   "cell_type": "markdown",
   "id": "874535d1-5263-4322-afbb-b664726815c8",
   "metadata": {},
   "source": [
    "### <ins>Permutations<ins>\n",
    "\n",
    "\n",
    "A permutation refers to an arrangement of elements. e.g. [3, 2, 1] is a permutation of [1, 2, 3] and vice-versa.\n",
    "\n",
    "The NumPy Random module provides two methods for this: shuffle() and permutation().[[12]](https://www.w3schools.com/python/numpy/numpy_random_permutation.asp)"
   ]
  },
  {
   "cell_type": "markdown",
   "id": "8523eaa3-f52f-4166-a758-b910d40abd1a",
   "metadata": {},
   "source": [
    "<br>\n",
    "\n",
    "##### <ins>Function random.shuffle<ins>\n",
    "\n",
    "Explaination:np.random.shuffle method randomly reorders the items of the entire set in place, that is original order is overwritten with the new sequence\n",
    "\n",
    "\n",
    "Offical Documentation:https://numpy.org/doc/stable/reference/random/generated/numpy.random.RandomState.shuffle.html#numpy.random.RandomState.shuffle"
   ]
  },
  {
   "cell_type": "code",
   "execution_count": 18,
   "id": "9be01f26-1c68-4bd4-885b-e052f3869f01",
   "metadata": {},
   "outputs": [
    {
     "name": "stdout",
     "output_type": "stream",
     "text": [
      "Original Order: [1, 2, 3, 4, 5]\n",
      "Shuffled: [5, 1, 4, 3, 2]\n"
     ]
    }
   ],
   "source": [
    "list_1 = [1,2,3,4,5]\n",
    "\n",
    "# in original order\n",
    "print('Original Order:',list_1)\n",
    "\n",
    "# in new order, overwriting the original\n",
    "np.random.shuffle(list_1)\n",
    "print('Shuffled:',list_1) "
   ]
  },
  {
   "cell_type": "markdown",
   "id": "7e596194-b2b0-4d59-985a-e628b878202d",
   "metadata": {},
   "source": [
    "\n",
    "**<ins>Using shuffle with a multi dimensional array:<ins>**\n",
    "\n",
    "When worrking with multi dimensional arrays shuffle only changes the order of the arrays, it does not change the order of the contents of the arrays."
   ]
  },
  {
   "cell_type": "code",
   "execution_count": 21,
   "id": "dca4b607-7f32-45d0-b040-787df848e0cf",
   "metadata": {},
   "outputs": [
    {
     "data": {
      "text/plain": [
       "array([[[ 0.28718713, -0.22408823,  0.22322061],\n",
       "        [-1.01631214, -0.79827324, -0.64142506],\n",
       "        [-0.35002598,  0.25491172, -1.21825397],\n",
       "        [ 0.7369196 ,  2.04243855,  0.93554476]],\n",
       "\n",
       "       [[-0.48757697,  0.53411932, -0.01729559],\n",
       "        [ 0.99301191, -0.78290522,  2.02671418],\n",
       "        [-0.10031247, -1.32249463,  0.18429727],\n",
       "        [-1.07304546, -0.28834682,  0.63605102]]])"
      ]
     },
     "execution_count": 21,
     "metadata": {},
     "output_type": "execute_result"
    }
   ],
   "source": [
    "# numpy.random.randn used to generate 5 arrays containing 4 rows and 3 columns of data each\n",
    "shuf = np.random.randn(2, 4, 3)\n",
    "\n",
    "# the arrays generated are displayed below\n",
    "shuf\n"
   ]
  },
  {
   "cell_type": "code",
   "execution_count": 22,
   "id": "3bf13869-fd8b-4d18-aee2-5779a95d55b7",
   "metadata": {},
   "outputs": [
    {
     "data": {
      "text/plain": [
       "array([[[-0.48757697,  0.53411932, -0.01729559],\n",
       "        [ 0.99301191, -0.78290522,  2.02671418],\n",
       "        [-0.10031247, -1.32249463,  0.18429727],\n",
       "        [-1.07304546, -0.28834682,  0.63605102]],\n",
       "\n",
       "       [[ 0.28718713, -0.22408823,  0.22322061],\n",
       "        [-1.01631214, -0.79827324, -0.64142506],\n",
       "        [-0.35002598,  0.25491172, -1.21825397],\n",
       "        [ 0.7369196 ,  2.04243855,  0.93554476]]])"
      ]
     },
     "execution_count": 22,
     "metadata": {},
     "output_type": "execute_result"
    }
   ],
   "source": [
    "# numpy.random.shuffle used to change the order of the arrays\n",
    "np.random.shuffle(shuf)\n",
    "\n",
    "# Notice how the contents of the arrays remain in the same order\n",
    "shuf\n"
   ]
  },
  {
   "cell_type": "markdown",
   "id": "82033993-97c9-4457-97c4-542233afe522",
   "metadata": {},
   "source": [
    "<br>\n",
    "\n",
    "#### <ins>Function random.permutation<ins>\n",
    "\n",
    "Explaination:Randomly permute a sequence, or return a permuted range.\n",
    "    \n",
    "np.random.permutation method returns a new array (copy of the original) of the objects from a list, randomly ordered. The output will contain all the objects from the original array, and will appear precisely in the same quantities as in the orignal set.\n",
    "    \n",
    "Offical Documentation: https://numpy.org/doc/stable/reference/random/generated/numpy.random.RandomState.permutation.html#numpy.random.RandomState.permutation"
   ]
  },
  {
   "cell_type": "code",
   "execution_count": null,
   "id": "d12df734-6ed9-47da-8dba-7564b2a026a1",
   "metadata": {},
   "outputs": [],
   "source": [
    "list_1 = [1,2,3,4,5] # list of objects\n",
    "np.random.permutation(list_1) # the original list remains intact"
   ]
  },
  {
   "cell_type": "markdown",
   "id": "f4195b98-8289-46ce-80b1-f8363f952711",
   "metadata": {},
   "source": [
    "\n",
    "It is worth noting that np.random.permutation is built up on np.random.shuffle subroutine, which is used in the former source code. Extra functionality is provided on condition an array is parsed. Otherwise, when an integer is parsed, it behaves as ordinary shuffle function."
   ]
  },
  {
   "cell_type": "markdown",
   "id": "fca5f0fd-9ac7-403e-b81a-8a3cbd9e1bfc",
   "metadata": {},
   "source": [
    "<br>\n",
    "\n",
    "# <ins>Distributions<ins>"
   ]
  },
  {
   "cell_type": "markdown",
   "id": "4610b176-6f05-4435-96ec-46169534b8c2",
   "metadata": {},
   "source": [
    "For this part of the notebook I am going to look at 5 different distributions in the numpy package.\n",
    "\n",
    " - Uniform Distribution\n",
    " - Binomial Distribution\n",
    " - Poisson Distribution\n",
    " - Exponential Distribution\n",
    " - Hypergeometric Distribution"
   ]
  },
  {
   "cell_type": "markdown",
   "id": "eb2d3b1c-3e66-49e7-bf8c-c60ff0656df9",
   "metadata": {},
   "source": [
    "### Uniform Distributions\n",
    "\n",
    "[Offical Documentation](https://numpy.org/doc/stable/reference/random/generated/numpy.random.Generator.uniform.html#numpy.random.Generator.uniform)\n",
    "\n",
    "When looking through the differnt types of distrubutions I began to frighten myself again so I began with what looked like the easiest distribution to explain - The Uniform Distribution.\n",
    "\n",
    "Uniform distribution is a probability distribution where each value within a certin range is equally likly to occur and values outside the range never occur[[8]](https://www.youtube.com/watch?v=uial-2girHQ)\n",
    "\n",
    "Samples are uniformly distributed over the half-open interval [low, high) (includes low, but excludes high). In other words, any value within the given interval is equally likely to be drawn by uniform.[[9]](https://numpy.org/doc/stable/reference/random/generated/numpy.random.Generator.uniform.html#numpy.random.Generator.uniform)"
   ]
  },
  {
   "cell_type": "code",
   "execution_count": 23,
   "id": "7c084d7f-a817-481e-bb88-607e088e4990",
   "metadata": {},
   "outputs": [],
   "source": [
    "#Remove hashtag from line below and run cell for help from python on uniform distributions\n",
    "# help(np.random.uniform)"
   ]
  },
  {
   "cell_type": "code",
   "execution_count": 24,
   "id": "caad7a8a-e765-45ad-af3c-80054b0a60ee",
   "metadata": {},
   "outputs": [
    {
     "name": "stdout",
     "output_type": "stream",
     "text": [
      "[[[8.04447127 9.91185858]\n",
      "  [7.27274339 7.78466009]\n",
      "  [9.10556968 5.63376558]]\n",
      "\n",
      " [[7.96527606 6.12070283]\n",
      "  [6.26177273 8.48999632]\n",
      "  [6.34579488 8.00095047]]\n",
      "\n",
      " [[6.59518773 3.17573786]\n",
      "  [9.89374994 8.34778296]\n",
      "  [4.30818497 3.6377818 ]]\n",
      "\n",
      " [[6.97769105 5.78955369]\n",
      "  [7.43035895 8.93245643]\n",
      "  [1.83263756 1.07898392]]\n",
      "\n",
      " [[7.46775573 3.30671335]\n",
      "  [1.01816489 9.48192418]\n",
      "  [5.64303051 3.64258352]]]\n"
     ]
    }
   ],
   "source": [
    "# Generating Random Uniform Data - floating numbers between 1 and 10\n",
    "x = np.random.uniform(1,10,size = (5,3,2))\n",
    "print(x)"
   ]
  },
  {
   "cell_type": "markdown",
   "id": "c25172cd-eb69-484d-9ff6-7f77a7159594",
   "metadata": {},
   "source": [
    "You can use this to generate datasets of all sizes with random numbers and these can then be broken down into smaller arrays, depending on how you have reqested the uniform function to display the data - you can play with the figures after size to see what I mean here\n",
    "```\n",
    "x = np.random.uniform(1,10,size = (5,3,2))\n",
    "print(x)\n",
    "```\n",
    "For example the above will generate 1 multi-dimensional large array with all the data (Floating numbers beteween 1-10, 5 smaller arrays each containing 3 arrays with 2 values in each. This is very easily manipulated and someone could quickly generate a sample numerial data set using real world parameters and run test cases on that data - this can be used in a varity of ways from statistical sampling, medical testing, computer simulation and even gambling. "
   ]
  },
  {
   "cell_type": "markdown",
   "id": "f2bbfc0e-d3bb-4e8c-a2f0-cce974df580e",
   "metadata": {},
   "source": [
    "Visualising the data also fairly easy - if every number is equally likly to be generated, then the distrbuition should be flat - as seen below."
   ]
  },
  {
   "cell_type": "code",
   "execution_count": 25,
   "id": "821f6482-7e44-4060-a6f5-d67c51fd3bfe",
   "metadata": {},
   "outputs": [
    {
     "data": {
      "image/png": "[encoded data removed]",
      "text/plain": [
       "<Figure size 432x288 with 1 Axes>"
      ]
     },
     "metadata": {
      "needs_background": "light"
     },
     "output_type": "display_data"
    }
   ],
   "source": [
    "# Visualising Random Data (100000 numbers between 1 and 10)\n",
    "\n",
    "# A kernel density estimate (KDE) plot is a method for visualizing the distribution\n",
    "#of observations in a dataset, analagous to a histogram. KDE represents the data using \n",
    "#a continuous probability density curve in one or more dimensions.\n",
    "#https://seaborn.pydata.org/generated/seaborn.kdeplot.html\n",
    "sns.kdeplot(r.uniform(1,10, size=100000))\n",
    "plt.show()"
   ]
  },
  {
   "cell_type": "markdown",
   "id": "f9216ac1-2673-45dc-94c4-84f6922dc092",
   "metadata": {},
   "source": [
    "As you can see from the plot above the distribution of the generated numbers is pretty evenly spread out over the parameters I have passed it, similar quantity of 1s 2s 3s and so on. However be careful - the less numbers you have and the wider the distribution values the more uneven the \"Uniform\" data may become. The bigger number of values you look for the more even the plot will become."
   ]
  },
  {
   "cell_type": "code",
   "execution_count": 26,
   "id": "07d21d4a-927c-47d1-8775-0aaefa69fdea",
   "metadata": {},
   "outputs": [
    {
     "data": {
      "image/png": "[encoded data removed]",
      "text/plain": [
       "<Figure size 432x288 with 1 Axes>"
      ]
     },
     "metadata": {
      "needs_background": "light"
     },
     "output_type": "display_data"
    }
   ],
   "source": [
    "sns.kdeplot(r.uniform(1,100000, size=10))\n",
    "plt.show()"
   ]
  },
  {
   "cell_type": "markdown",
   "id": "d245b401-abfe-4be1-b9b6-0c02815662f1",
   "metadata": {},
   "source": [
    "The Code above is not a good example of uniform distribution as the varience is too wide (between 1 and 100000) and only looking for 10 values - if all are as likely to come up as another this means that you may come back with distintly different looking plots every time you run it!! So better to spot check the data structure behind the plot before deciding to use the uniform distribution for your number generation needs."
   ]
  },
  {
   "cell_type": "markdown",
   "id": "7d846b9a-d4e7-47f0-9585-d2881aae6fd5",
   "metadata": {},
   "source": [
    "### BINOMIAL DISTRBUTION \n",
    " Binomial distribution is the outcome of binary scenarios, for example the toss of a coin. It is a probability distribution that summarises the likelihood that a variable will take one of two independent values under a given set of parameters.The distribution is obtained by performing a number of Bernoulli trials. [[6]](https://www.geeksforgeeks.org/python-binomial-distribution/). It can be thought of as the pobability of a success or failure outcome in an experiment or survey that is repeated multiple times. \n",
    " There are a number of criteria that need to be met for the Binomial distribution to work\n",
    " - There must be only 2 possible outcomes.(Success or Failure)\n",
    " - Each outcome has a fixed probability of occurring. A success has the probability of p, and a failure has the probability of 1 – p.\n",
    " - Each trial is completely independent of all others and probability of success is exactly the same in each event.\n",
    " \n",
    " The binomial random variable represents the number of successes(r) in n successive independent trials of a Bernoulli experiment[[7]](https://www.geeksforgeeks.org/python-binomial-distribution/)\n",
    " \n",
    " The binomial distribution formula is:\n",
    " \n",
    "![](probability-distributions0x.png)  \n",
    "  \n",
    " x = total number of \"successess\"  \n",
    " P = probability of a success in an individual trial  \n",
    " n = number of trials\n",
    " \n",
    " size  = The shape of the returned array\n",
    " \n",
    "   \n",
    "\n",
    " \n",
    " \n",
    "\n",
    "\n",
    " "
   ]
  },
  {
   "cell_type": "markdown",
   "id": "05f10ce4-2420-4271-88d7-050e4ad4afd7",
   "metadata": {},
   "source": [
    "<br>\n",
    "\n",
    "**What is a Binomial Distribution? Real Life Examples:**\n",
    "\n",
    "\"Many instances of binomial distributions can be found in real life. For example, if a new drug is introduced to cure a disease, it either cures the disease (it’s successful) or it doesn’t cure the disease (it’s a failure). If you purchase a lottery ticket, you’re either going to win money, or you aren’t. Basically, anything you can think of that can only be a success or a failure can be represented by a binomial distribution.\"\n",
    "\n",
    "Quote taken from: https://www.statisticshowto.datasciencecentral.com/probability-and-statistics/binomial-theorem/binomial-distribution-formula/\n",
    " \n",
    " Binomial Distribution can also be defined as Discrete Distribution - for example a coin toss is discrete as the results can only be heads or tails - however if you were taking the speed of cars on a motorway it could be differnt every time - 80kmph, 82kmph, 85kmph, 78kmph ..... and so on."
   ]
  },
  {
   "cell_type": "code",
   "execution_count": 27,
   "id": "fbd18b6e-f3c2-4965-a853-1b3cb194f32c",
   "metadata": {},
   "outputs": [
    {
     "name": "stdout",
     "output_type": "stream",
     "text": [
      "[6 3 5 5 7 4 7 6 7 5]\n"
     ]
    }
   ],
   "source": [
    "# This can represent tossing a coin\n",
    "# number of trials 10\n",
    "# probability is .5\n",
    "#shape of array 10\n",
    "\n",
    "x = r.binomial(n=10, p=0.5, size = 10)\n",
    "print(x)"
   ]
  },
  {
   "cell_type": "markdown",
   "id": "11334086-dc8a-43db-bf95-21920f442faf",
   "metadata": {},
   "source": [
    "##### Visualisation of Binomial Distribution"
   ]
  },
  {
   "cell_type": "code",
   "execution_count": 28,
   "id": "c674ae6c-fabf-4a60-8aee-344619498439",
   "metadata": {},
   "outputs": [
    {
     "data": {
      "text/plain": [
       "<seaborn.axisgrid.FacetGrid at 0x21a0555eb80>"
      ]
     },
     "execution_count": 28,
     "metadata": {},
     "output_type": "execute_result"
    },
    {
     "data": {
      "image/png": "[encoded data removed]",
      "text/plain": [
       "<Figure size 360x360 with 1 Axes>"
      ]
     },
     "metadata": {
      "needs_background": "light"
     },
     "output_type": "display_data"
    }
   ],
   "source": [
    "# Probability is 50%\n",
    "sns.displot(r.binomial(n=10, p=0.5, size = 1000), kde=True)\n"
   ]
  },
  {
   "cell_type": "code",
   "execution_count": 29,
   "id": "23846cfb-2972-4d2f-a5f1-e47540fb0dfc",
   "metadata": {},
   "outputs": [
    {
     "data": {
      "text/plain": [
       "<seaborn.axisgrid.FacetGrid at 0x21a054041f0>"
      ]
     },
     "execution_count": 29,
     "metadata": {},
     "output_type": "execute_result"
    },
    {
     "data": {
      "image/png": "[encoded data removed]",
      "text/plain": [
       "<Figure size 360x360 with 1 Axes>"
      ]
     },
     "metadata": {
      "needs_background": "light"
     },
     "output_type": "display_data"
    }
   ],
   "source": [
    "# Probability is 10%\n",
    "sns.displot(r.binomial(n=10, p=0.1, size = 1000), kde=True)"
   ]
  },
  {
   "cell_type": "code",
   "execution_count": 30,
   "id": "beebddd7-4919-42a5-9b91-b3aec3d20c2b",
   "metadata": {},
   "outputs": [
    {
     "data": {
      "text/plain": [
       "<seaborn.axisgrid.FacetGrid at 0x21a0546ca00>"
      ]
     },
     "execution_count": 30,
     "metadata": {},
     "output_type": "execute_result"
    },
    {
     "data": {
      "image/png": "[encoded data removed]",
      "text/plain": [
       "<Figure size 360x360 with 1 Axes>"
      ]
     },
     "metadata": {
      "needs_background": "light"
     },
     "output_type": "display_data"
    }
   ],
   "source": [
    "# Probability is 90%\n",
    "sns.displot(r.binomial(n=10, p=0.9, size = 1000),kde=True)"
   ]
  },
  {
   "cell_type": "markdown",
   "id": "36b9e5ca-1745-46f5-b194-8359908e28ba",
   "metadata": {},
   "source": [
    "##### Binomal vs normal  \n",
    "The difference between normal and binomial distribution is that normal is contineous where as binomial is discrete. However if there are enough data points the plots can be very similar depending on location and scale."
   ]
  },
  {
   "cell_type": "code",
   "execution_count": 31,
   "id": "f866a2f6-8199-400d-b7dc-6df6247fdffa",
   "metadata": {},
   "outputs": [
    {
     "data": {
      "text/plain": [
       "<matplotlib.legend.Legend at 0x21a0556cbb0>"
      ]
     },
     "execution_count": 31,
     "metadata": {},
     "output_type": "execute_result"
    },
    {
     "data": {
      "image/png": "[encoded data removed]",
      "text/plain": [
       "<Figure size 432x288 with 1 Axes>"
      ]
     },
     "metadata": {
      "needs_background": "light"
     },
     "output_type": "display_data"
    }
   ],
   "source": [
    "#Normal distribution\n",
    "sns.kdeplot(r.normal(loc = 50, scale = 5, size = 10000), label = 'Normal')\n",
    "#Binomial distribution\n",
    "sns.kdeplot(r.binomial(n = 100, p = 0.5, size = 10000), label = 'Binomial')\n",
    "plt.legend()"
   ]
  },
  {
   "cell_type": "markdown",
   "id": "31ac644e-02e9-4e0b-bf58-3da1e053fcf2",
   "metadata": {},
   "source": [
    "<br>\n",
    "\n",
    "# The Poisson Distribution "
   ]
  },
  {
   "cell_type": "markdown",
   "id": "dacc224a-1761-465c-bdc4-a5284a929543",
   "metadata": {},
   "source": [
    "https://www.youtube.com/watch?v=cPOChr_kuQs\n",
    "\n",
    "The Poission Distribution is a discrete distribution - similar to the binomial distribution, which is one in which the data can only take on certain values, for example integers.  \n",
    "It describes the number of events occuring in a fixed time interval or \"region of oppertunity\".  \n",
    "Simple example is how many customers did a shop have in a given hour.  \n",
    "An interesting thing about the the Poisson Distribution is it requires only one paramaeter - The expected number of events during the time interval - lambda.   \n",
    "\n",
    "\n",
    "\n",
    "**LAMBDA SYMBOL**  \n",
    "![](lambda.PNG) \n",
    "\n",
    "The Possion Distribution is bounded by 0 to Infinity\n",
    "\n",
    "### Assumptions of the Poisson Distribution\n",
    "\n",
    " - The Rate at which events occur is constant. (ie. The pobability of an event occuring in a certain time interval should be exactly the same for every other time interval of that same length.)\n",
    " - The occurence of one event should not affect the occurence of a subsequent event (ie. Each trial is completely independent of all others and probability of success is exactly the same in each event.)  \n",
    "\n",
    "These assumptions are difficult to hold in reality. As even if we use simple example I gave above of customers in a shop in a given hour, the paramateters around one hour will not match the next. Maybe the shop gets busier a lunch time, or it is buiser on Fridays because there is an event close by that increases customer footfall, or you sell a product that is seasonal so you are buiser at certain times of the year - the possible influences are endless!! "
   ]
  },
  {
   "cell_type": "markdown",
   "id": "257b70b4-54e1-4d71-a963-d0d8ad4f4b1a",
   "metadata": {},
   "source": [
    "### Probability Mass Function (PMF)\n",
    "This is the probability of getting each of the discrete outcome.  \n",
    "\n",
    "![](PMF.PNG)  \n",
    "\n",
    "This is how this would look if:  \n",
    "lambda = 3 (expected number of events)**(NB - There is no requirement for lambda to be a whole number)**  \n",
    "What is the probability of 5 events  \n",
    "\n",
    "![](PMFE.PNG) "
   ]
  },
  {
   "cell_type": "markdown",
   "id": "e698a96e-29c7-466a-8e6a-8657ebe8bde6",
   "metadata": {},
   "source": [
    "##### Poisson distribution in Numpy\n",
    "\n",
    "\n",
    "https://www.youtube.com/watch?v=dGhDzCJryGA"
   ]
  },
  {
   "cell_type": "code",
   "execution_count": 32,
   "id": "f1fd0f2c-6f75-48ab-8a52-5c4f0ae533a5",
   "metadata": {},
   "outputs": [
    {
     "data": {
      "text/plain": [
       "array([2, 5, 8])"
      ]
     },
     "execution_count": 32,
     "metadata": {},
     "output_type": "execute_result"
    }
   ],
   "source": [
    "# Call the poisson random distribution with lambda is 5 with 3 draws\n",
    "np.random.poisson(5,3)"
   ]
  },
  {
   "cell_type": "code",
   "execution_count": 33,
   "id": "ce70fcc2-aa51-4ce4-90ce-932dcec6f97b",
   "metadata": {},
   "outputs": [
    {
     "data": {
      "text/plain": [
       "1.0012215929005928"
      ]
     },
     "execution_count": 33,
     "metadata": {},
     "output_type": "execute_result"
    }
   ],
   "source": [
    "# using the unbiased varience (ddof)\n",
    "# If the averge number of events in a given time period is 1\n",
    "# if you draw that a million times you will get very close to 1\n",
    "np.var(np.random.poisson(1,1000000),ddof = 1)"
   ]
  },
  {
   "cell_type": "markdown",
   "id": "752213bf-77ee-4a40-9847-e61447e6387b",
   "metadata": {},
   "source": [
    "##### Visualisation of Poisson distribution"
   ]
  },
  {
   "cell_type": "markdown",
   "id": "8a364e80-e1e3-4e7b-9b01-0d8ac1ccc62c",
   "metadata": {},
   "source": [
    "See example below where if you draw a million samples where lambda is 1 the overwhelming majority of events will be between 0 and 2 and will steeply drop off the further right you go on the x axis."
   ]
  },
  {
   "cell_type": "code",
   "execution_count": 34,
   "id": "fa0bcbba-2d10-4a7b-a3a8-fbfaf55b72e1",
   "metadata": {},
   "outputs": [
    {
     "data": {
      "text/plain": [
       "(array([3.68007e+05, 3.68500e+05, 1.83311e+05, 6.09580e+04, 0.00000e+00,\n",
       "        1.54830e+04, 3.12100e+03, 5.40000e+02, 7.30000e+01, 7.00000e+00]),\n",
       " array([0. , 0.8, 1.6, 2.4, 3.2, 4. , 4.8, 5.6, 6.4, 7.2, 8. ]),\n",
       " <BarContainer object of 10 artists>)"
      ]
     },
     "execution_count": 34,
     "metadata": {},
     "output_type": "execute_result"
    },
    {
     "data": {
      "image/png": "[encoded data removed]",
      "text/plain": [
       "<Figure size 432x288 with 1 Axes>"
      ]
     },
     "metadata": {
      "needs_background": "light"
     },
     "output_type": "display_data"
    }
   ],
   "source": [
    "plt.hist(np.random.poisson(1,1000000))"
   ]
  },
  {
   "cell_type": "markdown",
   "id": "88663a32-cb4f-4645-9ec8-a146aac3aa55",
   "metadata": {},
   "source": [
    "##### Normal Distribution vs Poisson Distribution\n",
    "\n",
    "Normal distribution is continous whereas poisson is discrete.  \n",
    "But we can see that similar to binomial for a large enough poisson distribution it will become similar to normal distribution with certain std dev and mean.[[9]](https://www.w3schools.com/python/numpy/numpy_random_poisson.asp)"
   ]
  },
  {
   "cell_type": "code",
   "execution_count": 35,
   "id": "7a43bf03-20bd-4aa4-b8cc-8c85bd1c6bb5",
   "metadata": {},
   "outputs": [
    {
     "data": {
      "image/png": "[encoded data removed]",
      "text/plain": [
       "<Figure size 432x288 with 1 Axes>"
      ]
     },
     "metadata": {
      "needs_background": "light"
     },
     "output_type": "display_data"
    }
   ],
   "source": [
    "# Normal distribution\n",
    "sns.kdeplot(r.normal(loc=50, scale=7, size=1000), label='normal')\n",
    "# Poisson distribution\n",
    "sns.kdeplot(r.poisson(lam=50, size=1000), label='poisson')\n",
    "plt.legend()\n",
    "plt.show()"
   ]
  },
  {
   "cell_type": "markdown",
   "id": "3fea454c-0ad5-468d-af74-4bb8847e6ca0",
   "metadata": {},
   "source": [
    "##### Poisson Distribution vs Binomial Distribution\n",
    "\n",
    "\n",
    "The difference is very subtle, it is that, binomial distribution is for discrete trials, whereas poisson distribution is for continuous trials.\n",
    "\n",
    "But for very large n and near-zero p binomial distribution is near identical to poisson distribution such that n * p is nearly equal to lam.[[10]](https://www.w3schools.com/python/numpy/numpy_random_poisson.asp)"
   ]
  },
  {
   "cell_type": "code",
   "execution_count": 36,
   "id": "66dbc4ca-5698-4775-8a08-4ed58a7e9171",
   "metadata": {},
   "outputs": [
    {
     "data": {
      "image/png": "[encoded data removed]",
      "text/plain": [
       "<Figure size 432x288 with 1 Axes>"
      ]
     },
     "metadata": {
      "needs_background": "light"
     },
     "output_type": "display_data"
    }
   ],
   "source": [
    "sns.kdeplot(r.binomial(n=1000, p=0.01, size=1000), label='binomial')\n",
    "sns.kdeplot(r.poisson(lam=10, size=1000), label='poisson')\n",
    "plt.legend()\n",
    "plt.show()"
   ]
  },
  {
   "cell_type": "markdown",
   "id": "0fdbee0d-1a70-48cc-ab57-1322cbe81964",
   "metadata": {},
   "source": [
    "<br>\n",
    "\n",
    "### **Exponential distribution**  \n",
    "numpy.random.exponential function draws results from exponential distribution.\n",
    "\n",
    "This is one of the \"nicer\" distributions I chose as the name is self explanetory and it is one of the easier distributions to be able to visualise in your minds eye.\n",
    "\n",
    "This type of distribution is typically used to describe situations where an object with a constant probability can change its state from one to another in a given unit of time. In other words, if independent events are to occur per unit of time, the exponential distribution describes the time intervals between successive events. There is many application of the distriution in the real situations, for example, the amount of time (beginning now) until an meteor hits the earth has an exponential distribution - and is a little morbid. \n",
    "\n",
    "The NumPy function takes two parameters, the first one being the scale, which relates to the time period, and the other one - size, which is a number of experiments (by default, size = 10).\n",
    "\n",
    "Exponential distribution is a special case of gamma distribution, and is related to Poisson distribution (which is used to describe low-probability events).  \n",
    "\n",
    "Offical Documentation: https://numpy.org/doc/stable/reference/random/generated/numpy.random.RandomState.exponential.html#numpy.random.RandomState.exponential\n",
    "\n",
    "\n",
    "Below is an example of the distribution and the visual representation."
   ]
  },
  {
   "cell_type": "code",
   "execution_count": 37,
   "id": "b912d4b5-cd90-40d6-b34c-aaadb2c28b09",
   "metadata": {},
   "outputs": [
    {
     "data": {
      "text/plain": [
       "<function matplotlib.pyplot.show(close=None, block=None)>"
      ]
     },
     "execution_count": 37,
     "metadata": {},
     "output_type": "execute_result"
    },
    {
     "data": {
      "image/png": "[encoded data removed]",
      "text/plain": [
       "<Figure size 864x432 with 1 Axes>"
      ]
     },
     "metadata": {
      "needs_background": "light"
     },
     "output_type": "display_data"
    }
   ],
   "source": [
    "# Size of the plot (width, height)\n",
    "plt.figure(figsize=(12,6))\n",
    "\n",
    "# The first parameter (scale) relates to time period, the second one (size) - to number of experiments (2 sets of 1000 experiments)\n",
    "expon = np.random.exponential(1, [1000,2]) \n",
    "\n",
    "# The values in bins are grouped by sets of experiment, each in represented by different colour\n",
    "plt.hist(expon, bins=50, alpha=0.9, rwidth=0.8) \n",
    "\n",
    "#Show Plot\n",
    "plt.show"
   ]
  },
  {
   "cell_type": "markdown",
   "id": "feffa2b0-1122-4565-b12c-76e087e601d3",
   "metadata": {},
   "source": [
    "\n",
    "Similarly to normal distribution above, in the below plot, the same histogram is overlayed with the normal probability density function (pdf), for comparison. Again, for the histogram to fit, it must be re-scaled so that the y-axis correspondes to the probability of occurance rather than counter of occurances."
   ]
  },
  {
   "cell_type": "code",
   "execution_count": 38,
   "id": "05c3d66d-599d-403e-b8f6-6840c34d6d89",
   "metadata": {},
   "outputs": [
    {
     "data": {
      "image/png": "[encoded data removed]",
      "text/plain": [
       "<Figure size 864x432 with 1 Axes>"
      ]
     },
     "metadata": {
      "needs_background": "light"
     },
     "output_type": "display_data"
    }
   ],
   "source": [
    "# adapted from https://stackoverflow.com/a/47324702\n",
    "\n",
    "# exponential funtion\n",
    "def dist_func(x, a):\n",
    "    return(a*np.exp(-a*x))\n",
    "\n",
    "fig = plt.figure(figsize=(12, 6)) # size of the plot (width, height)\n",
    "ax = fig.add_subplot(1, 1, 1 )\n",
    "\n",
    "# histogram takes data from the value generated in the above Notebook cell\n",
    "ax.hist(expon, bins=40, alpha=0.5, rwidth=0.6, density=True) # the same format as above\n",
    "\n",
    "# ideal exponential pdf curve, for comparison\n",
    "max_e = np.max(expon) # the largest of the generated values\n",
    "ax.plot(np.linspace(0, max_e, 100), dist_func(np.linspace(0, max_e, 100), 1), 'k', alpha=0.9) # \n",
    "plt.show()"
   ]
  },
  {
   "cell_type": "markdown",
   "id": "801d09e0-408a-40d9-af50-48220e525667",
   "metadata": {},
   "source": [
    "<br>\n",
    "\n",
    "\n",
    "### **Hypergeometric Distribution**\n",
    "\n",
    "The hypergeometric distribution is a discrete probability distribution. It is used when you want to determine the probability of obtaining a certain number of successes without replacement from a specific sample size. This is similar to the binomial distribution, but this time you are not given the probability of a single success. Some example situations to apply this distribution are:\n",
    "\n",
    "\n",
    " - The probability of getting 3 spades in a 5 card hand in poker.\n",
    " - The probability of getting 4 to 5 hearts cards in an opening hand in a game of lives(sometimes called switch)\n",
    " - The probability of drawing 60% males for the first year class from a mixed-gender group randomly selected in a school admissions lottery.\n",
    " \n",
    " \n",
    " \n",
    " \n",
    "Parameters (information) required for hypergeometric computations:\n",
    "\n",
    "To compute the probability mass function (aka a single instance) of a hypergeometric distribution, we need:\n",
    " - The total number of items we are drawing from (called N).\n",
    " -  The total number of desired items in N (called A).\n",
    " - The number of draws from N we will make (called n).\n",
    " - The number of desired items in our draw of n items (called x).  \n",
    " \n",
    "**NB** There are different letters used for these variables depending on the tutorial.\n",
    "You may notice this difference in my code from the formula below\n",
    " \n",
    " \n",
    " \n",
    " **Probability Mass Function (PMF) for hypergeometric distribution**  \n",
    " ![](hypergeodis.png)  \n",
    " You can follow to this [link](https://towardsdatascience.com/hypergeometric-distribution-explained-with-python-2c80bc613bf4) if you would like to dig into the mathamatics behind the different hypergeometric distributions as depending on the scenario you mave have to use a different formula, as you also have the CDF (cumulative distribution function).  \n",
    " \n",
    " \n",
    "Now, in general I tried to avoid using the code in the official documentation up to this point, but for this example it seemed most appropriate as the majority of python articles describing the functionality of the hypergeometric distribution seem to push the user to use scipy (another python libary) when working with this distribution. Even the numpy documentation has a link to the scipy hypergeometric distribution function. See [Scipy documentation here.](https://docs.scipy.org/doc/scipy/reference/reference/generated/scipy.stats.hypergeom.html#scipy.stats.hypergeom) My last example uses the scipy libary as the example given was one of the best I found to describe how the hypergeometric distribution works.\n",
    "\n",
    "Below I have some examples to show hypergeometric distribution."
   ]
  },
  {
   "cell_type": "markdown",
   "id": "18230ad3-f87e-48a5-bac4-42378c8344b0",
   "metadata": {},
   "source": [
    "**Example 1:**  \n",
    "Draw samples from the distribution\n"
   ]
  },
  {
   "cell_type": "code",
   "execution_count": 48,
   "id": "8a9119cf-d454-441d-8688-673f1d82f7f3",
   "metadata": {},
   "outputs": [
    {
     "data": {
      "text/plain": [
       "(array([  8.,   0.,   0.,   0.,   0., 169.,   0.,   0.,   0., 823.]),\n",
       " array([ 8. ,  8.2,  8.4,  8.6,  8.8,  9. ,  9.2,  9.4,  9.6,  9.8, 10. ]),\n",
       " <BarContainer object of 10 artists>)"
      ]
     },
     "execution_count": 48,
     "metadata": {},
     "output_type": "execute_result"
    },
    {
     "data": {
      "image/png": "[encoded data removed]",
      "text/plain": [
       "<Figure size 432x288 with 1 Axes>"
      ]
     },
     "metadata": {
      "needs_background": "light"
     },
     "output_type": "display_data"
    }
   ],
   "source": [
    "# Number of good, number of bad, and number of samples\n",
    "ngood, nbad, nsamp = 100, 2, 10\n",
    "\n",
    "# Use hypergeometric distribution\n",
    "s = r.hypergeometric(ngood, nbad, nsamp, 1000)\n",
    "\n",
    "# Plot findings\n",
    "# Note that it is very unlikely to grab both bad items\n",
    "plt.hist(s)"
   ]
  },
  {
   "cell_type": "markdown",
   "id": "7d776735-d3ee-4b32-9466-f8ea34ff8f37",
   "metadata": {},
   "source": [
    "<br>\n",
    "\n",
    "**Example 2:** \n",
    "\n",
    "Another example from the documentation:  \n",
    "Suppose you have an urn with 15 white and 15 black marbles. If you pull 15 marbles at random, how likely is it that 12 or more of them are one color?\n"
   ]
  },
  {
   "cell_type": "code",
   "execution_count": 52,
   "id": "1283358d-6711-491a-92d3-cacd9f0c033c",
   "metadata": {},
   "outputs": [
    {
     "data": {
      "text/plain": [
       "0.00303"
      ]
     },
     "execution_count": 52,
     "metadata": {},
     "output_type": "execute_result"
    }
   ],
   "source": [
    "s = np.random.hypergeometric(15, 15, 15, 100000)\n",
    "sum(s>=12)/100000. + sum(s<=3)/100000.\n",
    "#   answer = 0.003 ... pretty unlikely!"
   ]
  },
  {
   "cell_type": "markdown",
   "id": "2b52ff5a-bba4-4fde-899a-346b8cc4121b",
   "metadata": {},
   "source": [
    "<br>\n",
    "\n",
    "**Example 3:**(taken from the Scipy documentation)\n",
    "\n",
    "Suppose we have a collection of 20 animals, of which 7 are dogs. Then if we want to know the probability of finding a given number of dogs if we choose at random 12 of the 20 animals, we can initialize a frozen distribution and plot the probability mass function:"
   ]
  },
  {
   "cell_type": "code",
   "execution_count": 50,
   "id": "cf69d84e-6e77-4f52-bd0f-62ff61ca0567",
   "metadata": {},
   "outputs": [],
   "source": [
    "# Create my variables\n",
    "# The hypergeometric distribution models drawing objects from a bin. M is the total number of objects, n is total number of Type I objects.\n",
    "# The random variate represents the number of Type I objects in N drawn without replacement from the total population.\n",
    "[M, n, N] = [20, 7, 12]\n",
    "\n",
    "# use scipy to implement function\n",
    "rv = hypergeom(M, n, N)\n",
    "x = np.arange(0, n+1)\n",
    "pmf_dogs = rv.pmf(x)"
   ]
  },
  {
   "cell_type": "code",
   "execution_count": 43,
   "id": "92c716d3-8473-4dff-b8be-f3af7a1c4f07",
   "metadata": {},
   "outputs": [
    {
     "data": {
      "image/png": "[encoded data removed]",
      "text/plain": [
       "<Figure size 432x288 with 1 Axes>"
      ]
     },
     "metadata": {
      "needs_background": "light"
     },
     "output_type": "display_data"
    }
   ],
   "source": [
    "fig = plt.figure()\n",
    "ax = fig.add_subplot(111)\n",
    "ax.plot(x, pmf_dogs, 'bo')\n",
    "ax.vlines(x, 0, pmf_dogs, lw=2)\n",
    "ax.set_xlabel('# of dogs in our group of chosen animals')\n",
    "ax.set_ylabel('hypergeom PMF')\n",
    "plt.show()\n"
   ]
  },
  {
   "cell_type": "markdown",
   "id": "61a936ab-68ea-4cf6-9f3b-41a1862a7b10",
   "metadata": {},
   "source": [
    "# SEED\n",
    "\n",
    "##### Random or Pseudo Random??\n",
    "\n",
    "So after all that \"random\" number generation and learning about the different ways the values can be interpreted via the Distributions I am now going to go back a step and look at how those numbers were generated. To do this we must look at Random Seed.    \n",
    "When reading up on Random Seed it becomes clear very quickly that the term \"random\" is not a true statment when we talk about Random Number Generation using Numpy - in reality the oxymoronic term \"Pseudo Random\" is more apt. Pseudo-random numbers are computer generated numbers that appear random, but are actually predetermined.https://www.sharpsightlabs.com/blog/numpy-random-seed/\n",
    "\n",
    "``` Most random data generated with Python is not fully random in the scientific sense of the word. Rather, it is pseudorandom: generated with a pseudorandom number generator (PRNG), which is essentially any algorithm for generating seemingly random but still reproducible data.``` https://realpython.com/python-random/\n",
    "\n",
    "\n",
    "```With the advent of computers, programmers recognized the need for a means of introducing randomness into a computer program. However, surprising as it may seem, it is difficult to get a computer to do something by chance. A computer follows its instructions blindly and is therefore completely predictable. (A computer that doesn't follow its instructions in this manner is broken. ``` https://www.random.org/randomness/\n",
    "\n",
    "So in essence the \"Random number Generator\" (RNG) is really using an initial starting point or \"Seed\" of the algorithm to generate values. Because of this RNGs in numpy should not be used in encryption for [security purposes.](https://docs.python.org/3/library/random.html)  \n",
    "\n",
    "\n",
    "The numpy.random.seed function provides the input (i.e., the seed) to the algorithm that generates pseudo-random numbers in NumPy. Importantly, numpy.random.seed doesn’t exactly work all on its own. The numpy.random.seed function works in conjunction with other functions from NumPy. https://www.sharpsightlabs.com/blog/numpy-random-seed/   \n",
    "Specifically, numpy.random.seed works with other function from the numpy.random namespace.\n",
    "\n",
    "**Why would we need to \"SEED\" data from an RNG???**  \n",
    "Well firstly you may want to reproduce your work and Numpy Random Seed makes the code repeatable. This is importent for testing your hypothosis in the data analyitics world.  \n",
    "Also it makes your code easier to share and is a great tool for training purposes as you can ensure the learners are getting the same results as long as the seed is the same and they are using the same inputs.  \n",
    "\n",
    "**Using the Seed**  \n",
    "So below I am going to use the randint function to show how the seed can make your work reproduceable."
   ]
  },
  {
   "cell_type": "markdown",
   "id": "afd3d899-65ff-4932-9932-5ae734b2098a",
   "metadata": {},
   "source": [
    "Example **not** using seed"
   ]
  },
  {
   "cell_type": "code",
   "execution_count": 44,
   "id": "a15a62ab-1785-4261-87a7-1b7a51e28095",
   "metadata": {},
   "outputs": [
    {
     "name": "stdout",
     "output_type": "stream",
     "text": [
      "[3 2 3 6 6 6 6 6 5 6]\n"
     ]
    }
   ],
   "source": [
    "# This cell will reproduce 10 integers from 1-6 (like a dice)\n",
    "q = r.randint(1,7,size = 10)\n",
    "print (q)"
   ]
  },
  {
   "cell_type": "code",
   "execution_count": 45,
   "id": "2dd6f1f4-13fc-4e36-8931-62640104c728",
   "metadata": {},
   "outputs": [
    {
     "name": "stdout",
     "output_type": "stream",
     "text": [
      "[2 1 3 3 3 2 2 2 4 6]\n"
     ]
    }
   ],
   "source": [
    "# This cell has exactly the same code as above but will almost certinly have different results!!\n",
    "q = r.randint(1,7,size = 10)\n",
    "print (q)"
   ]
  },
  {
   "cell_type": "markdown",
   "id": "1230f2f8-d096-455c-8295-014510be15a0",
   "metadata": {},
   "source": [
    "Example **using** seed"
   ]
  },
  {
   "cell_type": "code",
   "execution_count": 46,
   "id": "66d9cdb3-01f9-4a50-b2c0-377f03883a68",
   "metadata": {},
   "outputs": [
    {
     "name": "stdout",
     "output_type": "stream",
     "text": [
      "[5 6 1 4 4 4 2 4 6 3]\n"
     ]
    }
   ],
   "source": [
    "# Using the seed in this cell we can run this cell as many times as we want and the output will remain the same\n",
    "r.seed(0)\n",
    "q = r.randint(1,7,size = 10)\n",
    "print (q)"
   ]
  },
  {
   "cell_type": "code",
   "execution_count": 47,
   "id": "346ef2d1-77d2-4774-9b40-7be409efb0f2",
   "metadata": {},
   "outputs": [
    {
     "name": "stdout",
     "output_type": "stream",
     "text": [
      "[5 6 1 4 4 4 2 4 6 3]\n"
     ]
    }
   ],
   "source": [
    "# We can run the same code in a diffent cell and even then the results will be the same\n",
    "# Your work is now reproducable\n",
    "r.seed(0)\n",
    "q = r.randint(1,7,size = 10)\n",
    "print (q)"
   ]
  },
  {
   "cell_type": "code",
   "execution_count": null,
   "id": "ea6cce4b-1ff3-49ad-8345-8c40e75dc344",
   "metadata": {},
   "outputs": [],
   "source": []
  },
  {
   "cell_type": "code",
   "execution_count": null,
   "id": "443055db-4336-4d3a-be68-107f370e63bf",
   "metadata": {},
   "outputs": [],
   "source": []
  }
 ],
 "metadata": {
  "kernelspec": {
   "display_name": "Python 3",
   "language": "python",
   "name": "python3"
  },
  "language_info": {
   "codemirror_mode": {
    "name": "ipython",
    "version": 3
   },
   "file_extension": ".py",
   "mimetype": "text/x-python",
   "name": "python",
   "nbconvert_exporter": "python",
   "pygments_lexer": "ipython3",
   "version": "3.8.8"
  }
 },
 "nbformat": 4,
 "nbformat_minor": 5
}
