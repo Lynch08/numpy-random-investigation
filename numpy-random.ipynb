{
 "cells": [
  {
   "cell_type": "markdown",
   "id": "802b95a7-9275-4fe6-91fe-5979b531e466",
   "metadata": {},
   "source": [
    "# An investigation into the numpy.random package\n",
    "\n",
    "\n",
    "[NUMPY OFFICAL DOCUMENTATION](https://numpy.org/doc/stable/reference/random/generator.html)"
   ]
  },
  {
   "cell_type": "markdown",
   "id": "b2fe2d7d-190e-4e98-83c1-80ef5c5056b1",
   "metadata": {},
   "source": [
    "# WHAT IS NUMPY\n",
    "\n",
    "\"NumPy is the fundamental package for scientific computing in Python. It is a Python library that provides a multidimensional array object, various derived objects (such as masked arrays and matrices), and an assortment of routines for fast operations on arrays, including mathematical, logical, shape manipulation, sorting, selecting, I/O, discrete Fourier transforms, basic linear algebra, basic statistical operations, random simulation and much more.\"[[1]](https://numpy.org/doc/1.19/user/whatisnumpy.html)  \n",
    "That is the official explaination for Numpy from the offial documentation V1.19. This a bit wordy and frankly frightening when first read by a novice to programming who has not done a lot of maths in the last decade. So I found it easier to first try to gleen some insight into the Numpy libary by simply googling 'What is Numpy?' and using a resource like W3Schools[[2]](https://www.w3schools.com/python/numpy/numpy_intro.asp) or Real Python[[3]](https://realpython.com/tutorials/numpy/) to give me a less imtimidating description (even if it is a little less robust) of numpy.\n",
    "However before I get into Numpy I would first like to define an array in python, as arrays are the foudation of how numpy is able to manipulate data.\n",
    "In simple terms an array is a list of the same data type in python. Once that simple declaration is clear I found the Real Python introduction the best to begin to wrap my head around numpy, its functionality and uses. \"NumPy is a third-party Python library that provides support for large multidimensional arrays and matrices along with a collection of mathematical functions to operate on these elements.\"[[4]](https://realpython.com/tutorials/numpy/) In my own words, Numpy gives you tools to manipulate lists of data, with emphasis on mathematical functionality. "
   ]
  },
  {
   "cell_type": "markdown",
   "id": "3ec3ecd8-25c1-4ee3-8b9d-5f0976eba035",
   "metadata": {},
   "source": [
    "### A Brife History of Numpy\n",
    "Although online much of the credit of the creation of Numpy goes to Travis Oliphant in 2006[[5]](https://en.wikipedia.org/wiki/Travis_Oliphant), much of the actual code was written by a group of graduate students who \"upended the already well-established ecosystem of research software—backed by millions in funding and many hundreds of highly qualified engineers\"[[5]](https://numpy.org/history/). It is now relied on by scientists, engineers, data analysts and many other professions around the world. "
   ]
  },
  {
   "cell_type": "markdown",
   "id": "f4772b76-25ec-46d2-87b1-c8d361c5ea16",
   "metadata": {},
   "source": [
    "### Installing numpy\n",
    "Numpy is a libary in the python package so if you have downloaded some version of python (I would reccomend anaconda) then simply import it in to your code using:\n",
    "\n",
    "```import numpy as np```\n",
    "\n",
    "np is the standard abbreviation for numpy in Python"
   ]
  },
  {
   "cell_type": "code",
   "execution_count": null,
   "id": "ec94999b-e767-489a-a05a-5d2dcecc969b",
   "metadata": {},
   "outputs": [],
   "source": []
  },
  {
   "cell_type": "code",
   "execution_count": null,
   "id": "5de32f1a-347e-464f-b1c8-4ff0632385ce",
   "metadata": {},
   "outputs": [],
   "source": []
  },
  {
   "cell_type": "code",
   "execution_count": null,
   "id": "3758ecf8-2c57-483c-afaf-ccd4f044f9a6",
   "metadata": {},
   "outputs": [],
   "source": []
  },
  {
   "cell_type": "code",
   "execution_count": null,
   "id": "c8784443-cf7a-4695-b6a9-1fc80921039f",
   "metadata": {},
   "outputs": [],
   "source": []
  },
  {
   "cell_type": "code",
   "execution_count": 1,
   "id": "ecf80495-3ee3-4221-af79-145cc43d01b5",
   "metadata": {},
   "outputs": [],
   "source": [
    "import numpy as np\n",
    "import pandas as pd\n",
    "import matplotlib.pyplot as plt\n",
    "import scipy.stats as stats\n",
    "import seaborn as sns"
   ]
  },
  {
   "cell_type": "code",
   "execution_count": 2,
   "id": "ee684d05-1bbf-4e3e-a695-0e181de1db80",
   "metadata": {},
   "outputs": [],
   "source": [
    "import numpy.random as r"
   ]
  },
  {
   "cell_type": "code",
   "execution_count": 3,
   "id": "55826406-0dc0-45a8-978c-e0e638924515",
   "metadata": {},
   "outputs": [],
   "source": [
    "rng = np.random.default_rng()"
   ]
  },
  {
   "cell_type": "code",
   "execution_count": 4,
   "id": "b406eaf2-f8d4-4624-aae1-0a1a52661f68",
   "metadata": {},
   "outputs": [
    {
     "data": {
      "text/plain": [
       "array([0, 1, 1, 1, 1, 0, 1, 0, 1, 1], dtype=int64)"
      ]
     },
     "execution_count": 4,
     "metadata": {},
     "output_type": "execute_result"
    }
   ],
   "source": [
    "rng.integers(2, size=10)"
   ]
  },
  {
   "cell_type": "code",
   "execution_count": 5,
   "id": "e2b48cd3-93d0-46b4-8b8e-b28a1f524cc6",
   "metadata": {},
   "outputs": [
    {
     "data": {
      "text/plain": [
       "array([0, 0, 0, 0, 0, 0, 0, 0, 0, 0], dtype=int64)"
      ]
     },
     "execution_count": 5,
     "metadata": {},
     "output_type": "execute_result"
    }
   ],
   "source": [
    "rng.integers(1, size=10)"
   ]
  },
  {
   "cell_type": "code",
   "execution_count": 6,
   "id": "092d73b8-3496-4e99-8319-6d9d4df93805",
   "metadata": {
    "scrolled": true,
    "tags": []
   },
   "outputs": [],
   "source": [
    "x = rng.integers(100, size = 10)"
   ]
  },
  {
   "cell_type": "code",
   "execution_count": 7,
   "id": "4e2b2df3-69a1-4787-ab97-5fce993ef633",
   "metadata": {},
   "outputs": [],
   "source": [
    "import matplotlib.pyplot as plt"
   ]
  },
  {
   "cell_type": "code",
   "execution_count": 8,
   "id": "75635240-5b3a-476d-9e28-ffb46922f359",
   "metadata": {},
   "outputs": [
    {
     "data": {
      "text/plain": [
       "(array([1., 2., 1., 1., 0., 1., 0., 2., 0., 2.]),\n",
       " array([ 5. , 14.1, 23.2, 32.3, 41.4, 50.5, 59.6, 68.7, 77.8, 86.9, 96. ]),\n",
       " <BarContainer object of 10 artists>)"
      ]
     },
     "execution_count": 8,
     "metadata": {},
     "output_type": "execute_result"
    },
    {
     "data": {
      "image/png": "[encoded data removed]",
      "text/plain": [
       "<Figure size 432x288 with 1 Axes>"
      ]
     },
     "metadata": {
      "needs_background": "light"
     },
     "output_type": "display_data"
    }
   ],
   "source": [
    "plt.hist(x)"
   ]
  },
  {
   "cell_type": "code",
   "execution_count": 9,
   "id": "aafe3b84-13c6-44c8-84fe-77887b387565",
   "metadata": {
    "scrolled": true,
    "tags": []
   },
   "outputs": [
    {
     "data": {
      "text/plain": [
       "array([5.03753427e+02, 9.99162781e+02, 1.04335344e+02, 7.07614279e+01,\n",
       "       7.88669071e+02, 3.43508610e+02, 1.72409883e+02, 4.78596697e+02,\n",
       "       7.48650291e+02, 6.59974698e+02, 7.77315619e+02, 6.86905032e+00,\n",
       "       4.50064188e+01, 8.08437952e+02, 7.41183757e+01, 6.33337738e+02,\n",
       "       1.94971884e+01, 2.31985582e+02, 2.69932298e+02, 1.27725553e+02,\n",
       "       2.50996415e+01, 9.40079754e+02, 1.08822899e+01, 8.81737834e+02,\n",
       "       2.53149662e+02, 9.24749361e+02, 3.18344239e+02, 6.94988708e+02,\n",
       "       4.45688957e+02, 9.74076526e+02, 2.27959241e+01, 2.83499059e+02,\n",
       "       2.69312058e+02, 1.56224224e+02, 1.75576125e+02, 5.74452592e+02,\n",
       "       1.22574057e+01, 3.51164146e+02, 6.67535438e+02, 7.80462925e+02,\n",
       "       3.58633054e+02, 4.46761768e+02, 2.87633348e+02, 1.34156613e+02,\n",
       "       4.22047263e+02, 7.17296787e+02, 2.60062643e+02, 1.31686308e+02,\n",
       "       4.91186853e+02, 8.25129368e+02, 2.60321489e+02, 4.57868566e+02,\n",
       "       4.54627851e+02, 6.11632094e+02, 6.70246559e+02, 6.12508045e+02,\n",
       "       6.37183589e+02, 1.34185338e+02, 8.03604307e+02, 1.80295750e+02,\n",
       "       4.35319004e+02, 6.77715255e+02, 3.66382908e+02, 9.27199689e+02,\n",
       "       9.22196072e+02, 4.73716303e+02, 3.98604516e+02, 6.01703783e+02,\n",
       "       4.55395375e+02, 6.66246437e+01, 2.69008108e+02, 9.12893957e+02,\n",
       "       2.51543981e+02, 4.79392053e+02, 6.27289605e+02, 3.86702128e+01,\n",
       "       1.02357148e+02, 2.29583338e+01, 8.14541260e+02, 9.48655633e+02,\n",
       "       3.83544545e+02, 3.69080868e+02, 1.88351522e+02, 8.99788771e+02,\n",
       "       8.99595770e+02, 8.33536188e+02, 7.68830856e+02, 1.86803597e+02,\n",
       "       2.86062031e+02, 5.27552759e+02, 6.43684497e+02, 8.43289582e+00,\n",
       "       7.54632770e+02, 1.30452712e+02, 6.02109404e+02, 7.21485305e+02,\n",
       "       7.09424140e+02, 8.57472055e+02, 5.73341326e+02, 5.15649459e+02,\n",
       "       3.50310987e+02, 9.39448125e+02, 5.56783091e+02, 4.12972925e+02,\n",
       "       3.61749054e+02, 9.72363733e+02, 9.89995921e+02, 8.59013610e+02,\n",
       "       7.15797460e+02, 2.12893581e+02, 4.57489276e+02, 4.05005487e+01,\n",
       "       9.21962758e+02, 6.54694134e+02, 8.53775839e+02, 7.50627659e+02,\n",
       "       6.27263928e+02, 6.70290600e+02, 2.76512438e+02, 7.95666908e+02,\n",
       "       3.71124030e+02, 5.31187822e+02, 2.45100079e+02, 9.79385631e+02,\n",
       "       8.69725010e+02, 7.71949409e+02, 6.04012200e+02, 8.09898943e+01,\n",
       "       5.04196454e+02, 3.43941501e+02, 6.02167057e+02, 4.58115595e+02,\n",
       "       1.81625552e+01, 4.89859189e+02, 1.22360770e+01, 7.51521165e+02,\n",
       "       8.15088988e+01, 4.49390763e+02, 6.28917679e+02, 4.69349271e+02,\n",
       "       8.17370446e+02, 8.69261324e+01, 1.04178403e+02, 5.98974180e+02,\n",
       "       2.55604080e+02, 2.18419095e+02, 2.70330936e+02, 8.72906780e+02,\n",
       "       7.94864760e+02, 1.87051610e+02, 4.60678130e+02, 7.82352925e+02,\n",
       "       8.83748290e+02, 5.63034736e+02, 2.98789176e+01, 4.64766820e+02,\n",
       "       4.27237141e+01, 6.90152083e+02, 1.82229007e+02, 6.52867527e+02,\n",
       "       6.24780845e+02, 3.20489960e+01, 8.13576240e+02, 9.93512014e+02,\n",
       "       7.94675385e+02, 7.37851251e+02, 4.09577832e+02, 8.86697380e+02,\n",
       "       4.21560352e+02, 3.37012043e+02, 7.78265024e+02, 6.78287370e+02,\n",
       "       4.23884341e+02, 2.49465876e+02, 5.89752321e+02, 7.19113458e+02,\n",
       "       7.07188278e+02, 4.63638947e+02, 4.17214931e+02, 2.30329751e+02,\n",
       "       4.55792231e+02, 1.37218510e+01, 1.81542097e+02, 7.50126001e+02,\n",
       "       2.73016726e+01, 2.63698357e+02, 5.66840019e+02, 1.73502073e+02,\n",
       "       4.42042846e+02, 1.03785649e+02, 6.52465641e+02, 4.36838616e+02,\n",
       "       6.67140336e+02, 9.95455739e+02, 1.11888539e+02, 9.16176614e+02,\n",
       "       2.72939048e+00, 8.69901759e+02, 2.25563884e+02, 4.15954146e+02,\n",
       "       8.10397531e+02, 1.35893656e+02, 2.50689163e+02, 3.84025311e+02,\n",
       "       2.15166402e+01, 5.61544788e+02, 1.81038809e+02, 5.40861378e+02,\n",
       "       7.86115599e+00, 3.29817564e+00, 6.58828197e+02, 2.34529922e+02,\n",
       "       6.67271275e+02, 3.50160219e+02, 6.04784363e+02, 9.12885104e+02,\n",
       "       9.12574667e+01, 3.35492421e+02, 4.95940124e+02, 3.38328328e+02,\n",
       "       9.96786413e+02, 7.20235601e+02, 6.47142683e+01, 2.29791610e+02,\n",
       "       5.68186762e+02, 1.00492571e+02, 8.89092910e+02, 8.55807220e-01,\n",
       "       6.90468143e+02, 8.59411276e+02, 2.25151886e+01, 9.62020770e+02,\n",
       "       6.68920295e+02, 2.78329375e+02, 7.85010966e+02, 5.40579718e+02,\n",
       "       3.09587502e+02, 9.09209151e+01, 8.43094087e+02, 6.65797201e+02,\n",
       "       2.80977831e+02, 5.29420655e+02, 2.54310853e+02, 6.50571219e+02,\n",
       "       1.04440564e+02, 1.93231640e+02, 8.40450726e+02, 8.21489204e+02,\n",
       "       5.72078729e+02, 8.15077727e+02, 6.76370269e+02, 7.33228548e+02,\n",
       "       3.23767133e+02, 3.90470413e+01, 9.63208910e+02, 8.89760229e+02,\n",
       "       8.64481002e+02, 9.03627054e+02, 1.07875066e+02, 2.16531923e+02,\n",
       "       6.45487913e+02, 3.62459075e+02, 1.28288751e+01, 9.67727973e+02,\n",
       "       2.61382321e+01, 7.47949662e+02, 4.27591085e+02, 7.99275064e+02,\n",
       "       9.06782569e+01, 7.36721043e+01, 6.43511475e+02, 9.15279413e+02,\n",
       "       6.94500036e+02, 1.94765616e+02, 1.82883007e+02, 2.09936636e+02,\n",
       "       9.14629785e+02, 6.37494874e+02, 8.93007578e+02, 4.30492285e+02,\n",
       "       5.12070039e+02, 9.28771246e+02, 3.93880519e+01, 6.91400708e+02,\n",
       "       9.66223043e+02, 6.48560844e+02, 1.77061973e+02, 5.20424911e+02,\n",
       "       7.82858920e+02, 9.34064354e+02, 2.20457366e+01, 9.76310729e+02,\n",
       "       1.11012631e+02, 1.47889462e+02, 1.00240608e+02, 3.25062901e+02,\n",
       "       8.75747463e+02, 8.92766805e+02, 2.94464775e+02, 5.84110879e+02,\n",
       "       9.57515067e+02, 6.10598673e+02, 2.11476231e+01, 5.15209637e+02,\n",
       "       2.16738565e+02, 6.73251816e+02, 1.76015984e+02, 9.26816112e+02,\n",
       "       1.41300682e+02, 6.38481531e+02, 7.06098287e+02, 7.05417953e+02,\n",
       "       2.01424286e+02, 8.70761720e+02, 1.20724433e+02, 4.59321493e+02,\n",
       "       9.02298627e+02, 7.78584510e+02, 7.70977573e+02, 8.71315753e+02,\n",
       "       3.04421252e+02, 5.01285497e+02, 1.92749576e+02, 6.69689342e+02,\n",
       "       7.81525196e+02, 2.10254204e+02, 8.28769406e+02, 1.94501330e+02,\n",
       "       6.41537919e+02, 2.92222112e+02, 1.63432577e+02, 8.14519658e+02,\n",
       "       2.49796206e+02, 4.78354608e+02, 1.36566272e+02, 8.75100487e+02,\n",
       "       1.96943469e+02, 2.52704555e+01, 6.21855243e+01, 2.44654644e+02,\n",
       "       7.00641983e+02, 6.65185026e+02, 7.53337694e+00, 1.02592181e+01,\n",
       "       6.47619601e+02, 4.27739364e+02, 2.05766645e+01, 1.04370139e+02,\n",
       "       3.59693086e+02, 5.10345301e+01, 1.97110013e+02, 9.67822128e+02,\n",
       "       3.94376450e+02, 6.36006567e+02, 2.39506028e+02, 2.63028475e+02,\n",
       "       5.23170192e+02, 6.94395723e+00, 3.03962933e+01, 8.22647431e+02,\n",
       "       1.99515650e+02, 2.86139600e+02, 7.07155690e+02, 7.97533432e+02,\n",
       "       7.39203079e+02, 5.86603360e+02, 4.28968717e+00, 6.19771468e+02,\n",
       "       6.59739441e+01, 6.92394305e+02, 5.04701918e+02, 8.20556861e+02,\n",
       "       4.28228702e+02, 3.99335921e+02, 7.84680443e+02, 3.57079089e+02,\n",
       "       8.54451437e+02, 7.21556778e+00, 8.36883060e+01, 4.73783400e+02,\n",
       "       4.69764517e+02, 2.93817692e+02, 2.14592255e+02, 4.20247768e+01,\n",
       "       5.14986339e+02, 4.92737001e+02, 5.67873382e+02, 1.64713007e+02,\n",
       "       3.54483385e+02, 9.30757049e+02, 7.25141284e+02, 3.94452606e+02,\n",
       "       1.85450245e+02, 2.74162233e+02, 3.55686677e+02, 9.96821634e+02,\n",
       "       7.23562518e+02, 3.45420452e+02, 9.52296799e+01, 5.39275846e+02,\n",
       "       4.44438431e+02, 9.50252357e+02, 8.74978070e+02, 9.39945806e+02,\n",
       "       2.16289574e+02, 3.21721588e+02, 6.93172980e+02, 7.00157802e+02,\n",
       "       2.24796033e+02, 3.02411869e+02, 2.01643767e+02, 4.84269403e+01,\n",
       "       4.61918084e+02, 5.23633536e+01, 9.68210743e+02, 3.86532392e+01,\n",
       "       9.53054000e+01, 4.38524358e+02, 7.09720999e+02, 4.69224608e+01,\n",
       "       3.18525553e+02, 4.02854411e+02, 4.08578162e+02, 4.58747828e+02,\n",
       "       6.49132899e+02, 1.58800820e+02, 3.07302862e+02, 6.97004666e+02,\n",
       "       1.08033257e+02, 6.63279017e+02, 8.01194845e+01, 7.78594276e+02,\n",
       "       2.83709783e+01, 7.68787892e+02, 3.87860661e+01, 1.97454670e+01,\n",
       "       2.64417742e+02, 2.62821822e+02, 3.83683384e+02, 5.46655726e+02,\n",
       "       3.68425185e+02, 6.80853671e+02, 9.65056555e+02, 2.22488791e+02,\n",
       "       5.36357176e+01, 2.94842313e+02, 3.80897634e+02, 8.06800375e+02,\n",
       "       5.99689750e+02, 6.50107055e+02, 5.97657271e+02, 7.16977580e+02,\n",
       "       4.70051597e+02, 4.56266036e+02, 6.29365837e+02, 3.82709259e+02,\n",
       "       3.30920465e+02, 7.30594768e+02, 2.31372641e+01, 8.15504618e+02,\n",
       "       6.49433188e+02, 7.37325764e+02, 7.96862147e+02, 3.03906126e+02,\n",
       "       5.59293860e+01, 6.17906934e+02, 1.41237829e+02, 6.18090762e+02,\n",
       "       7.04220356e+02, 5.32821624e+02, 7.67679453e+02, 1.72133136e+02,\n",
       "       4.15164077e+02, 5.11748058e+02, 6.88632231e+02, 7.14498171e+02,\n",
       "       8.66150182e+02, 3.83112532e+02, 5.96294828e+02, 1.29335115e+02,\n",
       "       4.73195379e+02, 1.71740257e+02, 6.18950985e+02, 3.64976268e+02,\n",
       "       2.49907029e+02, 9.55392730e+02, 7.13389442e+00, 8.41726581e+01,\n",
       "       6.48472767e+02, 7.19222702e+02, 7.17485549e+02, 9.25887993e+02,\n",
       "       8.42701495e+02, 5.95004197e+02, 4.45581115e+02, 7.44925938e+02,\n",
       "       5.36321756e+02, 2.35328320e+02, 8.56813737e+02, 7.78347365e+02,\n",
       "       6.56330531e+02, 6.14306629e+02, 3.53664000e+02, 3.05419504e+02,\n",
       "       9.02071733e+02, 6.12318907e+02, 1.14088789e+02, 3.73086605e+02,\n",
       "       4.34690481e+02, 6.28048016e+02, 4.42066358e+02, 9.43160239e+02,\n",
       "       3.79748235e+02, 8.08604271e+02, 1.05523520e+02, 1.30327272e+02,\n",
       "       4.53815307e+01, 7.24624592e+02, 6.10263310e+02, 3.90902191e+02,\n",
       "       1.74122275e+02, 7.33141034e+02, 1.83384557e+02, 6.33148428e+02,\n",
       "       9.66292520e+02, 4.37248062e+02, 6.07962716e+02, 5.66010964e+02,\n",
       "       8.25564344e+02, 3.88603549e+02, 6.59533948e+01, 1.45549456e+02,\n",
       "       2.78580943e+02, 5.88348981e+02, 3.41218044e+02, 8.29679990e+02,\n",
       "       1.07632878e+02, 6.53007356e+02, 7.84350806e+02, 9.50771364e+02,\n",
       "       6.80929730e+02, 6.47068734e+02, 8.94051018e+02, 2.02158890e+02,\n",
       "       1.76169968e+02, 5.09428872e+02, 5.54823091e+02, 8.56174359e+02,\n",
       "       5.13757382e+01, 5.13262819e+02, 6.49271362e+02, 8.07944604e+01,\n",
       "       4.57249913e+02, 3.87459889e+02, 3.53944970e+02, 8.53588447e+02,\n",
       "       6.55345983e+02, 7.87227626e+01, 3.43100116e+02, 6.52970409e+02,\n",
       "       7.40103492e+01, 7.95049752e+02, 8.75242889e+02, 6.55751529e+01,\n",
       "       7.04892625e+02, 9.79568634e+02, 8.48922554e+02, 3.91971407e+02,\n",
       "       6.69437207e+02, 1.44343237e+02, 2.28381737e+02, 5.52543809e+01,\n",
       "       2.37883290e+02, 4.71532430e+00, 2.59406162e+01, 5.56159986e+01,\n",
       "       5.08408286e+02, 1.38460560e+02, 7.38735336e+02, 4.34256507e+02,\n",
       "       5.72782979e+01, 1.17381924e+02, 4.09874977e+02, 6.69985512e+02,\n",
       "       2.23956278e+02, 1.06761849e+02, 3.86998686e+02, 6.08365605e+02,\n",
       "       8.84415628e+02, 9.23258648e+02, 9.88603107e+02, 6.74524393e+02,\n",
       "       3.28615239e+02, 8.98252448e+02, 6.75418164e+02, 3.90589261e+02,\n",
       "       7.12720629e+01, 6.92555415e+01, 2.14942543e+02, 1.96471043e+02,\n",
       "       2.55815762e+02, 2.36569793e+02, 7.95062774e+02, 2.70517495e+02,\n",
       "       3.62460343e+02, 2.01269093e+01, 3.17819400e+02, 5.54239783e+02,\n",
       "       4.01746482e+02, 1.00133002e+02, 2.94146403e+01, 2.34149768e+02,\n",
       "       5.91040583e+02, 1.81486602e+01, 6.13662087e+01, 8.11879937e+02,\n",
       "       5.05170617e+02, 4.28590843e+02, 2.88688450e+02, 8.50354090e+02,\n",
       "       7.35704060e+02, 5.87023643e+01, 2.31777608e+02, 5.92933706e+02,\n",
       "       6.22495120e+02, 6.39899623e+02, 2.18914815e+02, 8.10306641e+02,\n",
       "       3.55729017e+02, 7.79225900e+02, 4.85602081e+01, 5.08801573e+02,\n",
       "       9.03861758e+02, 9.85996757e+02, 4.83776263e+01, 7.11223147e+02,\n",
       "       9.27891336e+02, 6.37680455e+02, 6.60436137e+02, 5.21676436e+02,\n",
       "       4.69610524e+02, 6.82703343e+02, 9.08500652e+02, 3.99273252e+02,\n",
       "       4.25856949e+02, 5.71252032e+02, 3.30311296e+01, 6.89226709e+01,\n",
       "       9.71248932e+02, 7.02388565e+02, 8.21520085e+02, 2.25602800e+02,\n",
       "       4.01973679e+02, 8.34787612e+02, 7.72059614e+02, 7.22298426e+02,\n",
       "       3.55229090e+02, 1.99105417e+02, 2.69979254e+02, 7.44543856e+02,\n",
       "       8.38442410e+02, 9.70085024e+02, 5.05903575e+02, 4.94638696e+02,\n",
       "       3.90971725e+02, 1.62179230e+02, 2.28242666e+02, 7.02554891e+01,\n",
       "       7.07193190e+02, 5.88092594e+02, 7.54317767e+02, 4.98399301e+01,\n",
       "       3.98565920e+02, 8.32747129e+02, 2.97804997e+02, 7.46053224e+02,\n",
       "       7.89441677e+02, 2.63269994e+02, 2.93584271e+00, 5.36353205e+02,\n",
       "       1.90195187e+02, 2.40683548e+00, 2.94282870e+02, 4.58682934e+02,\n",
       "       2.07139180e+02, 6.70325639e+02, 4.31182606e+02, 9.03688249e+02,\n",
       "       4.90224785e+02, 5.19837816e+02, 7.62056933e+02, 8.00468257e+02,\n",
       "       6.04723631e+02, 7.43434752e+02, 8.99225333e+02, 4.31602349e+02,\n",
       "       4.49319158e+02, 3.08339480e+02, 3.52828774e+02, 1.21687557e+02,\n",
       "       4.47436363e+02, 8.20912969e+02, 3.84669446e+02, 6.28276435e+02,\n",
       "       4.63271035e+02, 1.14015131e+02, 2.15014073e+02, 6.78116771e+02,\n",
       "       5.22032385e+02, 8.41862947e+01, 1.81397071e+02, 5.58923165e+02,\n",
       "       5.43997842e+02, 7.43393175e+01, 5.21175449e+02, 1.92486692e+02,\n",
       "       3.23224590e+02, 8.14641793e+02, 6.51380555e+02, 4.12900655e+02,\n",
       "       6.81589278e+02, 9.15841934e+01, 6.47492582e+02, 3.04846800e+02,\n",
       "       3.92831643e+02, 5.55472876e+02, 4.84468351e+02, 4.62297396e+02,\n",
       "       1.70242135e+02, 5.60036965e+02, 4.78541862e+02, 3.53467914e+01,\n",
       "       7.32767400e+02, 1.77790718e+02, 9.79120618e+02, 9.57263617e+02,\n",
       "       6.88745206e+02, 2.32285627e+02, 7.43380673e+02, 6.26977237e+02,\n",
       "       7.50121939e+02, 5.33828925e+02, 2.54857560e+02, 7.03667845e+02,\n",
       "       6.11488930e+02, 1.47218871e+02, 8.81893616e+02, 7.13020111e+02,\n",
       "       6.65140299e+02, 4.38525156e+02, 9.89942873e+02, 1.36533344e+02,\n",
       "       2.51347223e+02, 9.37223723e+01, 1.69450808e+02, 5.10069892e+02,\n",
       "       6.81903731e+02, 6.50963983e+02, 1.20868876e+02, 8.84166724e+02,\n",
       "       8.58315831e+02, 9.26613795e+02, 8.58498048e+01, 1.88680332e+01,\n",
       "       4.02944826e+02, 8.28922267e+02, 4.42126504e+02, 8.70574530e+02,\n",
       "       2.17654192e+02, 9.41971813e+02, 1.01953303e+02, 3.91775961e+02,\n",
       "       3.33239582e+01, 9.94125101e+02, 8.76250605e+02, 9.90606222e+02,\n",
       "       9.64376727e+02, 7.42774022e+02, 5.59203575e+02, 4.76870115e+02,\n",
       "       8.83053852e+02, 8.50103612e+02, 5.30545645e+01, 5.10466673e+02,\n",
       "       1.11787889e+02, 2.34119716e+02, 2.62013376e+02, 3.48181024e+02,\n",
       "       5.20177335e+02, 2.76818555e+02, 9.98615379e+02, 7.90970702e+02,\n",
       "       1.14287421e+02, 7.98751433e+02, 8.25921337e+02, 4.55135267e+02,\n",
       "       8.08528663e+02, 5.26108337e+02, 5.42949284e+02, 9.95511311e+02,\n",
       "       7.56557254e+02, 7.74593588e+01, 1.41100213e+02, 3.62844415e+02,\n",
       "       6.05575675e+02, 5.95339996e+02, 9.86039651e+02, 3.27587587e+02,\n",
       "       3.48183252e+02, 7.29094399e+02, 8.18866997e+02, 2.06857424e+02,\n",
       "       9.45421863e+02, 1.70192597e+02, 8.13904255e+01, 2.96002144e+02,\n",
       "       5.91707372e+02, 8.30152961e+02, 8.36514209e+02, 3.28241034e+02,\n",
       "       2.95964233e+02, 6.29425870e+02, 3.46050821e+02, 8.39287792e+02,\n",
       "       7.98804220e+02, 6.39363524e+02, 4.09339376e+02, 4.40387239e+02,\n",
       "       9.81566421e+02, 5.49238103e+02, 9.14473928e+02, 5.43458752e+02,\n",
       "       2.28794863e+02, 7.88482739e+02, 8.98959716e+02, 6.29495865e+02,\n",
       "       1.50285602e+02, 4.19303286e+02, 8.07811336e+02, 9.60599767e+02,\n",
       "       4.83232027e+02, 1.89430966e+02, 6.93011167e+02, 7.03663568e+02,\n",
       "       9.55971977e+02, 5.55260732e+02, 8.62575471e-01, 1.51395524e+02,\n",
       "       1.60785331e+02, 5.72580220e+01, 3.28204552e+02, 1.87191589e+02,\n",
       "       2.82455554e+02, 3.57980923e+02, 5.38267847e+01, 6.43316471e+02,\n",
       "       7.82431479e+02, 9.24339526e+02, 6.58123578e+02, 5.01505841e+02,\n",
       "       2.44774507e+02, 3.85641927e+02, 6.45100800e+02, 2.43205917e+02,\n",
       "       5.98374369e+02, 9.54207637e+02, 4.23867367e+02, 8.42422395e+02,\n",
       "       9.43872191e+02, 1.01874355e+02, 5.80011731e+02, 8.58980332e+02,\n",
       "       7.83286956e+02, 9.73909245e+01, 6.59801191e+02, 6.72482298e+02,\n",
       "       3.38884453e+02, 1.72931625e+02, 2.00765064e+02, 9.50206816e+01,\n",
       "       7.47496864e+02, 8.65089433e+02, 5.99909675e+02, 7.94992319e+02,\n",
       "       9.11235747e+02, 9.06094155e+02, 4.04678356e+02, 8.77660275e+02,\n",
       "       6.04195630e+02, 4.45281012e+01, 5.64354865e+02, 6.52747885e+02,\n",
       "       6.99962575e+02, 6.19483690e+02, 1.18594942e+02, 8.56585055e+02,\n",
       "       9.30878249e+01, 8.32672113e+02, 5.24115467e+02, 3.80289886e+02,\n",
       "       9.24359725e+02, 6.37551780e+02, 6.06935072e+01, 7.76876354e+02,\n",
       "       9.91843652e+02, 7.91931898e+02, 1.28913270e+02, 9.10008397e+02,\n",
       "       5.15847678e+02, 3.49127599e+02, 4.73127256e+02, 6.19509446e+02,\n",
       "       1.83280271e+02, 1.93865672e+01, 7.74949223e+02, 5.68975811e+02,\n",
       "       4.24732175e+02, 4.18140512e+02, 2.54860025e+02, 5.54877728e+01,\n",
       "       3.80495456e+00, 7.68965679e+02, 9.21197863e+02, 1.36588544e+02,\n",
       "       5.80031536e+02, 7.83198137e+02, 5.54781738e+02, 9.21047906e+02,\n",
       "       2.13294862e+02, 3.48957004e+02, 7.85404921e+02, 6.25978313e+01,\n",
       "       6.89221754e+02, 2.81919464e+02, 2.15735442e+02, 5.55314226e+02,\n",
       "       1.77039660e+02, 9.76886825e+02, 4.52098630e+02, 5.13888362e+02,\n",
       "       5.62627755e+02, 8.17345470e+01, 8.83900414e+02, 4.80334733e+01,\n",
       "       4.41953998e+02, 7.94184975e+02, 2.80569458e+02, 1.84403893e+02,\n",
       "       4.08063199e+01, 4.18216087e+02, 3.65662363e+02, 3.07882946e+02,\n",
       "       2.75135399e+02, 2.31387087e+02, 2.02427791e+02, 8.96445034e+02,\n",
       "       8.80147523e+02, 1.49129917e+02, 2.34745095e+02, 4.65178834e+02,\n",
       "       5.26329330e+02, 4.79134172e+02, 8.93552514e+02, 8.60143115e+02,\n",
       "       8.36350482e+02, 9.70388097e+02, 8.36579491e+02, 7.19336681e+02,\n",
       "       1.71758655e+02, 5.94448968e+02, 6.78971681e+02, 2.08628503e+01,\n",
       "       9.57289372e+02, 4.05401525e+01, 7.64053027e+02, 1.09198316e+02,\n",
       "       9.27425479e+02, 6.98835896e+02, 1.35149272e+02, 5.23725640e+02,\n",
       "       2.93006581e+02, 8.71723419e+02, 5.43200582e+02, 4.04739699e+02,\n",
       "       9.83361453e+02, 1.44380169e+02, 8.21687646e+02, 2.42771145e+02,\n",
       "       4.38195337e+02, 9.71687089e+02, 5.53728225e+02, 2.46025265e+02,\n",
       "       9.62150687e+02, 3.62174474e+02, 9.90169516e+02, 6.09842011e+02,\n",
       "       5.85241410e+02, 7.03183173e+02, 9.23179475e+02, 8.95272438e+02])"
      ]
     },
     "execution_count": 9,
     "metadata": {},
     "output_type": "execute_result"
    }
   ],
   "source": [
    "np.random.uniform(0,1000,1000)"
   ]
  },
  {
   "cell_type": "code",
   "execution_count": 10,
   "id": "5d38ba2b-6c5f-42fb-a940-9176511c3c73",
   "metadata": {},
   "outputs": [],
   "source": [
    "x = np.random.uniform(0,1000,10000)"
   ]
  },
  {
   "cell_type": "code",
   "execution_count": 11,
   "id": "be429ea0-c774-4c98-bfa0-e6f66e81f4a6",
   "metadata": {},
   "outputs": [
    {
     "data": {
      "text/plain": [
       "(array([ 971., 1006., 1022., 1006., 1018., 1039.,  997.,  951.,  993.,\n",
       "         997.]),\n",
       " array([6.78083867e-02, 1.00042049e+02, 2.00016289e+02, 2.99990530e+02,\n",
       "        3.99964770e+02, 4.99939011e+02, 5.99913251e+02, 6.99887492e+02,\n",
       "        7.99861732e+02, 8.99835973e+02, 9.99810213e+02]),\n",
       " <BarContainer object of 10 artists>)"
      ]
     },
     "execution_count": 11,
     "metadata": {},
     "output_type": "execute_result"
    },
    {
     "data": {
      "image/png": "[encoded data removed]",
      "text/plain": [
       "<Figure size 432x288 with 1 Axes>"
      ]
     },
     "metadata": {
      "needs_background": "light"
     },
     "output_type": "display_data"
    }
   ],
   "source": [
    "plt.hist(x)"
   ]
  },
  {
   "cell_type": "code",
   "execution_count": 12,
   "id": "b5d3bdef-3241-42f4-a6a1-cff358dce87e",
   "metadata": {
    "scrolled": true,
    "tags": []
   },
   "outputs": [],
   "source": [
    "x = np.random.normal(10, 100, 1000)"
   ]
  },
  {
   "cell_type": "code",
   "execution_count": 13,
   "id": "b1855746-e6bd-4df1-87ee-b8e2a7357fa6",
   "metadata": {},
   "outputs": [
    {
     "data": {
      "text/plain": [
       "(array([  2.,   9.,  25., 111., 216., 286., 213.,  94.,  39.,   5.]),\n",
       " array([-369.81188171, -299.44418861, -229.0764955 , -158.7088024 ,\n",
       "         -88.34110929,  -17.97341619,   52.39427691,  122.76197002,\n",
       "         193.12966312,  263.49735622,  333.86504933]),\n",
       " <BarContainer object of 10 artists>)"
      ]
     },
     "execution_count": 13,
     "metadata": {},
     "output_type": "execute_result"
    },
    {
     "data": {
      "image/png": "[encoded data removed]",
      "text/plain": [
       "<Figure size 432x288 with 1 Axes>"
      ]
     },
     "metadata": {
      "needs_background": "light"
     },
     "output_type": "display_data"
    }
   ],
   "source": [
    "plt.hist(x)"
   ]
  },
  {
   "cell_type": "code",
   "execution_count": null,
   "id": "8dd22e68-d7d8-4a13-8bb3-e88bd07c4d84",
   "metadata": {},
   "outputs": [],
   "source": []
  },
  {
   "cell_type": "markdown",
   "id": "268adbb8-b2e1-4ef4-9fd3-2794717ed800",
   "metadata": {},
   "source": [
    "# Numpy Random Tutorial\n",
    "\n",
    "[Youtube Video](https://www.youtube.com/watch?v=Eu-GfO9Lj_E)"
   ]
  },
  {
   "cell_type": "code",
   "execution_count": 14,
   "id": "08d968d7-5cad-4e97-b597-975d97dbddf6",
   "metadata": {},
   "outputs": [
    {
     "data": {
      "text/plain": [
       "array([0.29312983])"
      ]
     },
     "execution_count": 14,
     "metadata": {},
     "output_type": "execute_result"
    }
   ],
   "source": [
    "r.rand(1)"
   ]
  },
  {
   "cell_type": "code",
   "execution_count": 15,
   "id": "82230db5-98f7-49b3-af3f-765ef07e281e",
   "metadata": {},
   "outputs": [
    {
     "data": {
      "text/plain": [
       "array([[-0.84679277, -0.91200141],\n",
       "       [ 0.79158316,  0.61867161]])"
      ]
     },
     "execution_count": 15,
     "metadata": {},
     "output_type": "execute_result"
    }
   ],
   "source": [
    "r.randn(2,2)"
   ]
  },
  {
   "cell_type": "code",
   "execution_count": 16,
   "id": "fb75cac9-bef8-4183-911e-313e9547624d",
   "metadata": {},
   "outputs": [
    {
     "data": {
      "text/plain": [
       "3"
      ]
     },
     "execution_count": 16,
     "metadata": {},
     "output_type": "execute_result"
    }
   ],
   "source": [
    "r.randint(10)"
   ]
  },
  {
   "cell_type": "code",
   "execution_count": 17,
   "id": "b321ae60-cd5e-428e-a97b-1ee8fc49c3ca",
   "metadata": {},
   "outputs": [
    {
     "data": {
      "text/plain": [
       "24"
      ]
     },
     "execution_count": 17,
     "metadata": {},
     "output_type": "execute_result"
    }
   ],
   "source": [
    "r.randint(10, 100)"
   ]
  },
  {
   "cell_type": "code",
   "execution_count": 18,
   "id": "3669a4bd-9128-47c9-994c-3fce1c2bc96d",
   "metadata": {},
   "outputs": [
    {
     "data": {
      "text/plain": [
       "array([[53, 70, 84, 96, 64, 82, 72, 86, 42, 31],\n",
       "       [74, 35, 37, 64, 86, 89, 80, 95, 36, 46],\n",
       "       [82, 67, 71, 34, 25, 44, 29, 91, 45, 24],\n",
       "       [18, 36, 20, 31, 23, 68, 78, 70, 95, 99],\n",
       "       [25, 29, 23, 40, 37, 56, 87, 71, 27, 58],\n",
       "       [84, 96, 48, 12, 80, 17, 91, 47, 60, 41],\n",
       "       [95, 51, 19, 89, 49, 80, 20, 40, 13, 52],\n",
       "       [86, 39, 17, 18, 68, 52, 11, 44, 94, 61],\n",
       "       [85, 65, 88, 21, 90, 61, 63, 87, 20, 84],\n",
       "       [93, 64, 71, 12, 32, 84, 90, 83, 61, 15]])"
      ]
     },
     "execution_count": 18,
     "metadata": {},
     "output_type": "execute_result"
    }
   ],
   "source": [
    "r.randint(10, 100, size = (10,10))"
   ]
  },
  {
   "cell_type": "code",
   "execution_count": 19,
   "id": "f549613c-a0ad-4ba6-bfb9-08cd3bd8d760",
   "metadata": {},
   "outputs": [],
   "source": [
    "a = np.array([1,2,3,4,5,6,7,8,9])"
   ]
  },
  {
   "cell_type": "code",
   "execution_count": 20,
   "id": "eeedeedf-d8b7-491b-94a1-2e749268c46f",
   "metadata": {},
   "outputs": [
    {
     "data": {
      "text/plain": [
       "array([6, 5, 5, 3, 8])"
      ]
     },
     "execution_count": 20,
     "metadata": {},
     "output_type": "execute_result"
    }
   ],
   "source": [
    "r.choice(a,5)"
   ]
  },
  {
   "cell_type": "code",
   "execution_count": 21,
   "id": "c19f1b0e-2559-4395-8071-69cb7d30ce80",
   "metadata": {},
   "outputs": [
    {
     "data": {
      "text/plain": [
       "array([8, 5, 2, 6, 3])"
      ]
     },
     "execution_count": 21,
     "metadata": {},
     "output_type": "execute_result"
    }
   ],
   "source": [
    "r.choice(a,5, replace = False)"
   ]
  },
  {
   "cell_type": "markdown",
   "id": "fca5f0fd-9ac7-403e-b81a-8a3cbd9e1bfc",
   "metadata": {},
   "source": [
    "# Distributions"
   ]
  },
  {
   "cell_type": "markdown",
   "id": "eb2d3b1c-3e66-49e7-bf8c-c60ff0656df9",
   "metadata": {},
   "source": [
    "### Uniform Distributions\n",
    "\n",
    "[Offical Documentation](https://numpy.org/doc/stable/reference/random/generated/numpy.random.Generator.uniform.html#numpy.random.Generator.uniform)\n",
    "\n",
    "When looking through the differnt types of distrubutions I began to frighten myself again so I began with what looked like the easiest distribution to explain - The Uniform Distribution.\n",
    "\n",
    "Uniform distribution is a probability distribution where each value within a certin range is equally likly to occur and values outside the range never occur[[8]](https://www.youtube.com/watch?v=uial-2girHQ)\n",
    "\n",
    "Samples are uniformly distributed over the half-open interval [low, high) (includes low, but excludes high). In other words, any value within the given interval is equally likely to be drawn by uniform.[[9]](https://numpy.org/doc/stable/reference/random/generated/numpy.random.Generator.uniform.html#numpy.random.Generator.uniform)"
   ]
  },
  {
   "cell_type": "code",
   "execution_count": 22,
   "id": "7c084d7f-a817-481e-bb88-607e088e4990",
   "metadata": {},
   "outputs": [],
   "source": [
    "#Remove hashtag from line below and run cell for help from python on uniform distributions\n",
    "# help(np.random.uniform)"
   ]
  },
  {
   "cell_type": "code",
   "execution_count": 23,
   "id": "caad7a8a-e765-45ad-af3c-80054b0a60ee",
   "metadata": {},
   "outputs": [
    {
     "name": "stdout",
     "output_type": "stream",
     "text": [
      "[[[5.55992512 7.59524342]\n",
      "  [7.25122167 7.03644456]\n",
      "  [6.14881655 5.54446279]]\n",
      "\n",
      " [[8.66487737 4.90215779]\n",
      "  [3.4134927  6.76144042]\n",
      "  [8.87840367 1.17531803]]\n",
      "\n",
      " [[6.24368562 3.69393144]\n",
      "  [2.1203614  1.58870164]\n",
      "  [4.12028845 6.16350452]]\n",
      "\n",
      " [[8.32090825 1.26029552]\n",
      "  [9.85864821 9.7151818 ]\n",
      "  [1.91384814 2.56060793]]\n",
      "\n",
      " [[1.5911734  8.79056125]\n",
      "  [2.60755843 5.61391541]\n",
      "  [7.0243491  4.5022394 ]]]\n"
     ]
    }
   ],
   "source": [
    "# Generating Random Uniform Data - floating numbers between 1 and 10\n",
    "# 1,2 or 3 arrays of data with 3 \"rows\" and 5 \"columns\"\n",
    "x = np.random.uniform(1,10,size = (5,3,2))\n",
    "print(x)"
   ]
  },
  {
   "cell_type": "markdown",
   "id": "c25172cd-eb69-484d-9ff6-7f77a7159594",
   "metadata": {},
   "source": [
    "You can use this to generate datasets of all sizes with random numbers and these can then be broken down into smaller arrays, depending on how you have reqested the uniform function to display the data - you can play with the figures after size to see what I mean here\n",
    "```\n",
    "x = np.random.uniform(1,10,size = (5,3,2))\n",
    "print(x)\n",
    "```\n",
    "For example the above will generate 1 multi-dimensional large array with all the data (Floating numbers beteween 1-10, 5 smaller arrays each containing 3 arrays with 2 values in each. This is very easily manipulated and someone could quickly generate a sample numerial data set using real world parameters and run test cases on that data - this can be used in a varity of ways from statistical sampling, medical testing, computer simulation and even gambling. "
   ]
  },
  {
   "cell_type": "markdown",
   "id": "f2bbfc0e-d3bb-4e8c-a2f0-cce974df580e",
   "metadata": {},
   "source": [
    "Visualising the data also fairly easy - if every number is equally likly to be generated, then the distrbuition should be flat - as seen below."
   ]
  },
  {
   "cell_type": "code",
   "execution_count": 24,
   "id": "821f6482-7e44-4060-a6f5-d67c51fd3bfe",
   "metadata": {},
   "outputs": [
    {
     "data": {
      "image/png": "[encoded data removed]",
      "text/plain": [
       "<Figure size 432x288 with 1 Axes>"
      ]
     },
     "metadata": {
      "needs_background": "light"
     },
     "output_type": "display_data"
    }
   ],
   "source": [
    "# Visualising Random Data (100000 numbers between 1 and 10)\n",
    "\n",
    "# A kernel density estimate (KDE) plot is a method for visualizing the distribution\n",
    "#of observations in a dataset, analagous to a histogram. KDE represents the data using \n",
    "#a continuous probability density curve in one or more dimensions.\n",
    "#https://seaborn.pydata.org/generated/seaborn.kdeplot.html\n",
    "sns.kdeplot(r.uniform(1,10, size=100000))\n",
    "plt.show()"
   ]
  },
  {
   "cell_type": "markdown",
   "id": "cf9bd264-9b27-4cfb-b3dc-baf9eb1e8223",
   "metadata": {},
   "source": []
  },
  {
   "cell_type": "markdown",
   "id": "f9216ac1-2673-45dc-94c4-84f6922dc092",
   "metadata": {},
   "source": [
    "As you can see from the plot above the distribution of the generated numbers is pretty evenly spread out over the parameters I have passed it, similar quantity of 1s 2s 3s and so on. However be careful - the less numbers you have and the wider the distribution values the more uneven the \"Uniform\" data may become. The bigger number of values you look for the more even the plot will become."
   ]
  },
  {
   "cell_type": "code",
   "execution_count": 25,
   "id": "07d21d4a-927c-47d1-8775-0aaefa69fdea",
   "metadata": {},
   "outputs": [
    {
     "data": {
      "image/png": "[encoded data removed]",
      "text/plain": [
       "<Figure size 432x288 with 1 Axes>"
      ]
     },
     "metadata": {
      "needs_background": "light"
     },
     "output_type": "display_data"
    }
   ],
   "source": [
    "sns.kdeplot(r.uniform(1,100000, size=10))\n",
    "plt.show()"
   ]
  },
  {
   "cell_type": "markdown",
   "id": "d245b401-abfe-4be1-b9b6-0c02815662f1",
   "metadata": {},
   "source": [
    "The Code above is not a good example of uniform distribution as the varience is too wide (between 1 and 100000) and only looking for 10 values - if all are as likely to come up as another this means that you may come back with distintly different looking plots every time you run it!! So better to spot check the data structure behind the plot before deciding to use uniform for all your number generation needs."
   ]
  },
  {
   "cell_type": "code",
   "execution_count": null,
   "id": "c33f5fdf-a9fa-4037-bb19-a160224d21d9",
   "metadata": {},
   "outputs": [],
   "source": []
  },
  {
   "cell_type": "code",
   "execution_count": null,
   "id": "79e65c92-54cb-42b2-86ce-8650ea8f5d57",
   "metadata": {},
   "outputs": [],
   "source": []
  },
  {
   "cell_type": "code",
   "execution_count": null,
   "id": "4583d994-8f17-43e1-85b5-63e7bc81588c",
   "metadata": {},
   "outputs": [],
   "source": []
  },
  {
   "cell_type": "code",
   "execution_count": null,
   "id": "328a8d54-47f5-4783-93a9-139675d44ca4",
   "metadata": {},
   "outputs": [],
   "source": []
  },
  {
   "cell_type": "markdown",
   "id": "7d846b9a-d4e7-47f0-9585-d2881aae6fd5",
   "metadata": {},
   "source": [
    "### BINOMIAL DISTRBUTION \n",
    " Binomial distribution is the outcome of binary scenarios, for example the toss of a coin. It is a probability distribution that summarises the likelihood that a variable will take one of two independent values under a given set of parameters.The distribution is obtained by performing a number of Bernoulli trials. [[6]](https://www.geeksforgeeks.org/python-binomial-distribution/). It can be thought of as the pobability of a success or failure outcome in an experiment or survey that is repeated multiple times. \n",
    " There are a number of criteria that need to be met for the Binomial distribution to work\n",
    " - There must be only 2 possible outcomes.(Success or Failure)\n",
    " - Each outcome has a fixed probability of occurring. A success has the probability of p, and a failure has the probability of 1 – p.\n",
    " - Each trial is completely independent of all others and probability of success is exactly the same in each event.\n",
    " \n",
    " The binomial random variable represents the number of successes(r) in n successive independent trials of a Bernoulli experiment[[7]](https://www.geeksforgeeks.org/python-binomial-distribution/)\n",
    " \n",
    " The binomial distribution formula is:\n",
    " \n",
    "![](probability-distributions0x.png)  \n",
    "  \n",
    " x = total number of \"successess\"  \n",
    " P = probability of a success in an individual trial  \n",
    " n = number of trials\n",
    " \n",
    " size  = The shape of the returned array\n",
    " \n",
    " Binomial Distribution can also be defined as Discrete Distribution - for example a coin toss is discrete as the results can only be heads or tails - however if you were taking the speed of cars on a motorway it would be differnt every time - 80kmph, 82kmph, 85kmph, 90kmph ..... and so on.\n",
    "\n",
    " "
   ]
  },
  {
   "cell_type": "code",
   "execution_count": null,
   "id": "c0b82e3b-31c8-44f4-957d-9f80a5005b12",
   "metadata": {},
   "outputs": [],
   "source": []
  },
  {
   "cell_type": "code",
   "execution_count": 33,
   "id": "fbd18b6e-f3c2-4965-a853-1b3cb194f32c",
   "metadata": {},
   "outputs": [
    {
     "name": "stdout",
     "output_type": "stream",
     "text": [
      "[5 7 5 5 6 3 6 7 6 6]\n"
     ]
    }
   ],
   "source": [
    "# number of trials 10\n",
    "# probability is .5\n",
    "#shape of array 10\n",
    "# This can represent tossing a coin\n",
    "\n",
    "x = r.binomial(n=10, p=0.5, size = 10)\n",
    "print(x)"
   ]
  },
  {
   "cell_type": "markdown",
   "id": "11334086-dc8a-43db-bf95-21920f442faf",
   "metadata": {},
   "source": [
    "##### Visualisation of Binomial Distribution"
   ]
  },
  {
   "cell_type": "code",
   "execution_count": 54,
   "id": "c674ae6c-fabf-4a60-8aee-344619498439",
   "metadata": {},
   "outputs": [
    {
     "data": {
      "text/plain": [
       "<seaborn.axisgrid.FacetGrid at 0x12fd257f280>"
      ]
     },
     "execution_count": 54,
     "metadata": {},
     "output_type": "execute_result"
    },
    {
     "data": {
      "image/png": "[encoded data removed]",
      "text/plain": [
       "<Figure size 360x360 with 1 Axes>"
      ]
     },
     "metadata": {
      "needs_background": "light"
     },
     "output_type": "display_data"
    }
   ],
   "source": [
    "# Probability is 50%\n",
    "sns.displot(r.binomial(n=10, p=0.5, size = 1000), kde=True)"
   ]
  },
  {
   "cell_type": "code",
   "execution_count": 55,
   "id": "23846cfb-2972-4d2f-a5f1-e47540fb0dfc",
   "metadata": {},
   "outputs": [
    {
     "data": {
      "text/plain": [
       "<seaborn.axisgrid.FacetGrid at 0x12fd2626fa0>"
      ]
     },
     "execution_count": 55,
     "metadata": {},
     "output_type": "execute_result"
    },
    {
     "data": {
      "image/png": "[encoded data removed]",
      "text/plain": [
       "<Figure size 360x360 with 1 Axes>"
      ]
     },
     "metadata": {
      "needs_background": "light"
     },
     "output_type": "display_data"
    }
   ],
   "source": [
    "# Probability is 10%\n",
    "sns.displot(r.binomial(n=10, p=0.1, size = 1000), kde=True)"
   ]
  },
  {
   "cell_type": "code",
   "execution_count": 59,
   "id": "beebddd7-4919-42a5-9b91-b3aec3d20c2b",
   "metadata": {},
   "outputs": [
    {
     "data": {
      "text/plain": [
       "<seaborn.axisgrid.FacetGrid at 0x12fd245b0d0>"
      ]
     },
     "execution_count": 59,
     "metadata": {},
     "output_type": "execute_result"
    },
    {
     "data": {
      "image/png": "[encoded data removed]",
      "text/plain": [
       "<Figure size 360x360 with 1 Axes>"
      ]
     },
     "metadata": {
      "needs_background": "light"
     },
     "output_type": "display_data"
    }
   ],
   "source": [
    "# Probability is 90%\n",
    "sns.displot(r.binomial(n=10, p=0.9, size = 1000),kde=True)"
   ]
  },
  {
   "cell_type": "markdown",
   "id": "36b9e5ca-1745-46f5-b194-8359908e28ba",
   "metadata": {},
   "source": [
    "##### Binomal vs normal  \n",
    "The difference between normal and binomial distribution is that normal is contineous where as binomial is discrete. However if there are enough data points the plots can be very similar depending on location and scale."
   ]
  },
  {
   "cell_type": "code",
   "execution_count": 70,
   "id": "f866a2f6-8199-400d-b7dc-6df6247fdffa",
   "metadata": {},
   "outputs": [
    {
     "data": {
      "text/plain": [
       "<matplotlib.legend.Legend at 0x12fd3d2b2e0>"
      ]
     },
     "execution_count": 70,
     "metadata": {},
     "output_type": "execute_result"
    },
    {
     "data": {
      "image/png": "[encoded data removed]",
      "text/plain": [
       "<Figure size 432x288 with 1 Axes>"
      ]
     },
     "metadata": {
      "needs_background": "light"
     },
     "output_type": "display_data"
    }
   ],
   "source": [
    "#Normal distribution\n",
    "sns.kdeplot(r.normal(loc = 50, scale = 5, size = 10000), label = 'Normal')\n",
    "#Binomial distribution\n",
    "sns.kdeplot(r.binomial(n = 100, p = 0.5, size = 10000), label = 'Binomial')\n",
    "plt.legend()"
   ]
  },
  {
   "cell_type": "code",
   "execution_count": null,
   "id": "32a414e8-308b-4af5-9f25-8fc606b8e6d1",
   "metadata": {},
   "outputs": [],
   "source": []
  },
  {
   "cell_type": "code",
   "execution_count": null,
   "id": "27abfc40-34be-4212-a595-b71cc3afc4ba",
   "metadata": {},
   "outputs": [],
   "source": []
  },
  {
   "cell_type": "code",
   "execution_count": null,
   "id": "f903e840-d760-4fda-ad93-32351545a872",
   "metadata": {},
   "outputs": [],
   "source": []
  },
  {
   "cell_type": "code",
   "execution_count": null,
   "id": "1a37a251-651b-4527-9d4a-925ec8c4e7d7",
   "metadata": {},
   "outputs": [],
   "source": []
  },
  {
   "cell_type": "code",
   "execution_count": null,
   "id": "4a8d0cd5-4584-42df-81be-7f4ad4afc918",
   "metadata": {},
   "outputs": [],
   "source": []
  },
  {
   "cell_type": "code",
   "execution_count": null,
   "id": "6390693b-3e93-4589-baee-092f29090641",
   "metadata": {},
   "outputs": [],
   "source": []
  },
  {
   "cell_type": "code",
   "execution_count": 27,
   "id": "aea0593d-39ed-422b-ba28-31177d1d04bd",
   "metadata": {},
   "outputs": [],
   "source": [
    "rng = np.random.default_rng()\n",
    "n, p = 10, .5  # number of trials, probability of each trial\n",
    "s = rng.binomial(n, p, 1000)"
   ]
  },
  {
   "cell_type": "code",
   "execution_count": 28,
   "id": "0c85f430-07e5-4796-9bb8-1156dd8cbcd3",
   "metadata": {},
   "outputs": [
    {
     "name": "stdout",
     "output_type": "stream",
     "text": [
      "[3 6 4 7 3 7 5 5 5 4 8 5 6 3 7 3 4 3 3 2 3 6 4 6 5 4 5 6 6 6 4 6 5 8 3 4 6\n",
      " 6 6 7 1 5 4 8 5 6 3 2 6 5 3 7 7 5 6 4 5 5 5 7 3 4 4 6 5 8 8 2 5 5 5 8 5 4\n",
      " 9 4 4 4 8 6 4 6 3 7 4 4 3 2 8 5 4 7 2 3 5 4 6 6 4 2 5 5 6 3 2 6 8 7 3 6 6\n",
      " 1 5 7 3 5 4 6 4 6 4 4 3 2 4 6 4 5 5 2 6 4 6 5 5 4 4 7 3 4 6 6 7 4 6 4 5 4\n",
      " 4 5 3 7 6 6 6 5 4 5 4 7 6 6 1 2 7 1 4 4 4 7 6 3 5 4 6 3 6 5 5 6 5 5 7 5 4\n",
      " 8 1 4 5 4 3 5 4 4 4 9 4 4 5 5 3 7 4 3 5 5 5 3 5 7 6 6 5 6 4 2 5 6 4 4 5 3\n",
      " 3 6 4 4 4 7 6 7 6 5 4 8 6 4 5 4 3 8 5 3 6 7 7 5 3 5 3 6 5 5 4 5 5 8 5 7 7\n",
      " 2 6 4 4 7 4 5 4 4 4 5 6 3 4 6 5 6 5 5 8 6 3 6 2 7 4 7 4 2 4 8 4 4 9 6 4 4\n",
      " 5 4 6 5 5 4 4 7 3 5 8 5 3 7 7 5 3 6 5 5 4 7 4 4 7 6 4 6 8 7 1 5 9 7 2 6 2\n",
      " 7 4 6 4 7 8 5 3 5 4 6 6 9 5 5 2 4 3 7 6 3 3 7 6 3 3 6 5 7 7 6 6 7 6 5 5 8\n",
      " 3 6 7 7 8 5 6 5 3 6 3 6 6 3 4 3 6 5 6 5 5 5 8 3 1 3 5 3 7 8 9 1 4 4 4 7 5\n",
      " 5 6 5 4 6 6 3 5 5 4 5 5 5 5 6 6 5 5 4 2 5 4 9 5 5 5 3 5 5 7 6 6 3 4 3 5 6\n",
      " 6 3 6 4 4 7 6 6 4 3 7 5 2 2 4 2 6 4 5 5 2 5 5 4 4 6 6 6 8 5 4 5 6 6 4 5 5\n",
      " 2 6 5 6 9 3 6 5 6 6 5 4 8 1 4 5 7 3 4 6 3 5 5 3 6 5 7 4 2 3 7 6 1 6 7 4 4\n",
      " 6 7 6 6 5 5 5 4 8 5 4 5 7 6 1 5 2 6 4 6 5 5 4 9 5 8 4 5 5 2 5 4 6 6 5 5 6\n",
      " 6 6 5 4 4 6 6 5 3 5 4 3 4 2 5 3 5 7 4 3 6 5 5 5 8 6 8 7 5 6 6 7 4 4 5 5 6\n",
      " 7 4 5 5 7 6 6 5 2 6 6 6 3 6 4 5 5 3 5 4 4 3 6 3 2 4 6 6 7 4 7 6 6 6 5 6 8\n",
      " 8 5 5 2 8 6 3 5 9 5 6 4 7 8 4 6 5 3 4 5 4 6 8 5 5 3 5 6 2 6 7 5 5 5 5 5 5\n",
      " 3 5 8 2 6 5 3 5 4 7 5 3 6 4 6 7 3 3 3 4 3 7 6 4 3 7 4 6 5 6 6 3 6 5 5 3 6\n",
      " 2 2 5 2 4 7 5 8 6 5 4 3 4 3 4 6 8 5 3 4 4 7 3 3 6 4 3 7 4 5 6 7 4 4 6 3 8\n",
      " 3 4 6 5 4 4 8 4 6 6 4 7 5 6 5 6 5 5 6 5 6 5 6 6 5 4 4 6 2 7 5 6 7 8 3 5 5\n",
      " 4 4 7 4 5 3 5 7 5 4 4 4 3 5 7 5 4 5 5 4 5 8 5 7 6 5 6 4 6 2 4 3 1 6 5 4 4\n",
      " 5 3 5 4 6 6 6 3 7 7 3 6 6 5 5 7 6 7 6 7 3 6 3 9 4 5 4 5 3 3 4 3 7 5 6 6 2\n",
      " 6 5 4 5 5 6 5 4 6 3 4 4 4 5 3 6 4 4 6 5 4 5 3 4 6 6 6 2 5 4 4 5 4 1 5 7 6\n",
      " 5 3 3 3 6 3 6 7 5 4 6 5 3 4 3 2 5 5 3 7 4 4 7 5 6 5 4 5 5 6 5 6 4 5 6 6 5\n",
      " 6 3 5 5 3 5 6 7 5 2 3 2 6 3 6 6 4 6 6 4 7 2 5 6 5 8 3 6 5 4 6 5 4 4 7 5 6\n",
      " 6 5 5 6 2 5 5 7 6 6 4 5 7 6 4 6 3 5 5 6 4 5 5 5 6 4 4 4 6 5 5 4 4 6 5 7 8\n",
      " 5]\n"
     ]
    }
   ],
   "source": [
    "print(s)"
   ]
  },
  {
   "cell_type": "code",
   "execution_count": null,
   "id": "a8d9ad40-0c30-43e7-aa7d-0055efb9cdcb",
   "metadata": {},
   "outputs": [],
   "source": []
  },
  {
   "cell_type": "code",
   "execution_count": null,
   "id": "b912d4b5-cd90-40d6-b34c-aaadb2c28b09",
   "metadata": {},
   "outputs": [],
   "source": []
  },
  {
   "cell_type": "code",
   "execution_count": null,
   "id": "28c27d10-a87c-4352-86df-b6cad8e29bc9",
   "metadata": {},
   "outputs": [],
   "source": []
  },
  {
   "cell_type": "code",
   "execution_count": null,
   "id": "05c3d66d-599d-403e-b8f6-6840c34d6d89",
   "metadata": {},
   "outputs": [],
   "source": []
  }
 ],
 "metadata": {
  "kernelspec": {
   "display_name": "Python 3",
   "language": "python",
   "name": "python3"
  },
  "language_info": {
   "codemirror_mode": {
    "name": "ipython",
    "version": 3
   },
   "file_extension": ".py",
   "mimetype": "text/x-python",
   "name": "python",
   "nbconvert_exporter": "python",
   "pygments_lexer": "ipython3",
   "version": "3.8.8"
  }
 },
 "nbformat": 4,
 "nbformat_minor": 5
}
