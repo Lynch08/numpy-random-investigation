{
 "cells": [
  {
   "cell_type": "markdown",
   "id": "802b95a7-9275-4fe6-91fe-5979b531e466",
   "metadata": {},
   "source": [
    "# An investigation into the numpy.random package\n",
    "\n",
    "\n",
    "[NUMPY OFFICAL DOCUMENTATION](https://numpy.org/doc/stable/reference/random/generator.html)"
   ]
  },
  {
   "cell_type": "markdown",
   "id": "b2fe2d7d-190e-4e98-83c1-80ef5c5056b1",
   "metadata": {},
   "source": [
    "# WHAT IS NUMPY\n",
    "\n",
    "\"NumPy is the fundamental package for scientific computing in Python. It is a Python library that provides a multidimensional array object, various derived objects (such as masked arrays and matrices), and an assortment of routines for fast operations on arrays, including mathematical, logical, shape manipulation, sorting, selecting, I/O, discrete Fourier transforms, basic linear algebra, basic statistical operations, random simulation and much more.\"[[1]](https://numpy.org/doc/1.19/user/whatisnumpy.html)  \n",
    "That is the official explaination for Numpy from the offial documentation V1.19. This a bit wordy and frankly frightening when first read by a novice to programming who has not done a lot of maths in the last decade. So I found it easier to first try to gleen some insight into the Numpy libary by simply googling 'What is Numpy?' and using a resource like W3Schools[[2]](https://www.w3schools.com/python/numpy/numpy_intro.asp) or Real Python[[3]](https://realpython.com/tutorials/numpy/) to give me a less imtimidating description (even if it is a little less robust) of numpy.\n",
    "However before I get into Numpy I would first like to define an array in python, as arrays are the foudation of how numpy is able to manipulate data.\n",
    "In simple terms an array is a list of the same data type in python. Once that simple declaration is clear I found the Real Python introduction the best to begin to wrap my head around numpy, its functionality and uses. \"NumPy is a third-party Python library that provides support for large multidimensional arrays and matrices along with a collection of mathematical functions to operate on these elements.\"[[4]](https://realpython.com/tutorials/numpy/) In my own words, Numpy gives you tools to manipulate lists of data, with emphasis on mathematical functionality. "
   ]
  },
  {
   "cell_type": "markdown",
   "id": "3ec3ecd8-25c1-4ee3-8b9d-5f0976eba035",
   "metadata": {},
   "source": [
    "### A Brife History of Numpy\n",
    "Although online much of the credit of the creation of Numpy goes to Travis Oliphant in 2006[[5]](https://en.wikipedia.org/wiki/Travis_Oliphant), much of the actual code was written by a group of graduate students who \"upended the already well-established ecosystem of research software—backed by millions in funding and many hundreds of highly qualified engineers\"[[5]](https://numpy.org/history/). It is now relied on by scientists, engineers, data analysts and many other professions around the world. "
   ]
  },
  {
   "cell_type": "markdown",
   "id": "f4772b76-25ec-46d2-87b1-c8d361c5ea16",
   "metadata": {},
   "source": [
    "### Installing numpy\n",
    "Numpy is a libary in the python package so if you have downloaded some version of python (I would reccomend anaconda) then simply import it in to your code using:\n",
    "\n",
    "```import numpy as np```\n",
    "\n",
    "np is the standard abbreviation for numpy in Python"
   ]
  },
  {
   "cell_type": "code",
   "execution_count": 38,
   "id": "ecf80495-3ee3-4221-af79-145cc43d01b5",
   "metadata": {},
   "outputs": [],
   "source": [
    "import numpy as np\n",
    "import pandas as pd\n",
    "import matplotlib.pyplot as plt\n",
    "import scipy.stats as stats\n",
    "import seaborn as sns\n",
    "from scipy.stats import poisson as pois\n",
    "import numpy.random as r"
   ]
  },
  {
   "cell_type": "code",
   "execution_count": 3,
   "id": "55826406-0dc0-45a8-978c-e0e638924515",
   "metadata": {},
   "outputs": [],
   "source": [
    "rng = np.random.default_rng()"
   ]
  },
  {
   "cell_type": "code",
   "execution_count": 4,
   "id": "b406eaf2-f8d4-4624-aae1-0a1a52661f68",
   "metadata": {},
   "outputs": [
    {
     "data": {
      "text/plain": [
       "array([0, 0, 0, 1, 1, 0, 1, 1, 0, 0], dtype=int64)"
      ]
     },
     "execution_count": 4,
     "metadata": {},
     "output_type": "execute_result"
    }
   ],
   "source": [
    "rng.integers(2, size=10)"
   ]
  },
  {
   "cell_type": "code",
   "execution_count": 5,
   "id": "e2b48cd3-93d0-46b4-8b8e-b28a1f524cc6",
   "metadata": {},
   "outputs": [
    {
     "data": {
      "text/plain": [
       "array([0, 0, 0, 0, 0, 0, 0, 0, 0, 0], dtype=int64)"
      ]
     },
     "execution_count": 5,
     "metadata": {},
     "output_type": "execute_result"
    }
   ],
   "source": [
    "rng.integers(1, size=10)"
   ]
  },
  {
   "cell_type": "code",
   "execution_count": 6,
   "id": "092d73b8-3496-4e99-8319-6d9d4df93805",
   "metadata": {
    "scrolled": true,
    "tags": []
   },
   "outputs": [],
   "source": [
    "x = rng.integers(100, size = 10)"
   ]
  },
  {
   "cell_type": "code",
   "execution_count": 8,
   "id": "75635240-5b3a-476d-9e28-ffb46922f359",
   "metadata": {},
   "outputs": [
    {
     "data": {
      "text/plain": [
       "(array([2., 2., 0., 1., 0., 0., 0., 2., 1., 2.]),\n",
       " array([ 3. , 10.3, 17.6, 24.9, 32.2, 39.5, 46.8, 54.1, 61.4, 68.7, 76. ]),\n",
       " <BarContainer object of 10 artists>)"
      ]
     },
     "execution_count": 8,
     "metadata": {},
     "output_type": "execute_result"
    },
    {
     "data": {
      "image/png": "[encoded data removed]",
      "text/plain": [
       "<Figure size 432x288 with 1 Axes>"
      ]
     },
     "metadata": {
      "needs_background": "light"
     },
     "output_type": "display_data"
    }
   ],
   "source": [
    "plt.hist(x)"
   ]
  },
  {
   "cell_type": "code",
   "execution_count": 9,
   "id": "aafe3b84-13c6-44c8-84fe-77887b387565",
   "metadata": {
    "scrolled": true,
    "tags": []
   },
   "outputs": [
    {
     "data": {
      "text/plain": [
       "array([921.04983929, 209.94573846, 381.83508007,  67.57701298,\n",
       "       746.39345529, 913.5803294 , 721.49960454, 466.08155778,\n",
       "        83.25450284, 719.48077583, 880.40971828, 542.28444   ,\n",
       "       683.66384997, 455.56534899, 480.40658264, 577.48848428,\n",
       "       632.01369565, 386.06669172, 403.26221219, 776.79096474,\n",
       "       561.17077371, 588.79354161, 793.46186808, 318.59009755,\n",
       "       615.35919007, 456.63344385, 420.80235537, 519.98309174,\n",
       "       583.25019461, 491.94873843, 268.15981784, 428.2525993 ,\n",
       "       259.48429901, 614.79956076, 387.79359659,  19.82003355,\n",
       "       726.33277972, 400.44355704, 936.05641217, 452.9670567 ,\n",
       "       981.40104333, 383.94247535, 910.35001112, 194.11921403,\n",
       "       902.77710228, 648.25176582, 267.69580328, 677.49110011,\n",
       "       316.83353105, 193.91690116, 636.95500071, 722.33869412,\n",
       "       637.13005274, 198.0365525 , 950.88592889, 648.61902812,\n",
       "       214.73707048, 233.17827569, 432.80178398, 606.66580222,\n",
       "       441.18681878, 230.86986447, 160.73155412, 221.68325875,\n",
       "       305.02942221, 519.99232216, 527.2626347 , 819.79690431,\n",
       "        94.82316494, 875.98094227, 175.56591167,  30.84832535,\n",
       "       239.19247949, 720.19175632, 473.18669308, 322.48343826,\n",
       "       908.4208025 , 798.78398758, 671.65624579, 341.94140018,\n",
       "       638.96722742, 529.04544735, 499.8639179 , 322.16476228,\n",
       "       559.47599609, 967.05910375,  67.73199356, 467.05146862,\n",
       "       692.42492401, 156.63377044, 344.60962895, 964.62969769,\n",
       "        39.74718042, 637.46016701, 194.28111492, 715.68100251,\n",
       "       808.93471824, 420.98671818, 403.98639207,   2.74787651,\n",
       "       213.87337618, 571.750763  , 622.64896713, 391.24459265,\n",
       "       526.15727707, 764.45904668, 175.11509974, 560.99070051,\n",
       "       664.47128939, 615.04024457, 397.92004944, 969.83445096,\n",
       "       917.00085598, 758.19394313, 934.07381011, 250.69514667,\n",
       "       505.60134656, 497.88376217, 247.88794991, 562.8282845 ,\n",
       "       482.70606178, 774.61399256, 838.9038107 ,  63.56023773,\n",
       "       791.19930707,  63.05834519, 197.90997963, 100.94272887,\n",
       "       145.50467279, 372.33499849, 643.9140376 , 741.06707085,\n",
       "       895.76177928, 725.17321993, 580.67736064, 322.93663599,\n",
       "       410.18368284, 848.16612204, 846.87805975, 412.16587533,\n",
       "       529.12995929, 470.39236555, 724.65511643, 480.27005363,\n",
       "       602.06614417, 464.0954205 , 171.17616683, 160.75257151,\n",
       "       112.95979032, 504.74552995, 343.44038178,   9.61231112,\n",
       "       215.4667414 , 216.91706008, 803.74553865, 631.90964075,\n",
       "        92.9610272 ,  57.30525096, 127.92666696, 990.69137128,\n",
       "       108.08167406, 694.34631315,  48.89998399, 956.55944054,\n",
       "       823.77629776, 203.82766615, 817.85735261, 493.05040234,\n",
       "       594.37081289, 991.7839135 , 166.15103827, 919.91527732,\n",
       "       737.11465531, 674.32604653,  51.38414566, 492.22935658,\n",
       "       954.23000402, 453.34043098, 957.08443846, 783.32053339,\n",
       "       246.09519309, 293.15836426, 335.97988041,  67.7646745 ,\n",
       "       685.82391273, 405.19834001, 432.23136546, 568.64222579,\n",
       "       122.95130755, 725.65607869, 625.79925663,  63.4117941 ,\n",
       "       570.52291322, 202.76677603, 825.4958836 , 532.78947539,\n",
       "       272.23456125, 719.75830757, 309.88231301, 217.3425787 ,\n",
       "       344.74704665, 642.79357283, 261.68642412, 789.09485086,\n",
       "       920.29553557, 472.54098883, 886.71966035,  16.6012548 ,\n",
       "        89.96633757,  60.9473715 , 247.79385566, 275.86340091,\n",
       "       295.49570369, 710.21184965, 505.90177584,  95.87711685,\n",
       "       184.74847836, 286.60828707, 249.01075209, 519.51212779,\n",
       "       152.30884861, 659.85538388, 539.41930815, 739.87794862,\n",
       "       468.77181851, 680.33956246,  55.27718087, 639.17621907,\n",
       "       382.99927897, 880.18448038, 186.62282492, 785.53560324,\n",
       "       850.06878488, 738.4770485 , 669.45220215, 124.56009822,\n",
       "       311.51722421, 499.57793738, 234.81521083, 722.57676729,\n",
       "        33.75393214, 646.26026023,  90.61779325, 118.78657732,\n",
       "       697.09147779, 789.40413234, 421.31523042, 291.12037683,\n",
       "       786.01908382, 440.17217602, 999.25327846, 884.56648859,\n",
       "       424.15779069,  26.44223096, 196.83614664, 841.90009852,\n",
       "       730.39487928, 523.19827437,  15.60491803, 310.46497373,\n",
       "       318.4327688 , 687.09158284, 200.76192695, 316.8748754 ,\n",
       "       807.1099446 ,  46.37708249,  43.0122382 , 414.07476176,\n",
       "       219.00524768, 669.4671891 , 537.0632934 , 621.7318273 ,\n",
       "       490.0377212 , 207.82374805, 266.84368989, 359.69561794,\n",
       "       905.10320401, 557.47442228,  40.10769834, 699.75233335,\n",
       "       635.3541144 ,  53.78624118, 414.74162738,  41.11042274,\n",
       "       249.29422156, 907.90859478, 657.26337919, 815.15866217,\n",
       "       251.76475838, 959.87152128, 996.05660318, 699.16210674,\n",
       "       961.93578604, 897.67062059, 616.29012872, 805.60571027,\n",
       "       307.58904485, 349.5675313 , 131.61882107, 538.90411773,\n",
       "       225.18946141, 770.45165817, 421.80098489, 979.89766958,\n",
       "       258.39158786, 384.99600674, 852.77384036, 222.2732508 ,\n",
       "       286.76522768, 293.77663964, 560.39609004, 325.09597679,\n",
       "       306.45326073, 755.20940725, 591.75261274, 651.73521922,\n",
       "       298.22043614, 775.82273745, 846.22689663, 931.95100685,\n",
       "        74.47437753, 569.76234689, 995.55478373, 784.34614557,\n",
       "       762.98139088, 303.98761692, 322.79490273, 388.98538787,\n",
       "       299.98230343, 894.07156075, 614.66944912, 486.30385478,\n",
       "       733.33754791,  40.48084178, 339.93203067, 397.54678921,\n",
       "       260.04817943, 273.24186173, 793.03156312, 692.62781653,\n",
       "        70.18715668, 937.47055914, 248.93654073, 190.93614966,\n",
       "       709.63293077, 733.72166892, 529.0757498 , 684.41560322,\n",
       "       483.71178491, 776.22568625, 957.06485593, 285.68662319,\n",
       "       713.26065476, 697.49809114, 537.60187414, 319.79644468,\n",
       "       363.50783214, 259.90157358, 504.14065999,  33.38650355,\n",
       "       528.15573047, 468.51561685, 352.73112764, 652.31893236,\n",
       "        22.11480449, 990.21022338, 648.40484762, 273.98042531,\n",
       "       627.35916006, 378.51380218, 850.1796446 , 163.29512382,\n",
       "       151.96032209, 412.13768339, 141.92611289, 722.22919509,\n",
       "       411.93257982, 397.23342985, 247.16987684, 939.83394536,\n",
       "       384.58906684, 147.68250011, 689.90153505, 300.85056607,\n",
       "       478.75412301, 936.25380611, 981.22565196, 348.23437288,\n",
       "       412.68400046, 370.58634494, 543.19324283, 621.68479725,\n",
       "       437.65194231, 881.44644104, 139.54988683, 344.34388574,\n",
       "       909.17652762, 925.39404504, 110.30283345, 995.25315026,\n",
       "       366.13298674,  33.23199775, 551.28557907, 938.13268759,\n",
       "       149.17496153, 150.67496905, 429.60906607, 642.34951187,\n",
       "       640.3024605 , 271.09834575, 823.62070915, 539.36062951,\n",
       "       793.71398954, 340.57831247, 720.88550627,  80.72292004,\n",
       "       253.74952426,  18.48969085, 287.90279528, 389.77139592,\n",
       "       921.38220039, 357.87644473,  97.29737552, 356.27969631,\n",
       "        30.17435989, 597.53660796, 480.60115272, 762.96899921,\n",
       "       683.96559872, 589.49274226, 880.47304342, 957.42841607,\n",
       "       635.43373021, 789.71182916, 744.06259012, 200.97083751,\n",
       "       527.57111511, 551.29220741, 249.30286777, 876.72437042,\n",
       "       166.5729646 ,  39.04293116, 893.01565152, 269.23807499,\n",
       "        36.82371814, 286.09331878,  40.3914612 , 182.47149885,\n",
       "       299.72987746, 883.62574906, 344.83518974, 893.89247153,\n",
       "       606.53511345, 786.95605896, 327.00033129,  88.04375019,\n",
       "       469.12473692, 587.36380983, 265.28241155, 915.34360332,\n",
       "       537.66544871, 727.93675314, 307.13701711, 181.53400736,\n",
       "       301.62004921, 947.20413982, 330.72088688, 702.09203562,\n",
       "       208.50385493, 138.82857602, 844.67754988, 709.01283377,\n",
       "       253.90872202, 259.31242585, 141.5738744 , 747.75874129,\n",
       "        16.79622775, 616.49968796, 791.71596968, 763.90616131,\n",
       "       424.01622931, 541.37925841, 833.23708906, 302.85346014,\n",
       "       253.70365875, 896.30022517,  77.16892725, 227.12920715,\n",
       "       209.22197518, 392.20525433, 581.8345474 , 574.33976677,\n",
       "       831.57322342, 225.77384513, 523.54984649, 700.83626442,\n",
       "       986.94796853, 728.79525518, 660.96044748,  74.14169229,\n",
       "       443.92064922, 159.86274189, 660.4741855 , 555.89208778,\n",
       "        59.8485286 , 290.6240412 , 728.82030263, 306.23645055,\n",
       "       500.54008096, 974.02251363, 564.08550076, 120.77516876,\n",
       "       341.37197643, 522.56469302, 819.48960338, 286.80449485,\n",
       "       597.62207604, 412.80700325,  83.2465327 , 817.48231169,\n",
       "       278.43932407, 498.13246039, 386.79511433, 566.15467156,\n",
       "       174.39927502, 969.86073026, 676.07644847, 350.98921647,\n",
       "       747.94366764, 711.26730779, 207.19629086, 251.82390783,\n",
       "        62.17644887, 245.48696411, 993.66913155,   6.99002097,\n",
       "       841.53327137, 134.21182058, 452.29288907, 323.07494723,\n",
       "       425.11682463, 325.55210799, 288.01790121, 627.98414949,\n",
       "       762.6581994 , 671.75391516, 644.61939341, 660.13374081,\n",
       "       530.88758193, 224.86879936, 533.59597145, 564.87019432,\n",
       "       772.81900632, 472.89542582, 801.40280138, 971.81981041,\n",
       "       623.07085351, 830.63729886, 720.5844538 , 112.97391845,\n",
       "       797.65538961, 739.36464517, 465.6336222 , 304.83230523,\n",
       "         6.11964601, 317.37211886,  89.11672214, 928.46640829,\n",
       "       114.19939084, 686.49637409, 287.11985484, 445.62125877,\n",
       "       698.42914067, 257.8356669 , 874.88669024, 496.87768896,\n",
       "       275.91806665, 284.83765792, 390.81838881, 565.32208655,\n",
       "       203.49659848, 623.54373108, 688.58676094, 889.10369549,\n",
       "       222.40137196,  53.46677661, 259.24452449, 588.54957437,\n",
       "       130.82513907, 161.38820224, 834.65125572, 600.3668467 ,\n",
       "       313.65749204, 465.71179701,  80.71318537, 489.68275032,\n",
       "       279.98436611, 249.23365294, 984.35519025, 398.36980137,\n",
       "       242.76593644, 164.90023381, 951.18150627, 223.54658192,\n",
       "        25.2883648 , 496.51641064, 570.57179855, 921.87994273,\n",
       "       849.91001216, 314.6174129 , 214.29867825, 481.17159471,\n",
       "       688.01343438, 354.87461821, 321.36852123, 735.33243004,\n",
       "       144.40112899, 667.94165848, 752.72923834, 927.03521924,\n",
       "       733.44078235, 680.24644718, 324.306404  , 326.16923417,\n",
       "       663.88856915, 146.81894568, 222.89086745, 278.28348499,\n",
       "       724.38099205, 507.87160363, 215.79781253, 828.91416744,\n",
       "       850.95907249,  72.23085244, 247.26798528, 744.23804856,\n",
       "       812.86611221, 493.13886941, 826.80579337, 957.3968981 ,\n",
       "       905.0071572 , 421.30733563, 940.93815592, 559.11068219,\n",
       "       710.75243978, 904.0196997 ,  41.32580915,  37.91553507,\n",
       "       109.39711231, 196.39727924, 439.67963101,  70.07050024,\n",
       "       661.83404623, 379.82929968, 587.47230505, 460.19396694,\n",
       "       700.80299814, 834.73165608, 618.67373878,  19.44368739,\n",
       "       896.51930897, 353.56297226, 657.22420639, 263.13587269,\n",
       "       592.52465783, 762.56952211, 836.13958414, 700.87400293,\n",
       "       385.70904144, 728.06962115, 223.64988005, 217.17960109,\n",
       "       346.36779285, 413.21194968, 359.44271932, 215.28499879,\n",
       "       517.33302332, 674.18509944, 222.14495493, 290.42587027,\n",
       "       718.60689574, 600.84498163, 853.79242792, 614.97267921,\n",
       "        64.9660639 , 884.6247818 , 984.0766668 , 285.28389388,\n",
       "       311.47219441, 179.38492078, 219.63922315, 693.0203061 ,\n",
       "       409.12712624, 306.18978382, 286.23339685, 730.17522316,\n",
       "       582.86956135, 725.62324435, 486.71922014, 184.67263026,\n",
       "       242.62783272, 939.13854888, 705.88361753, 651.70552446,\n",
       "       618.61468747,  17.70804966, 342.84157078, 388.56082682,\n",
       "       452.48766653, 184.97858791, 252.02838755, 222.03095923,\n",
       "       125.51973985, 155.47626264, 758.03732549, 977.01722441,\n",
       "       872.63596997, 819.04007024,  30.16483604, 888.85843382,\n",
       "       574.35745214, 200.57864677, 648.51849755, 552.72293128,\n",
       "       969.99516805, 692.07141918, 233.71506962, 868.43093135,\n",
       "       851.72744   , 579.9569096 , 600.180466  , 368.82097643,\n",
       "       724.18589159, 242.22958199,  97.05523752, 557.1601676 ,\n",
       "       417.85997595,  85.40747063, 656.77413591, 335.17686728,\n",
       "       759.06020293, 504.82384589, 847.27275411, 454.51355203,\n",
       "       786.14815829, 248.93121745, 755.38297032, 917.41177088,\n",
       "       734.00963429, 910.75107051, 794.30934109, 321.36550195,\n",
       "       710.92722314, 796.94963631, 997.18072802, 234.12254505,\n",
       "       895.59537121, 339.09256762, 122.75947152, 603.44825999,\n",
       "       911.48017939, 944.27233322, 401.7592302 , 386.89093245,\n",
       "        15.83933464, 156.80403016, 560.82578174, 370.59691948,\n",
       "        65.08044505, 341.6151541 , 530.62844942, 316.68975066,\n",
       "       123.47231867, 932.39888963, 490.6731529 , 599.80541523,\n",
       "       946.18402306, 770.12615548, 116.59352612, 317.18467512,\n",
       "       960.7960393 , 283.04889138, 769.68882047, 274.21549173,\n",
       "       804.71552841,  34.12188075, 922.65650318, 369.49925293,\n",
       "       298.65243185, 609.45758856, 671.65716098, 690.83113618,\n",
       "       891.20487217, 428.00443799, 444.83504652, 262.49331969,\n",
       "       661.26406048, 900.68652458, 229.88951122, 772.21852186,\n",
       "       187.06309814, 676.41122813, 328.64866299, 832.43085267,\n",
       "       775.82380386, 447.30066621,  37.27355394, 422.28064145,\n",
       "       465.42316694, 878.90291626, 834.31877912, 564.74433875,\n",
       "       886.2448932 , 970.48792634, 432.00192444, 525.8449084 ,\n",
       "       138.62329636, 896.64915796, 774.04410107, 758.91749819,\n",
       "       275.42776466, 559.46239987, 597.26013334, 632.07996   ,\n",
       "       631.93099732, 694.56268938, 297.52773798, 913.38125682,\n",
       "       688.34440952, 928.91545984, 324.34695949, 678.93132975,\n",
       "       485.25867682, 388.69610507, 608.95858685, 662.36121394,\n",
       "       169.04577516, 886.14725907, 781.21114614,  45.12230667,\n",
       "       285.11189246, 740.36905995, 198.86982356,  16.28211751,\n",
       "       135.03024115, 841.5760631 , 815.1945416 , 754.41395465,\n",
       "        60.8272834 , 325.86440865, 695.50523969, 878.39519923,\n",
       "       342.9078392 , 802.16513035, 263.07233236, 352.98469651,\n",
       "       870.61125187, 525.13318547, 209.24037153, 551.19717383,\n",
       "       370.5133445 , 329.33518215, 659.55086105, 717.11172482,\n",
       "       557.70370369, 487.29083125, 804.33059845, 529.28056711,\n",
       "       563.10563242, 934.57462242, 357.53512218,  54.20342276,\n",
       "       284.89973761, 709.92952789, 718.57169896, 652.53745931,\n",
       "       963.49514661, 890.88162441, 998.06134249, 902.96481632,\n",
       "       556.69414593, 480.32483128,  99.48598009, 804.09184591,\n",
       "       224.59888986, 466.44294102, 383.58228488, 812.60884777,\n",
       "       581.82825566, 205.78790637, 221.65622734, 460.74985906,\n",
       "       561.95454164,  29.37311409, 325.85439399, 930.98324241,\n",
       "       965.54774242, 978.67251508, 886.21500211, 971.53582599,\n",
       "       386.61084543, 280.6540916 , 348.59901237, 431.25047027,\n",
       "       971.17641922, 111.34902095, 555.43809075, 623.31604705,\n",
       "       341.18525504, 501.7989061 , 942.14019802, 738.59153415,\n",
       "       642.26203413, 992.62383383, 312.49788763, 112.04825024,\n",
       "       542.37645304, 102.32258018, 573.47140168, 452.22190833,\n",
       "        67.70667528, 678.58938105, 607.16861491,  82.22618179,\n",
       "       905.72717059, 959.88601162, 606.41787115, 491.08101019,\n",
       "       855.02464685, 445.2306702 , 881.86814326, 601.98000437,\n",
       "       320.46092799, 382.94106413,  78.12374425, 294.99224293,\n",
       "       773.07833061, 759.4072273 ,  17.48324117, 379.10940458,\n",
       "       892.12621137, 456.28440387, 104.03323646, 178.45341596,\n",
       "       640.1507891 , 962.96262831, 916.34384777, 588.50311799,\n",
       "       951.90625336, 109.73523736,  29.69930839, 791.96358529,\n",
       "        72.10651312, 211.01264976,  38.81073739, 917.79757599,\n",
       "       280.66734021, 819.70282918, 352.0107543 , 226.27208178,\n",
       "       489.76922153, 143.11296201, 591.03084695, 794.30886743,\n",
       "       662.87971089,  88.96886583, 318.84677654, 174.30516816,\n",
       "       579.74843969, 232.50716718, 680.05157058, 104.32243122,\n",
       "       540.37038998, 686.65419787, 298.26187137,  99.59792811,\n",
       "       985.18330876, 317.46656522, 846.46888389, 199.58658689,\n",
       "       968.78909195, 715.23144943, 623.23047346, 570.92262511,\n",
       "       371.75732135, 774.89774382, 336.35974743, 381.10252977,\n",
       "       654.45722926,  42.42852422,  47.62260132, 585.43467824,\n",
       "       421.21927139, 204.8216372 , 370.77778786, 265.0933574 ,\n",
       "       771.50125987, 854.76004148, 532.51261245, 781.94615444])"
      ]
     },
     "execution_count": 9,
     "metadata": {},
     "output_type": "execute_result"
    }
   ],
   "source": [
    "np.random.uniform(0,1000,1000)"
   ]
  },
  {
   "cell_type": "code",
   "execution_count": 10,
   "id": "5d38ba2b-6c5f-42fb-a940-9176511c3c73",
   "metadata": {},
   "outputs": [],
   "source": [
    "x = np.random.uniform(0,1000,10000)"
   ]
  },
  {
   "cell_type": "code",
   "execution_count": 11,
   "id": "be429ea0-c774-4c98-bfa0-e6f66e81f4a6",
   "metadata": {},
   "outputs": [
    {
     "data": {
      "text/plain": [
       "(array([ 970., 1074.,  974., 1005.,  966.,  972., 1021., 1022., 1044.,\n",
       "         952.]),\n",
       " array([1.16752633e-02, 1.00006766e+02, 2.00001857e+02, 2.99996948e+02,\n",
       "        3.99992039e+02, 4.99987130e+02, 5.99982221e+02, 6.99977311e+02,\n",
       "        7.99972402e+02, 8.99967493e+02, 9.99962584e+02]),\n",
       " <BarContainer object of 10 artists>)"
      ]
     },
     "execution_count": 11,
     "metadata": {},
     "output_type": "execute_result"
    },
    {
     "data": {
      "image/png": "[encoded data removed]",
      "text/plain": [
       "<Figure size 432x288 with 1 Axes>"
      ]
     },
     "metadata": {
      "needs_background": "light"
     },
     "output_type": "display_data"
    }
   ],
   "source": [
    "plt.hist(x)"
   ]
  },
  {
   "cell_type": "code",
   "execution_count": 12,
   "id": "b5d3bdef-3241-42f4-a6a1-cff358dce87e",
   "metadata": {
    "scrolled": true,
    "tags": []
   },
   "outputs": [],
   "source": [
    "x = np.random.normal(10, 100, 1000)"
   ]
  },
  {
   "cell_type": "code",
   "execution_count": 13,
   "id": "b1855746-e6bd-4df1-87ee-b8e2a7357fa6",
   "metadata": {},
   "outputs": [
    {
     "data": {
      "text/plain": [
       "(array([ 13.,  34.,  98., 181., 230., 223., 140.,  61.,  14.,   6.]),\n",
       " array([-273.43989995, -212.97732763, -152.5147553 ,  -92.05218298,\n",
       "         -31.58961066,   28.87296167,   89.33553399,  149.79810632,\n",
       "         210.26067864,  270.72325097,  331.18582329]),\n",
       " <BarContainer object of 10 artists>)"
      ]
     },
     "execution_count": 13,
     "metadata": {},
     "output_type": "execute_result"
    },
    {
     "data": {
      "image/png": "[encoded data removed]",
      "text/plain": [
       "<Figure size 432x288 with 1 Axes>"
      ]
     },
     "metadata": {
      "needs_background": "light"
     },
     "output_type": "display_data"
    }
   ],
   "source": [
    "plt.hist(x)"
   ]
  },
  {
   "cell_type": "code",
   "execution_count": null,
   "id": "8dd22e68-d7d8-4a13-8bb3-e88bd07c4d84",
   "metadata": {},
   "outputs": [],
   "source": []
  },
  {
   "cell_type": "markdown",
   "id": "268adbb8-b2e1-4ef4-9fd3-2794717ed800",
   "metadata": {},
   "source": [
    "# Numpy Random Tutorial\n",
    "\n",
    "[Youtube Video](https://www.youtube.com/watch?v=Eu-GfO9Lj_E)"
   ]
  },
  {
   "cell_type": "code",
   "execution_count": 14,
   "id": "08d968d7-5cad-4e97-b597-975d97dbddf6",
   "metadata": {},
   "outputs": [
    {
     "data": {
      "text/plain": [
       "array([0.66135225])"
      ]
     },
     "execution_count": 14,
     "metadata": {},
     "output_type": "execute_result"
    }
   ],
   "source": [
    "r.rand(1)"
   ]
  },
  {
   "cell_type": "code",
   "execution_count": 15,
   "id": "82230db5-98f7-49b3-af3f-765ef07e281e",
   "metadata": {},
   "outputs": [
    {
     "data": {
      "text/plain": [
       "array([[-1.17682545,  2.30065195],\n",
       "       [ 0.81154398, -0.11865695]])"
      ]
     },
     "execution_count": 15,
     "metadata": {},
     "output_type": "execute_result"
    }
   ],
   "source": [
    "r.randn(2,2)"
   ]
  },
  {
   "cell_type": "code",
   "execution_count": 16,
   "id": "fb75cac9-bef8-4183-911e-313e9547624d",
   "metadata": {},
   "outputs": [
    {
     "data": {
      "text/plain": [
       "2"
      ]
     },
     "execution_count": 16,
     "metadata": {},
     "output_type": "execute_result"
    }
   ],
   "source": [
    "r.randint(10)"
   ]
  },
  {
   "cell_type": "code",
   "execution_count": 17,
   "id": "b321ae60-cd5e-428e-a97b-1ee8fc49c3ca",
   "metadata": {},
   "outputs": [
    {
     "data": {
      "text/plain": [
       "28"
      ]
     },
     "execution_count": 17,
     "metadata": {},
     "output_type": "execute_result"
    }
   ],
   "source": [
    "r.randint(10, 100)"
   ]
  },
  {
   "cell_type": "code",
   "execution_count": 18,
   "id": "3669a4bd-9128-47c9-994c-3fce1c2bc96d",
   "metadata": {},
   "outputs": [
    {
     "data": {
      "text/plain": [
       "array([[13, 14, 24, 87, 39, 73, 72, 47, 81, 10],\n",
       "       [63, 48, 34, 74, 29, 39, 61, 32, 71, 22],\n",
       "       [68, 70, 88, 69, 87, 82, 33, 95, 41, 50],\n",
       "       [14, 39, 41, 97, 62, 67, 95, 45, 52, 26],\n",
       "       [70, 27, 14, 51, 99, 14, 99, 39, 47, 40],\n",
       "       [49, 40, 13, 12, 55, 78, 32, 34, 73, 14],\n",
       "       [39, 61, 58, 48, 81, 50, 98, 11, 16, 12],\n",
       "       [72, 28, 25, 42, 75, 38, 21, 79, 46, 24],\n",
       "       [24, 42, 74, 68, 78, 55, 63, 48, 81, 27],\n",
       "       [69, 23, 24, 82, 48, 62, 40, 35, 80, 98]])"
      ]
     },
     "execution_count": 18,
     "metadata": {},
     "output_type": "execute_result"
    }
   ],
   "source": [
    "r.randint(10, 100, size = (10,10))"
   ]
  },
  {
   "cell_type": "code",
   "execution_count": 19,
   "id": "f549613c-a0ad-4ba6-bfb9-08cd3bd8d760",
   "metadata": {},
   "outputs": [],
   "source": [
    "a = np.array([1,2,3,4,5,6,7,8,9])"
   ]
  },
  {
   "cell_type": "code",
   "execution_count": 20,
   "id": "eeedeedf-d8b7-491b-94a1-2e749268c46f",
   "metadata": {},
   "outputs": [
    {
     "data": {
      "text/plain": [
       "array([4, 7, 8, 5, 5])"
      ]
     },
     "execution_count": 20,
     "metadata": {},
     "output_type": "execute_result"
    }
   ],
   "source": [
    "r.choice(a,5)"
   ]
  },
  {
   "cell_type": "code",
   "execution_count": 21,
   "id": "c19f1b0e-2559-4395-8071-69cb7d30ce80",
   "metadata": {},
   "outputs": [
    {
     "data": {
      "text/plain": [
       "array([1, 8, 4, 9, 2])"
      ]
     },
     "execution_count": 21,
     "metadata": {},
     "output_type": "execute_result"
    }
   ],
   "source": [
    "r.choice(a,5, replace = False)"
   ]
  },
  {
   "cell_type": "markdown",
   "id": "fca5f0fd-9ac7-403e-b81a-8a3cbd9e1bfc",
   "metadata": {},
   "source": [
    "# Distributions"
   ]
  },
  {
   "cell_type": "markdown",
   "id": "eb2d3b1c-3e66-49e7-bf8c-c60ff0656df9",
   "metadata": {},
   "source": [
    "### Uniform Distributions\n",
    "\n",
    "[Offical Documentation](https://numpy.org/doc/stable/reference/random/generated/numpy.random.Generator.uniform.html#numpy.random.Generator.uniform)\n",
    "\n",
    "When looking through the differnt types of distrubutions I began to frighten myself again so I began with what looked like the easiest distribution to explain - The Uniform Distribution.\n",
    "\n",
    "Uniform distribution is a probability distribution where each value within a certin range is equally likly to occur and values outside the range never occur[[8]](https://www.youtube.com/watch?v=uial-2girHQ)\n",
    "\n",
    "Samples are uniformly distributed over the half-open interval [low, high) (includes low, but excludes high). In other words, any value within the given interval is equally likely to be drawn by uniform.[[9]](https://numpy.org/doc/stable/reference/random/generated/numpy.random.Generator.uniform.html#numpy.random.Generator.uniform)"
   ]
  },
  {
   "cell_type": "code",
   "execution_count": 22,
   "id": "7c084d7f-a817-481e-bb88-607e088e4990",
   "metadata": {},
   "outputs": [],
   "source": [
    "#Remove hashtag from line below and run cell for help from python on uniform distributions\n",
    "# help(np.random.uniform)"
   ]
  },
  {
   "cell_type": "code",
   "execution_count": 23,
   "id": "caad7a8a-e765-45ad-af3c-80054b0a60ee",
   "metadata": {},
   "outputs": [
    {
     "name": "stdout",
     "output_type": "stream",
     "text": [
      "[[[2.91706062 7.93722364]\n",
      "  [1.93269753 5.39422094]\n",
      "  [9.87104023 6.59963382]]\n",
      "\n",
      " [[3.04526067 1.71485001]\n",
      "  [8.50752377 5.98836686]\n",
      "  [5.85723302 2.33080277]]\n",
      "\n",
      " [[6.96701121 4.21116486]\n",
      "  [1.88575437 9.32563769]\n",
      "  [3.84254749 5.78152363]]\n",
      "\n",
      " [[9.94508548 5.95482294]\n",
      "  [6.86948528 9.71008772]\n",
      "  [4.06721418 8.10370493]]\n",
      "\n",
      " [[8.93518618 9.10390026]\n",
      "  [7.04521763 3.4237795 ]\n",
      "  [9.53609263 9.34837533]]]\n"
     ]
    }
   ],
   "source": [
    "# Generating Random Uniform Data - floating numbers between 1 and 10\n",
    "# 1,2 or 3 arrays of data with 3 \"rows\" and 5 \"columns\"\n",
    "x = np.random.uniform(1,10,size = (5,3,2))\n",
    "print(x)"
   ]
  },
  {
   "cell_type": "markdown",
   "id": "c25172cd-eb69-484d-9ff6-7f77a7159594",
   "metadata": {},
   "source": [
    "You can use this to generate datasets of all sizes with random numbers and these can then be broken down into smaller arrays, depending on how you have reqested the uniform function to display the data - you can play with the figures after size to see what I mean here\n",
    "```\n",
    "x = np.random.uniform(1,10,size = (5,3,2))\n",
    "print(x)\n",
    "```\n",
    "For example the above will generate 1 multi-dimensional large array with all the data (Floating numbers beteween 1-10, 5 smaller arrays each containing 3 arrays with 2 values in each. This is very easily manipulated and someone could quickly generate a sample numerial data set using real world parameters and run test cases on that data - this can be used in a varity of ways from statistical sampling, medical testing, computer simulation and even gambling. "
   ]
  },
  {
   "cell_type": "markdown",
   "id": "f2bbfc0e-d3bb-4e8c-a2f0-cce974df580e",
   "metadata": {},
   "source": [
    "Visualising the data also fairly easy - if every number is equally likly to be generated, then the distrbuition should be flat - as seen below."
   ]
  },
  {
   "cell_type": "code",
   "execution_count": 24,
   "id": "821f6482-7e44-4060-a6f5-d67c51fd3bfe",
   "metadata": {},
   "outputs": [
    {
     "data": {
      "image/png": "[encoded data removed]",
      "text/plain": [
       "<Figure size 432x288 with 1 Axes>"
      ]
     },
     "metadata": {
      "needs_background": "light"
     },
     "output_type": "display_data"
    }
   ],
   "source": [
    "# Visualising Random Data (100000 numbers between 1 and 10)\n",
    "\n",
    "# A kernel density estimate (KDE) plot is a method for visualizing the distribution\n",
    "#of observations in a dataset, analagous to a histogram. KDE represents the data using \n",
    "#a continuous probability density curve in one or more dimensions.\n",
    "#https://seaborn.pydata.org/generated/seaborn.kdeplot.html\n",
    "sns.kdeplot(r.uniform(1,10, size=100000))\n",
    "plt.show()"
   ]
  },
  {
   "cell_type": "markdown",
   "id": "cf9bd264-9b27-4cfb-b3dc-baf9eb1e8223",
   "metadata": {},
   "source": []
  },
  {
   "cell_type": "markdown",
   "id": "f9216ac1-2673-45dc-94c4-84f6922dc092",
   "metadata": {},
   "source": [
    "As you can see from the plot above the distribution of the generated numbers is pretty evenly spread out over the parameters I have passed it, similar quantity of 1s 2s 3s and so on. However be careful - the less numbers you have and the wider the distribution values the more uneven the \"Uniform\" data may become. The bigger number of values you look for the more even the plot will become."
   ]
  },
  {
   "cell_type": "code",
   "execution_count": 25,
   "id": "07d21d4a-927c-47d1-8775-0aaefa69fdea",
   "metadata": {},
   "outputs": [
    {
     "data": {
      "image/png": "[encoded data removed]",
      "text/plain": [
       "<Figure size 432x288 with 1 Axes>"
      ]
     },
     "metadata": {
      "needs_background": "light"
     },
     "output_type": "display_data"
    }
   ],
   "source": [
    "sns.kdeplot(r.uniform(1,100000, size=10))\n",
    "plt.show()"
   ]
  },
  {
   "cell_type": "markdown",
   "id": "d245b401-abfe-4be1-b9b6-0c02815662f1",
   "metadata": {},
   "source": [
    "The Code above is not a good example of uniform distribution as the varience is too wide (between 1 and 100000) and only looking for 10 values - if all are as likely to come up as another this means that you may come back with distintly different looking plots every time you run it!! So better to spot check the data structure behind the plot before deciding to use uniform for all your number generation needs."
   ]
  },
  {
   "cell_type": "code",
   "execution_count": null,
   "id": "c33f5fdf-a9fa-4037-bb19-a160224d21d9",
   "metadata": {},
   "outputs": [],
   "source": []
  },
  {
   "cell_type": "markdown",
   "id": "7d846b9a-d4e7-47f0-9585-d2881aae6fd5",
   "metadata": {},
   "source": [
    "### BINOMIAL DISTRBUTION \n",
    " Binomial distribution is the outcome of binary scenarios, for example the toss of a coin. It is a probability distribution that summarises the likelihood that a variable will take one of two independent values under a given set of parameters.The distribution is obtained by performing a number of Bernoulli trials. [[6]](https://www.geeksforgeeks.org/python-binomial-distribution/). It can be thought of as the pobability of a success or failure outcome in an experiment or survey that is repeated multiple times. \n",
    " There are a number of criteria that need to be met for the Binomial distribution to work\n",
    " - There must be only 2 possible outcomes.(Success or Failure)\n",
    " - Each outcome has a fixed probability of occurring. A success has the probability of p, and a failure has the probability of 1 – p.\n",
    " - Each trial is completely independent of all others and probability of success is exactly the same in each event.\n",
    " \n",
    " The binomial random variable represents the number of successes(r) in n successive independent trials of a Bernoulli experiment[[7]](https://www.geeksforgeeks.org/python-binomial-distribution/)\n",
    " \n",
    " The binomial distribution formula is:\n",
    " \n",
    "![](probability-distributions0x.png)  \n",
    "  \n",
    " x = total number of \"successess\"  \n",
    " P = probability of a success in an individual trial  \n",
    " n = number of trials\n",
    " \n",
    " size  = The shape of the returned array\n",
    " \n",
    " Binomial Distribution can also be defined as Discrete Distribution - for example a coin toss is discrete as the results can only be heads or tails - however if you were taking the speed of cars on a motorway it would be differnt every time - 80kmph, 82kmph, 85kmph, 90kmph ..... and so on.\n",
    "\n",
    " "
   ]
  },
  {
   "cell_type": "code",
   "execution_count": null,
   "id": "c0b82e3b-31c8-44f4-957d-9f80a5005b12",
   "metadata": {},
   "outputs": [],
   "source": []
  },
  {
   "cell_type": "code",
   "execution_count": 26,
   "id": "fbd18b6e-f3c2-4965-a853-1b3cb194f32c",
   "metadata": {},
   "outputs": [
    {
     "name": "stdout",
     "output_type": "stream",
     "text": [
      "[4 6 6 4 3 4 3 7 1 6]\n"
     ]
    }
   ],
   "source": [
    "# number of trials 10\n",
    "# probability is .5\n",
    "#shape of array 10\n",
    "# This can represent tossing a coin\n",
    "\n",
    "x = r.binomial(n=10, p=0.5, size = 10)\n",
    "print(x)"
   ]
  },
  {
   "cell_type": "markdown",
   "id": "11334086-dc8a-43db-bf95-21920f442faf",
   "metadata": {},
   "source": [
    "##### Visualisation of Binomial Distribution"
   ]
  },
  {
   "cell_type": "code",
   "execution_count": 27,
   "id": "c674ae6c-fabf-4a60-8aee-344619498439",
   "metadata": {},
   "outputs": [
    {
     "data": {
      "text/plain": [
       "<seaborn.axisgrid.FacetGrid at 0x22b66ea7fa0>"
      ]
     },
     "execution_count": 27,
     "metadata": {},
     "output_type": "execute_result"
    },
    {
     "data": {
      "image/png": "[encoded data removed]",
      "text/plain": [
       "<Figure size 360x360 with 1 Axes>"
      ]
     },
     "metadata": {
      "needs_background": "light"
     },
     "output_type": "display_data"
    }
   ],
   "source": [
    "# Probability is 50%\n",
    "sns.displot(r.binomial(n=10, p=0.5, size = 1000), kde=True)"
   ]
  },
  {
   "cell_type": "code",
   "execution_count": 28,
   "id": "23846cfb-2972-4d2f-a5f1-e47540fb0dfc",
   "metadata": {},
   "outputs": [
    {
     "data": {
      "text/plain": [
       "<seaborn.axisgrid.FacetGrid at 0x22b670194c0>"
      ]
     },
     "execution_count": 28,
     "metadata": {},
     "output_type": "execute_result"
    },
    {
     "data": {
      "image/png": "[encoded data removed]",
      "text/plain": [
       "<Figure size 360x360 with 1 Axes>"
      ]
     },
     "metadata": {
      "needs_background": "light"
     },
     "output_type": "display_data"
    }
   ],
   "source": [
    "# Probability is 10%\n",
    "sns.displot(r.binomial(n=10, p=0.1, size = 1000), kde=True)"
   ]
  },
  {
   "cell_type": "code",
   "execution_count": 29,
   "id": "beebddd7-4919-42a5-9b91-b3aec3d20c2b",
   "metadata": {},
   "outputs": [
    {
     "data": {
      "text/plain": [
       "<seaborn.axisgrid.FacetGrid at 0x22b670dbe80>"
      ]
     },
     "execution_count": 29,
     "metadata": {},
     "output_type": "execute_result"
    },
    {
     "data": {
      "image/png": "[encoded data removed]",
      "text/plain": [
       "<Figure size 360x360 with 1 Axes>"
      ]
     },
     "metadata": {
      "needs_background": "light"
     },
     "output_type": "display_data"
    }
   ],
   "source": [
    "# Probability is 90%\n",
    "sns.displot(r.binomial(n=10, p=0.9, size = 1000),kde=True)"
   ]
  },
  {
   "cell_type": "markdown",
   "id": "36b9e5ca-1745-46f5-b194-8359908e28ba",
   "metadata": {},
   "source": [
    "##### Binomal vs normal  \n",
    "The difference between normal and binomial distribution is that normal is contineous where as binomial is discrete. However if there are enough data points the plots can be very similar depending on location and scale."
   ]
  },
  {
   "cell_type": "code",
   "execution_count": 30,
   "id": "f866a2f6-8199-400d-b7dc-6df6247fdffa",
   "metadata": {},
   "outputs": [
    {
     "data": {
      "text/plain": [
       "<matplotlib.legend.Legend at 0x22b6721d040>"
      ]
     },
     "execution_count": 30,
     "metadata": {},
     "output_type": "execute_result"
    },
    {
     "data": {
      "image/png": "[encoded data removed]",
      "text/plain": [
       "<Figure size 432x288 with 1 Axes>"
      ]
     },
     "metadata": {
      "needs_background": "light"
     },
     "output_type": "display_data"
    }
   ],
   "source": [
    "#Normal distribution\n",
    "sns.kdeplot(r.normal(loc = 50, scale = 5, size = 10000), label = 'Normal')\n",
    "#Binomial distribution\n",
    "sns.kdeplot(r.binomial(n = 100, p = 0.5, size = 10000), label = 'Binomial')\n",
    "plt.legend()"
   ]
  },
  {
   "cell_type": "code",
   "execution_count": null,
   "id": "32a414e8-308b-4af5-9f25-8fc606b8e6d1",
   "metadata": {},
   "outputs": [],
   "source": []
  },
  {
   "cell_type": "code",
   "execution_count": null,
   "id": "27abfc40-34be-4212-a595-b71cc3afc4ba",
   "metadata": {},
   "outputs": [],
   "source": []
  },
  {
   "cell_type": "markdown",
   "id": "31ac644e-02e9-4e0b-bf58-3da1e053fcf2",
   "metadata": {},
   "source": [
    "# The Poisson Distribution "
   ]
  },
  {
   "cell_type": "markdown",
   "id": "dacc224a-1761-465c-bdc4-a5284a929543",
   "metadata": {},
   "source": [
    "https://www.youtube.com/watch?v=cPOChr_kuQs\n",
    "\n",
    "The Poission Distribution is a discrete distribution - similar to the binomial distribution, which is one in which the data can only take on certain values, for example integers.  \n",
    "It describes the number of events occuring in a fixed time interval or \"region of oppertunity\".  \n",
    "Simple example is how many customers did a shop have in a given hour.  \n",
    "An interesting thing about the the Poisson Distribution is it requires only one paramaeter - The expected number of events during the time interval - lambda. \n",
    "\n",
    "![](lambda.PNG)\n",
    "\n",
    "The Possion Distribution is bounded by 0 to Infinity\n",
    "\n",
    "### Assumptions of the Poisson Distribution\n",
    "\n",
    " - The Rate at which events occur is constant. (ie. The pobability of an event occuring in a certain time interval should be exactly the same for every other time interval of that same length.)\n",
    " - The occurence of one event should not affect the occurence of a subsequent event (ie. Each trial is completely independent of all others and probability of success is exactly the same in each event.)  \n",
    "\n",
    "These assumptions are difficult to hold in reality. As even if we use simple example I gave above of customers in a shop in a given hour, the paramateters around one hour will not match the next. Maybe the shop gets busier a lunch time, or it is buiser on Fridays because there is an event close by that increaseses customer footfall, or you sell a product that is seasonal so you are buiser at certain times of the year - the possible influences are endless!! "
   ]
  },
  {
   "cell_type": "markdown",
   "id": "257b70b4-54e1-4d71-a963-d0d8ad4f4b1a",
   "metadata": {},
   "source": [
    "### Probability Mass Function (PMF)\n",
    "This is the probability of getting each of the discrete outcome.  \n",
    "\n",
    "![](PMF.PNG)  \n",
    "\n",
    "This is how this would look if:  \n",
    "lambda = 3 (expected number of events)(NB - There is no requirement for lambda to be a whole number)  \n",
    "What is the probability of 5 events  \n",
    "\n",
    "![](PMFE.PNG) "
   ]
  },
  {
   "cell_type": "markdown",
   "id": "e698a96e-29c7-466a-8e6a-8657ebe8bde6",
   "metadata": {},
   "source": [
    "### Poisson distribution in Numpy\n",
    "\n",
    "\n",
    "https://www.youtube.com/watch?v=dGhDzCJryGA"
   ]
  },
  {
   "cell_type": "code",
   "execution_count": 31,
   "id": "f1fd0f2c-6f75-48ab-8a52-5c4f0ae533a5",
   "metadata": {},
   "outputs": [
    {
     "data": {
      "text/plain": [
       "array([ 5, 10,  4])"
      ]
     },
     "execution_count": 31,
     "metadata": {},
     "output_type": "execute_result"
    }
   ],
   "source": [
    "# Call the poisson random distribution with lambda is 5 with 3 draws\n",
    "np.random.poisson(5,3)"
   ]
  },
  {
   "cell_type": "code",
   "execution_count": 32,
   "id": "ce70fcc2-aa51-4ce4-90ce-932dcec6f97b",
   "metadata": {},
   "outputs": [
    {
     "data": {
      "text/plain": [
       "0.9998779832369831"
      ]
     },
     "execution_count": 32,
     "metadata": {},
     "output_type": "execute_result"
    }
   ],
   "source": [
    "# using the unbiased varience\n",
    "# If the averge number of events in a given time period is 1\n",
    "# if you draw that a million times you will get very close to 1\n",
    "np.var(np.random.poisson(1,1000000),ddof = 1)"
   ]
  },
  {
   "cell_type": "markdown",
   "id": "752213bf-77ee-4a40-9847-e61447e6387b",
   "metadata": {},
   "source": [
    "### Visualisation of Poisson distribution"
   ]
  },
  {
   "cell_type": "markdown",
   "id": "8a364e80-e1e3-4e7b-9b01-0d8ac1ccc62c",
   "metadata": {},
   "source": [
    "See example below where if you draw a million samples where lambda is 1 the overwhelming majority of events will be between 0 and 2 and will steeply drop off the further right you go on the x axis."
   ]
  },
  {
   "cell_type": "code",
   "execution_count": 33,
   "id": "fa0bcbba-2d10-4a7b-a3a8-fbfaf55b72e1",
   "metadata": {},
   "outputs": [
    {
     "data": {
      "text/plain": [
       "(array([3.68072e+05, 3.67083e+05, 1.84059e+05, 6.17450e+04, 0.00000e+00,\n",
       "        1.53350e+04, 3.11000e+03, 5.15000e+02, 7.10000e+01, 1.00000e+01]),\n",
       " array([0. , 0.8, 1.6, 2.4, 3.2, 4. , 4.8, 5.6, 6.4, 7.2, 8. ]),\n",
       " <BarContainer object of 10 artists>)"
      ]
     },
     "execution_count": 33,
     "metadata": {},
     "output_type": "execute_result"
    },
    {
     "data": {
      "image/png": "[encoded data removed]",
      "text/plain": [
       "<Figure size 432x288 with 1 Axes>"
      ]
     },
     "metadata": {
      "needs_background": "light"
     },
     "output_type": "display_data"
    }
   ],
   "source": [
    "plt.hist(np.random.poisson(1,1000000))"
   ]
  },
  {
   "cell_type": "markdown",
   "id": "88663a32-cb4f-4645-9ec8-a146aac3aa55",
   "metadata": {},
   "source": [
    "### Normal Distribution vs Poisson Distribution\n",
    "\n",
    "Normal distribution is continous whereas poisson is discrete.  \n",
    "But we can see that similar to binomial for a large enough poisson distribution it will become similar to normal distribution with certain std dev and mean.[[9]](https://www.w3schools.com/python/numpy/numpy_random_poisson.asp)"
   ]
  },
  {
   "cell_type": "code",
   "execution_count": 34,
   "id": "7a43bf03-20bd-4aa4-b8cc-8c85bd1c6bb5",
   "metadata": {},
   "outputs": [
    {
     "data": {
      "image/png": "[encoded data removed]",
      "text/plain": [
       "<Figure size 432x288 with 1 Axes>"
      ]
     },
     "metadata": {
      "needs_background": "light"
     },
     "output_type": "display_data"
    }
   ],
   "source": [
    "# Normal distribution\n",
    "sns.kdeplot(r.normal(loc=50, scale=7, size=1000), label='normal')\n",
    "# Poisson distribution\n",
    "sns.kdeplot(r.poisson(lam=50, size=1000), label='poisson')\n",
    "plt.legend()\n",
    "plt.show()"
   ]
  },
  {
   "cell_type": "markdown",
   "id": "3fea454c-0ad5-468d-af74-4bb8847e6ca0",
   "metadata": {},
   "source": [
    "### Poisson Distribution vs Binomial Distribution\n",
    "\n",
    "\n",
    "The difference is very subtle it is that, binomial distribution is for discrete trials, whereas poisson distribution is for continuous trials.\n",
    "\n",
    "But for very large n and near-zero p binomial distribution is near identical to poisson distribution such that n * p is nearly equal to lam.[[10]](https://www.w3schools.com/python/numpy/numpy_random_poisson.asp)"
   ]
  },
  {
   "cell_type": "code",
   "execution_count": 39,
   "id": "66dbc4ca-5698-4775-8a08-4ed58a7e9171",
   "metadata": {},
   "outputs": [
    {
     "data": {
      "image/png": "[encoded data removed]",
      "text/plain": [
       "<Figure size 432x288 with 1 Axes>"
      ]
     },
     "metadata": {
      "needs_background": "light"
     },
     "output_type": "display_data"
    }
   ],
   "source": [
    "sns.kdeplot(r.binomial(n=1000, p=0.01, size=1000), label='binomial')\n",
    "sns.kdeplot(r.poisson(lam=10, size=1000), label='poisson')\n",
    "plt.legend()\n",
    "plt.show()"
   ]
  },
  {
   "cell_type": "code",
   "execution_count": null,
   "id": "a8d9ad40-0c30-43e7-aa7d-0055efb9cdcb",
   "metadata": {},
   "outputs": [],
   "source": []
  },
  {
   "cell_type": "code",
   "execution_count": null,
   "id": "b912d4b5-cd90-40d6-b34c-aaadb2c28b09",
   "metadata": {},
   "outputs": [],
   "source": []
  },
  {
   "cell_type": "code",
   "execution_count": null,
   "id": "28c27d10-a87c-4352-86df-b6cad8e29bc9",
   "metadata": {},
   "outputs": [],
   "source": []
  },
  {
   "cell_type": "code",
   "execution_count": null,
   "id": "05c3d66d-599d-403e-b8f6-6840c34d6d89",
   "metadata": {},
   "outputs": [],
   "source": []
  },
  {
   "cell_type": "code",
   "execution_count": null,
   "id": "86fc600d-fe4e-459f-b2cb-f650e1a493c4",
   "metadata": {},
   "outputs": [],
   "source": []
  }
 ],
 "metadata": {
  "kernelspec": {
   "display_name": "Python 3",
   "language": "python",
   "name": "python3"
  },
  "language_info": {
   "codemirror_mode": {
    "name": "ipython",
    "version": 3
   },
   "file_extension": ".py",
   "mimetype": "text/x-python",
   "name": "python",
   "nbconvert_exporter": "python",
   "pygments_lexer": "ipython3",
   "version": "3.8.8"
  }
 },
 "nbformat": 4,
 "nbformat_minor": 5
}
